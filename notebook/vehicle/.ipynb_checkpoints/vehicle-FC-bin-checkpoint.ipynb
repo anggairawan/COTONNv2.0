{
 "cells": [
  {
   "cell_type": "markdown",
   "metadata": {
    "colab_type": "text",
    "id": "kR-4eNdK6lYS"
   },
   "source": [
    "NN on vehicle\n",
    "\n",
    "Fully connected\n"
   ]
  },
  {
   "cell_type": "code",
   "execution_count": 1,
   "metadata": {
    "cellView": "both",
    "colab": {
     "autoexec": {
      "startup": false,
      "wait_interval": 0
     }
    },
    "colab_type": "code",
    "id": "JLpLa8Jt7Vu4"
   },
   "outputs": [],
   "source": [
    "# These are all the modules we'll be using later. Make sure you can import them\n",
    "# before proceeding further.\n",
    "from __future__ import print_function\n",
    "import numpy as np\n",
    "import tensorflow as tf\n",
    "from six.moves import cPickle as pickle\n",
    "from six.moves import range\n",
    "\n",
    "import matplotlib.pyplot as plt\n",
    "# plot param\n",
    "%matplotlib inline\n",
    "plt.rcParams['figure.figsize'] = (28.0, 12.0) # set default size of plots\n",
    "plt.rcParams['image.interpolation'] = 'nearest'\n",
    "plt.rcParams['image.cmap'] = 'gray'\n",
    "plt.style.use('ggplot')"
   ]
  },
  {
   "cell_type": "markdown",
   "metadata": {},
   "source": [
    "First, manipulate the input and output data"
   ]
  },
  {
   "cell_type": "markdown",
   "metadata": {},
   "source": [
    "For now, always assumme that the state represent by single dimension vector\n",
    "in other word it only has one feature.\n",
    "\n",
    "Meanwhile the action size should be check if there is non-determinism in which action the controller should choose (it will influence how the score/loss function will be calculated). For instance, when the state has two ND actions (0 and 1), the loss function of that sample should be zero if the predicted action is action[0] OR action[1]."
   ]
  },
  {
   "cell_type": "markdown",
   "metadata": {},
   "source": [
    "For this vehicle case the input size is one (there is no ND on the actions)."
   ]
  },
  {
   "cell_type": "markdown",
   "metadata": {},
   "source": [
    "The uniqueness of the actions would determine the size of the output layer neuron's size"
   ]
  },
  {
   "cell_type": "code",
   "execution_count": 2,
   "metadata": {},
   "outputs": [],
   "source": [
    "# parse the controller file\n",
    "f = open('vehicle.txt', \"r\")"
   ]
  },
  {
   "cell_type": "code",
   "execution_count": 3,
   "metadata": {},
   "outputs": [],
   "source": [
    "lines = f.readlines()"
   ]
  },
  {
   "cell_type": "code",
   "execution_count": 4,
   "metadata": {},
   "outputs": [],
   "source": [
    "ltrain_dataset = []\n",
    "ltrain_label = []"
   ]
  },
  {
   "cell_type": "code",
   "execution_count": 5,
   "metadata": {},
   "outputs": [],
   "source": [
    "for x in lines:\n",
    "    ltrain_dataset.append(x.split(' ')[0].strip('\\n'))\n",
    "    ltrain_label.append(x.split(' ')[1].strip('\\n'))\n",
    "f.close()"
   ]
  },
  {
   "cell_type": "code",
   "execution_count": 6,
   "metadata": {},
   "outputs": [],
   "source": [
    "train_dataset = np.asarray(ltrain_dataset)\n",
    "train_label = np.asarray(ltrain_label)"
   ]
  },
  {
   "cell_type": "code",
   "execution_count": 7,
   "metadata": {
    "scrolled": true
   },
   "outputs": [],
   "source": [
    "train_dataset = train_dataset.astype(np.float32)\n",
    "train_label = train_label.astype(np.float32)"
   ]
  },
  {
   "cell_type": "code",
   "execution_count": 8,
   "metadata": {},
   "outputs": [
    {
     "data": {
      "text/plain": [
       "(48018,)"
      ]
     },
     "execution_count": 8,
     "metadata": {},
     "output_type": "execute_result"
    }
   ],
   "source": [
    "train_label.shape"
   ]
  },
  {
   "cell_type": "code",
   "execution_count": 9,
   "metadata": {},
   "outputs": [
    {
     "data": {
      "text/plain": [
       "(48018,)"
      ]
     },
     "execution_count": 9,
     "metadata": {},
     "output_type": "execute_result"
    }
   ],
   "source": [
    "train_dataset.shape"
   ]
  },
  {
   "cell_type": "code",
   "execution_count": 10,
   "metadata": {},
   "outputs": [
    {
     "data": {
      "text/plain": [
       "18"
      ]
     },
     "execution_count": 10,
     "metadata": {},
     "output_type": "execute_result"
    }
   ],
   "source": [
    "num_label = len(set(train_label))\n",
    "num_label"
   ]
  },
  {
   "cell_type": "code",
   "execution_count": 11,
   "metadata": {},
   "outputs": [],
   "source": [
    "lcoll_label = sorted(list(set(train_label)))"
   ]
  },
  {
   "cell_type": "code",
   "execution_count": 12,
   "metadata": {},
   "outputs": [
    {
     "data": {
      "text/plain": [
       "[0.0,\n",
       " 1.0,\n",
       " 5.0,\n",
       " 6.0,\n",
       " 7.0,\n",
       " 13.0,\n",
       " 14.0,\n",
       " 20.0,\n",
       " 21.0,\n",
       " 27.0,\n",
       " 28.0,\n",
       " 34.0,\n",
       " 35.0,\n",
       " 41.0,\n",
       " 42.0,\n",
       " 43.0,\n",
       " 47.0,\n",
       " 48.0]"
      ]
     },
     "execution_count": 12,
     "metadata": {},
     "output_type": "execute_result"
    }
   ],
   "source": [
    "lcoll_label"
   ]
  },
  {
   "cell_type": "code",
   "execution_count": 13,
   "metadata": {},
   "outputs": [
    {
     "data": {
      "text/plain": [
       "2"
      ]
     },
     "execution_count": 13,
     "metadata": {},
     "output_type": "execute_result"
    }
   ],
   "source": [
    "lcoll_label.index(5)"
   ]
  },
  {
   "cell_type": "code",
   "execution_count": 14,
   "metadata": {},
   "outputs": [
    {
     "data": {
      "text/plain": [
       "(48018,)"
      ]
     },
     "execution_count": 14,
     "metadata": {},
     "output_type": "execute_result"
    }
   ],
   "source": [
    "train_dataset.shape"
   ]
  },
  {
   "cell_type": "code",
   "execution_count": 15,
   "metadata": {
    "scrolled": true
   },
   "outputs": [
    {
     "data": {
      "text/plain": [
       "(48018,)"
      ]
     },
     "execution_count": 15,
     "metadata": {},
     "output_type": "execute_result"
    }
   ],
   "source": [
    "train_label.shape"
   ]
  },
  {
   "cell_type": "code",
   "execution_count": 16,
   "metadata": {},
   "outputs": [
    {
     "data": {
      "image/png": "[encoded data removed]",
      "text/plain": [
       "<Figure size 432x288 with 1 Axes>"
      ]
     },
     "metadata": {},
     "output_type": "display_data"
    }
   ],
   "source": [
    "plt.plot(train_dataset[:200], train_label[:200], 'r')\n",
    "plt.xlabel('x')\n",
    "plt.ylabel('y')\n",
    "plt.title('title')\n",
    "plt.show()"
   ]
  },
  {
   "cell_type": "code",
   "execution_count": 17,
   "metadata": {
    "scrolled": false
   },
   "outputs": [
    {
     "data": {
      "text/plain": [
       "4"
      ]
     },
     "execution_count": 17,
     "metadata": {},
     "output_type": "execute_result"
    }
   ],
   "source": [
    "lcoll_label.index(train_label[0])"
   ]
  },
  {
   "cell_type": "code",
   "execution_count": 18,
   "metadata": {},
   "outputs": [
    {
     "data": {
      "text/plain": [
       "range(0, 48018)"
      ]
     },
     "execution_count": 18,
     "metadata": {},
     "output_type": "execute_result"
    }
   ],
   "source": [
    "range(train_label.shape[0])"
   ]
  },
  {
   "cell_type": "code",
   "execution_count": 19,
   "metadata": {},
   "outputs": [],
   "source": [
    "train_label_transformed = np.zeros_like(train_label)"
   ]
  },
  {
   "cell_type": "code",
   "execution_count": 20,
   "metadata": {},
   "outputs": [],
   "source": [
    "for i in range(train_label.shape[0]):\n",
    "    train_label_transformed[i] = lcoll_label.index(train_label[i])"
   ]
  },
  {
   "cell_type": "code",
   "execution_count": 21,
   "metadata": {},
   "outputs": [
    {
     "data": {
      "text/plain": [
       "array([ 4., 13., 17., ..., 15., 15.,  2.], dtype=float32)"
      ]
     },
     "execution_count": 21,
     "metadata": {},
     "output_type": "execute_result"
    }
   ],
   "source": [
    "train_label_transformed"
   ]
  },
  {
   "cell_type": "code",
   "execution_count": 22,
   "metadata": {},
   "outputs": [
    {
     "data": {
      "text/plain": [
       "array([  147.,   150.,   151., ..., 90665., 90666., 90667.], dtype=float32)"
      ]
     },
     "execution_count": 22,
     "metadata": {},
     "output_type": "execute_result"
    }
   ],
   "source": [
    "train_dataset"
   ]
  },
  {
   "cell_type": "code",
   "execution_count": 23,
   "metadata": {},
   "outputs": [
    {
     "data": {
      "text/plain": [
       "18"
      ]
     },
     "execution_count": 23,
     "metadata": {},
     "output_type": "execute_result"
    }
   ],
   "source": [
    "len(lcoll_label)"
   ]
  },
  {
   "cell_type": "code",
   "execution_count": 24,
   "metadata": {},
   "outputs": [],
   "source": [
    "train_label_hot = (np.arange(len(lcoll_label)) == train_label_transformed[:, None]).astype(np.float32)"
   ]
  },
  {
   "cell_type": "code",
   "execution_count": 25,
   "metadata": {
    "scrolled": true
   },
   "outputs": [
    {
     "data": {
      "text/plain": [
       "(48018, 18)"
      ]
     },
     "execution_count": 25,
     "metadata": {},
     "output_type": "execute_result"
    }
   ],
   "source": [
    "train_label_hot.shape"
   ]
  },
  {
   "cell_type": "code",
   "execution_count": 26,
   "metadata": {},
   "outputs": [
    {
     "data": {
      "text/plain": [
       "array([0., 0., 0., 0., 1., 0., 0., 0., 0., 0., 0., 0., 0., 0., 0., 0., 0.,\n",
       "       0.], dtype=float32)"
      ]
     },
     "execution_count": 26,
     "metadata": {},
     "output_type": "execute_result"
    }
   ],
   "source": [
    "train_label_hot[0]"
   ]
  },
  {
   "cell_type": "code",
   "execution_count": 27,
   "metadata": {},
   "outputs": [],
   "source": [
    "train_dataset_reform = train_dataset[:, None]"
   ]
  },
  {
   "cell_type": "markdown",
   "metadata": {},
   "source": [
    "Logistic Regression"
   ]
  },
  {
   "cell_type": "code",
   "execution_count": 26,
   "metadata": {},
   "outputs": [],
   "source": [
    "# With gradient descent training, even this much data is prohibitive.\n",
    "# Subset the training data for faster turnaround.\n",
    "# train_subset = 10000\n",
    "\n",
    "graph = tf.Graph()\n",
    "with graph.as_default():\n",
    "\n",
    "  # Input data.\n",
    "  # Load the training, validation and test data into constants that are\n",
    "  # attached to the graph.\n",
    "  tf_train_dataset = tf.constant(train_dataset_reform)\n",
    "  tf_train_labels = tf.constant(train_label_hot)\n",
    "  \n",
    "  # Variables.\n",
    "  # These are the parameters that we are going to be training. The weight\n",
    "  # matrix will be initialized using random values following a (truncated)\n",
    "  # normal distribution. The biases get initialized to zero.\n",
    "  weights = tf.Variable(tf.truncated_normal([1 , num_label]))\n",
    "  biases = tf.Variable(tf.zeros([num_label]))\n",
    "  \n",
    "  # Training computation.\n",
    "  # We multiply the inputs with the weight matrix, and add biases. We compute\n",
    "  # the softmax and cross-entropy (it's one operation in TensorFlow, because\n",
    "  # it's very common, and it can be optimized). We take the average of this\n",
    "  # cross-entropy across all training examples: that's our loss.\n",
    "  logits = tf.matmul(tf_train_dataset, weights) + biases\n",
    "  loss = tf.reduce_mean(\n",
    "      tf.nn.softmax_cross_entropy_with_logits_v2(labels=tf_train_labels, logits=logits))\n",
    "  \n",
    "  # Optimizer.\n",
    "  # We are going to find the minimum of this loss using gradient descent.\n",
    "  optimizer = tf.train.GradientDescentOptimizer(0.1).minimize(loss)\n",
    "  \n",
    "  # Predictions for the training, validation, and test data.\n",
    "  # These are not part of training, but merely here so that we can report\n",
    "  # accuracy figures as we train.\n",
    "  train_prediction = tf.nn.softmax(logits)\n",
    "  # valid_prediction = tf.nn.softmax(tf.matmul(tf_valid_dataset, weights) + biases)\n",
    "  # test_prediction = tf.nn.softmax(tf.matmul(tf_test_dataset, weights) + biases)"
   ]
  },
  {
   "cell_type": "code",
   "execution_count": 27,
   "metadata": {},
   "outputs": [],
   "source": [
    "def accuracy(predictions, labels):\n",
    "  return (100.0 * np.sum(np.argmax(predictions, 1) == np.argmax(labels, 1))\n",
    "          / predictions.shape[0])"
   ]
  },
  {
   "cell_type": "code",
   "execution_count": 28,
   "metadata": {},
   "outputs": [
    {
     "name": "stdout",
     "output_type": "stream",
     "text": [
      "Initialized\n",
      "Loss at step 0: 68475.015625\n",
      "Training accuracy: 2.4%\n",
      "Loss at step 100: 118073016.000000\n",
      "Training accuracy: 15.2%\n",
      "Loss at step 200: 94426576.000000\n",
      "Training accuracy: 19.2%\n",
      "Loss at step 300: 74504672.000000\n",
      "Training accuracy: 7.9%\n",
      "Loss at step 400: 86769344.000000\n",
      "Training accuracy: 15.2%\n",
      "Loss at step 500: 118799568.000000\n",
      "Training accuracy: 1.3%\n",
      "Loss at step 600: 145500320.000000\n",
      "Training accuracy: 13.2%\n",
      "Loss at step 700: 93478832.000000\n",
      "Training accuracy: 7.9%\n",
      "Loss at step 800: 80529104.000000\n",
      "Training accuracy: 7.5%\n",
      "Loss at step 900: 106628240.000000\n",
      "Training accuracy: 13.2%\n"
     ]
    }
   ],
   "source": [
    "num_steps = 1000\n",
    "\n",
    "with tf.Session(graph=graph) as session:\n",
    "  # This is a one-time operation which ensures the parameters get initialized as\n",
    "  # we described in the graph: random weights for the matrix, zeros for the\n",
    "  # biases. \n",
    "  tf.global_variables_initializer().run()\n",
    "  print('Initialized')\n",
    "  for step in range(num_steps):\n",
    "    # Run the computations. We tell .run() that we want to run the optimizer,\n",
    "    # and get the loss value and the training predictions returned as numpy\n",
    "    # arrays.\n",
    "    _, l, predictions = session.run([optimizer, loss, train_prediction])\n",
    "    if (step % 100 == 0):\n",
    "      print('Loss at step %d: %f' % (step, l))\n",
    "      print('Training accuracy: %.1f%%' % accuracy(predictions, train_label_hot))\n",
    "      # Calling .eval() on valid_prediction is basically like calling run(), but\n",
    "      # just to get that one numpy array. Note that it recomputes all its graph\n",
    "      # dependencies.\n",
    "      #print('Validation accuracy: %.1f%%' % accuracy(valid_prediction.eval(), valid_labels))\n",
    "  #print('Test accuracy: %.1f%%' % accuracy(test_prediction.eval(), test_labels))"
   ]
  },
  {
   "cell_type": "markdown",
   "metadata": {
    "colab_type": "text",
    "id": "7omWxtvLLxik"
   },
   "source": [
    "---\n",
    "Next step\n",
    "-------\n",
    "\n",
    "Turn the logistic regression example with SGD into a n-hidden layer neural network with rectified linear units [nn.relu()](https://www.tensorflow.org/versions/r0.7/api_docs/python/nn.html#relu) and k hidden nodes. This model should improve your validation / test accuracy.\n",
    "\n",
    "---"
   ]
  },
  {
   "cell_type": "code",
   "execution_count": 34,
   "metadata": {},
   "outputs": [
    {
     "data": {
      "text/plain": [
       "(48018, 1)"
      ]
     },
     "execution_count": 34,
     "metadata": {},
     "output_type": "execute_result"
    }
   ],
   "source": [
    "train_dataset_reform.shape"
   ]
  },
  {
   "cell_type": "code",
   "execution_count": 35,
   "metadata": {},
   "outputs": [
    {
     "data": {
      "text/plain": [
       "(48018, 18)"
      ]
     },
     "execution_count": 35,
     "metadata": {},
     "output_type": "execute_result"
    }
   ],
   "source": [
    "train_label_hot.shape"
   ]
  },
  {
   "cell_type": "code",
   "execution_count": 36,
   "metadata": {},
   "outputs": [],
   "source": [
    "num_samples = train_label_hot.shape[0]"
   ]
  },
  {
   "cell_type": "code",
   "execution_count": 38,
   "metadata": {},
   "outputs": [
    {
     "data": {
      "text/plain": [
       "48018"
      ]
     },
     "execution_count": 38,
     "metadata": {},
     "output_type": "execute_result"
    }
   ],
   "source": [
    "num_samples"
   ]
  },
  {
   "cell_type": "code",
   "execution_count": 39,
   "metadata": {},
   "outputs": [
    {
     "data": {
      "text/plain": [
       "2667.6666666666665"
      ]
     },
     "execution_count": 39,
     "metadata": {},
     "output_type": "execute_result"
    }
   ],
   "source": [
    "num_samples/num_label"
   ]
  },
  {
   "cell_type": "code",
   "execution_count": 43,
   "metadata": {},
   "outputs": [],
   "source": [
    "batch_size = int(num_samples)\n",
    "hidden_size = 1024\n",
    "hidden_size2 = 512\n",
    "hidden_size3 = 18\n",
    "\n",
    "# graph = tf.Graph()\n",
    "# with graph.as_default():\n",
    "# Input data. For the training data, we use a placeholder that will be fed\n",
    "# at run time with a training minibatch.\n",
    "tf_train_dataset = tf.placeholder(tf.float32, shape=(batch_size, 1))\n",
    "tf_train_labels = tf.placeholder(tf.float32, shape=(batch_size, num_label))\n",
    "\n",
    "# Variables.\n",
    "weights1 = tf.Variable(tf.truncated_normal([1, hidden_size]))\n",
    "biases1 = tf.Variable(tf.zeros([hidden_size]))\n",
    "\n",
    "weights2 = tf.Variable(tf.truncated_normal([hidden_size, hidden_size2]))\n",
    "# biases2 = tf.Variable(tf.zeros([num_label]))\n",
    "biases2 = tf.Variable(tf.zeros([hidden_size2]))\n",
    "\n",
    "weights3 = tf.Variable(tf.truncated_normal([hidden_size2, hidden_size3]))\n",
    "biases3 = tf.Variable(tf.zeros([hidden_size3]))\n",
    "\n",
    "weights4 = tf.Variable(tf.truncated_normal([hidden_size3, num_label]))\n",
    "biases4 = tf.Variable(tf.zeros([num_label]))\n",
    "\n",
    "# Training computation.\n",
    "logits1 = tf.matmul(tf_train_dataset, weights1) + biases1  \n",
    "relu_act_func = tf.nn.relu(logits1)\n",
    "logits2 = tf.matmul(relu_act_func, weights2) + biases2\n",
    "\n",
    "relu_act_func2 = tf.nn.relu(logits2)\n",
    "logits3 = tf.matmul(relu_act_func2, weights3) + biases3\n",
    "\n",
    "relu_act_func3 = tf.nn.relu(logits3)\n",
    "logits4 = tf.matmul(relu_act_func3, weights4) + biases4\n",
    "\n",
    "# loss = tf.reduce_mean(tf.losses.absolute_difference(labels=tf_train_labels, predictions=train_prediction))\n",
    "loss = tf.reduce_mean(\n",
    "    tf.nn.softmax_cross_entropy_with_logits_v2(labels=tf_train_labels, logits=logits4))\n",
    "\n",
    "loss_summary = tf.summary.scalar('loss', loss)\n",
    "\n",
    "# Optimizer.\n",
    "#optimizer = tf.train.GradientDescentOptimizer(0.0001).minimize(loss)\n",
    "optimizer = tf.train.AdamOptimizer(0.3).minimize(loss)\n",
    "\n",
    "# Predictions for the training, validation, and test data.\n",
    "train_prediction = tf.nn.softmax(logits4)\n",
    "# writer = tf.summary.FileWriter('./vehicle', tf.get_default_graph())"
   ]
  },
  {
   "cell_type": "code",
   "execution_count": 44,
   "metadata": {},
   "outputs": [
    {
     "data": {
      "text/plain": [
       "48018"
      ]
     },
     "execution_count": 44,
     "metadata": {},
     "output_type": "execute_result"
    }
   ],
   "source": [
    "batch_size"
   ]
  },
  {
   "cell_type": "code",
   "execution_count": 45,
   "metadata": {},
   "outputs": [
    {
     "data": {
      "text/plain": [
       "1.0"
      ]
     },
     "execution_count": 45,
     "metadata": {},
     "output_type": "execute_result"
    }
   ],
   "source": [
    "iteration_one_epoch = np.floor(num_samples / batch_size)\n",
    "iteration_one_epoch"
   ]
  },
  {
   "cell_type": "code",
   "execution_count": 49,
   "metadata": {},
   "outputs": [
    {
     "name": "stdout",
     "output_type": "stream",
     "text": [
      "Initialized\n",
      "Minibatch loss at step 0: 96082544.000000\n",
      "Minibatch accuracy: 1.6%\n",
      "Minibatch loss at step 1: 898881344.000000\n",
      "Minibatch accuracy: 1.3%\n",
      "Minibatch loss at step 2: 757495936.000000\n",
      "Minibatch accuracy: 0.6%\n",
      "Minibatch loss at step 3: 919895552.000000\n",
      "Minibatch accuracy: 7.9%\n",
      "Minibatch loss at step 4: 465525472.000000\n",
      "Minibatch accuracy: 4.2%\n",
      "Minibatch loss at step 5: 108968736.000000\n",
      "Minibatch accuracy: 4.2%\n",
      "Minibatch loss at step 6: 2.859432\n",
      "Minibatch accuracy: 19.2%\n",
      "Minibatch loss at step 7: 2.775151\n",
      "Minibatch accuracy: 19.2%\n",
      "Minibatch loss at step 8: 2.690705\n",
      "Minibatch accuracy: 19.2%\n",
      "Minibatch loss at step 9: 2.621669\n",
      "Minibatch accuracy: 19.2%\n",
      "Minibatch loss at step 10: 2.574719\n",
      "Minibatch accuracy: 19.2%\n",
      "Minibatch loss at step 11: 2.550460\n",
      "Minibatch accuracy: 19.2%\n",
      "Minibatch loss at step 12: 2.545365\n",
      "Minibatch accuracy: 19.2%\n",
      "Minibatch loss at step 13: 2.553837\n",
      "Minibatch accuracy: 19.2%\n",
      "Minibatch loss at step 14: 2.570240\n",
      "Minibatch accuracy: 19.2%\n",
      "Minibatch loss at step 15: 2.589447\n",
      "Minibatch accuracy: 19.2%\n",
      "Minibatch loss at step 16: 2.607328\n",
      "Minibatch accuracy: 19.2%\n",
      "Minibatch loss at step 17: 2.621459\n",
      "Minibatch accuracy: 19.2%\n",
      "Minibatch loss at step 18: 2.629911\n",
      "Minibatch accuracy: 19.2%\n",
      "Minibatch loss at step 19: 2.632161\n",
      "Minibatch accuracy: 19.2%\n",
      "Minibatch loss at step 20: 2.628110\n",
      "Minibatch accuracy: 19.2%\n",
      "Minibatch loss at step 21: 2.618382\n",
      "Minibatch accuracy: 19.2%\n",
      "Minibatch loss at step 22: 2.604505\n",
      "Minibatch accuracy: 19.2%\n",
      "Minibatch loss at step 23: 2.587360\n",
      "Minibatch accuracy: 19.2%\n",
      "Minibatch loss at step 24: 2.568738\n",
      "Minibatch accuracy: 19.2%\n",
      "Minibatch loss at step 25: 2.550103\n",
      "Minibatch accuracy: 19.2%\n",
      "Minibatch loss at step 26: 2.532240\n",
      "Minibatch accuracy: 19.2%\n",
      "Minibatch loss at step 27: 2.516186\n",
      "Minibatch accuracy: 19.2%\n",
      "Minibatch loss at step 28: 2.502010\n",
      "Minibatch accuracy: 19.2%\n",
      "Minibatch loss at step 29: 2.489768\n",
      "Minibatch accuracy: 19.2%\n",
      "Minibatch loss at step 30: 2.478812\n",
      "Minibatch accuracy: 19.2%\n",
      "Minibatch loss at step 31: 2.468466\n",
      "Minibatch accuracy: 19.2%\n",
      "Minibatch loss at step 32: 2.458408\n",
      "Minibatch accuracy: 19.2%\n",
      "Minibatch loss at step 33: 2.448398\n",
      "Minibatch accuracy: 19.2%\n",
      "Minibatch loss at step 34: 2.438360\n",
      "Minibatch accuracy: 19.2%\n",
      "Minibatch loss at step 35: 2.428676\n",
      "Minibatch accuracy: 19.2%\n",
      "Minibatch loss at step 36: 2.419880\n",
      "Minibatch accuracy: 19.2%\n",
      "Minibatch loss at step 37: 2.412502\n",
      "Minibatch accuracy: 19.2%\n",
      "Minibatch loss at step 38: 2.406907\n",
      "Minibatch accuracy: 19.2%\n",
      "Minibatch loss at step 39: 2.402979\n",
      "Minibatch accuracy: 19.2%\n",
      "Minibatch loss at step 40: 2.400555\n",
      "Minibatch accuracy: 19.2%\n",
      "Minibatch loss at step 41: 2.399134\n",
      "Minibatch accuracy: 19.2%\n",
      "Minibatch loss at step 42: 2.398404\n",
      "Minibatch accuracy: 19.2%\n",
      "Minibatch loss at step 43: 2.397871\n",
      "Minibatch accuracy: 19.2%\n",
      "Minibatch loss at step 44: 2.396862\n",
      "Minibatch accuracy: 19.2%\n",
      "Minibatch loss at step 45: 2.395303\n",
      "Minibatch accuracy: 19.2%\n",
      "Minibatch loss at step 46: 2.392954\n",
      "Minibatch accuracy: 19.2%\n",
      "Minibatch loss at step 47: 2.389773\n",
      "Minibatch accuracy: 19.2%\n",
      "Minibatch loss at step 48: 2.386154\n",
      "Minibatch accuracy: 19.2%\n",
      "Minibatch loss at step 49: 2.382137\n",
      "Minibatch accuracy: 19.2%\n"
     ]
    }
   ],
   "source": [
    "# MINIBATCH GRADIENT DESCENT\n",
    "loss_history = []\n",
    "num_steps = int(iteration_one_epoch*50)\n",
    "\n",
    "with tf.Session() as session:\n",
    "#with tf.Session(graph=graph) as session:\n",
    "  tf.global_variables_initializer().run()\n",
    "  print(\"Initialized\")\n",
    "  for step in range(num_steps):\n",
    "    # Pick an offset within the training data, which has been randomized.\n",
    "    # Note: we could use better randomization across epochs.\n",
    "    #offset = (step * batch_size) % (train_label_hot.shape[0] - batch_size)\n",
    "    # Generate a minibatch.\n",
    "    #batch_data = train_dataset_reform[offset:(offset + batch_size), :]\n",
    "    #batch_labels = train_label_hot[offset:(offset + batch_size), :]\n",
    "    batch_data = train_dataset_reform\n",
    "    batch_labels = train_label_hot\n",
    "    \n",
    "    # Prepare a dictionary telling the session where to feed the minibatch.\n",
    "    # The key of the dictionary is the placeholder node of the graph to be fed,\n",
    "    # and the value is the numpy array to feed to it.\n",
    "    feed_dict = {tf_train_dataset : batch_data, tf_train_labels : batch_labels}\n",
    "    _, l, predictions, added_summary = session.run(\n",
    "        [optimizer, loss, train_prediction, loss_summary], feed_dict=feed_dict)\n",
    "    \n",
    "    # writer.add_summary(added_summary)\n",
    "    loss_history.append(l)\n",
    "    \n",
    "    # if (step % iteration_one_epoch == 0):\n",
    "    print(\"Minibatch loss at step %d: %f\" % (step, l))\n",
    "    print(\"Minibatch accuracy: %.1f%%\" % accuracy(predictions, batch_labels))\n",
    "    # print(\"Validation accuracy: %.1f%%\" % accuracy(valid_prediction.eval(), valid_labels))\n",
    "    # print(\"Test accuracy: %.1f%%\" % accuracy(test_prediction.eval(), test_labels))"
   ]
  },
  {
   "cell_type": "markdown",
   "metadata": {},
   "source": [
    "RNN"
   ]
  },
  {
   "cell_type": "code",
   "execution_count": 59,
   "metadata": {},
   "outputs": [
    {
     "data": {
      "text/plain": [
       "48018"
      ]
     },
     "execution_count": 59,
     "metadata": {},
     "output_type": "execute_result"
    }
   ],
   "source": [
    "num_samples"
   ]
  },
  {
   "cell_type": "code",
   "execution_count": 63,
   "metadata": {},
   "outputs": [
    {
     "data": {
      "text/plain": [
       "18"
      ]
     },
     "execution_count": 63,
     "metadata": {},
     "output_type": "execute_result"
    }
   ],
   "source": [
    "num_label"
   ]
  },
  {
   "cell_type": "code",
   "execution_count": 72,
   "metadata": {},
   "outputs": [
    {
     "data": {
      "text/plain": [
       "453.0"
      ]
     },
     "execution_count": 72,
     "metadata": {},
     "output_type": "execute_result"
    }
   ],
   "source": [
    "num_samples/53/2"
   ]
  },
  {
   "cell_type": "code",
   "execution_count": 73,
   "metadata": {},
   "outputs": [],
   "source": [
    "num_epochs = 15\n",
    "total_series_length = num_samples\n",
    "truncated_backprop_length = 53\n",
    "state_size = 1\n",
    "num_classes = num_label\n",
    "batch_size = 2\n",
    "num_batches = total_series_length//batch_size//truncated_backprop_length"
   ]
  },
  {
   "cell_type": "code",
   "execution_count": 74,
   "metadata": {},
   "outputs": [],
   "source": [
    "# computational graph input, output, initial state\n",
    "batchX_placeholder = tf.placeholder(tf.float32, [batch_size, truncated_backprop_length])\n",
    "batchY_placeholder = tf.placeholder(tf.float32, [batch_size, truncated_backprop_length, num_classes])\n",
    "init_state = tf.placeholder(tf.float32, [batch_size, state_size])"
   ]
  },
  {
   "cell_type": "code",
   "execution_count": 75,
   "metadata": {},
   "outputs": [],
   "source": [
    "# weights and biases\n",
    "# input(k) + hidden state(k-1) to state(k)\n",
    "W = tf.Variable(np.random.rand(state_size+1, state_size), dtype=tf.float32)\n",
    "b = tf.Variable(np.zeros((1,state_size)), dtype=tf.float32)\n",
    "# hidden state to output\n",
    "W2 = tf.Variable(np.random.rand(state_size, num_classes),dtype=tf.float32)\n",
    "b2 = tf.Variable(np.zeros((1,num_classes)), dtype=tf.float32)"
   ]
  },
  {
   "cell_type": "code",
   "execution_count": 76,
   "metadata": {},
   "outputs": [],
   "source": [
    "# Unpack columns/slice each column (batch_size x truncated_backprop_length) -> (batch_sizex1) x tbl  \n",
    "inputs_series = tf.unstack(batchX_placeholder, axis=1)\n",
    "labels_series = tf.unstack(batchY_placeholder, axis=1)"
   ]
  },
  {
   "cell_type": "code",
   "execution_count": 77,
   "metadata": {},
   "outputs": [
    {
     "data": {
      "text/plain": [
       "[<tf.Tensor 'unstack:0' shape=(2,) dtype=float32>,\n",
       " <tf.Tensor 'unstack:1' shape=(2,) dtype=float32>,\n",
       " <tf.Tensor 'unstack:2' shape=(2,) dtype=float32>,\n",
       " <tf.Tensor 'unstack:3' shape=(2,) dtype=float32>,\n",
       " <tf.Tensor 'unstack:4' shape=(2,) dtype=float32>,\n",
       " <tf.Tensor 'unstack:5' shape=(2,) dtype=float32>,\n",
       " <tf.Tensor 'unstack:6' shape=(2,) dtype=float32>,\n",
       " <tf.Tensor 'unstack:7' shape=(2,) dtype=float32>,\n",
       " <tf.Tensor 'unstack:8' shape=(2,) dtype=float32>,\n",
       " <tf.Tensor 'unstack:9' shape=(2,) dtype=float32>,\n",
       " <tf.Tensor 'unstack:10' shape=(2,) dtype=float32>,\n",
       " <tf.Tensor 'unstack:11' shape=(2,) dtype=float32>,\n",
       " <tf.Tensor 'unstack:12' shape=(2,) dtype=float32>,\n",
       " <tf.Tensor 'unstack:13' shape=(2,) dtype=float32>,\n",
       " <tf.Tensor 'unstack:14' shape=(2,) dtype=float32>,\n",
       " <tf.Tensor 'unstack:15' shape=(2,) dtype=float32>,\n",
       " <tf.Tensor 'unstack:16' shape=(2,) dtype=float32>,\n",
       " <tf.Tensor 'unstack:17' shape=(2,) dtype=float32>,\n",
       " <tf.Tensor 'unstack:18' shape=(2,) dtype=float32>,\n",
       " <tf.Tensor 'unstack:19' shape=(2,) dtype=float32>,\n",
       " <tf.Tensor 'unstack:20' shape=(2,) dtype=float32>,\n",
       " <tf.Tensor 'unstack:21' shape=(2,) dtype=float32>,\n",
       " <tf.Tensor 'unstack:22' shape=(2,) dtype=float32>,\n",
       " <tf.Tensor 'unstack:23' shape=(2,) dtype=float32>,\n",
       " <tf.Tensor 'unstack:24' shape=(2,) dtype=float32>,\n",
       " <tf.Tensor 'unstack:25' shape=(2,) dtype=float32>,\n",
       " <tf.Tensor 'unstack:26' shape=(2,) dtype=float32>,\n",
       " <tf.Tensor 'unstack:27' shape=(2,) dtype=float32>,\n",
       " <tf.Tensor 'unstack:28' shape=(2,) dtype=float32>,\n",
       " <tf.Tensor 'unstack:29' shape=(2,) dtype=float32>,\n",
       " <tf.Tensor 'unstack:30' shape=(2,) dtype=float32>,\n",
       " <tf.Tensor 'unstack:31' shape=(2,) dtype=float32>,\n",
       " <tf.Tensor 'unstack:32' shape=(2,) dtype=float32>,\n",
       " <tf.Tensor 'unstack:33' shape=(2,) dtype=float32>,\n",
       " <tf.Tensor 'unstack:34' shape=(2,) dtype=float32>,\n",
       " <tf.Tensor 'unstack:35' shape=(2,) dtype=float32>,\n",
       " <tf.Tensor 'unstack:36' shape=(2,) dtype=float32>,\n",
       " <tf.Tensor 'unstack:37' shape=(2,) dtype=float32>,\n",
       " <tf.Tensor 'unstack:38' shape=(2,) dtype=float32>,\n",
       " <tf.Tensor 'unstack:39' shape=(2,) dtype=float32>,\n",
       " <tf.Tensor 'unstack:40' shape=(2,) dtype=float32>,\n",
       " <tf.Tensor 'unstack:41' shape=(2,) dtype=float32>,\n",
       " <tf.Tensor 'unstack:42' shape=(2,) dtype=float32>,\n",
       " <tf.Tensor 'unstack:43' shape=(2,) dtype=float32>,\n",
       " <tf.Tensor 'unstack:44' shape=(2,) dtype=float32>,\n",
       " <tf.Tensor 'unstack:45' shape=(2,) dtype=float32>,\n",
       " <tf.Tensor 'unstack:46' shape=(2,) dtype=float32>,\n",
       " <tf.Tensor 'unstack:47' shape=(2,) dtype=float32>,\n",
       " <tf.Tensor 'unstack:48' shape=(2,) dtype=float32>,\n",
       " <tf.Tensor 'unstack:49' shape=(2,) dtype=float32>,\n",
       " <tf.Tensor 'unstack:50' shape=(2,) dtype=float32>,\n",
       " <tf.Tensor 'unstack:51' shape=(2,) dtype=float32>,\n",
       " <tf.Tensor 'unstack:52' shape=(2,) dtype=float32>]"
      ]
     },
     "execution_count": 77,
     "metadata": {},
     "output_type": "execute_result"
    }
   ],
   "source": [
    "inputs_series"
   ]
  },
  {
   "cell_type": "code",
   "execution_count": 78,
   "metadata": {},
   "outputs": [
    {
     "data": {
      "text/plain": [
       "[<tf.Tensor 'unstack_1:0' shape=(2, 18) dtype=float32>,\n",
       " <tf.Tensor 'unstack_1:1' shape=(2, 18) dtype=float32>,\n",
       " <tf.Tensor 'unstack_1:2' shape=(2, 18) dtype=float32>,\n",
       " <tf.Tensor 'unstack_1:3' shape=(2, 18) dtype=float32>,\n",
       " <tf.Tensor 'unstack_1:4' shape=(2, 18) dtype=float32>,\n",
       " <tf.Tensor 'unstack_1:5' shape=(2, 18) dtype=float32>,\n",
       " <tf.Tensor 'unstack_1:6' shape=(2, 18) dtype=float32>,\n",
       " <tf.Tensor 'unstack_1:7' shape=(2, 18) dtype=float32>,\n",
       " <tf.Tensor 'unstack_1:8' shape=(2, 18) dtype=float32>,\n",
       " <tf.Tensor 'unstack_1:9' shape=(2, 18) dtype=float32>,\n",
       " <tf.Tensor 'unstack_1:10' shape=(2, 18) dtype=float32>,\n",
       " <tf.Tensor 'unstack_1:11' shape=(2, 18) dtype=float32>,\n",
       " <tf.Tensor 'unstack_1:12' shape=(2, 18) dtype=float32>,\n",
       " <tf.Tensor 'unstack_1:13' shape=(2, 18) dtype=float32>,\n",
       " <tf.Tensor 'unstack_1:14' shape=(2, 18) dtype=float32>,\n",
       " <tf.Tensor 'unstack_1:15' shape=(2, 18) dtype=float32>,\n",
       " <tf.Tensor 'unstack_1:16' shape=(2, 18) dtype=float32>,\n",
       " <tf.Tensor 'unstack_1:17' shape=(2, 18) dtype=float32>,\n",
       " <tf.Tensor 'unstack_1:18' shape=(2, 18) dtype=float32>,\n",
       " <tf.Tensor 'unstack_1:19' shape=(2, 18) dtype=float32>,\n",
       " <tf.Tensor 'unstack_1:20' shape=(2, 18) dtype=float32>,\n",
       " <tf.Tensor 'unstack_1:21' shape=(2, 18) dtype=float32>,\n",
       " <tf.Tensor 'unstack_1:22' shape=(2, 18) dtype=float32>,\n",
       " <tf.Tensor 'unstack_1:23' shape=(2, 18) dtype=float32>,\n",
       " <tf.Tensor 'unstack_1:24' shape=(2, 18) dtype=float32>,\n",
       " <tf.Tensor 'unstack_1:25' shape=(2, 18) dtype=float32>,\n",
       " <tf.Tensor 'unstack_1:26' shape=(2, 18) dtype=float32>,\n",
       " <tf.Tensor 'unstack_1:27' shape=(2, 18) dtype=float32>,\n",
       " <tf.Tensor 'unstack_1:28' shape=(2, 18) dtype=float32>,\n",
       " <tf.Tensor 'unstack_1:29' shape=(2, 18) dtype=float32>,\n",
       " <tf.Tensor 'unstack_1:30' shape=(2, 18) dtype=float32>,\n",
       " <tf.Tensor 'unstack_1:31' shape=(2, 18) dtype=float32>,\n",
       " <tf.Tensor 'unstack_1:32' shape=(2, 18) dtype=float32>,\n",
       " <tf.Tensor 'unstack_1:33' shape=(2, 18) dtype=float32>,\n",
       " <tf.Tensor 'unstack_1:34' shape=(2, 18) dtype=float32>,\n",
       " <tf.Tensor 'unstack_1:35' shape=(2, 18) dtype=float32>,\n",
       " <tf.Tensor 'unstack_1:36' shape=(2, 18) dtype=float32>,\n",
       " <tf.Tensor 'unstack_1:37' shape=(2, 18) dtype=float32>,\n",
       " <tf.Tensor 'unstack_1:38' shape=(2, 18) dtype=float32>,\n",
       " <tf.Tensor 'unstack_1:39' shape=(2, 18) dtype=float32>,\n",
       " <tf.Tensor 'unstack_1:40' shape=(2, 18) dtype=float32>,\n",
       " <tf.Tensor 'unstack_1:41' shape=(2, 18) dtype=float32>,\n",
       " <tf.Tensor 'unstack_1:42' shape=(2, 18) dtype=float32>,\n",
       " <tf.Tensor 'unstack_1:43' shape=(2, 18) dtype=float32>,\n",
       " <tf.Tensor 'unstack_1:44' shape=(2, 18) dtype=float32>,\n",
       " <tf.Tensor 'unstack_1:45' shape=(2, 18) dtype=float32>,\n",
       " <tf.Tensor 'unstack_1:46' shape=(2, 18) dtype=float32>,\n",
       " <tf.Tensor 'unstack_1:47' shape=(2, 18) dtype=float32>,\n",
       " <tf.Tensor 'unstack_1:48' shape=(2, 18) dtype=float32>,\n",
       " <tf.Tensor 'unstack_1:49' shape=(2, 18) dtype=float32>,\n",
       " <tf.Tensor 'unstack_1:50' shape=(2, 18) dtype=float32>,\n",
       " <tf.Tensor 'unstack_1:51' shape=(2, 18) dtype=float32>,\n",
       " <tf.Tensor 'unstack_1:52' shape=(2, 18) dtype=float32>]"
      ]
     },
     "execution_count": 78,
     "metadata": {},
     "output_type": "execute_result"
    }
   ],
   "source": [
    "labels_series"
   ]
  },
  {
   "cell_type": "code",
   "execution_count": 79,
   "metadata": {},
   "outputs": [],
   "source": [
    "# Forward pass\n",
    "current_state = init_state # batch_s x state_s\n",
    "states_series = []\n",
    "for current_input in inputs_series:\n",
    "    # bsxss\n",
    "    current_input = tf.reshape(current_input, [batch_size, 1]) \n",
    "    # bsxis concat bsxss -> bsx(is+ss) \n",
    "    input_and_state_concatenated = tf.concat([current_input, current_state],1)  # Increasing number of columns\n",
    "    # 5x5, 5x4 -> 5x4 + 1x4 = 5x4\n",
    "    # next_state = tf.tanh(tf.matmul(input_and_state_concatenated, W) + b)  # Broadcasted addition\n",
    "    next_state = tf.nn.relu(tf.matmul(input_and_state_concatenated, W) + b)  # Broadcasted addition\n",
    "    \n",
    "    states_series.append(next_state)\n",
    "    current_state = next_state"
   ]
  },
  {
   "cell_type": "code",
   "execution_count": 94,
   "metadata": {},
   "outputs": [],
   "source": [
    "# loss calculation\n",
    "# 5x4 * 4x2 + 1x2 = 5x2\n",
    "logits_series = [tf.matmul(state, W2) + b2 for state in states_series] #Broadcasted addition\n",
    "\n",
    "# the same size with the batch for the training\n",
    "predictions_series = [tf.nn.softmax(logits) for logits in logits_series]\n",
    "# predictions_series = [tf.round(tf.sigmoid(logits)) for logits in logits_series]\n",
    "\n",
    "# compute the loss with cross entropy (it will be probabilistic 0-1 compare it with label)\n",
    "losses = [tf.nn.softmax_cross_entropy_with_logits_v2(logits = logits,labels = labels) for logits, labels in zip(logits_series,labels_series)]\n",
    "# losses = [tf.nn.sigmoid_cross_entropy_with_logits(logits = logits,labels = labels) for logits, labels in zip(logits_series,labels_series)]\n",
    "\n",
    "# make the loss scalar\n",
    "total_loss = tf.reduce_mean(losses)\n",
    "# gradient step\n",
    "train_step = tf.train.AdagradOptimizer(0.3).minimize(total_loss)"
   ]
  },
  {
   "cell_type": "code",
   "execution_count": 82,
   "metadata": {},
   "outputs": [
    {
     "data": {
      "text/plain": [
       "(48018, 18)"
      ]
     },
     "execution_count": 82,
     "metadata": {},
     "output_type": "execute_result"
    }
   ],
   "source": [
    "train_label_hot.shape"
   ]
  },
  {
   "cell_type": "code",
   "execution_count": 83,
   "metadata": {},
   "outputs": [
    {
     "data": {
      "text/plain": [
       "(48018, 1)"
      ]
     },
     "execution_count": 83,
     "metadata": {},
     "output_type": "execute_result"
    }
   ],
   "source": [
    "train_dataset_reform.shape"
   ]
  },
  {
   "cell_type": "code",
   "execution_count": 84,
   "metadata": {},
   "outputs": [],
   "source": [
    "x = train_dataset_reform.reshape((batch_size,-1))\n",
    "y = train_label_hot.reshape((batch_size, -1, num_classes))"
   ]
  },
  {
   "cell_type": "code",
   "execution_count": 85,
   "metadata": {},
   "outputs": [
    {
     "data": {
      "text/plain": [
       "(2, 24009)"
      ]
     },
     "execution_count": 85,
     "metadata": {},
     "output_type": "execute_result"
    }
   ],
   "source": [
    "x.shape"
   ]
  },
  {
   "cell_type": "code",
   "execution_count": 86,
   "metadata": {},
   "outputs": [
    {
     "data": {
      "text/plain": [
       "(2, 24009, 18)"
      ]
     },
     "execution_count": 86,
     "metadata": {},
     "output_type": "execute_result"
    }
   ],
   "source": [
    "y.shape"
   ]
  },
  {
   "cell_type": "code",
   "execution_count": 144,
   "metadata": {},
   "outputs": [],
   "source": [
    "num_epochs = 50"
   ]
  },
  {
   "cell_type": "code",
   "execution_count": 145,
   "metadata": {},
   "outputs": [
    {
     "data": {
      "text/plain": [
       "453"
      ]
     },
     "execution_count": 145,
     "metadata": {},
     "output_type": "execute_result"
    }
   ],
   "source": [
    "num_batches"
   ]
  },
  {
   "cell_type": "code",
   "execution_count": 146,
   "metadata": {},
   "outputs": [],
   "source": [
    "def accuracy_list(predictions, labels):\n",
    "  return (100*np.mean(np.argmax(np.asarray(predictions),2) == np.argmax(np.asarray(labels),2)))"
   ]
  },
  {
   "cell_type": "code",
   "execution_count": 147,
   "metadata": {},
   "outputs": [
    {
     "name": "stdout",
     "output_type": "stream",
     "text": [
      "New data, epoch 0\n",
      "Step 0 Loss 8097.1455\n",
      "Step 45 Loss 2.1480992\n",
      "Step 90 Loss 2.3043127\n",
      "Step 135 Loss 2.2349644\n",
      "Step 180 Loss 2.3474567\n",
      "Step 225 Loss 2.3425243\n",
      "Step 270 Loss 2.1786222\n",
      "Step 315 Loss 2.6900814\n",
      "Step 360 Loss 1.9019755\n",
      "Step 405 Loss 2.66373\n",
      "Step 450 Loss 2.3266563\n",
      "New data, epoch 1\n",
      "Step 0 Loss 2.8735592\n",
      "Step 45 Loss 1.9722123\n",
      "Step 90 Loss 2.2358074\n",
      "Step 135 Loss 2.3711324\n",
      "Step 180 Loss 2.33961\n",
      "Step 225 Loss 2.3777783\n",
      "Step 270 Loss 2.2013013\n",
      "Step 315 Loss 2.7516706\n",
      "Step 360 Loss 1.9456767\n",
      "Step 405 Loss 2.559439\n",
      "Step 450 Loss 2.4131138\n",
      "New data, epoch 2\n",
      "Step 0 Loss 2.8524935\n",
      "Step 45 Loss 2.000482\n",
      "Step 90 Loss 2.2153347\n",
      "Step 135 Loss 2.3803778\n",
      "Step 180 Loss 2.3252048\n",
      "Step 225 Loss 2.382939\n",
      "Step 270 Loss 2.2215483\n",
      "Step 315 Loss 2.773629\n",
      "Step 360 Loss 1.9731133\n",
      "Step 405 Loss 2.4994855\n",
      "Step 450 Loss 2.4503314\n",
      "New data, epoch 3\n",
      "Step 0 Loss 2.8310058\n",
      "Step 45 Loss 2.0224035\n",
      "Step 90 Loss 2.2110207\n",
      "Step 135 Loss 2.3840559\n",
      "Step 180 Loss 2.3116863\n",
      "Step 225 Loss 2.383649\n",
      "Step 270 Loss 2.2348714\n",
      "Step 315 Loss 2.7853696\n",
      "Step 360 Loss 1.9918061\n",
      "Step 405 Loss 2.4623885\n",
      "Step 450 Loss 2.4704492\n",
      "New data, epoch 4\n",
      "Step 0 Loss 2.8114226\n",
      "Step 45 Loss 2.0374584\n",
      "Step 90 Loss 2.211687\n",
      "Step 135 Loss 2.3866274\n",
      "Step 180 Loss 2.3006408\n",
      "Step 225 Loss 2.3832147\n",
      "Step 270 Loss 2.243939\n",
      "Step 315 Loss 2.7926674\n",
      "Step 360 Loss 2.005294\n",
      "Step 405 Loss 2.4377022\n",
      "Step 450 Loss 2.4830525\n",
      "New data, epoch 5\n",
      "Step 0 Loss 2.7949064\n",
      "Step 45 Loss 2.0480447\n",
      "Step 90 Loss 2.2138436\n",
      "Step 135 Loss 2.3886888\n",
      "Step 180 Loss 2.2917786\n",
      "Step 225 Loss 2.382457\n",
      "Step 270 Loss 2.2504153\n",
      "Step 315 Loss 2.7976222\n",
      "Step 360 Loss 2.0154796\n",
      "Step 405 Loss 2.4201581\n",
      "Step 450 Loss 2.4917948\n",
      "New data, epoch 6\n",
      "Step 0 Loss 2.78114\n",
      "Step 45 Loss 2.055803\n",
      "Step 90 Loss 2.216354\n",
      "Step 135 Loss 2.3903832\n",
      "Step 180 Loss 2.2846043\n",
      "Step 225 Loss 2.3816373\n",
      "Step 270 Loss 2.255243\n",
      "Step 315 Loss 2.8011906\n",
      "Step 360 Loss 2.023451\n",
      "Step 405 Loss 2.4070265\n",
      "Step 450 Loss 2.4983025\n",
      "New data, epoch 7\n",
      "Step 0 Loss 2.7695909\n",
      "Step 45 Loss 2.0617115\n",
      "Step 90 Loss 2.2188306\n",
      "Step 135 Loss 2.391786\n",
      "Step 180 Loss 2.2787085\n",
      "Step 225 Loss 2.380844\n",
      "Step 270 Loss 2.25897\n",
      "Step 315 Loss 2.8038743\n",
      "Step 360 Loss 2.0298684\n",
      "Step 405 Loss 2.3967953\n",
      "Step 450 Loss 2.5033956\n",
      "New data, epoch 8\n",
      "Step 0 Loss 2.7597895\n",
      "Step 45 Loss 2.066358\n",
      "Step 90 Loss 2.2211466\n",
      "Step 135 Loss 2.3929534\n",
      "Step 180 Loss 2.273786\n",
      "Step 225 Loss 2.3801072\n",
      "Step 270 Loss 2.2619314\n",
      "Step 315 Loss 2.8059597\n",
      "Step 360 Loss 2.0351532\n",
      "Step 405 Loss 2.3885705\n",
      "Step 450 Loss 2.507528\n",
      "New data, epoch 9\n",
      "Step 0 Loss 2.7513707\n",
      "Step 45 Loss 2.0701115\n",
      "Step 90 Loss 2.2232695\n",
      "Step 135 Loss 2.3939314\n",
      "Step 180 Loss 2.2696157\n",
      "Step 225 Loss 2.3794322\n",
      "Step 270 Loss 2.2643406\n",
      "Step 315 Loss 2.8076224\n",
      "Step 360 Loss 2.0395868\n",
      "Step 405 Loss 2.3817923\n",
      "Step 450 Loss 2.5109742\n",
      "New data, epoch 10\n",
      "Step 0 Loss 2.7440557\n",
      "Step 45 Loss 2.07321\n",
      "Step 90 Loss 2.2252011\n",
      "Step 135 Loss 2.3947556\n",
      "Step 180 Loss 2.266036\n",
      "Step 225 Loss 2.3788185\n",
      "Step 270 Loss 2.2663398\n",
      "Step 315 Loss 2.8089767\n",
      "Step 360 Loss 2.0433645\n",
      "Step 405 Loss 2.376093\n",
      "Step 450 Loss 2.513909\n",
      "New data, epoch 11\n",
      "Step 0 Loss 2.737634\n",
      "Step 45 Loss 2.0758154\n",
      "Step 90 Loss 2.2269568\n",
      "Step 135 Loss 2.3954546\n",
      "Step 180 Loss 2.2629278\n",
      "Step 225 Loss 2.3782592\n",
      "Step 270 Loss 2.2680266\n",
      "Step 315 Loss 2.8101\n",
      "Step 360 Loss 2.0466259\n",
      "Step 405 Loss 2.3712208\n",
      "Step 450 Loss 2.51645\n",
      "New data, epoch 12\n",
      "Step 0 Loss 2.7319443\n",
      "Step 45 Loss 2.0780404\n",
      "Step 90 Loss 2.228556\n",
      "Step 135 Loss 2.3960512\n",
      "Step 180 Loss 2.2602012\n",
      "Step 225 Loss 2.3777494\n",
      "Step 270 Loss 2.2694695\n",
      "Step 315 Loss 2.8110447\n",
      "Step 360 Loss 2.0494716\n",
      "Step 405 Loss 2.3669977\n",
      "Step 450 Loss 2.5186787\n",
      "New data, epoch 13\n",
      "Step 0 Loss 2.726862\n",
      "Step 45 Loss 2.0799654\n",
      "Step 90 Loss 2.230016\n",
      "Step 135 Loss 2.3965633\n",
      "Step 180 Loss 2.2577877\n",
      "Step 225 Loss 2.3772833\n",
      "Step 270 Loss 2.270719\n",
      "Step 315 Loss 2.8118494\n",
      "Step 360 Loss 2.0519803\n",
      "Step 405 Loss 2.3632953\n",
      "Step 450 Loss 2.520656\n",
      "New data, epoch 14\n",
      "Step 0 Loss 2.7222888\n",
      "Step 45 Loss 2.0816488\n",
      "Step 90 Loss 2.2313528\n",
      "Step 135 Loss 2.3970058\n",
      "Step 180 Loss 2.2556345\n",
      "Step 225 Loss 2.3768559\n",
      "Step 270 Loss 2.271813\n",
      "Step 315 Loss 2.8125427\n",
      "Step 360 Loss 2.05421\n",
      "Step 405 Loss 2.360016\n",
      "Step 450 Loss 2.5224266\n",
      "New data, epoch 15\n",
      "Step 0 Loss 2.7181478\n",
      "Step 45 Loss 2.0831358\n",
      "Step 90 Loss 2.2325826\n",
      "Step 135 Loss 2.397389\n",
      "Step 180 Loss 2.2537\n",
      "Step 225 Loss 2.3764615\n",
      "Step 270 Loss 2.2727783\n",
      "Step 315 Loss 2.8131454\n",
      "Step 360 Loss 2.056206\n",
      "Step 405 Loss 2.3570867\n",
      "Step 450 Loss 2.5240247\n",
      "New data, epoch 16\n",
      "Step 0 Loss 2.7143762\n",
      "Step 45 Loss 2.084461\n",
      "Step 90 Loss 2.2337167\n",
      "Step 135 Loss 2.3977232\n",
      "Step 180 Loss 2.2519507\n",
      "Step 225 Loss 2.3760974\n",
      "Step 270 Loss 2.2736382\n",
      "Step 315 Loss 2.813674\n",
      "Step 360 Loss 2.0580046\n",
      "Step 405 Loss 2.3544502\n",
      "Step 450 Loss 2.5254767\n",
      "New data, epoch 17\n",
      "Step 0 Loss 2.7109234\n",
      "Step 45 Loss 2.08565\n",
      "Step 90 Loss 2.2347665\n",
      "Step 135 Loss 2.3980155\n",
      "Step 180 Loss 2.25036\n",
      "Step 225 Loss 2.3757598\n",
      "Step 270 Loss 2.2744088\n",
      "Step 315 Loss 2.8141413\n",
      "Step 360 Loss 2.059635\n",
      "Step 405 Loss 2.3520615\n",
      "Step 450 Loss 2.5268028\n",
      "New data, epoch 18\n",
      "Step 0 Loss 2.7077467\n",
      "Step 45 Loss 2.0867243\n",
      "Step 90 Loss 2.2357411\n",
      "Step 135 Loss 2.3982723\n",
      "Step 180 Loss 2.2489066\n",
      "Step 225 Loss 2.3754458\n",
      "Step 270 Loss 2.275104\n",
      "Step 315 Loss 2.8145568\n",
      "Step 360 Loss 2.0611203\n",
      "Step 405 Loss 2.3498847\n",
      "Step 450 Loss 2.5280218\n",
      "New data, epoch 19\n",
      "Step 0 Loss 2.7048128\n",
      "Step 45 Loss 2.0877008\n",
      "Step 90 Loss 2.236649\n",
      "Step 135 Loss 2.3984988\n",
      "Step 180 Loss 2.247572\n",
      "Step 225 Loss 2.375153\n",
      "Step 270 Loss 2.2757356\n",
      "Step 315 Loss 2.8149278\n",
      "Step 360 Loss 2.0624804\n",
      "Step 405 Loss 2.3478913\n",
      "Step 450 Loss 2.5291467\n",
      "New data, epoch 20\n",
      "Step 0 Loss 2.7020926\n",
      "Step 45 Loss 2.0885925\n",
      "Step 90 Loss 2.2374969\n",
      "Step 135 Loss 2.3986993\n",
      "Step 180 Loss 2.2463417\n",
      "Step 225 Loss 2.374879\n",
      "Step 270 Loss 2.2763107\n",
      "Step 315 Loss 2.8152628\n",
      "Step 360 Loss 2.0637302\n",
      "Step 405 Loss 2.346056\n",
      "Step 450 Loss 2.5301888\n",
      "New data, epoch 21\n",
      "Step 0 Loss 2.699561\n",
      "Step 45 Loss 2.0894108\n",
      "Step 90 Loss 2.2382913\n",
      "Step 135 Loss 2.3988762\n",
      "Step 180 Loss 2.2452033\n",
      "Step 225 Loss 2.3746212\n",
      "Step 270 Loss 2.276838\n",
      "Step 315 Loss 2.8155646\n",
      "Step 360 Loss 2.0648844\n",
      "Step 405 Loss 2.3443596\n",
      "Step 450 Loss 2.531158\n",
      "New data, epoch 22\n",
      "Step 0 Loss 2.6971982\n",
      "Step 45 Loss 2.0901656\n",
      "Step 90 Loss 2.239037\n",
      "Step 135 Loss 2.3990338\n",
      "Step 180 Loss 2.2441459\n",
      "Step 225 Loss 2.3743794\n",
      "Step 270 Loss 2.277323\n",
      "Step 315 Loss 2.8158393\n",
      "Step 360 Loss 2.0659533\n",
      "Step 405 Loss 2.3427866\n",
      "Step 450 Loss 2.532063\n",
      "New data, epoch 23\n",
      "Step 0 Loss 2.6949866\n",
      "Step 45 Loss 2.090863\n",
      "Step 90 Loss 2.2397387\n",
      "Step 135 Loss 2.3991742\n",
      "Step 180 Loss 2.2431614\n",
      "Step 225 Loss 2.3741517\n",
      "Step 270 Loss 2.2777715\n",
      "Step 315 Loss 2.8160892\n",
      "Step 360 Loss 2.0669463\n",
      "Step 405 Loss 2.3413215\n",
      "Step 450 Loss 2.5329092\n",
      "New data, epoch 24\n",
      "Step 0 Loss 2.6929102\n",
      "Step 45 Loss 2.0915115\n",
      "Step 90 Loss 2.240401\n",
      "Step 135 Loss 2.3992994\n",
      "Step 180 Loss 2.2422407\n",
      "Step 225 Loss 2.3739362\n",
      "Step 270 Loss 2.2781863\n",
      "Step 315 Loss 2.8163188\n",
      "Step 360 Loss 2.067872\n",
      "Step 405 Loss 2.3399532\n",
      "Step 450 Loss 2.5337038\n",
      "New data, epoch 25\n",
      "Step 0 Loss 2.6909566\n",
      "Step 45 Loss 2.0921156\n",
      "Step 90 Loss 2.2410262\n",
      "Step 135 Loss 2.399411\n",
      "Step 180 Loss 2.2413783\n",
      "Step 225 Loss 2.3737319\n",
      "Step 270 Loss 2.2785726\n",
      "Step 315 Loss 2.8165286\n",
      "Step 360 Loss 2.0687368\n",
      "Step 405 Loss 2.338672\n",
      "Step 450 Loss 2.5344515\n",
      "New data, epoch 26\n",
      "Step 0 Loss 2.6891131\n",
      "Step 45 Loss 2.0926797\n",
      "Step 90 Loss 2.2416186\n",
      "Step 135 Loss 2.3995113\n",
      "Step 180 Loss 2.2405684\n",
      "Step 225 Loss 2.3735383\n",
      "Step 270 Loss 2.2789328\n",
      "Step 315 Loss 2.8167214\n",
      "Step 360 Loss 2.069547\n",
      "Step 405 Loss 2.3374684\n",
      "Step 450 Loss 2.5351567\n",
      "New data, epoch 27\n",
      "Step 0 Loss 2.6873713\n",
      "Step 45 Loss 2.0932086\n",
      "Step 90 Loss 2.242181\n",
      "Step 135 Loss 2.399601\n",
      "Step 180 Loss 2.239806\n",
      "Step 225 Loss 2.3733542\n",
      "Step 270 Loss 2.2792695\n",
      "Step 315 Loss 2.816901\n",
      "Step 360 Loss 2.0703082\n",
      "Step 405 Loss 2.3363352\n",
      "Step 450 Loss 2.5358233\n",
      "New data, epoch 28\n",
      "Step 0 Loss 2.6857214\n",
      "Step 45 Loss 2.0937052\n",
      "Step 90 Loss 2.2427151\n",
      "Step 135 Loss 2.399681\n",
      "Step 180 Loss 2.2390862\n",
      "Step 225 Loss 2.373179\n",
      "Step 270 Loss 2.2795851\n",
      "Step 315 Loss 2.8170662\n",
      "Step 360 Loss 2.0710251\n",
      "Step 405 Loss 2.3352664\n",
      "Step 450 Loss 2.5364544\n",
      "New data, epoch 29\n",
      "Step 0 Loss 2.6841555\n",
      "Step 45 Loss 2.0941725\n",
      "Step 90 Loss 2.2432232\n",
      "Step 135 Loss 2.3997529\n",
      "Step 180 Loss 2.2384064\n",
      "Step 225 Loss 2.3730118\n",
      "Step 270 Loss 2.2798817\n",
      "Step 315 Loss 2.8172204\n"
     ]
    },
    {
     "name": "stdout",
     "output_type": "stream",
     "text": [
      "Step 360 Loss 2.0717008\n",
      "Step 405 Loss 2.3342552\n",
      "Step 450 Loss 2.537054\n",
      "New data, epoch 30\n",
      "Step 0 Loss 2.6826682\n",
      "Step 45 Loss 2.0946138\n",
      "Step 90 Loss 2.2437081\n",
      "Step 135 Loss 2.3998172\n",
      "Step 180 Loss 2.2377625\n",
      "Step 225 Loss 2.3728528\n",
      "Step 270 Loss 2.2801614\n",
      "Step 315 Loss 2.8173635\n",
      "Step 360 Loss 2.0723395\n",
      "Step 405 Loss 2.3332975\n",
      "Step 450 Loss 2.5376232\n",
      "New data, epoch 31\n",
      "Step 0 Loss 2.681251\n",
      "Step 45 Loss 2.095031\n",
      "Step 90 Loss 2.2441704\n",
      "Step 135 Loss 2.3998752\n",
      "Step 180 Loss 2.2371511\n",
      "Step 225 Loss 2.3727\n",
      "Step 270 Loss 2.2804248\n",
      "Step 315 Loss 2.8174975\n",
      "Step 360 Loss 2.0729444\n",
      "Step 405 Loss 2.332388\n",
      "Step 450 Loss 2.538165\n",
      "New data, epoch 32\n",
      "Step 0 Loss 2.6799\n",
      "Step 45 Loss 2.095426\n",
      "Step 90 Loss 2.2446127\n",
      "Step 135 Loss 2.3999271\n",
      "Step 180 Loss 2.2365701\n",
      "Step 225 Loss 2.3725543\n",
      "Step 270 Loss 2.2806737\n",
      "Step 315 Loss 2.817622\n",
      "Step 360 Loss 2.073518\n",
      "Step 405 Loss 2.3315234\n",
      "Step 450 Loss 2.538682\n",
      "New data, epoch 33\n",
      "Step 0 Loss 2.67861\n",
      "Step 45 Loss 2.0958014\n",
      "Step 90 Loss 2.2450364\n",
      "Step 135 Loss 2.3999732\n",
      "Step 180 Loss 2.2360172\n",
      "Step 225 Loss 2.372414\n",
      "Step 270 Loss 2.2809103\n",
      "Step 315 Loss 2.8177395\n",
      "Step 360 Loss 2.0740628\n",
      "Step 405 Loss 2.3307004\n",
      "Step 450 Loss 2.5391757\n",
      "New data, epoch 34\n",
      "Step 0 Loss 2.677377\n",
      "Step 45 Loss 2.0961578\n",
      "Step 90 Loss 2.2454414\n",
      "Step 135 Loss 2.4000149\n",
      "Step 180 Loss 2.23549\n",
      "Step 225 Loss 2.3722804\n",
      "Step 270 Loss 2.2811344\n",
      "Step 315 Loss 2.8178492\n",
      "Step 360 Loss 2.0745811\n",
      "Step 405 Loss 2.3299148\n",
      "Step 450 Loss 2.5396473\n",
      "New data, epoch 35\n",
      "Step 0 Loss 2.6761959\n",
      "Step 45 Loss 2.096497\n",
      "Step 90 Loss 2.245831\n",
      "Step 135 Loss 2.4000518\n",
      "Step 180 Loss 2.234987\n",
      "Step 225 Loss 2.372151\n",
      "Step 270 Loss 2.2813473\n",
      "Step 315 Loss 2.8179526\n",
      "Step 360 Loss 2.0750754\n",
      "Step 405 Loss 2.3291645\n",
      "Step 450 Loss 2.5400996\n",
      "New data, epoch 36\n",
      "Step 0 Loss 2.6750638\n",
      "Step 45 Loss 2.0968208\n",
      "Step 90 Loss 2.2462044\n",
      "Step 135 Loss 2.400085\n",
      "Step 180 Loss 2.2345057\n",
      "Step 225 Loss 2.372027\n",
      "Step 270 Loss 2.28155\n",
      "Step 315 Loss 2.8180497\n",
      "Step 360 Loss 2.0755463\n",
      "Step 405 Loss 2.3284476\n",
      "Step 450 Loss 2.5405319\n",
      "New data, epoch 37\n",
      "Step 0 Loss 2.6739776\n",
      "Step 45 Loss 2.0971296\n",
      "Step 90 Loss 2.2465637\n",
      "Step 135 Loss 2.4001148\n",
      "Step 180 Loss 2.2340453\n",
      "Step 225 Loss 2.3719075\n",
      "Step 270 Loss 2.2817435\n",
      "Step 315 Loss 2.8181417\n",
      "Step 360 Loss 2.075996\n",
      "Step 405 Loss 2.3277597\n",
      "Step 450 Loss 2.5409477\n",
      "New data, epoch 38\n",
      "Step 0 Loss 2.6729345\n",
      "Step 45 Loss 2.097425\n",
      "Step 90 Loss 2.2469094\n",
      "Step 135 Loss 2.4001412\n",
      "Step 180 Loss 2.2336042\n",
      "Step 225 Loss 2.3717923\n",
      "Step 270 Loss 2.2819278\n",
      "Step 315 Loss 2.8182287\n",
      "Step 360 Loss 2.0764265\n",
      "Step 405 Loss 2.327101\n",
      "Step 450 Loss 2.5413463\n",
      "New data, epoch 39\n",
      "Step 0 Loss 2.67193\n",
      "Step 45 Loss 2.0977077\n",
      "Step 90 Loss 2.2472422\n",
      "Step 135 Loss 2.4001644\n",
      "Step 180 Loss 2.233181\n",
      "Step 225 Loss 2.3716812\n",
      "Step 270 Loss 2.282104\n",
      "Step 315 Loss 2.8183105\n",
      "Step 360 Loss 2.0768383\n",
      "Step 405 Loss 2.3264687\n",
      "Step 450 Loss 2.5417304\n",
      "New data, epoch 40\n",
      "Step 0 Loss 2.6709647\n",
      "Step 45 Loss 2.0979788\n",
      "Step 90 Loss 2.2475634\n",
      "Step 135 Loss 2.400185\n",
      "Step 180 Loss 2.2327747\n",
      "Step 225 Loss 2.3715737\n",
      "Step 270 Loss 2.2822723\n",
      "Step 315 Loss 2.8183882\n",
      "Step 360 Loss 2.0772336\n",
      "Step 405 Loss 2.325861\n",
      "Step 450 Loss 2.5421\n",
      "New data, epoch 41\n",
      "Step 0 Loss 2.6700332\n",
      "Step 45 Loss 2.098239\n",
      "Step 90 Loss 2.2478733\n",
      "Step 135 Loss 2.4002032\n",
      "Step 180 Loss 2.2323837\n",
      "Step 225 Loss 2.37147\n",
      "Step 270 Loss 2.2824337\n",
      "Step 315 Loss 2.818462\n",
      "Step 360 Loss 2.0776126\n",
      "Step 405 Loss 2.3252766\n",
      "Step 450 Loss 2.5424557\n",
      "New data, epoch 42\n",
      "Step 0 Loss 2.6691353\n",
      "Step 45 Loss 2.0984886\n",
      "Step 90 Loss 2.248172\n",
      "Step 135 Loss 2.400219\n",
      "Step 180 Loss 2.232008\n",
      "Step 225 Loss 2.3713694\n",
      "Step 270 Loss 2.2825885\n",
      "Step 315 Loss 2.8185322\n",
      "Step 360 Loss 2.0779767\n",
      "Step 405 Loss 2.3247137\n",
      "Step 450 Loss 2.542799\n",
      "New data, epoch 43\n",
      "Step 0 Loss 2.6682687\n",
      "Step 45 Loss 2.0987287\n",
      "Step 90 Loss 2.248462\n",
      "Step 135 Loss 2.4002323\n",
      "Step 180 Loss 2.2316458\n",
      "Step 225 Loss 2.3712726\n",
      "Step 270 Loss 2.2827375\n",
      "Step 315 Loss 2.8185985\n",
      "Step 360 Loss 2.078327\n",
      "Step 405 Loss 2.324171\n",
      "Step 450 Loss 2.5431302\n",
      "New data, epoch 44\n",
      "Step 0 Loss 2.6674316\n",
      "Step 45 Loss 2.09896\n",
      "Step 90 Loss 2.248741\n",
      "Step 135 Loss 2.400244\n",
      "Step 180 Loss 2.231297\n",
      "Step 225 Loss 2.3711786\n",
      "Step 270 Loss 2.2828803\n",
      "Step 315 Loss 2.8186617\n",
      "Step 360 Loss 2.0786636\n",
      "Step 405 Loss 2.3236477\n",
      "Step 450 Loss 2.5434499\n",
      "New data, epoch 45\n",
      "Step 0 Loss 2.6666226\n",
      "Step 45 Loss 2.0991824\n",
      "Step 90 Loss 2.249012\n",
      "Step 135 Loss 2.4002542\n",
      "Step 180 Loss 2.2309604\n",
      "Step 225 Loss 2.3710873\n",
      "Step 270 Loss 2.2830174\n",
      "Step 315 Loss 2.8187225\n",
      "Step 360 Loss 2.0789878\n",
      "Step 405 Loss 2.3231428\n",
      "Step 450 Loss 2.5437589\n",
      "New data, epoch 46\n",
      "Step 0 Loss 2.6658397\n",
      "Step 45 Loss 2.0993972\n",
      "Step 90 Loss 2.249274\n",
      "Step 135 Loss 2.4002626\n",
      "Step 180 Loss 2.2306356\n",
      "Step 225 Loss 2.370999\n",
      "Step 270 Loss 2.28315\n",
      "Step 315 Loss 2.81878\n",
      "Step 360 Loss 2.0793004\n",
      "Step 405 Loss 2.322655\n",
      "Step 450 Loss 2.544058\n",
      "New data, epoch 47\n",
      "Step 0 Loss 2.6650817\n",
      "Step 45 Loss 2.0996041\n",
      "Step 90 Loss 2.2495282\n",
      "Step 135 Loss 2.4002693\n",
      "Step 180 Loss 2.2303214\n",
      "Step 225 Loss 2.370913\n",
      "Step 270 Loss 2.2832775\n",
      "Step 315 Loss 2.818835\n",
      "Step 360 Loss 2.0796022\n",
      "Step 405 Loss 2.3221827\n",
      "Step 450 Loss 2.5443478\n",
      "New data, epoch 48\n",
      "Step 0 Loss 2.6643474\n",
      "Step 45 Loss 2.0998042\n",
      "Step 90 Loss 2.2497745\n",
      "Step 135 Loss 2.4002752\n",
      "Step 180 Loss 2.2300181\n",
      "Step 225 Loss 2.37083\n",
      "Step 270 Loss 2.2834003\n",
      "Step 315 Loss 2.8188877\n",
      "Step 360 Loss 2.0798934\n",
      "Step 405 Loss 2.3217263\n",
      "Step 450 Loss 2.5446274\n",
      "New data, epoch 49\n",
      "Step 0 Loss 2.6636362\n",
      "Step 45 Loss 2.0999973\n",
      "Step 90 Loss 2.2500134\n",
      "Step 135 Loss 2.4002793\n",
      "Step 180 Loss 2.2297242\n",
      "Step 225 Loss 2.370749\n",
      "Step 270 Loss 2.283519\n",
      "Step 315 Loss 2.818938\n",
      "Step 360 Loss 2.0801747\n",
      "Step 405 Loss 2.321284\n",
      "Step 450 Loss 2.5448995\n",
      "batch: 0 , accuracy: 6.60377358490566\n",
      "batch: 1 , accuracy: 8.49056603773585\n",
      "batch: 2 , accuracy: 6.60377358490566\n",
      "batch: 3 , accuracy: 7.547169811320755\n",
      "batch: 4 , accuracy: 6.60377358490566\n",
      "batch: 5 , accuracy: 9.433962264150944\n",
      "batch: 6 , accuracy: 7.547169811320755\n",
      "batch: 7 , accuracy: 9.433962264150944\n",
      "batch: 8 , accuracy: 9.433962264150944\n",
      "batch: 9 , accuracy: 10.377358490566039\n",
      "batch: 10 , accuracy: 8.49056603773585\n",
      "batch: 11 , accuracy: 13.20754716981132\n",
      "batch: 12 , accuracy: 11.320754716981133\n",
      "batch: 13 , accuracy: 16.037735849056602\n",
      "batch: 14 , accuracy: 13.20754716981132\n",
      "batch: 15 , accuracy: 15.09433962264151\n",
      "batch: 16 , accuracy: 14.150943396226415\n",
      "batch: 17 , accuracy: 10.377358490566039\n",
      "batch: 18 , accuracy: 9.433962264150944\n",
      "batch: 19 , accuracy: 10.377358490566039\n",
      "batch: 20 , accuracy: 13.20754716981132\n",
      "batch: 21 , accuracy: 13.20754716981132\n",
      "batch: 22 , accuracy: 1.8867924528301887\n",
      "batch: 23 , accuracy: 0.0\n",
      "batch: 24 , accuracy: 0.0\n",
      "batch: 25 , accuracy: 9.433962264150944\n",
      "batch: 26 , accuracy: 7.547169811320755\n",
      "batch: 27 , accuracy: 15.09433962264151\n",
      "batch: 28 , accuracy: 10.377358490566039\n",
      "batch: 29 , accuracy: 13.20754716981132\n",
      "batch: 30 , accuracy: 10.377358490566039\n",
      "batch: 31 , accuracy: 9.433962264150944\n",
      "batch: 32 , accuracy: 9.433962264150944\n",
      "batch: 33 , accuracy: 9.433962264150944\n",
      "batch: 34 , accuracy: 8.49056603773585\n",
      "batch: 35 , accuracy: 6.60377358490566\n",
      "batch: 36 , accuracy: 8.49056603773585\n",
      "batch: 37 , accuracy: 7.547169811320755\n",
      "batch: 38 , accuracy: 10.377358490566039\n",
      "batch: 39 , accuracy: 8.49056603773585\n",
      "batch: 40 , accuracy: 9.433962264150944\n",
      "batch: 41 , accuracy: 6.60377358490566\n",
      "batch: 42 , accuracy: 10.377358490566039\n",
      "batch: 43 , accuracy: 10.377358490566039\n",
      "batch: 44 , accuracy: 8.49056603773585\n",
      "batch: 45 , accuracy: 20.754716981132077\n",
      "batch: 46 , accuracy: 23.58490566037736\n",
      "batch: 47 , accuracy: 16.037735849056602\n",
      "batch: 48 , accuracy: 15.09433962264151\n",
      "batch: 49 , accuracy: 14.150943396226415\n",
      "batch: 50 , accuracy: 14.150943396226415\n",
      "batch: 51 , accuracy: 15.09433962264151\n",
      "batch: 52 , accuracy: 9.433962264150944\n",
      "batch: 53 , accuracy: 10.377358490566039\n",
      "batch: 54 , accuracy: 11.320754716981133\n",
      "batch: 55 , accuracy: 15.09433962264151\n",
      "batch: 56 , accuracy: 15.09433962264151\n",
      "batch: 57 , accuracy: 0.0\n",
      "batch: 58 , accuracy: 0.0\n",
      "batch: 59 , accuracy: 2.8301886792452833\n",
      "batch: 60 , accuracy: 4.716981132075472\n",
      "batch: 61 , accuracy: 9.433962264150944\n",
      "batch: 62 , accuracy: 7.547169811320755\n",
      "batch: 63 , accuracy: 8.49056603773585\n",
      "batch: 64 , accuracy: 11.320754716981133\n",
      "batch: 65 , accuracy: 5.660377358490567\n",
      "batch: 66 , accuracy: 2.8301886792452833\n",
      "batch: 67 , accuracy: 2.8301886792452833\n",
      "batch: 68 , accuracy: 4.716981132075472\n",
      "batch: 69 , accuracy: 2.8301886792452833\n",
      "batch: 70 , accuracy: 3.7735849056603774\n",
      "batch: 71 , accuracy: 1.8867924528301887\n",
      "batch: 72 , accuracy: 5.660377358490567\n",
      "batch: 73 , accuracy: 3.7735849056603774\n",
      "batch: 74 , accuracy: 2.8301886792452833\n",
      "batch: 75 , accuracy: 2.8301886792452833\n",
      "batch: 76 , accuracy: 4.716981132075472\n",
      "batch: 77 , accuracy: 4.716981132075472\n",
      "batch: 78 , accuracy: 3.7735849056603774\n",
      "batch: 79 , accuracy: 10.377358490566039\n",
      "batch: 80 , accuracy: 8.49056603773585\n",
      "batch: 81 , accuracy: 6.60377358490566\n",
      "batch: 82 , accuracy: 5.660377358490567\n",
      "batch: 83 , accuracy: 6.60377358490566\n",
      "batch: 84 , accuracy: 13.20754716981132\n",
      "batch: 85 , accuracy: 6.60377358490566\n",
      "batch: 86 , accuracy: 5.660377358490567\n",
      "batch: 87 , accuracy: 5.660377358490567\n",
      "batch: 88 , accuracy: 6.60377358490566\n",
      "batch: 89 , accuracy: 10.377358490566039\n"
     ]
    },
    {
     "name": "stdout",
     "output_type": "stream",
     "text": [
      "batch: 90 , accuracy: 13.20754716981132\n",
      "batch: 91 , accuracy: 7.547169811320755\n",
      "batch: 92 , accuracy: 1.8867924528301887\n",
      "batch: 93 , accuracy: 0.0\n",
      "batch: 94 , accuracy: 2.8301886792452833\n",
      "batch: 95 , accuracy: 12.264150943396226\n",
      "batch: 96 , accuracy: 13.20754716981132\n",
      "batch: 97 , accuracy: 16.9811320754717\n",
      "batch: 98 , accuracy: 16.037735849056602\n",
      "batch: 99 , accuracy: 12.264150943396226\n",
      "batch: 100 , accuracy: 8.49056603773585\n",
      "batch: 101 , accuracy: 5.660377358490567\n",
      "batch: 102 , accuracy: 10.377358490566039\n",
      "batch: 103 , accuracy: 12.264150943396226\n",
      "batch: 104 , accuracy: 8.49056603773585\n",
      "batch: 105 , accuracy: 8.49056603773585\n",
      "batch: 106 , accuracy: 8.49056603773585\n",
      "batch: 107 , accuracy: 10.377358490566039\n",
      "batch: 108 , accuracy: 7.547169811320755\n",
      "batch: 109 , accuracy: 7.547169811320755\n",
      "batch: 110 , accuracy: 8.49056603773585\n",
      "batch: 111 , accuracy: 12.264150943396226\n",
      "batch: 112 , accuracy: 10.377358490566039\n",
      "batch: 113 , accuracy: 9.433962264150944\n",
      "batch: 114 , accuracy: 15.09433962264151\n",
      "batch: 115 , accuracy: 16.9811320754717\n",
      "batch: 116 , accuracy: 16.037735849056602\n",
      "batch: 117 , accuracy: 15.09433962264151\n",
      "batch: 118 , accuracy: 26.41509433962264\n",
      "batch: 119 , accuracy: 16.037735849056602\n",
      "batch: 120 , accuracy: 11.320754716981133\n",
      "batch: 121 , accuracy: 10.377358490566039\n",
      "batch: 122 , accuracy: 13.20754716981132\n",
      "batch: 123 , accuracy: 20.754716981132077\n",
      "batch: 124 , accuracy: 20.754716981132077\n",
      "batch: 125 , accuracy: 16.037735849056602\n",
      "batch: 126 , accuracy: 0.0\n",
      "batch: 127 , accuracy: 2.8301886792452833\n",
      "batch: 128 , accuracy: 8.49056603773585\n",
      "batch: 129 , accuracy: 9.433962264150944\n",
      "batch: 130 , accuracy: 9.433962264150944\n",
      "batch: 131 , accuracy: 13.20754716981132\n",
      "batch: 132 , accuracy: 5.660377358490567\n",
      "batch: 133 , accuracy: 9.433962264150944\n",
      "batch: 134 , accuracy: 7.547169811320755\n",
      "batch: 135 , accuracy: 7.547169811320755\n",
      "batch: 136 , accuracy: 11.320754716981133\n",
      "batch: 137 , accuracy: 7.547169811320755\n",
      "batch: 138 , accuracy: 5.660377358490567\n",
      "batch: 139 , accuracy: 7.547169811320755\n",
      "batch: 140 , accuracy: 12.264150943396226\n",
      "batch: 141 , accuracy: 9.433962264150944\n",
      "batch: 142 , accuracy: 6.60377358490566\n",
      "batch: 143 , accuracy: 8.49056603773585\n",
      "batch: 144 , accuracy: 10.377358490566039\n",
      "batch: 145 , accuracy: 16.9811320754717\n",
      "batch: 146 , accuracy: 9.433962264150944\n",
      "batch: 147 , accuracy: 10.377358490566039\n",
      "batch: 148 , accuracy: 26.41509433962264\n",
      "batch: 149 , accuracy: 10.377358490566039\n",
      "batch: 150 , accuracy: 16.037735849056602\n",
      "batch: 151 , accuracy: 15.09433962264151\n",
      "batch: 152 , accuracy: 13.20754716981132\n",
      "batch: 153 , accuracy: 14.150943396226415\n",
      "batch: 154 , accuracy: 13.20754716981132\n",
      "batch: 155 , accuracy: 14.150943396226415\n",
      "batch: 156 , accuracy: 16.9811320754717\n",
      "batch: 157 , accuracy: 24.528301886792452\n",
      "batch: 158 , accuracy: 36.79245283018868\n",
      "batch: 159 , accuracy: 12.264150943396226\n",
      "batch: 160 , accuracy: 0.0\n",
      "batch: 161 , accuracy: 6.60377358490566\n",
      "batch: 162 , accuracy: 14.150943396226415\n",
      "batch: 163 , accuracy: 10.377358490566039\n",
      "batch: 164 , accuracy: 16.9811320754717\n",
      "batch: 165 , accuracy: 16.9811320754717\n",
      "batch: 166 , accuracy: 15.09433962264151\n",
      "batch: 167 , accuracy: 11.320754716981133\n",
      "batch: 168 , accuracy: 15.09433962264151\n",
      "batch: 169 , accuracy: 10.377358490566039\n",
      "batch: 170 , accuracy: 17.92452830188679\n",
      "batch: 171 , accuracy: 15.09433962264151\n",
      "batch: 172 , accuracy: 11.320754716981133\n",
      "batch: 173 , accuracy: 5.660377358490567\n",
      "batch: 174 , accuracy: 17.92452830188679\n",
      "batch: 175 , accuracy: 10.377358490566039\n",
      "batch: 176 , accuracy: 12.264150943396226\n",
      "batch: 177 , accuracy: 20.754716981132077\n",
      "batch: 178 , accuracy: 15.09433962264151\n",
      "batch: 179 , accuracy: 14.150943396226415\n",
      "batch: 180 , accuracy: 16.9811320754717\n",
      "batch: 181 , accuracy: 18.867924528301888\n",
      "batch: 182 , accuracy: 23.58490566037736\n",
      "batch: 183 , accuracy: 23.58490566037736\n",
      "batch: 184 , accuracy: 22.641509433962266\n",
      "batch: 185 , accuracy: 25.471698113207548\n",
      "batch: 186 , accuracy: 18.867924528301888\n",
      "batch: 187 , accuracy: 17.92452830188679\n",
      "batch: 188 , accuracy: 16.9811320754717\n",
      "batch: 189 , accuracy: 19.81132075471698\n",
      "batch: 190 , accuracy: 27.358490566037734\n",
      "batch: 191 , accuracy: 41.509433962264154\n",
      "batch: 192 , accuracy: 24.528301886792452\n",
      "batch: 193 , accuracy: 0.0\n",
      "batch: 194 , accuracy: 2.8301886792452833\n",
      "batch: 195 , accuracy: 12.264150943396226\n",
      "batch: 196 , accuracy: 12.264150943396226\n",
      "batch: 197 , accuracy: 12.264150943396226\n",
      "batch: 198 , accuracy: 17.92452830188679\n",
      "batch: 199 , accuracy: 16.037735849056602\n",
      "batch: 200 , accuracy: 14.150943396226415\n",
      "batch: 201 , accuracy: 8.49056603773585\n",
      "batch: 202 , accuracy: 7.547169811320755\n",
      "batch: 203 , accuracy: 7.547169811320755\n",
      "batch: 204 , accuracy: 7.547169811320755\n",
      "batch: 205 , accuracy: 7.547169811320755\n",
      "batch: 206 , accuracy: 5.660377358490567\n",
      "batch: 207 , accuracy: 15.09433962264151\n",
      "batch: 208 , accuracy: 8.49056603773585\n",
      "batch: 209 , accuracy: 5.660377358490567\n",
      "batch: 210 , accuracy: 11.320754716981133\n",
      "batch: 211 , accuracy: 12.264150943396226\n",
      "batch: 212 , accuracy: 10.377358490566039\n",
      "batch: 213 , accuracy: 11.320754716981133\n",
      "batch: 214 , accuracy: 23.58490566037736\n",
      "batch: 215 , accuracy: 16.9811320754717\n",
      "batch: 216 , accuracy: 14.150943396226415\n",
      "batch: 217 , accuracy: 13.20754716981132\n",
      "batch: 218 , accuracy: 14.150943396226415\n",
      "batch: 219 , accuracy: 13.20754716981132\n",
      "batch: 220 , accuracy: 15.09433962264151\n",
      "batch: 221 , accuracy: 12.264150943396226\n",
      "batch: 222 , accuracy: 16.037735849056602\n",
      "batch: 223 , accuracy: 30.18867924528302\n",
      "batch: 224 , accuracy: 43.39622641509434\n",
      "batch: 225 , accuracy: 0.0\n",
      "batch: 226 , accuracy: 7.547169811320755\n",
      "batch: 227 , accuracy: 15.09433962264151\n",
      "batch: 228 , accuracy: 16.9811320754717\n",
      "batch: 229 , accuracy: 16.9811320754717\n",
      "batch: 230 , accuracy: 14.150943396226415\n",
      "batch: 231 , accuracy: 20.754716981132077\n",
      "batch: 232 , accuracy: 17.92452830188679\n",
      "batch: 233 , accuracy: 14.150943396226415\n",
      "batch: 234 , accuracy: 13.20754716981132\n",
      "batch: 235 , accuracy: 15.09433962264151\n",
      "batch: 236 , accuracy: 11.320754716981133\n",
      "batch: 237 , accuracy: 11.320754716981133\n",
      "batch: 238 , accuracy: 11.320754716981133\n",
      "batch: 239 , accuracy: 11.320754716981133\n",
      "batch: 240 , accuracy: 12.264150943396226\n",
      "batch: 241 , accuracy: 18.867924528301888\n",
      "batch: 242 , accuracy: 21.69811320754717\n",
      "batch: 243 , accuracy: 17.92452830188679\n",
      "batch: 244 , accuracy: 16.037735849056602\n",
      "batch: 245 , accuracy: 23.58490566037736\n",
      "batch: 246 , accuracy: 27.358490566037734\n",
      "batch: 247 , accuracy: 24.528301886792452\n",
      "batch: 248 , accuracy: 25.471698113207548\n",
      "batch: 249 , accuracy: 26.41509433962264\n",
      "batch: 250 , accuracy: 20.754716981132077\n",
      "batch: 251 , accuracy: 21.69811320754717\n",
      "batch: 252 , accuracy: 23.58490566037736\n",
      "batch: 253 , accuracy: 48.113207547169814\n",
      "batch: 254 , accuracy: 41.509433962264154\n",
      "batch: 255 , accuracy: 0.0\n",
      "batch: 256 , accuracy: 12.264150943396226\n",
      "batch: 257 , accuracy: 14.150943396226415\n",
      "batch: 258 , accuracy: 9.433962264150944\n",
      "batch: 259 , accuracy: 3.7735849056603774\n",
      "batch: 260 , accuracy: 1.8867924528301887\n",
      "batch: 261 , accuracy: 5.660377358490567\n",
      "batch: 262 , accuracy: 3.7735849056603774\n",
      "batch: 263 , accuracy: 3.7735849056603774\n",
      "batch: 264 , accuracy: 4.716981132075472\n",
      "batch: 265 , accuracy: 5.660377358490567\n",
      "batch: 266 , accuracy: 5.660377358490567\n",
      "batch: 267 , accuracy: 6.60377358490566\n",
      "batch: 268 , accuracy: 9.433962264150944\n",
      "batch: 269 , accuracy: 8.49056603773585\n",
      "batch: 270 , accuracy: 14.150943396226415\n",
      "batch: 271 , accuracy: 10.377358490566039\n",
      "batch: 272 , accuracy: 3.7735849056603774\n",
      "batch: 273 , accuracy: 12.264150943396226\n",
      "batch: 274 , accuracy: 16.9811320754717\n",
      "batch: 275 , accuracy: 15.09433962264151\n",
      "batch: 276 , accuracy: 11.320754716981133\n",
      "batch: 277 , accuracy: 11.320754716981133\n",
      "batch: 278 , accuracy: 7.547169811320755\n",
      "batch: 279 , accuracy: 8.49056603773585\n",
      "batch: 280 , accuracy: 42.45283018867924\n",
      "batch: 281 , accuracy: 43.39622641509434\n",
      "batch: 282 , accuracy: 0.0\n",
      "batch: 283 , accuracy: 14.150943396226415\n",
      "batch: 284 , accuracy: 16.9811320754717\n",
      "batch: 285 , accuracy: 16.9811320754717\n",
      "batch: 286 , accuracy: 5.660377358490567\n",
      "batch: 287 , accuracy: 0.9433962264150944\n",
      "batch: 288 , accuracy: 1.8867924528301887\n",
      "batch: 289 , accuracy: 1.8867924528301887\n",
      "batch: 290 , accuracy: 0.0\n",
      "batch: 291 , accuracy: 4.716981132075472\n",
      "batch: 292 , accuracy: 1.8867924528301887\n",
      "batch: 293 , accuracy: 0.0\n",
      "batch: 294 , accuracy: 0.0\n",
      "batch: 295 , accuracy: 0.0\n",
      "batch: 296 , accuracy: 6.60377358490566\n",
      "batch: 297 , accuracy: 9.433962264150944\n",
      "batch: 298 , accuracy: 2.8301886792452833\n",
      "batch: 299 , accuracy: 11.320754716981133\n",
      "batch: 300 , accuracy: 4.716981132075472\n",
      "batch: 301 , accuracy: 0.9433962264150944\n",
      "batch: 302 , accuracy: 0.9433962264150944\n",
      "batch: 303 , accuracy: 1.8867924528301887\n",
      "batch: 304 , accuracy: 28.30188679245283\n",
      "batch: 305 , accuracy: 44.339622641509436\n",
      "batch: 306 , accuracy: 11.320754716981133\n",
      "batch: 307 , accuracy: 10.377358490566039\n",
      "batch: 308 , accuracy: 23.58490566037736\n",
      "batch: 309 , accuracy: 18.867924528301888\n",
      "batch: 310 , accuracy: 9.433962264150944\n",
      "batch: 311 , accuracy: 8.49056603773585\n",
      "batch: 312 , accuracy: 8.49056603773585\n",
      "batch: 313 , accuracy: 4.716981132075472\n",
      "batch: 314 , accuracy: 4.716981132075472\n",
      "batch: 315 , accuracy: 2.8301886792452833\n",
      "batch: 316 , accuracy: 3.7735849056603774\n",
      "batch: 317 , accuracy: 3.7735849056603774\n",
      "batch: 318 , accuracy: 7.547169811320755\n",
      "batch: 319 , accuracy: 12.264150943396226\n",
      "batch: 320 , accuracy: 16.037735849056602\n",
      "batch: 321 , accuracy: 8.49056603773585\n",
      "batch: 322 , accuracy: 16.037735849056602\n",
      "batch: 323 , accuracy: 4.716981132075472\n",
      "batch: 324 , accuracy: 5.660377358490567\n",
      "batch: 325 , accuracy: 12.264150943396226\n",
      "batch: 326 , accuracy: 45.28301886792453\n",
      "batch: 327 , accuracy: 38.67924528301887\n",
      "batch: 328 , accuracy: 17.92452830188679\n",
      "batch: 329 , accuracy: 26.41509433962264\n",
      "batch: 330 , accuracy: 22.641509433962266\n"
     ]
    },
    {
     "name": "stdout",
     "output_type": "stream",
     "text": [
      "batch: 331 , accuracy: 16.9811320754717\n",
      "batch: 332 , accuracy: 8.49056603773585\n",
      "batch: 333 , accuracy: 8.49056603773585\n",
      "batch: 334 , accuracy: 2.8301886792452833\n",
      "batch: 335 , accuracy: 0.0\n",
      "batch: 336 , accuracy: 1.8867924528301887\n",
      "batch: 337 , accuracy: 1.8867924528301887\n",
      "batch: 338 , accuracy: 0.9433962264150944\n",
      "batch: 339 , accuracy: 4.716981132075472\n",
      "batch: 340 , accuracy: 13.20754716981132\n",
      "batch: 341 , accuracy: 18.867924528301888\n",
      "batch: 342 , accuracy: 16.9811320754717\n",
      "batch: 343 , accuracy: 15.09433962264151\n",
      "batch: 344 , accuracy: 8.49056603773585\n",
      "batch: 345 , accuracy: 16.9811320754717\n",
      "batch: 346 , accuracy: 33.0188679245283\n",
      "batch: 347 , accuracy: 52.83018867924528\n",
      "batch: 348 , accuracy: 18.867924528301888\n",
      "batch: 349 , accuracy: 29.245283018867923\n",
      "batch: 350 , accuracy: 16.9811320754717\n",
      "batch: 351 , accuracy: 17.92452830188679\n",
      "batch: 352 , accuracy: 16.9811320754717\n",
      "batch: 353 , accuracy: 27.358490566037734\n",
      "batch: 354 , accuracy: 17.92452830188679\n",
      "batch: 355 , accuracy: 20.754716981132077\n",
      "batch: 356 , accuracy: 21.69811320754717\n",
      "batch: 357 , accuracy: 19.81132075471698\n",
      "batch: 358 , accuracy: 19.81132075471698\n",
      "batch: 359 , accuracy: 22.641509433962266\n",
      "batch: 360 , accuracy: 30.18867924528302\n",
      "batch: 361 , accuracy: 32.075471698113205\n",
      "batch: 362 , accuracy: 27.358490566037734\n",
      "batch: 363 , accuracy: 29.245283018867923\n",
      "batch: 364 , accuracy: 26.41509433962264\n",
      "batch: 365 , accuracy: 23.58490566037736\n",
      "batch: 366 , accuracy: 34.90566037735849\n",
      "batch: 367 , accuracy: 42.45283018867924\n",
      "batch: 368 , accuracy: 19.81132075471698\n",
      "batch: 369 , accuracy: 21.69811320754717\n",
      "batch: 370 , accuracy: 12.264150943396226\n",
      "batch: 371 , accuracy: 17.92452830188679\n",
      "batch: 372 , accuracy: 16.037735849056602\n",
      "batch: 373 , accuracy: 16.037735849056602\n",
      "batch: 374 , accuracy: 16.037735849056602\n",
      "batch: 375 , accuracy: 19.81132075471698\n",
      "batch: 376 , accuracy: 20.754716981132077\n",
      "batch: 377 , accuracy: 19.81132075471698\n",
      "batch: 378 , accuracy: 17.92452830188679\n",
      "batch: 379 , accuracy: 18.867924528301888\n",
      "batch: 380 , accuracy: 27.358490566037734\n",
      "batch: 381 , accuracy: 26.41509433962264\n",
      "batch: 382 , accuracy: 20.754716981132077\n",
      "batch: 383 , accuracy: 19.81132075471698\n",
      "batch: 384 , accuracy: 17.92452830188679\n",
      "batch: 385 , accuracy: 30.18867924528302\n",
      "batch: 386 , accuracy: 26.41509433962264\n",
      "batch: 387 , accuracy: 20.754716981132077\n",
      "batch: 388 , accuracy: 21.69811320754717\n",
      "batch: 389 , accuracy: 9.433962264150944\n",
      "batch: 390 , accuracy: 8.49056603773585\n",
      "batch: 391 , accuracy: 10.377358490566039\n",
      "batch: 392 , accuracy: 8.49056603773585\n",
      "batch: 393 , accuracy: 7.547169811320755\n",
      "batch: 394 , accuracy: 11.320754716981133\n",
      "batch: 395 , accuracy: 13.20754716981132\n",
      "batch: 396 , accuracy: 16.037735849056602\n",
      "batch: 397 , accuracy: 15.09433962264151\n",
      "batch: 398 , accuracy: 21.69811320754717\n",
      "batch: 399 , accuracy: 17.92452830188679\n",
      "batch: 400 , accuracy: 10.377358490566039\n",
      "batch: 401 , accuracy: 9.433962264150944\n",
      "batch: 402 , accuracy: 13.20754716981132\n",
      "batch: 403 , accuracy: 27.358490566037734\n",
      "batch: 404 , accuracy: 31.132075471698112\n",
      "batch: 405 , accuracy: 28.30188679245283\n",
      "batch: 406 , accuracy: 27.358490566037734\n",
      "batch: 407 , accuracy: 32.075471698113205\n",
      "batch: 408 , accuracy: 30.18867924528302\n",
      "batch: 409 , accuracy: 33.9622641509434\n",
      "batch: 410 , accuracy: 37.735849056603776\n",
      "batch: 411 , accuracy: 34.90566037735849\n",
      "batch: 412 , accuracy: 40.56603773584906\n",
      "batch: 413 , accuracy: 31.132075471698112\n",
      "batch: 414 , accuracy: 33.9622641509434\n",
      "batch: 415 , accuracy: 37.735849056603776\n",
      "batch: 416 , accuracy: 44.339622641509436\n",
      "batch: 417 , accuracy: 34.90566037735849\n",
      "batch: 418 , accuracy: 33.9622641509434\n",
      "batch: 419 , accuracy: 32.075471698113205\n",
      "batch: 420 , accuracy: 31.132075471698112\n",
      "batch: 421 , accuracy: 26.41509433962264\n",
      "batch: 422 , accuracy: 31.132075471698112\n",
      "batch: 423 , accuracy: 39.62264150943396\n",
      "batch: 424 , accuracy: 38.67924528301887\n",
      "batch: 425 , accuracy: 33.9622641509434\n",
      "batch: 426 , accuracy: 37.735849056603776\n",
      "batch: 427 , accuracy: 34.90566037735849\n",
      "batch: 428 , accuracy: 34.90566037735849\n",
      "batch: 429 , accuracy: 39.62264150943396\n",
      "batch: 430 , accuracy: 39.62264150943396\n",
      "batch: 431 , accuracy: 41.509433962264154\n",
      "batch: 432 , accuracy: 43.39622641509434\n",
      "batch: 433 , accuracy: 45.28301886792453\n",
      "batch: 434 , accuracy: 40.56603773584906\n",
      "batch: 435 , accuracy: 36.79245283018868\n",
      "batch: 436 , accuracy: 36.79245283018868\n",
      "batch: 437 , accuracy: 33.0188679245283\n",
      "batch: 438 , accuracy: 37.735849056603776\n",
      "batch: 439 , accuracy: 40.56603773584906\n",
      "batch: 440 , accuracy: 29.245283018867923\n",
      "batch: 441 , accuracy: 27.358490566037734\n",
      "batch: 442 , accuracy: 27.358490566037734\n",
      "batch: 443 , accuracy: 31.132075471698112\n",
      "batch: 444 , accuracy: 33.9622641509434\n",
      "batch: 445 , accuracy: 37.735849056603776\n",
      "batch: 446 , accuracy: 35.84905660377358\n",
      "batch: 447 , accuracy: 36.79245283018868\n",
      "batch: 448 , accuracy: 33.9622641509434\n",
      "batch: 449 , accuracy: 35.84905660377358\n",
      "batch: 450 , accuracy: 35.84905660377358\n",
      "batch: 451 , accuracy: 36.79245283018868\n",
      "batch: 452 , accuracy: 24.528301886792452\n",
      "15.508767545503767\n"
     ]
    }
   ],
   "source": [
    "with tf.Session() as sess:\n",
    "    # sess.run(tf.initialize_all_variables())\n",
    "    sess.run(tf.global_variables_initializer())\n",
    "    # plt.ion()\n",
    "    # plt.figure()\n",
    "    # plt.show()\n",
    "    loss_list = []\n",
    "    \n",
    "    for epoch_idx in range(num_epochs): # 100\n",
    "        _current_state = np.zeros((batch_size, state_size))\n",
    "\n",
    "        print(\"New data, epoch\", epoch_idx)\n",
    "\n",
    "        for batch_idx in range(num_batches): # 666\n",
    "            start_idx = batch_idx * truncated_backprop_length\n",
    "            end_idx = start_idx + truncated_backprop_length\n",
    "            # all 5 rows, certain numbers of column which the total = 15 columns\n",
    "            batchX = x[:,start_idx:end_idx]\n",
    "            batchY = y[:,start_idx:end_idx]\n",
    "            \n",
    "            # calculate loss, gradient step, \n",
    "            _total_loss, _train_step, _current_state, _predictions_series, _labels_series = sess.run(\n",
    "                [total_loss, train_step, current_state, predictions_series, labels_series],\n",
    "                feed_dict={\n",
    "                    batchX_placeholder:batchX,\n",
    "                    batchY_placeholder:batchY,\n",
    "                    # it was part of computational graph, where the init_state is the placeholder\n",
    "                    init_state:_current_state\n",
    "                })\n",
    "\n",
    "            loss_list.append(_total_loss)\n",
    "            # print(\"prediction\", _predictions_series)\n",
    "            # print(\"label\",_labels_series)\n",
    "           \n",
    "            if (batch_idx%(num_batches//10) == 0):\n",
    "                print(\"Step\",batch_idx, \"Loss\", _total_loss)\n",
    "                # plot(loss_list, _predictions_series, batchX, batchY)\n",
    "\n",
    "    # accuracy\n",
    "    _current_state = np.zeros((batch_size, state_size))\n",
    "    acc = 0\n",
    "    total_acc = 0\n",
    "    for batch_idx in range(num_batches):\n",
    "        start_idx = batch_idx * truncated_backprop_length\n",
    "        end_idx = start_idx + truncated_backprop_length\n",
    "        \n",
    "        batchX = x[:,start_idx:end_idx]\n",
    "        batchY = y[:,start_idx:end_idx]\n",
    "\n",
    "        # calculate loss, gradient step, \n",
    "        _predictions_series, _labels_series = sess.run([predictions_series, labels_series],\n",
    "            feed_dict={\n",
    "                batchX_placeholder:batchX,\n",
    "                batchY_placeholder:batchY,\n",
    "                # it was part of computational graph, where the init_state is the placeholder\n",
    "                init_state:_current_state\n",
    "            })\n",
    "        acc = accuracy_list( _predictions_series, _labels_series)\n",
    "        print(\"batch:\",batch_idx,\", accuracy:\",acc)\n",
    "        total_acc += acc\n",
    "    \n",
    "    print(total_acc/num_batches)\n",
    "# plt.ioff()\n",
    "# plt.show()\n"
   ]
  },
  {
   "cell_type": "code",
   "execution_count": 99,
   "metadata": {},
   "outputs": [
    {
     "data": {
      "text/plain": [
       "array([[0.08739713, 0.02882087, 0.06627311, 0.16758792, 0.01176951,\n",
       "        0.0702089 , 0.00191463, 0.02183856, 0.00145729, 0.00392867,\n",
       "        0.01330228, 0.04812367, 0.00533158, 0.01332501, 0.29674104,\n",
       "        0.03088584, 0.02529307, 0.10580097],\n",
       "       [0.08739713, 0.02882087, 0.06627311, 0.16758792, 0.01176951,\n",
       "        0.0702089 , 0.00191463, 0.02183856, 0.00145729, 0.00392867,\n",
       "        0.01330228, 0.04812367, 0.00533158, 0.01332501, 0.29674104,\n",
       "        0.03088584, 0.02529307, 0.10580097]], dtype=float32)"
      ]
     },
     "execution_count": 99,
     "metadata": {},
     "output_type": "execute_result"
    }
   ],
   "source": [
    "_predictions_series[0]"
   ]
  },
  {
   "cell_type": "code",
   "execution_count": 100,
   "metadata": {},
   "outputs": [
    {
     "data": {
      "text/plain": [
       "array([[1., 0., 0., 0., 0., 0., 0., 0., 0., 0., 0., 0., 0., 0., 0., 0.,\n",
       "        0., 0.],\n",
       "       [0., 0., 0., 0., 0., 0., 0., 0., 0., 0., 0., 0., 0., 0., 0., 1.,\n",
       "        0., 0.]], dtype=float32)"
      ]
     },
     "execution_count": 100,
     "metadata": {},
     "output_type": "execute_result"
    }
   ],
   "source": [
    "_labels_series[0]"
   ]
  },
  {
   "cell_type": "code",
   "execution_count": 106,
   "metadata": {},
   "outputs": [
    {
     "data": {
      "text/plain": [
       "array([14, 14], dtype=int64)"
      ]
     },
     "execution_count": 106,
     "metadata": {},
     "output_type": "execute_result"
    }
   ],
   "source": [
    "np.argmax(_predictions_series[1], 1)"
   ]
  },
  {
   "cell_type": "code",
   "execution_count": 107,
   "metadata": {},
   "outputs": [
    {
     "data": {
      "text/plain": [
       "array([0, 2], dtype=int64)"
      ]
     },
     "execution_count": 107,
     "metadata": {},
     "output_type": "execute_result"
    }
   ],
   "source": [
    "np.argmax(_labels_series[1], 1)"
   ]
  },
  {
   "cell_type": "code",
   "execution_count": 128,
   "metadata": {},
   "outputs": [
    {
     "data": {
      "text/plain": [
       "(53, 2, 18)"
      ]
     },
     "execution_count": 128,
     "metadata": {},
     "output_type": "execute_result"
    }
   ],
   "source": [
    "np.asarray(_predictions_series).shape"
   ]
  },
  {
   "cell_type": "code",
   "execution_count": 135,
   "metadata": {},
   "outputs": [
    {
     "data": {
      "text/plain": [
       "(53, 2)"
      ]
     },
     "execution_count": 135,
     "metadata": {},
     "output_type": "execute_result"
    }
   ],
   "source": [
    "np.argmax(np.asarray(_labels_series),2).shape"
   ]
  },
  {
   "cell_type": "code",
   "execution_count": 136,
   "metadata": {
    "scrolled": true
   },
   "outputs": [
    {
     "data": {
      "text/plain": [
       "(53, 2)"
      ]
     },
     "execution_count": 136,
     "metadata": {},
     "output_type": "execute_result"
    }
   ],
   "source": [
    "np.argmax(np.asarray(_predictions_series),2).shape"
   ]
  },
  {
   "cell_type": "code",
   "execution_count": 139,
   "metadata": {},
   "outputs": [
    {
     "data": {
      "text/plain": [
       "24.528301886792452"
      ]
     },
     "execution_count": 139,
     "metadata": {},
     "output_type": "execute_result"
    }
   ],
   "source": [
    "100*np.mean(np.argmax(np.asarray(_predictions_series),2) == np.argmax(np.asarray(_labels_series),2))"
   ]
  },
  {
   "cell_type": "code",
   "execution_count": 51,
   "metadata": {},
   "outputs": [
    {
     "data": {
      "text/plain": [
       "array([0., 0., 0., 0., 1., 0., 0., 0., 0., 0., 0., 0., 0., 0., 0., 0., 0.,\n",
       "       0.], dtype=float32)"
      ]
     },
     "execution_count": 51,
     "metadata": {},
     "output_type": "execute_result"
    }
   ],
   "source": [
    "train_label_hot[0]"
   ]
  },
  {
   "cell_type": "code",
   "execution_count": 52,
   "metadata": {},
   "outputs": [
    {
     "data": {
      "text/plain": [
       "array([0., 0., 0., 0., 1., 0., 0., 0., 0., 0., 0., 0., 0., 0., 0., 0., 0.,\n",
       "       0.], dtype=float32)"
      ]
     },
     "execution_count": 52,
     "metadata": {},
     "output_type": "execute_result"
    }
   ],
   "source": [
    "batch_labels[0]"
   ]
  },
  {
   "cell_type": "code",
   "execution_count": 53,
   "metadata": {},
   "outputs": [
    {
     "data": {
      "text/plain": [
       "array([0.15201011, 0.02148226, 0.02192243, 0.1321808 , 0.00512654,\n",
       "       0.13175607, 0.00156353, 0.0188455 , 0.00116824, 0.00422171,\n",
       "       0.0061877 , 0.07532369, 0.00530073, 0.01470315, 0.15565947,\n",
       "       0.02444622, 0.03171074, 0.1963911 ], dtype=float32)"
      ]
     },
     "execution_count": 53,
     "metadata": {},
     "output_type": "execute_result"
    }
   ],
   "source": [
    "predictions[0]"
   ]
  },
  {
   "cell_type": "code",
   "execution_count": 54,
   "metadata": {
    "scrolled": true
   },
   "outputs": [
    {
     "data": {
      "text/plain": [
       "17"
      ]
     },
     "execution_count": 54,
     "metadata": {},
     "output_type": "execute_result"
    }
   ],
   "source": [
    "np.argmax(predictions[0])"
   ]
  },
  {
   "cell_type": "code",
   "execution_count": 55,
   "metadata": {},
   "outputs": [
    {
     "data": {
      "text/plain": [
       "4"
      ]
     },
     "execution_count": 55,
     "metadata": {},
     "output_type": "execute_result"
    }
   ],
   "source": [
    "np.argmax(batch_labels[0])"
   ]
  },
  {
   "cell_type": "code",
   "execution_count": 56,
   "metadata": {},
   "outputs": [
    {
     "data": {
      "text/plain": [
       "array([ 7., 41., 48., ..., 43., 43.,  5.], dtype=float32)"
      ]
     },
     "execution_count": 56,
     "metadata": {},
     "output_type": "execute_result"
    }
   ],
   "source": [
    "train_label"
   ]
  },
  {
   "cell_type": "code",
   "execution_count": 57,
   "metadata": {
    "scrolled": true
   },
   "outputs": [
    {
     "data": {
      "text/plain": [
       "0.0"
      ]
     },
     "execution_count": 57,
     "metadata": {},
     "output_type": "execute_result"
    }
   ],
   "source": [
    "lcoll_label[0]"
   ]
  },
  {
   "cell_type": "code",
   "execution_count": 58,
   "metadata": {
    "scrolled": true
   },
   "outputs": [
    {
     "name": "stdout",
     "output_type": "stream",
     "text": [
      "0.0 7279\n",
      "1.0 1320\n",
      "5.0 1994\n",
      "6.0 6349\n",
      "7.0 761\n",
      "13.0 3797\n",
      "14.0 58\n",
      "20.0 1165\n",
      "21.0 25\n",
      "27.0 181\n",
      "28.0 630\n",
      "34.0 3583\n",
      "35.0 298\n",
      "41.0 657\n",
      "42.0 7447\n",
      "43.0 1469\n",
      "47.0 1783\n",
      "48.0 9222\n"
     ]
    }
   ],
   "source": [
    "for i in range(len(lcoll_label)):\n",
    "    print(lcoll_label[i], np.sum(train_label == lcoll_label[i]))"
   ]
  },
  {
   "cell_type": "code",
   "execution_count": 78,
   "metadata": {},
   "outputs": [
    {
     "data": {
      "text/plain": [
       "72"
      ]
     },
     "execution_count": 78,
     "metadata": {},
     "output_type": "execute_result"
    }
   ],
   "source": [
    "writer.close()\n",
    "hidden_size"
   ]
  },
  {
   "cell_type": "code",
   "execution_count": 79,
   "metadata": {},
   "outputs": [],
   "source": [
    "from ipywidgets import interact"
   ]
  },
  {
   "cell_type": "code",
   "execution_count": 80,
   "metadata": {},
   "outputs": [],
   "source": [
    "import ipywidgets as widgets"
   ]
  },
  {
   "cell_type": "code",
   "execution_count": 81,
   "metadata": {
    "scrolled": true
   },
   "outputs": [
    {
     "data": {
      "text/plain": [
       "[<matplotlib.lines.Line2D at 0x2213cc4ff98>]"
      ]
     },
     "execution_count": 81,
     "metadata": {},
     "output_type": "execute_result"
    },
    {
     "data": {
      "image/png": "[encoded data removed]",
      "text/plain": [
       "<Figure size 432x288 with 1 Axes>"
      ]
     },
     "metadata": {},
     "output_type": "display_data"
    }
   ],
   "source": [
    "plt.plot(loss_history)"
   ]
  },
  {
   "cell_type": "code",
   "execution_count": 280,
   "metadata": {},
   "outputs": [
    {
     "name": "stdout",
     "output_type": "stream",
     "text": [
      "Initialized\n"
     ]
    },
    {
     "ename": "ZeroDivisionError",
     "evalue": "integer division or modulo by zero",
     "output_type": "error",
     "traceback": [
      "\u001b[1;31m---------------------------------------------------------------------------\u001b[0m",
      "\u001b[1;31mZeroDivisionError\u001b[0m                         Traceback (most recent call last)",
      "\u001b[1;32m<ipython-input-280-f83615fdeb73>\u001b[0m in \u001b[0;36m<module>\u001b[1;34m()\u001b[0m\n\u001b[0;32m      9\u001b[0m     \u001b[1;31m# Pick an offset within the training data, which has been randomized.\u001b[0m\u001b[1;33m\u001b[0m\u001b[1;33m\u001b[0m\u001b[0m\n\u001b[0;32m     10\u001b[0m     \u001b[1;31m# Note: we could use better randomization across epochs.\u001b[0m\u001b[1;33m\u001b[0m\u001b[1;33m\u001b[0m\u001b[0m\n\u001b[1;32m---> 11\u001b[1;33m     \u001b[0moffset\u001b[0m \u001b[1;33m=\u001b[0m \u001b[1;33m(\u001b[0m\u001b[0mstep\u001b[0m \u001b[1;33m*\u001b[0m \u001b[0mbatch_size\u001b[0m\u001b[1;33m)\u001b[0m \u001b[1;33m%\u001b[0m \u001b[1;33m(\u001b[0m\u001b[0mtrain_label_hot\u001b[0m\u001b[1;33m.\u001b[0m\u001b[0mshape\u001b[0m\u001b[1;33m[\u001b[0m\u001b[1;36m0\u001b[0m\u001b[1;33m]\u001b[0m \u001b[1;33m-\u001b[0m \u001b[0mbatch_size\u001b[0m\u001b[1;33m)\u001b[0m\u001b[1;33m\u001b[0m\u001b[0m\n\u001b[0m\u001b[0;32m     12\u001b[0m     \u001b[1;31m# Generate a minibatch.\u001b[0m\u001b[1;33m\u001b[0m\u001b[1;33m\u001b[0m\u001b[0m\n\u001b[0;32m     13\u001b[0m     \u001b[1;31m#batch_data = train_dataset_reform[offset:(offset + batch_size), :]\u001b[0m\u001b[1;33m\u001b[0m\u001b[1;33m\u001b[0m\u001b[0m\n",
      "\u001b[1;31mZeroDivisionError\u001b[0m: integer division or modulo by zero"
     ]
    }
   ],
   "source": [
    "num_steps = int(iteration_one_epoch*10)\n",
    "loss_history = []\n",
    "\n",
    "with tf.Session() as session:\n",
    "#with tf.Session(graph=graph) as session:\n",
    "  tf.global_variables_initializer().run()\n",
    "  print(\"Initialized\")\n",
    "  for step in range(num_steps):\n",
    "    # Pick an offset within the training data, which has been randomized.\n",
    "    # Note: we could use better randomization across epochs.\n",
    "    offset = (step * batch_size) % (train_label_hot.shape[0] - batch_size)\n",
    "    # Generate a minibatch.\n",
    "    #batch_data = train_dataset_reform[offset:(offset + batch_size), :]\n",
    "    #batch_labels = train_label_hot[offset:(offset + batch_size), :]\n",
    "    batch_data = train_dataset_reform\n",
    "    batch_labels = train_label_hot\n",
    "    \n",
    "    # Prepare a dictionary telling the session where to feed the minibatch.\n",
    "    # The key of the dictionary is the placeholder node of the graph to be fed,\n",
    "    # and the value is the numpy array to feed to it.\n",
    "    feed_dict = {tf_train_dataset : batch_data, tf_train_labels : batch_labels}\n",
    "    _, l, predictions, added_summary = session.run(\n",
    "        [optimizer, loss, train_prediction, loss_summary], feed_dict=feed_dict)\n",
    "    \n",
    "    writer.add_summary(added_summary)\n",
    "    loss_history.append(l)\n",
    "    \n",
    "    if (step % iteration_one_epoch == 0):\n",
    "      print(\"Minibatch loss at step %d: %f\" % (step, l))\n",
    "      print(\"Minibatch accuracy: %.1f%%\" % accuracy(predictions, batch_labels))\n",
    "      # print(\"Validation accuracy: %.1f%%\" % accuracy(valid_prediction.eval(), valid_labels))\n",
    "  # print(\"Test accuracy: %.1f%%\" % accuracy(test_prediction.eval(), test_labels))"
   ]
  },
  {
   "cell_type": "code",
   "execution_count": 329,
   "metadata": {},
   "outputs": [
    {
     "data": {
      "text/plain": [
       "96036"
      ]
     },
     "execution_count": 329,
     "metadata": {},
     "output_type": "execute_result"
    }
   ],
   "source": [
    "num_samples * 2"
   ]
  },
  {
   "cell_type": "code",
   "execution_count": null,
   "metadata": {},
   "outputs": [],
   "source": []
  }
 ],
 "metadata": {
  "colab": {
   "default_view": {},
   "name": "2_fullyconnected.ipynb",
   "provenance": [],
   "version": "0.3.2",
   "views": {}
  },
  "kernelspec": {
   "display_name": "tensorflow",
   "language": "python",
   "name": "tensorflow"
  },
  "language_info": {
   "codemirror_mode": {
    "name": "ipython",
    "version": 3
   },
   "file_extension": ".py",
   "mimetype": "text/x-python",
   "name": "python",
   "nbconvert_exporter": "python",
   "pygments_lexer": "ipython3",
   "version": "3.5.5"
  }
 },
 "nbformat": 4,
 "nbformat_minor": 1
}
