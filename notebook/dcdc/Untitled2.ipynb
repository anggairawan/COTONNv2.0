{
 "cells": [
  {
   "cell_type": "code",
   "execution_count": 1,
   "metadata": {},
   "outputs": [],
   "source": [
    "'''\n",
    "A Recurrent Neural Network (LSTM) implementation example using TensorFlow..\n",
    "Next word prediction after n_input words learned from text file.\n",
    "A story is automatically generated if the predicted word is fed back as input.\n",
    "Author: Rowel Atienza\n",
    "Project: https://github.com/roatienza/Deep-Learning-Experiments\n",
    "'''\n",
    "\n",
    "from __future__ import print_function\n",
    "\n",
    "import numpy as np\n",
    "import tensorflow as tf\n",
    "from tensorflow.contrib import rnn\n",
    "import random\n",
    "import collections\n",
    "import time\n",
    "\n",
    "start_time = time.time()\n",
    "def elapsed(sec):\n",
    "    if sec<60:\n",
    "        return str(sec) + \" sec\"\n",
    "    elif sec<(60*60):\n",
    "        return str(sec/60) + \" min\"\n",
    "    else:\n",
    "        return str(sec/(60*60)) + \" hr\"\n",
    "\n",
    "\n",
    "# Target log path\n",
    "logs_path = '/tmp/tensorflow/rnn_words'\n",
    "writer = tf.summary.FileWriter(logs_path)\n",
    "\n",
    "# Text file containing words for training\n",
    "training_file = 'belling_the_cat.txt'"
   ]
  },
  {
   "cell_type": "code",
   "execution_count": 2,
   "metadata": {},
   "outputs": [],
   "source": [
    "def read_data(fname):\n",
    "    with open(fname) as f:\n",
    "        content = f.readlines()\n",
    "    content = [x.strip() for x in content]\n",
    "    content = [word for i in range(len(content)) for word in content[i].split()]\n",
    "    content = np.array(content)\n",
    "    return content"
   ]
  },
  {
   "cell_type": "code",
   "execution_count": 3,
   "metadata": {},
   "outputs": [
    {
     "name": "stdout",
     "output_type": "stream",
     "text": [
      "Loaded training data...\n"
     ]
    }
   ],
   "source": [
    "training_data = read_data(training_file)\n",
    "print(\"Loaded training data...\")"
   ]
  },
  {
   "cell_type": "code",
   "execution_count": 4,
   "metadata": {},
   "outputs": [],
   "source": [
    "def build_dataset(words):\n",
    "    count = collections.Counter(words).most_common()\n",
    "    dictionary = dict()\n",
    "    for word, _ in count:\n",
    "        dictionary[word] = len(dictionary)\n",
    "    reverse_dictionary = dict(zip(dictionary.values(), dictionary.keys()))\n",
    "    return dictionary, reverse_dictionary"
   ]
  },
  {
   "cell_type": "code",
   "execution_count": 5,
   "metadata": {},
   "outputs": [],
   "source": [
    "dictionary, reverse_dictionary = build_dataset(training_data)\n",
    "vocab_size = len(dictionary)\n"
   ]
  },
  {
   "cell_type": "code",
   "execution_count": 6,
   "metadata": {},
   "outputs": [
    {
     "data": {
      "text/plain": [
       "112"
      ]
     },
     "execution_count": 6,
     "metadata": {},
     "output_type": "execute_result"
    }
   ],
   "source": [
    "vocab_size"
   ]
  },
  {
   "cell_type": "code",
   "execution_count": 7,
   "metadata": {},
   "outputs": [],
   "source": [
    "# Parameters\n",
    "learning_rate = 0.001\n",
    "training_iters = 50000\n",
    "display_step = 1000\n",
    "n_input = 3\n",
    "\n",
    "# number of units in RNN cell\n",
    "n_hidden = 512"
   ]
  },
  {
   "cell_type": "code",
   "execution_count": 8,
   "metadata": {},
   "outputs": [],
   "source": [
    "# tf Graph input\n",
    "x = tf.placeholder(\"float\", [None, n_input, 1])\n",
    "y = tf.placeholder(\"float\", [None, vocab_size])\n",
    "\n",
    "# RNN output node weights and biases\n",
    "weights = {\n",
    "    'out': tf.Variable(tf.random_normal([n_hidden, vocab_size]))\n",
    "}\n",
    "biases = {\n",
    "    'out': tf.Variable(tf.random_normal([vocab_size]))\n",
    "}"
   ]
  },
  {
   "cell_type": "code",
   "execution_count": 9,
   "metadata": {},
   "outputs": [],
   "source": [
    "def RNN(x, weights, biases):\n",
    "\n",
    "    # reshape to [1, n_input]\n",
    "    x = tf.reshape(x, [-1, n_input])\n",
    "\n",
    "    # Generate a n_input-element sequence of inputs\n",
    "    # (eg. [had] [a] [general] -> [20] [6] [33])\n",
    "    x = tf.split(x,n_input,1)\n",
    "\n",
    "    # 2-layer LSTM, each layer has n_hidden units.\n",
    "    # Average Accuracy= 95.20% at 50k iter\n",
    "    rnn_cell = rnn.MultiRNNCell([rnn.BasicLSTMCell(n_hidden),rnn.BasicLSTMCell(n_hidden)])\n",
    "\n",
    "    # 1-layer LSTM with n_hidden units but with lower accuracy.\n",
    "    # Average Accuracy= 90.60% 50k iter\n",
    "    # Uncomment line below to test but comment out the 2-layer rnn.MultiRNNCell above\n",
    "    # rnn_cell = rnn.BasicLSTMCell(n_hidden)\n",
    "\n",
    "    # generate prediction\n",
    "    outputs, states = rnn.static_rnn(rnn_cell, x, dtype=tf.float32)\n",
    "\n",
    "    # there are n_input outputs but\n",
    "    # we only want the last output\n",
    "    return tf.matmul(outputs[-1], weights['out']) + biases['out']"
   ]
  },
  {
   "cell_type": "code",
   "execution_count": 10,
   "metadata": {},
   "outputs": [],
   "source": [
    "pred = RNN(x, weights, biases)"
   ]
  },
  {
   "cell_type": "code",
   "execution_count": 11,
   "metadata": {},
   "outputs": [
    {
     "data": {
      "text/plain": [
       "2"
      ]
     },
     "execution_count": 11,
     "metadata": {},
     "output_type": "execute_result"
    }
   ],
   "source": [
    "offset = random.randint(0,n_input+1)\n",
    "offset"
   ]
  },
  {
   "cell_type": "code",
   "execution_count": 12,
   "metadata": {},
   "outputs": [
    {
     "data": {
      "text/plain": [
       "3"
      ]
     },
     "execution_count": 12,
     "metadata": {},
     "output_type": "execute_result"
    }
   ],
   "source": [
    "n_input"
   ]
  },
  {
   "cell_type": "code",
   "execution_count": 13,
   "metadata": {},
   "outputs": [
    {
     "data": {
      "text/plain": [
       "array(['long', 'ago', ',', 'the', 'mice', 'had', 'a', 'general',\n",
       "       'council', 'to', 'consider', 'what', 'measures', 'they', 'could',\n",
       "       'take', 'to', 'outwit', 'their', 'common', 'enemy', ',', 'the',\n",
       "       'cat', '.', 'some', 'said', 'this', ',', 'and', 'some', 'said',\n",
       "       'that', 'but', 'at', 'last', 'a', 'young', 'mouse', 'got', 'up',\n",
       "       'and', 'said', 'he', 'had', 'a', 'proposal', 'to', 'make', ',',\n",
       "       'which', 'he', 'thought', 'would', 'meet', 'the', 'case', '.',\n",
       "       'you', 'will', 'all', 'agree', ',', 'said', 'he', ',', 'that',\n",
       "       'our', 'chief', 'danger', 'consists', 'in', 'the', 'sly', 'and',\n",
       "       'treacherous', 'manner', 'in', 'which', 'the', 'enemy',\n",
       "       'approaches', 'us', '.', 'now', ',', 'if', 'we', 'could',\n",
       "       'receive', 'some', 'signal', 'of', 'her', 'approach', ',', 'we',\n",
       "       'could', 'easily', 'escape', 'from', 'her', '.', 'i', 'venture',\n",
       "       ',', 'therefore', ',', 'to', 'propose', 'that', 'a', 'small',\n",
       "       'bell', 'be', 'procured', ',', 'and', 'attached', 'by', 'a',\n",
       "       'ribbon', 'round', 'the', 'neck', 'of', 'the', 'cat', '.', 'by',\n",
       "       'this', 'means', 'we', 'should', 'always', 'know', 'when', 'she',\n",
       "       'was', 'about', ',', 'and', 'could', 'easily', 'retire', 'while',\n",
       "       'she', 'was', 'in', 'the', 'neighbourhood', '.', 'this',\n",
       "       'proposal', 'met', 'with', 'general', 'applause', ',', 'until',\n",
       "       'an', 'old', 'mouse', 'got', 'up', 'and', 'said', 'that', 'is',\n",
       "       'all', 'very', 'well', ',', 'but', 'who', 'is', 'to', 'bell',\n",
       "       'the', 'cat', '?', 'the', 'mice', 'looked', 'at', 'one', 'another',\n",
       "       'and', 'nobody', 'spoke', '.', 'then', 'the', 'old', 'mouse',\n",
       "       'said', 'it', 'is', 'easy', 'to', 'propose', 'impossible',\n",
       "       'remedies', '.'], dtype='<U13')"
      ]
     },
     "execution_count": 13,
     "metadata": {},
     "output_type": "execute_result"
    }
   ],
   "source": [
    "training_data"
   ]
  },
  {
   "cell_type": "code",
   "execution_count": 14,
   "metadata": {},
   "outputs": [
    {
     "data": {
      "text/plain": [
       "{',': 0,\n",
       " '.': 2,\n",
       " '?': 49,\n",
       " 'a': 6,\n",
       " 'about': 71,\n",
       " 'ago': 73,\n",
       " 'agree': 57,\n",
       " 'all': 34,\n",
       " 'always': 43,\n",
       " 'an': 38,\n",
       " 'and': 3,\n",
       " 'another': 87,\n",
       " 'applause': 69,\n",
       " 'approach': 83,\n",
       " 'approaches': 54,\n",
       " 'at': 20,\n",
       " 'attached': 95,\n",
       " 'be': 109,\n",
       " 'bell': 23,\n",
       " 'but': 33,\n",
       " 'by': 19,\n",
       " 'case': 42,\n",
       " 'cat': 12,\n",
       " 'chief': 80,\n",
       " 'common': 53,\n",
       " 'consider': 48,\n",
       " 'consists': 86,\n",
       " 'could': 7,\n",
       " 'council': 61,\n",
       " 'danger': 100,\n",
       " 'easily': 28,\n",
       " 'easy': 46,\n",
       " 'enemy': 29,\n",
       " 'escape': 101,\n",
       " 'from': 85,\n",
       " 'general': 24,\n",
       " 'got': 32,\n",
       " 'had': 30,\n",
       " 'he': 13,\n",
       " 'her': 36,\n",
       " 'i': 60,\n",
       " 'if': 90,\n",
       " 'impossible': 77,\n",
       " 'in': 9,\n",
       " 'is': 11,\n",
       " 'it': 78,\n",
       " 'know': 45,\n",
       " 'last': 92,\n",
       " 'long': 41,\n",
       " 'looked': 47,\n",
       " 'make': 75,\n",
       " 'manner': 66,\n",
       " 'means': 70,\n",
       " 'measures': 104,\n",
       " 'meet': 44,\n",
       " 'met': 79,\n",
       " 'mice': 18,\n",
       " 'mouse': 16,\n",
       " 'neck': 52,\n",
       " 'neighbourhood': 72,\n",
       " 'nobody': 62,\n",
       " 'now': 76,\n",
       " 'of': 35,\n",
       " 'old': 17,\n",
       " 'one': 98,\n",
       " 'our': 67,\n",
       " 'outwit': 74,\n",
       " 'procured': 108,\n",
       " 'proposal': 26,\n",
       " 'propose': 25,\n",
       " 'receive': 107,\n",
       " 'remedies': 65,\n",
       " 'retire': 96,\n",
       " 'ribbon': 103,\n",
       " 'round': 110,\n",
       " 'said': 4,\n",
       " 'she': 31,\n",
       " 'should': 63,\n",
       " 'signal': 94,\n",
       " 'sly': 40,\n",
       " 'small': 88,\n",
       " 'some': 15,\n",
       " 'spoke': 37,\n",
       " 'take': 50,\n",
       " 'that': 8,\n",
       " 'the': 1,\n",
       " 'their': 105,\n",
       " 'then': 56,\n",
       " 'therefore': 59,\n",
       " 'they': 84,\n",
       " 'this': 10,\n",
       " 'thought': 99,\n",
       " 'to': 5,\n",
       " 'treacherous': 39,\n",
       " 'until': 58,\n",
       " 'up': 21,\n",
       " 'us': 106,\n",
       " 'venture': 89,\n",
       " 'very': 93,\n",
       " 'was': 22,\n",
       " 'we': 14,\n",
       " 'well': 97,\n",
       " 'what': 81,\n",
       " 'when': 68,\n",
       " 'which': 27,\n",
       " 'while': 64,\n",
       " 'who': 55,\n",
       " 'will': 111,\n",
       " 'with': 102,\n",
       " 'would': 51,\n",
       " 'you': 91,\n",
       " 'young': 82}"
      ]
     },
     "execution_count": 14,
     "metadata": {},
     "output_type": "execute_result"
    }
   ],
   "source": [
    "dictionary"
   ]
  },
  {
   "cell_type": "code",
   "execution_count": 15,
   "metadata": {},
   "outputs": [],
   "source": [
    "symbols_in_keys = [[dictionary[ str(training_data[i])]] for i in range(offset, offset+n_input) ]"
   ]
  },
  {
   "cell_type": "code",
   "execution_count": 16,
   "metadata": {},
   "outputs": [
    {
     "data": {
      "text/plain": [
       "[[0], [1], [18]]"
      ]
     },
     "execution_count": 16,
     "metadata": {},
     "output_type": "execute_result"
    }
   ],
   "source": [
    "symbols_in_keys"
   ]
  },
  {
   "cell_type": "code",
   "execution_count": 17,
   "metadata": {},
   "outputs": [],
   "source": [
    "symbols_in_keys = np.reshape(np.array(symbols_in_keys), [-1, n_input, 1])"
   ]
  },
  {
   "cell_type": "code",
   "execution_count": 18,
   "metadata": {},
   "outputs": [
    {
     "data": {
      "text/plain": [
       "array([[[ 0],\n",
       "        [ 1],\n",
       "        [18]]])"
      ]
     },
     "execution_count": 18,
     "metadata": {},
     "output_type": "execute_result"
    }
   ],
   "source": [
    "symbols_in_keys"
   ]
  },
  {
   "cell_type": "code",
   "execution_count": 19,
   "metadata": {},
   "outputs": [],
   "source": [
    "symbols_out_onehot = np.zeros([vocab_size], dtype=float)\n",
    "symbols_out_onehot[dictionary[str(training_data[offset+n_input])]] = 1.0\n",
    "symbols_out_onehot = np.reshape(symbols_out_onehot,[1,-1])"
   ]
  },
  {
   "cell_type": "code",
   "execution_count": 20,
   "metadata": {},
   "outputs": [
    {
     "data": {
      "text/plain": [
       "array([[0., 0., 0., 0., 0., 0., 0., 0., 0., 0., 0., 0., 0., 0., 0., 0.,\n",
       "        0., 0., 0., 0., 0., 0., 0., 0., 0., 0., 0., 0., 0., 0., 1., 0.,\n",
       "        0., 0., 0., 0., 0., 0., 0., 0., 0., 0., 0., 0., 0., 0., 0., 0.,\n",
       "        0., 0., 0., 0., 0., 0., 0., 0., 0., 0., 0., 0., 0., 0., 0., 0.,\n",
       "        0., 0., 0., 0., 0., 0., 0., 0., 0., 0., 0., 0., 0., 0., 0., 0.,\n",
       "        0., 0., 0., 0., 0., 0., 0., 0., 0., 0., 0., 0., 0., 0., 0., 0.,\n",
       "        0., 0., 0., 0., 0., 0., 0., 0., 0., 0., 0., 0., 0., 0., 0., 0.]])"
      ]
     },
     "execution_count": 20,
     "metadata": {},
     "output_type": "execute_result"
    }
   ],
   "source": [
    "symbols_out_onehot"
   ]
  },
  {
   "cell_type": "code",
   "execution_count": 21,
   "metadata": {},
   "outputs": [],
   "source": [
    "xd = symbols_in_keys"
   ]
  },
  {
   "cell_type": "code",
   "execution_count": 22,
   "metadata": {},
   "outputs": [
    {
     "data": {
      "text/plain": [
       "(1, 3, 1)"
      ]
     },
     "execution_count": 22,
     "metadata": {},
     "output_type": "execute_result"
    }
   ],
   "source": [
    "xd.shape"
   ]
  },
  {
   "cell_type": "code",
   "execution_count": 23,
   "metadata": {},
   "outputs": [],
   "source": [
    "# reshape to [1, n_input]\n",
    "xd = tf.reshape(xd, [-1, n_input])"
   ]
  },
  {
   "cell_type": "code",
   "execution_count": 24,
   "metadata": {},
   "outputs": [
    {
     "data": {
      "text/plain": [
       "<tf.Tensor 'Reshape_1:0' shape=(1, 3) dtype=int32>"
      ]
     },
     "execution_count": 24,
     "metadata": {},
     "output_type": "execute_result"
    }
   ],
   "source": [
    "xd"
   ]
  },
  {
   "cell_type": "code",
   "execution_count": 25,
   "metadata": {},
   "outputs": [],
   "source": [
    "# Generate a n_input-element sequence of inputs\n",
    "# (eg. [had] [a] [general] -> [20] [6] [33])\n",
    "xd = tf.split(xd,n_input,1)"
   ]
  },
  {
   "cell_type": "code",
   "execution_count": 26,
   "metadata": {},
   "outputs": [
    {
     "data": {
      "text/plain": [
       "[<tf.Tensor 'split_1:0' shape=(1, 1) dtype=int32>,\n",
       " <tf.Tensor 'split_1:1' shape=(1, 1) dtype=int32>,\n",
       " <tf.Tensor 'split_1:2' shape=(1, 1) dtype=int32>]"
      ]
     },
     "execution_count": 26,
     "metadata": {},
     "output_type": "execute_result"
    }
   ],
   "source": [
    "xd"
   ]
  },
  {
   "cell_type": "code",
   "execution_count": 27,
   "metadata": {},
   "outputs": [
    {
     "name": "stdout",
     "output_type": "stream",
     "text": [
      "WARNING:tensorflow:From <ipython-input-27-a7db46f13d04>:2: softmax_cross_entropy_with_logits (from tensorflow.python.ops.nn_ops) is deprecated and will be removed in a future version.\n",
      "Instructions for updating:\n",
      "\n",
      "Future major versions of TensorFlow will allow gradients to flow\n",
      "into the labels input on backprop by default.\n",
      "\n",
      "See tf.nn.softmax_cross_entropy_with_logits_v2.\n",
      "\n"
     ]
    }
   ],
   "source": [
    "# Loss and optimizer\n",
    "cost = tf.reduce_mean(tf.nn.softmax_cross_entropy_with_logits(logits=pred, labels=y))\n",
    "optimizer = tf.train.RMSPropOptimizer(learning_rate=learning_rate).minimize(cost)\n",
    "\n",
    "# Model evaluation\n",
    "correct_pred = tf.equal(tf.argmax(pred,1), tf.argmax(y,1))\n",
    "accuracy = tf.reduce_mean(tf.cast(correct_pred, tf.float32))\n",
    "\n",
    "# Initializing the variables\n",
    "init = tf.global_variables_initializer()"
   ]
  },
  {
   "cell_type": "code",
   "execution_count": null,
   "metadata": {},
   "outputs": [],
   "source": []
  },
  {
   "cell_type": "code",
   "execution_count": null,
   "metadata": {},
   "outputs": [
    {
     "name": "stdout",
     "output_type": "stream",
     "text": [
      "Iter= 1000, Average Loss= 4.262005, Average Accuracy= 6.20%\n",
      "['to', 'bell', 'the'] - [cat] vs [cat]\n",
      "Iter= 2000, Average Loss= 2.676909, Average Accuracy= 30.80%\n",
      "['in', 'the', 'neighbourhood'] - [.] vs [.]\n",
      "Iter= 3000, Average Loss= 2.578902, Average Accuracy= 34.70%\n",
      "['always', 'know', 'when'] - [she] vs [her]\n",
      "Iter= 4000, Average Loss= 1.830217, Average Accuracy= 51.50%\n",
      "['we', 'should', 'always'] - [know] vs [know]\n",
      "Iter= 5000, Average Loss= 1.726553, Average Accuracy= 56.30%\n",
      "['procured', ',', 'and'] - [attached] vs [could]\n",
      "Iter= 6000, Average Loss= 1.649877, Average Accuracy= 61.10%\n",
      "['of', 'her', 'approach'] - [,] vs [,]\n",
      "Iter= 7000, Average Loss= 1.270723, Average Accuracy= 67.50%\n",
      "['that', 'our', 'chief'] - [danger] vs [common]\n",
      "Iter= 8000, Average Loss= 1.162567, Average Accuracy= 70.70%\n",
      "['proposal', 'to', 'make'] - [,] vs [,]\n",
      "Iter= 9000, Average Loss= 1.150415, Average Accuracy= 70.10%\n",
      "['that', 'but', 'at'] - [last] vs [last]\n",
      "Iter= 10000, Average Loss= 1.026651, Average Accuracy= 75.20%\n",
      "['to', 'outwit', 'their'] - [common] vs [measures]\n",
      "Iter= 11000, Average Loss= 0.938111, Average Accuracy= 77.00%\n",
      "['measures', 'they', 'could'] - [take] vs [the]\n",
      "Iter= 12000, Average Loss= 0.819062, Average Accuracy= 80.20%\n",
      "['said', 'it', 'is'] - [easy] vs [easy]\n",
      "Iter= 13000, Average Loss= 0.818793, Average Accuracy= 80.40%\n",
      "['at', 'one', 'another'] - [and] vs [and]\n",
      "Iter= 14000, Average Loss= 0.694974, Average Accuracy= 84.10%\n",
      "[',', 'but', 'who'] - [is] vs [is]\n",
      "Iter= 15000, Average Loss= 0.627247, Average Accuracy= 84.80%\n",
      "['is', 'all', 'very'] - [well] vs [with]\n",
      "Iter= 16000, Average Loss= 0.789116, Average Accuracy= 80.70%\n",
      "['general', 'applause', ','] - [until] vs [until]\n",
      "Iter= 17000, Average Loss= 0.635561, Average Accuracy= 84.50%\n",
      "['this', 'proposal', 'met'] - [with] vs [with]\n",
      "Iter= 18000, Average Loss= 0.617758, Average Accuracy= 84.60%\n",
      "['neighbourhood', '.', 'this'] - [proposal] vs [proposal]\n",
      "Iter= 19000, Average Loss= 0.519714, Average Accuracy= 86.10%\n",
      "['always', 'know', 'when'] - [she] vs [she]\n",
      "Iter= 20000, Average Loss= 0.578720, Average Accuracy= 84.50%\n",
      "['neck', 'of', 'the'] - [cat] vs [cat]\n",
      "Iter= 21000, Average Loss= 0.572346, Average Accuracy= 85.00%\n",
      "['venture', ',', 'therefore'] - [,] vs [,]\n",
      "Iter= 22000, Average Loss= 0.470679, Average Accuracy= 87.20%\n",
      "['enemy', 'approaches', 'us'] - [.] vs [.]\n",
      "Iter= 23000, Average Loss= 0.461597, Average Accuracy= 88.40%\n",
      "['will', 'all', 'agree'] - [,] vs [,]\n",
      "Iter= 24000, Average Loss= 0.593313, Average Accuracy= 86.80%\n",
      "['said', 'he', 'had'] - [a] vs [a]\n",
      "Iter= 25000, Average Loss= 0.525687, Average Accuracy= 86.70%\n",
      "['this', ',', 'and'] - [some] vs [some]\n",
      "Iter= 26000, Average Loss= 0.589484, Average Accuracy= 86.10%\n",
      "['enemy', ',', 'the'] - [cat] vs [cat]\n",
      "Iter= 27000, Average Loss= 0.409219, Average Accuracy= 89.40%\n",
      "['it', 'is', 'easy'] - [to] vs [to]\n",
      "Iter= 28000, Average Loss= 0.643642, Average Accuracy= 85.60%\n",
      "['bell', 'the', 'cat'] - [?] vs [?]\n",
      "Iter= 29000, Average Loss= 0.541400, Average Accuracy= 87.50%\n",
      "['to', 'bell', 'the'] - [cat] vs [cat]\n",
      "Iter= 30000, Average Loss= 0.440389, Average Accuracy= 90.60%\n",
      "['applause', ',', 'until'] - [an] vs [an]\n",
      "Iter= 31000, Average Loss= 0.422001, Average Accuracy= 90.20%\n",
      "['we', 'should', 'always'] - [know] vs [know]\n",
      "Iter= 32000, Average Loss= 0.371905, Average Accuracy= 90.40%\n",
      "['the', 'neck', 'of'] - [the] vs [the]\n",
      "Iter= 33000, Average Loss= 0.421974, Average Accuracy= 91.20%\n",
      "['procured', ',', 'and'] - [attached] vs [attached]\n",
      "Iter= 34000, Average Loss= 0.284058, Average Accuracy= 92.70%\n",
      "['receive', 'some', 'signal'] - [of] vs [of]\n",
      "Iter= 35000, Average Loss= 0.380843, Average Accuracy= 90.10%\n",
      "['consists', 'in', 'the'] - [sly] vs [sly]\n",
      "Iter= 36000, Average Loss= 0.484189, Average Accuracy= 88.80%\n",
      "['thought', 'would', 'meet'] - [the] vs [the]\n",
      "Iter= 37000, Average Loss= 0.404678, Average Accuracy= 89.90%\n",
      "['.', 'some', 'said'] - [this] vs [this]\n",
      "Iter= 38000, Average Loss= 0.449607, Average Accuracy= 88.90%\n",
      "['to', 'outwit', 'their'] - [common] vs [common]\n",
      "Iter= 39000, Average Loss= 0.300275, Average Accuracy= 92.10%\n",
      "['to', 'propose', 'impossible'] - [remedies] vs [remedies]\n",
      "Iter= 40000, Average Loss= 0.497796, Average Accuracy= 88.40%\n",
      "['?', 'the', 'mice'] - [looked] vs [looked]\n",
      "Iter= 41000, Average Loss= 0.319230, Average Accuracy= 91.30%\n",
      "['until', 'an', 'old'] - [mouse] vs [mouse]\n",
      "Iter= 42000, Average Loss= 0.331243, Average Accuracy= 91.40%\n",
      "['she', 'was', 'in'] - [the] vs [the]\n",
      "Iter= 43000, Average Loss= 0.295894, Average Accuracy= 92.00%\n",
      "[',', 'and', 'could'] - [easily] vs [easily]\n",
      "Iter= 44000, Average Loss= 0.385471, Average Accuracy= 91.00%\n",
      "[',', 'and', 'attached'] - [by] vs [by]\n",
      "Iter= 45000, Average Loss= 0.430659, Average Accuracy= 88.70%\n",
      "['from', 'her', '.'] - [i] vs [i]\n",
      "Iter= 46000, Average Loss= 0.478522, Average Accuracy= 88.20%\n",
      "['if', 'we', 'could'] - [receive] vs [receive]\n",
      "Iter= 47000, Average Loss= 0.478516, Average Accuracy= 88.50%\n",
      "['treacherous', 'manner', 'in'] - [which] vs [which]\n",
      "Iter= 48000, Average Loss= 0.395249, Average Accuracy= 90.20%\n",
      "['will', 'all', 'agree'] - [,] vs [,]\n",
      "Iter= 49000, Average Loss= 0.459879, Average Accuracy= 90.00%\n",
      "['he', 'thought', 'would'] - [meet] vs [know]\n",
      "Iter= 50000, Average Loss= 0.411883, Average Accuracy= 90.90%\n",
      "['and', 'some', 'said'] - [that] vs [that]\n",
      "Optimization Finished!\n",
      "Elapsed time:  25.27999459107717 min\n",
      "Run on command line.\n",
      "\ttensorboard --logdir=/tmp/tensorflow/rnn_words\n",
      "Point your web browser to: http://localhost:6006/\n",
      "3 words: long ago ,\n",
      "long ago , the mice had a general council to consider what measures they in take to outwit their common enemy , the cat . by this means we should always know when , the\n",
      "3 words: her . I\n",
      "Word not in dictionary\n",
      "3 words: her . i\n",
      "her . i the old mouse said it is easy to propose impossible remedies . consists will all agree , said he , that our chief danger consists in take to outwit their common enemy\n",
      "3 words: but who is\n",
      "but who is to bell the cat ? the mice looked at one another and nobody spoke . then the old mouse said it is easy to propose impossible remedies . consists will all agree\n",
      "3 words: until an old\n",
      "until an old about , until an old about , until an old about , until an old about , until an old about , until an old about , until an old about ,\n",
      "3 words: an old mouse\n",
      "an old mouse got up and said that is all very well general applause , until an old about , until an old about , until an old about , until an old about ,\n",
      "3 words: all very\n",
      "3 words: all very well\n",
      "all very well general applause , until an old about , until an old about , until an old about , until an old about , until an old about , until an old about\n",
      "3 words: an old baout\n",
      "Word not in dictionary\n",
      "3 words: an old about\n",
      "an old about , until an old about , until an old about , until an old about , until an old about , until an old about , until an old about , until\n",
      "3 words: old mouse said\n",
      "old mouse said it is easy to propose impossible remedies . consists will all agree , said he , that our chief danger consists in take to outwit their common enemy , the cat .\n",
      "3 words: said he ,\n",
      "said he , that our chief danger consists in take to outwit their common enemy , the cat . by this means we should always know when , the mice had a general council to\n",
      "3 words: general council to\n",
      "general council to consider what measures they in take to outwit their common enemy , the cat . by this means we should always know when , the mice had a general council to consider\n",
      "3 words: they in take\n",
      "they in take to outwit their common enemy , the cat . by this means we should always know when , the mice had a general council to consider what measures they in take to\n"
     ]
    }
   ],
   "source": [
    "# Launch the graph\n",
    "with tf.Session() as session:\n",
    "    session.run(init)\n",
    "    step = 0\n",
    "    offset = random.randint(0,n_input+1)\n",
    "    end_offset = n_input + 1\n",
    "    acc_total = 0\n",
    "    loss_total = 0\n",
    "\n",
    "    writer.add_graph(session.graph)\n",
    "\n",
    "    while step < training_iters:\n",
    "        # Generate a minibatch. Add some randomness on selection process.\n",
    "        if offset > (len(training_data)-end_offset):\n",
    "            offset = random.randint(0, n_input+1)\n",
    "\n",
    "        symbols_in_keys = [ [dictionary[ str(training_data[i])]] for i in range(offset, offset+n_input) ]\n",
    "        symbols_in_keys = np.reshape(np.array(symbols_in_keys), [-1, n_input, 1])\n",
    "\n",
    "        symbols_out_onehot = np.zeros([vocab_size], dtype=float)\n",
    "        symbols_out_onehot[dictionary[str(training_data[offset+n_input])]] = 1.0\n",
    "        symbols_out_onehot = np.reshape(symbols_out_onehot,[1,-1])\n",
    "\n",
    "        _, acc, loss, onehot_pred = session.run([optimizer, accuracy, cost, pred], \\\n",
    "                                                feed_dict={x: symbols_in_keys, y: symbols_out_onehot})\n",
    "        loss_total += loss\n",
    "        acc_total += acc\n",
    "        if (step+1) % display_step == 0:\n",
    "            print(\"Iter= \" + str(step+1) + \", Average Loss= \" + \\\n",
    "                  \"{:.6f}\".format(loss_total/display_step) + \", Average Accuracy= \" + \\\n",
    "                  \"{:.2f}%\".format(100*acc_total/display_step))\n",
    "            acc_total = 0\n",
    "            loss_total = 0\n",
    "            symbols_in = [training_data[i] for i in range(offset, offset + n_input)]\n",
    "            symbols_out = training_data[offset + n_input]\n",
    "            symbols_out_pred = reverse_dictionary[int(tf.argmax(onehot_pred, 1).eval())]\n",
    "            print(\"%s - [%s] vs [%s]\" % (symbols_in,symbols_out,symbols_out_pred))\n",
    "        step += 1\n",
    "        offset += (n_input+1)\n",
    "    print(\"Optimization Finished!\")\n",
    "    print(\"Elapsed time: \", elapsed(time.time() - start_time))\n",
    "    print(\"Run on command line.\")\n",
    "    print(\"\\ttensorboard --logdir=%s\" % (logs_path))\n",
    "    print(\"Point your web browser to: http://localhost:6006/\")\n",
    "    while True:\n",
    "        prompt = \"%s words: \" % n_input\n",
    "        sentence = input(prompt)\n",
    "        sentence = sentence.strip()\n",
    "        words = sentence.split(' ')\n",
    "        if len(words) != n_input:\n",
    "            continue\n",
    "        try:\n",
    "            symbols_in_keys = [dictionary[str(words[i])] for i in range(len(words))]\n",
    "            for i in range(32):\n",
    "                keys = np.reshape(np.array(symbols_in_keys), [-1, n_input, 1])\n",
    "                onehot_pred = session.run(pred, feed_dict={x: keys})\n",
    "                onehot_pred_index = int(tf.argmax(onehot_pred, 1).eval())\n",
    "                sentence = \"%s %s\" % (sentence,reverse_dictionary[onehot_pred_index])\n",
    "                symbols_in_keys = symbols_in_keys[1:]\n",
    "                symbols_in_keys.append(onehot_pred_index)\n",
    "            print(sentence)\n",
    "        except:\n",
    "            print(\"Word not in dictionary\")\n"
   ]
  },
  {
   "cell_type": "code",
   "execution_count": null,
   "metadata": {},
   "outputs": [],
   "source": [
    "prompt = \"%s words: \" % n_input\n",
    "sentence = input(prompt)\n",
    "sentence = sentence.strip()\n",
    "words = sentence.split(' ')"
   ]
  },
  {
   "cell_type": "code",
   "execution_count": null,
   "metadata": {},
   "outputs": [],
   "source": []
  },
  {
   "cell_type": "code",
   "execution_count": null,
   "metadata": {},
   "outputs": [],
   "source": [
    "words"
   ]
  },
  {
   "cell_type": "code",
   "execution_count": null,
   "metadata": {},
   "outputs": [],
   "source": []
  }
 ],
 "metadata": {
  "kernelspec": {
   "display_name": "tensorflow",
   "language": "python",
   "name": "tensorflow"
  },
  "language_info": {
   "codemirror_mode": {
    "name": "ipython",
    "version": 3
   },
   "file_extension": ".py",
   "mimetype": "text/x-python",
   "name": "python",
   "nbconvert_exporter": "python",
   "pygments_lexer": "ipython3",
   "version": "3.5.5"
  }
 },
 "nbformat": 4,
 "nbformat_minor": 2
}
