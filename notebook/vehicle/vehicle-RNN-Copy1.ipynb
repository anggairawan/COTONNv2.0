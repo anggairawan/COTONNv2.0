{
 "cells": [
  {
   "cell_type": "markdown",
   "metadata": {
    "colab_type": "text",
    "id": "kR-4eNdK6lYS"
   },
   "source": [
    "NN on vehicle\n",
    "\n",
    "Fully connected\n"
   ]
  },
  {
   "cell_type": "code",
   "execution_count": 1,
   "metadata": {
    "cellView": "both",
    "colab": {
     "autoexec": {
      "startup": false,
      "wait_interval": 0
     }
    },
    "colab_type": "code",
    "id": "JLpLa8Jt7Vu4"
   },
   "outputs": [],
   "source": [
    "# These are all the modules we'll be using later. Make sure you can import them\n",
    "# before proceeding further.\n",
    "from __future__ import print_function\n",
    "import numpy as np\n",
    "import tensorflow as tf\n",
    "from six.moves import cPickle as pickle\n",
    "from six.moves import range\n",
    "\n",
    "import matplotlib.pyplot as plt\n",
    "# plot param\n",
    "%matplotlib inline\n",
    "plt.rcParams['figure.figsize'] = (28.0, 12.0) # set default size of plots\n",
    "plt.rcParams['image.interpolation'] = 'nearest'\n",
    "plt.rcParams['image.cmap'] = 'gray'\n",
    "plt.style.use('ggplot')"
   ]
  },
  {
   "cell_type": "markdown",
   "metadata": {},
   "source": [
    "First, manipulate the input and output data"
   ]
  },
  {
   "cell_type": "markdown",
   "metadata": {},
   "source": [
    "For now, always assumme that the state represent by single dimension vector\n",
    "in other word it only has one feature.\n",
    "\n",
    "Meanwhile the action size should be check if there is non-determinism in which action the controller should choose (it will influence how the score/loss function will be calculated). For instance, when the state has two ND actions (0 and 1), the loss function of that sample should be zero if the predicted action is action[0] OR action[1]."
   ]
  },
  {
   "cell_type": "markdown",
   "metadata": {},
   "source": [
    "For this vehicle case the input size is one (there is no ND on the actions)."
   ]
  },
  {
   "cell_type": "markdown",
   "metadata": {},
   "source": [
    "The uniqueness of the actions would determine the size of the output layer neuron's size"
   ]
  },
  {
   "cell_type": "code",
   "execution_count": 2,
   "metadata": {},
   "outputs": [],
   "source": [
    "# parse the controller file\n",
    "f = open('vehicle.txt', \"r\")"
   ]
  },
  {
   "cell_type": "code",
   "execution_count": 3,
   "metadata": {},
   "outputs": [],
   "source": [
    "lines = f.readlines()"
   ]
  },
  {
   "cell_type": "code",
   "execution_count": 4,
   "metadata": {},
   "outputs": [],
   "source": [
    "ltrain_dataset = []\n",
    "ltrain_label = []"
   ]
  },
  {
   "cell_type": "code",
   "execution_count": 5,
   "metadata": {},
   "outputs": [],
   "source": [
    "for x in lines:\n",
    "    ltrain_dataset.append(x.split(' ')[0].strip('\\n'))\n",
    "    ltrain_label.append(x.split(' ')[1].strip('\\n'))\n",
    "f.close()"
   ]
  },
  {
   "cell_type": "code",
   "execution_count": 6,
   "metadata": {},
   "outputs": [],
   "source": [
    "train_dataset = np.asarray(ltrain_dataset)\n",
    "train_label = np.asarray(ltrain_label)"
   ]
  },
  {
   "cell_type": "code",
   "execution_count": 7,
   "metadata": {
    "scrolled": true
   },
   "outputs": [],
   "source": [
    "train_dataset = train_dataset.astype(np.float32)\n",
    "train_label = train_label.astype(np.float32)"
   ]
  },
  {
   "cell_type": "code",
   "execution_count": 8,
   "metadata": {},
   "outputs": [
    {
     "data": {
      "text/plain": [
       "(48018,)"
      ]
     },
     "execution_count": 8,
     "metadata": {},
     "output_type": "execute_result"
    }
   ],
   "source": [
    "train_label.shape"
   ]
  },
  {
   "cell_type": "code",
   "execution_count": 9,
   "metadata": {},
   "outputs": [
    {
     "data": {
      "text/plain": [
       "(48018,)"
      ]
     },
     "execution_count": 9,
     "metadata": {},
     "output_type": "execute_result"
    }
   ],
   "source": [
    "train_dataset.shape"
   ]
  },
  {
   "cell_type": "code",
   "execution_count": 10,
   "metadata": {},
   "outputs": [
    {
     "data": {
      "text/plain": [
       "18"
      ]
     },
     "execution_count": 10,
     "metadata": {},
     "output_type": "execute_result"
    }
   ],
   "source": [
    "num_label = len(set(train_label))\n",
    "num_label"
   ]
  },
  {
   "cell_type": "code",
   "execution_count": 11,
   "metadata": {},
   "outputs": [],
   "source": [
    "lcoll_label = sorted(list(set(train_label)))"
   ]
  },
  {
   "cell_type": "code",
   "execution_count": 12,
   "metadata": {},
   "outputs": [
    {
     "data": {
      "text/plain": [
       "[0.0,\n",
       " 1.0,\n",
       " 5.0,\n",
       " 6.0,\n",
       " 7.0,\n",
       " 13.0,\n",
       " 14.0,\n",
       " 20.0,\n",
       " 21.0,\n",
       " 27.0,\n",
       " 28.0,\n",
       " 34.0,\n",
       " 35.0,\n",
       " 41.0,\n",
       " 42.0,\n",
       " 43.0,\n",
       " 47.0,\n",
       " 48.0]"
      ]
     },
     "execution_count": 12,
     "metadata": {},
     "output_type": "execute_result"
    }
   ],
   "source": [
    "lcoll_label"
   ]
  },
  {
   "cell_type": "code",
   "execution_count": 13,
   "metadata": {},
   "outputs": [
    {
     "data": {
      "text/plain": [
       "2"
      ]
     },
     "execution_count": 13,
     "metadata": {},
     "output_type": "execute_result"
    }
   ],
   "source": [
    "lcoll_label.index(5)"
   ]
  },
  {
   "cell_type": "code",
   "execution_count": 14,
   "metadata": {},
   "outputs": [
    {
     "data": {
      "text/plain": [
       "(48018,)"
      ]
     },
     "execution_count": 14,
     "metadata": {},
     "output_type": "execute_result"
    }
   ],
   "source": [
    "train_dataset.shape"
   ]
  },
  {
   "cell_type": "code",
   "execution_count": 15,
   "metadata": {
    "scrolled": true
   },
   "outputs": [
    {
     "data": {
      "text/plain": [
       "(48018,)"
      ]
     },
     "execution_count": 15,
     "metadata": {},
     "output_type": "execute_result"
    }
   ],
   "source": [
    "train_label.shape"
   ]
  },
  {
   "cell_type": "code",
   "execution_count": 16,
   "metadata": {},
   "outputs": [
    {
     "data": {
      "image/png": "[encoded data removed]",
      "text/plain": [
       "<Figure size 432x288 with 1 Axes>"
      ]
     },
     "metadata": {},
     "output_type": "display_data"
    }
   ],
   "source": [
    "plt.plot(train_dataset[:200], train_label[:200], 'r')\n",
    "plt.xlabel('x')\n",
    "plt.ylabel('y')\n",
    "plt.title('title')\n",
    "plt.show()"
   ]
  },
  {
   "cell_type": "code",
   "execution_count": 17,
   "metadata": {
    "scrolled": false
   },
   "outputs": [
    {
     "data": {
      "text/plain": [
       "4"
      ]
     },
     "execution_count": 17,
     "metadata": {},
     "output_type": "execute_result"
    }
   ],
   "source": [
    "lcoll_label.index(train_label[0])"
   ]
  },
  {
   "cell_type": "code",
   "execution_count": 18,
   "metadata": {},
   "outputs": [
    {
     "data": {
      "text/plain": [
       "range(0, 48018)"
      ]
     },
     "execution_count": 18,
     "metadata": {},
     "output_type": "execute_result"
    }
   ],
   "source": [
    "range(train_label.shape[0])"
   ]
  },
  {
   "cell_type": "code",
   "execution_count": 19,
   "metadata": {},
   "outputs": [],
   "source": [
    "train_label_transformed = np.zeros_like(train_label)"
   ]
  },
  {
   "cell_type": "code",
   "execution_count": 20,
   "metadata": {},
   "outputs": [],
   "source": [
    "for i in range(train_label.shape[0]):\n",
    "    train_label_transformed[i] = lcoll_label.index(train_label[i])"
   ]
  },
  {
   "cell_type": "code",
   "execution_count": 21,
   "metadata": {},
   "outputs": [
    {
     "data": {
      "text/plain": [
       "array([ 4., 13., 17., ..., 15., 15.,  2.], dtype=float32)"
      ]
     },
     "execution_count": 21,
     "metadata": {},
     "output_type": "execute_result"
    }
   ],
   "source": [
    "train_label_transformed"
   ]
  },
  {
   "cell_type": "code",
   "execution_count": 22,
   "metadata": {},
   "outputs": [
    {
     "data": {
      "text/plain": [
       "array([  147.,   150.,   151., ..., 90665., 90666., 90667.], dtype=float32)"
      ]
     },
     "execution_count": 22,
     "metadata": {},
     "output_type": "execute_result"
    }
   ],
   "source": [
    "train_dataset"
   ]
  },
  {
   "cell_type": "code",
   "execution_count": 23,
   "metadata": {},
   "outputs": [
    {
     "data": {
      "text/plain": [
       "18"
      ]
     },
     "execution_count": 23,
     "metadata": {},
     "output_type": "execute_result"
    }
   ],
   "source": [
    "len(lcoll_label)"
   ]
  },
  {
   "cell_type": "code",
   "execution_count": 24,
   "metadata": {},
   "outputs": [],
   "source": [
    "train_label_hot = (np.arange(len(lcoll_label)) == train_label_transformed[:, None]).astype(np.float32)"
   ]
  },
  {
   "cell_type": "code",
   "execution_count": 25,
   "metadata": {
    "scrolled": true
   },
   "outputs": [
    {
     "data": {
      "text/plain": [
       "(48018, 18)"
      ]
     },
     "execution_count": 25,
     "metadata": {},
     "output_type": "execute_result"
    }
   ],
   "source": [
    "train_label_hot.shape"
   ]
  },
  {
   "cell_type": "code",
   "execution_count": 26,
   "metadata": {},
   "outputs": [
    {
     "data": {
      "text/plain": [
       "array([0., 0., 0., 0., 1., 0., 0., 0., 0., 0., 0., 0., 0., 0., 0., 0., 0.,\n",
       "       0.], dtype=float32)"
      ]
     },
     "execution_count": 26,
     "metadata": {},
     "output_type": "execute_result"
    }
   ],
   "source": [
    "train_label_hot[0]"
   ]
  },
  {
   "cell_type": "code",
   "execution_count": 27,
   "metadata": {},
   "outputs": [],
   "source": [
    "train_dataset_reform = train_dataset[:, None]"
   ]
  },
  {
   "cell_type": "markdown",
   "metadata": {},
   "source": [
    "Logistic Regression"
   ]
  },
  {
   "cell_type": "code",
   "execution_count": 28,
   "metadata": {},
   "outputs": [],
   "source": [
    "# With gradient descent training, even this much data is prohibitive.\n",
    "# Subset the training data for faster turnaround.\n",
    "# train_subset = 10000\n",
    "\n",
    "graph = tf.Graph()\n",
    "with graph.as_default():\n",
    "\n",
    "  # Input data.\n",
    "  # Load the training, validation and test data into constants that are\n",
    "  # attached to the graph.\n",
    "  tf_train_dataset = tf.constant(train_dataset_reform)\n",
    "  tf_train_labels = tf.constant(train_label_hot)\n",
    "  \n",
    "  # Variables.\n",
    "  # These are the parameters that we are going to be training. The weight\n",
    "  # matrix will be initialized using random values following a (truncated)\n",
    "  # normal distribution. The biases get initialized to zero.\n",
    "  weights = tf.Variable(tf.truncated_normal([1 , num_label]))\n",
    "  biases = tf.Variable(tf.zeros([num_label]))\n",
    "  \n",
    "  # Training computation.\n",
    "  # We multiply the inputs with the weight matrix, and add biases. We compute\n",
    "  # the softmax and cross-entropy (it's one operation in TensorFlow, because\n",
    "  # it's very common, and it can be optimized). We take the average of this\n",
    "  # cross-entropy across all training examples: that's our loss.\n",
    "  logits = tf.matmul(tf_train_dataset, weights) + biases\n",
    "  loss = tf.reduce_mean(\n",
    "      tf.nn.softmax_cross_entropy_with_logits_v2(labels=tf_train_labels, logits=logits))\n",
    "  \n",
    "  # Optimizer.\n",
    "  # We are going to find the minimum of this loss using gradient descent.\n",
    "  optimizer = tf.train.GradientDescentOptimizer(0.1).minimize(loss)\n",
    "  \n",
    "  # Predictions for the training, validation, and test data.\n",
    "  # These are not part of training, but merely here so that we can report\n",
    "  # accuracy figures as we train.\n",
    "  train_prediction = tf.nn.softmax(logits)\n",
    "  # valid_prediction = tf.nn.softmax(tf.matmul(tf_valid_dataset, weights) + biases)\n",
    "  # test_prediction = tf.nn.softmax(tf.matmul(tf_test_dataset, weights) + biases)"
   ]
  },
  {
   "cell_type": "code",
   "execution_count": 29,
   "metadata": {},
   "outputs": [],
   "source": [
    "def accuracy(predictions, labels):\n",
    "  return (100.0 * np.sum(np.argmax(predictions, 1) == np.argmax(labels, 1))\n",
    "          / predictions.shape[0])"
   ]
  },
  {
   "cell_type": "code",
   "execution_count": 30,
   "metadata": {},
   "outputs": [
    {
     "name": "stdout",
     "output_type": "stream",
     "text": [
      "Initialized\n",
      "Loss at step 0: 89001.804688\n",
      "Training accuracy: 0.1%\n",
      "Loss at step 100: 111318064.000000\n",
      "Training accuracy: 7.5%\n",
      "Loss at step 200: 90963432.000000\n",
      "Training accuracy: 19.2%\n",
      "Loss at step 300: 76106392.000000\n",
      "Training accuracy: 3.7%\n",
      "Loss at step 400: 86101768.000000\n",
      "Training accuracy: 15.2%\n",
      "Loss at step 500: 124001056.000000\n",
      "Training accuracy: 15.5%\n",
      "Loss at step 600: 118513064.000000\n",
      "Training accuracy: 19.2%\n",
      "Loss at step 700: 81590240.000000\n",
      "Training accuracy: 7.9%\n",
      "Loss at step 800: 77480928.000000\n",
      "Training accuracy: 7.5%\n",
      "Loss at step 900: 106734560.000000\n",
      "Training accuracy: 13.2%\n"
     ]
    }
   ],
   "source": [
    "num_steps = 1000\n",
    "\n",
    "with tf.Session(graph=graph) as session:\n",
    "  # This is a one-time operation which ensures the parameters get initialized as\n",
    "  # we described in the graph: random weights for the matrix, zeros for the\n",
    "  # biases. \n",
    "  tf.global_variables_initializer().run()\n",
    "  print('Initialized')\n",
    "  for step in range(num_steps):\n",
    "    # Run the computations. We tell .run() that we want to run the optimizer,\n",
    "    # and get the loss value and the training predictions returned as numpy\n",
    "    # arrays.\n",
    "    _, l, predictions = session.run([optimizer, loss, train_prediction])\n",
    "    if (step % 100 == 0):\n",
    "      print('Loss at step %d: %f' % (step, l))\n",
    "      print('Training accuracy: %.1f%%' % accuracy(predictions, train_label_hot))\n",
    "      # Calling .eval() on valid_prediction is basically like calling run(), but\n",
    "      # just to get that one numpy array. Note that it recomputes all its graph\n",
    "      # dependencies.\n",
    "      #print('Validation accuracy: %.1f%%' % accuracy(valid_prediction.eval(), valid_labels))\n",
    "  #print('Test accuracy: %.1f%%' % accuracy(test_prediction.eval(), test_labels))"
   ]
  },
  {
   "cell_type": "markdown",
   "metadata": {
    "colab_type": "text",
    "id": "7omWxtvLLxik"
   },
   "source": [
    "---\n",
    "Next step\n",
    "-------\n",
    "\n",
    "Turn the logistic regression example with SGD into a n-hidden layer neural network with rectified linear units [nn.relu()](https://www.tensorflow.org/versions/r0.7/api_docs/python/nn.html#relu) and k hidden nodes. This model should improve your validation / test accuracy.\n",
    "\n",
    "---"
   ]
  },
  {
   "cell_type": "code",
   "execution_count": 31,
   "metadata": {},
   "outputs": [
    {
     "data": {
      "text/plain": [
       "(48018, 1)"
      ]
     },
     "execution_count": 31,
     "metadata": {},
     "output_type": "execute_result"
    }
   ],
   "source": [
    "train_dataset_reform.shape"
   ]
  },
  {
   "cell_type": "code",
   "execution_count": 32,
   "metadata": {},
   "outputs": [
    {
     "data": {
      "text/plain": [
       "(48018, 18)"
      ]
     },
     "execution_count": 32,
     "metadata": {},
     "output_type": "execute_result"
    }
   ],
   "source": [
    "train_label_hot.shape"
   ]
  },
  {
   "cell_type": "code",
   "execution_count": 33,
   "metadata": {},
   "outputs": [],
   "source": [
    "num_samples = train_label_hot.shape[0]"
   ]
  },
  {
   "cell_type": "code",
   "execution_count": 34,
   "metadata": {},
   "outputs": [
    {
     "data": {
      "text/plain": [
       "48018"
      ]
     },
     "execution_count": 34,
     "metadata": {},
     "output_type": "execute_result"
    }
   ],
   "source": [
    "num_samples"
   ]
  },
  {
   "cell_type": "code",
   "execution_count": 35,
   "metadata": {},
   "outputs": [
    {
     "data": {
      "text/plain": [
       "2667.6666666666665"
      ]
     },
     "execution_count": 35,
     "metadata": {},
     "output_type": "execute_result"
    }
   ],
   "source": [
    "num_samples/num_label"
   ]
  },
  {
   "cell_type": "code",
   "execution_count": 36,
   "metadata": {},
   "outputs": [],
   "source": [
    "batch_size = int(num_samples)\n",
    "hidden_size = 1024\n",
    "hidden_size2 = 512\n",
    "hidden_size3 = 18\n",
    "\n",
    "# graph = tf.Graph()\n",
    "# with graph.as_default():\n",
    "# Input data. For the training data, we use a placeholder that will be fed\n",
    "# at run time with a training minibatch.\n",
    "tf_train_dataset = tf.placeholder(tf.float32, shape=(batch_size, 1))\n",
    "tf_train_labels = tf.placeholder(tf.float32, shape=(batch_size, num_label))\n",
    "\n",
    "# Variables.\n",
    "weights1 = tf.Variable(tf.truncated_normal([1, hidden_size]))\n",
    "biases1 = tf.Variable(tf.zeros([hidden_size]))\n",
    "\n",
    "weights2 = tf.Variable(tf.truncated_normal([hidden_size, hidden_size2]))\n",
    "# biases2 = tf.Variable(tf.zeros([num_label]))\n",
    "biases2 = tf.Variable(tf.zeros([hidden_size2]))\n",
    "\n",
    "weights3 = tf.Variable(tf.truncated_normal([hidden_size2, hidden_size3]))\n",
    "biases3 = tf.Variable(tf.zeros([hidden_size3]))\n",
    "\n",
    "weights4 = tf.Variable(tf.truncated_normal([hidden_size3, num_label]))\n",
    "biases4 = tf.Variable(tf.zeros([num_label]))\n",
    "\n",
    "# Training computation.\n",
    "logits1 = tf.matmul(tf_train_dataset, weights1) + biases1  \n",
    "relu_act_func = tf.nn.relu(logits1)\n",
    "logits2 = tf.matmul(relu_act_func, weights2) + biases2\n",
    "\n",
    "relu_act_func2 = tf.nn.relu(logits2)\n",
    "logits3 = tf.matmul(relu_act_func2, weights3) + biases3\n",
    "\n",
    "relu_act_func3 = tf.nn.relu(logits3)\n",
    "logits4 = tf.matmul(relu_act_func3, weights4) + biases4\n",
    "\n",
    "# loss = tf.reduce_mean(tf.losses.absolute_difference(labels=tf_train_labels, predictions=train_prediction))\n",
    "loss = tf.reduce_mean(\n",
    "    tf.nn.softmax_cross_entropy_with_logits_v2(labels=tf_train_labels, logits=logits4))\n",
    "\n",
    "loss_summary = tf.summary.scalar('loss', loss)\n",
    "\n",
    "# Optimizer.\n",
    "#optimizer = tf.train.GradientDescentOptimizer(0.0001).minimize(loss)\n",
    "optimizer = tf.train.AdamOptimizer(0.3).minimize(loss)\n",
    "\n",
    "# Predictions for the training, validation, and test data.\n",
    "train_prediction = tf.nn.softmax(logits4)\n",
    "# writer = tf.summary.FileWriter('./vehicle', tf.get_default_graph())"
   ]
  },
  {
   "cell_type": "code",
   "execution_count": 37,
   "metadata": {},
   "outputs": [
    {
     "data": {
      "text/plain": [
       "48018"
      ]
     },
     "execution_count": 37,
     "metadata": {},
     "output_type": "execute_result"
    }
   ],
   "source": [
    "batch_size"
   ]
  },
  {
   "cell_type": "code",
   "execution_count": 38,
   "metadata": {},
   "outputs": [
    {
     "data": {
      "text/plain": [
       "1.0"
      ]
     },
     "execution_count": 38,
     "metadata": {},
     "output_type": "execute_result"
    }
   ],
   "source": [
    "iteration_one_epoch = np.floor(num_samples / batch_size)\n",
    "iteration_one_epoch"
   ]
  },
  {
   "cell_type": "code",
   "execution_count": 39,
   "metadata": {},
   "outputs": [
    {
     "name": "stdout",
     "output_type": "stream",
     "text": [
      "Initialized\n",
      "Minibatch loss at step 0: 39093880.000000\n",
      "Minibatch accuracy: 2.7%\n",
      "Minibatch loss at step 1: 366309216.000000\n",
      "Minibatch accuracy: 0.1%\n",
      "Minibatch loss at step 2: 841069248.000000\n",
      "Minibatch accuracy: 3.7%\n",
      "Minibatch loss at step 3: 556619712.000000\n",
      "Minibatch accuracy: 15.5%\n",
      "Minibatch loss at step 4: 297433504.000000\n",
      "Minibatch accuracy: 15.2%\n",
      "Minibatch loss at step 5: 369884000.000000\n",
      "Minibatch accuracy: 3.1%\n",
      "Minibatch loss at step 6: 210125392.000000\n",
      "Minibatch accuracy: 1.3%\n",
      "Minibatch loss at step 7: 56302388.000000\n",
      "Minibatch accuracy: 13.2%\n",
      "Minibatch loss at step 8: 3.215004\n",
      "Minibatch accuracy: 19.2%\n",
      "Minibatch loss at step 9: 980650.937500\n",
      "Minibatch accuracy: 3.7%\n",
      "Minibatch loss at step 10: 3.168487\n",
      "Minibatch accuracy: 19.2%\n",
      "Minibatch loss at step 11: 1012455.375000\n",
      "Minibatch accuracy: 0.4%\n",
      "Minibatch loss at step 12: 3.131607\n",
      "Minibatch accuracy: 19.2%\n",
      "Minibatch loss at step 13: 3.113926\n",
      "Minibatch accuracy: 19.2%\n",
      "Minibatch loss at step 14: 3.087184\n",
      "Minibatch accuracy: 19.2%\n",
      "Minibatch loss at step 15: 3.053509\n",
      "Minibatch accuracy: 19.2%\n",
      "Minibatch loss at step 16: 3.013611\n",
      "Minibatch accuracy: 19.2%\n",
      "Minibatch loss at step 17: 1664.578003\n",
      "Minibatch accuracy: 2.7%\n",
      "Minibatch loss at step 18: 2.942914\n",
      "Minibatch accuracy: 19.2%\n",
      "Minibatch loss at step 19: 2.906349\n",
      "Minibatch accuracy: 19.2%\n",
      "Minibatch loss at step 20: 2.857178\n",
      "Minibatch accuracy: 19.2%\n",
      "Minibatch loss at step 21: 2.798018\n",
      "Minibatch accuracy: 19.2%\n",
      "Minibatch loss at step 22: 2.733319\n",
      "Minibatch accuracy: 19.2%\n",
      "Minibatch loss at step 23: 2.668631\n",
      "Minibatch accuracy: 19.2%\n",
      "Minibatch loss at step 24: 2.609562\n",
      "Minibatch accuracy: 19.2%\n",
      "Minibatch loss at step 25: 2.561183\n",
      "Minibatch accuracy: 19.2%\n",
      "Minibatch loss at step 26: 2.526695\n",
      "Minibatch accuracy: 19.2%\n",
      "Minibatch loss at step 27: 2.507530\n",
      "Minibatch accuracy: 19.2%\n",
      "Minibatch loss at step 28: 2.502586\n",
      "Minibatch accuracy: 19.2%\n",
      "Minibatch loss at step 29: 2.508869\n",
      "Minibatch accuracy: 15.2%\n",
      "Minibatch loss at step 30: 2.522326\n",
      "Minibatch accuracy: 15.2%\n",
      "Minibatch loss at step 31: 2.539181\n",
      "Minibatch accuracy: 15.2%\n",
      "Minibatch loss at step 32: 2.555452\n",
      "Minibatch accuracy: 15.2%\n",
      "Minibatch loss at step 33: 2.568292\n",
      "Minibatch accuracy: 15.5%\n",
      "Minibatch loss at step 34: 2.575960\n",
      "Minibatch accuracy: 15.5%\n",
      "Minibatch loss at step 35: 2.577750\n",
      "Minibatch accuracy: 15.5%\n",
      "Minibatch loss at step 36: 2.573432\n",
      "Minibatch accuracy: 15.5%\n",
      "Minibatch loss at step 37: 2.563911\n",
      "Minibatch accuracy: 15.5%\n",
      "Minibatch loss at step 38: 2.550238\n",
      "Minibatch accuracy: 15.5%\n",
      "Minibatch loss at step 39: 2.533954\n",
      "Minibatch accuracy: 15.5%\n",
      "Minibatch loss at step 40: 2.516664\n",
      "Minibatch accuracy: 15.5%\n",
      "Minibatch loss at step 41: 2.500019\n",
      "Minibatch accuracy: 15.5%\n",
      "Minibatch loss at step 42: 2.485041\n",
      "Minibatch accuracy: 15.5%\n",
      "Minibatch loss at step 43: 2.472755\n",
      "Minibatch accuracy: 15.5%\n",
      "Minibatch loss at step 44: 2.463732\n",
      "Minibatch accuracy: 15.5%\n",
      "Minibatch loss at step 45: 2.457501\n",
      "Minibatch accuracy: 19.2%\n",
      "Minibatch loss at step 46: 2.453945\n",
      "Minibatch accuracy: 19.2%\n",
      "Minibatch loss at step 47: 2.452379\n",
      "Minibatch accuracy: 19.2%\n",
      "Minibatch loss at step 48: 2.451737\n",
      "Minibatch accuracy: 19.2%\n",
      "Minibatch loss at step 49: 2.451415\n",
      "Minibatch accuracy: 19.2%\n"
     ]
    }
   ],
   "source": [
    "# MINIBATCH GRADIENT DESCENT\n",
    "loss_history = []\n",
    "num_steps = int(iteration_one_epoch*50)\n",
    "\n",
    "with tf.Session() as session:\n",
    "#with tf.Session(graph=graph) as session:\n",
    "  tf.global_variables_initializer().run()\n",
    "  print(\"Initialized\")\n",
    "  for step in range(num_steps):\n",
    "    # Pick an offset within the training data, which has been randomized.\n",
    "    # Note: we could use better randomization across epochs.\n",
    "    #offset = (step * batch_size) % (train_label_hot.shape[0] - batch_size)\n",
    "    # Generate a minibatch.\n",
    "    #batch_data = train_dataset_reform[offset:(offset + batch_size), :]\n",
    "    #batch_labels = train_label_hot[offset:(offset + batch_size), :]\n",
    "    batch_data = train_dataset_reform\n",
    "    batch_labels = train_label_hot\n",
    "    \n",
    "    # Prepare a dictionary telling the session where to feed the minibatch.\n",
    "    # The key of the dictionary is the placeholder node of the graph to be fed,\n",
    "    # and the value is the numpy array to feed to it.\n",
    "    feed_dict = {tf_train_dataset : batch_data, tf_train_labels : batch_labels}\n",
    "    _, l, predictions, added_summary = session.run(\n",
    "        [optimizer, loss, train_prediction, loss_summary], feed_dict=feed_dict)\n",
    "    \n",
    "    # writer.add_summary(added_summary)\n",
    "    loss_history.append(l)\n",
    "    \n",
    "    # if (step % iteration_one_epoch == 0):\n",
    "    print(\"Minibatch loss at step %d: %f\" % (step, l))\n",
    "    print(\"Minibatch accuracy: %.1f%%\" % accuracy(predictions, batch_labels))\n",
    "    # print(\"Validation accuracy: %.1f%%\" % accuracy(valid_prediction.eval(), valid_labels))\n",
    "    # print(\"Test accuracy: %.1f%%\" % accuracy(test_prediction.eval(), test_labels))"
   ]
  },
  {
   "cell_type": "code",
   "execution_count": 46,
   "metadata": {},
   "outputs": [
    {
     "data": {
      "text/plain": [
       "48018"
      ]
     },
     "execution_count": 46,
     "metadata": {},
     "output_type": "execute_result"
    }
   ],
   "source": [
    "np.sum(np.argmax(predictions,1) == 17)"
   ]
  },
  {
   "cell_type": "markdown",
   "metadata": {},
   "source": [
    "RNN"
   ]
  },
  {
   "cell_type": "code",
   "execution_count": 47,
   "metadata": {},
   "outputs": [
    {
     "data": {
      "text/plain": [
       "48018"
      ]
     },
     "execution_count": 47,
     "metadata": {},
     "output_type": "execute_result"
    }
   ],
   "source": [
    "num_samples"
   ]
  },
  {
   "cell_type": "code",
   "execution_count": 48,
   "metadata": {},
   "outputs": [
    {
     "data": {
      "text/plain": [
       "18"
      ]
     },
     "execution_count": 48,
     "metadata": {},
     "output_type": "execute_result"
    }
   ],
   "source": [
    "num_label"
   ]
  },
  {
   "cell_type": "code",
   "execution_count": 49,
   "metadata": {},
   "outputs": [
    {
     "data": {
      "text/plain": [
       "453.0"
      ]
     },
     "execution_count": 49,
     "metadata": {},
     "output_type": "execute_result"
    }
   ],
   "source": [
    "num_samples/53/2"
   ]
  },
  {
   "cell_type": "code",
   "execution_count": 50,
   "metadata": {},
   "outputs": [],
   "source": [
    "num_epochs = 15\n",
    "total_series_length = num_samples\n",
    "truncated_backprop_length = 53\n",
    "state_size = 1\n",
    "num_classes = num_label\n",
    "batch_size = 2\n",
    "num_batches = total_series_length//batch_size//truncated_backprop_length"
   ]
  },
  {
   "cell_type": "code",
   "execution_count": 51,
   "metadata": {},
   "outputs": [],
   "source": [
    "# computational graph input, output, initial state\n",
    "batchX_placeholder = tf.placeholder(tf.float32, [batch_size, truncated_backprop_length])\n",
    "batchY_placeholder = tf.placeholder(tf.float32, [batch_size, truncated_backprop_length, num_classes])\n",
    "init_state = tf.placeholder(tf.float32, [batch_size, state_size])"
   ]
  },
  {
   "cell_type": "code",
   "execution_count": 52,
   "metadata": {},
   "outputs": [],
   "source": [
    "# weights and biases\n",
    "# input(k) + hidden state(k-1) to state(k)\n",
    "W = tf.Variable(np.random.rand(state_size+1, state_size), dtype=tf.float32)\n",
    "b = tf.Variable(np.zeros((1,state_size)), dtype=tf.float32)\n",
    "# hidden state to output\n",
    "W2 = tf.Variable(np.random.rand(state_size, num_classes),dtype=tf.float32)\n",
    "b2 = tf.Variable(np.zeros((1,num_classes)), dtype=tf.float32)"
   ]
  },
  {
   "cell_type": "code",
   "execution_count": 53,
   "metadata": {},
   "outputs": [],
   "source": [
    "# Unpack columns/slice each column (batch_size x truncated_backprop_length) -> (batch_sizex1) x tbl  \n",
    "inputs_series = tf.unstack(batchX_placeholder, axis=1)\n",
    "labels_series = tf.unstack(batchY_placeholder, axis=1)"
   ]
  },
  {
   "cell_type": "code",
   "execution_count": 54,
   "metadata": {},
   "outputs": [
    {
     "data": {
      "text/plain": [
       "[<tf.Tensor 'unstack:0' shape=(2,) dtype=float32>,\n",
       " <tf.Tensor 'unstack:1' shape=(2,) dtype=float32>,\n",
       " <tf.Tensor 'unstack:2' shape=(2,) dtype=float32>,\n",
       " <tf.Tensor 'unstack:3' shape=(2,) dtype=float32>,\n",
       " <tf.Tensor 'unstack:4' shape=(2,) dtype=float32>,\n",
       " <tf.Tensor 'unstack:5' shape=(2,) dtype=float32>,\n",
       " <tf.Tensor 'unstack:6' shape=(2,) dtype=float32>,\n",
       " <tf.Tensor 'unstack:7' shape=(2,) dtype=float32>,\n",
       " <tf.Tensor 'unstack:8' shape=(2,) dtype=float32>,\n",
       " <tf.Tensor 'unstack:9' shape=(2,) dtype=float32>,\n",
       " <tf.Tensor 'unstack:10' shape=(2,) dtype=float32>,\n",
       " <tf.Tensor 'unstack:11' shape=(2,) dtype=float32>,\n",
       " <tf.Tensor 'unstack:12' shape=(2,) dtype=float32>,\n",
       " <tf.Tensor 'unstack:13' shape=(2,) dtype=float32>,\n",
       " <tf.Tensor 'unstack:14' shape=(2,) dtype=float32>,\n",
       " <tf.Tensor 'unstack:15' shape=(2,) dtype=float32>,\n",
       " <tf.Tensor 'unstack:16' shape=(2,) dtype=float32>,\n",
       " <tf.Tensor 'unstack:17' shape=(2,) dtype=float32>,\n",
       " <tf.Tensor 'unstack:18' shape=(2,) dtype=float32>,\n",
       " <tf.Tensor 'unstack:19' shape=(2,) dtype=float32>,\n",
       " <tf.Tensor 'unstack:20' shape=(2,) dtype=float32>,\n",
       " <tf.Tensor 'unstack:21' shape=(2,) dtype=float32>,\n",
       " <tf.Tensor 'unstack:22' shape=(2,) dtype=float32>,\n",
       " <tf.Tensor 'unstack:23' shape=(2,) dtype=float32>,\n",
       " <tf.Tensor 'unstack:24' shape=(2,) dtype=float32>,\n",
       " <tf.Tensor 'unstack:25' shape=(2,) dtype=float32>,\n",
       " <tf.Tensor 'unstack:26' shape=(2,) dtype=float32>,\n",
       " <tf.Tensor 'unstack:27' shape=(2,) dtype=float32>,\n",
       " <tf.Tensor 'unstack:28' shape=(2,) dtype=float32>,\n",
       " <tf.Tensor 'unstack:29' shape=(2,) dtype=float32>,\n",
       " <tf.Tensor 'unstack:30' shape=(2,) dtype=float32>,\n",
       " <tf.Tensor 'unstack:31' shape=(2,) dtype=float32>,\n",
       " <tf.Tensor 'unstack:32' shape=(2,) dtype=float32>,\n",
       " <tf.Tensor 'unstack:33' shape=(2,) dtype=float32>,\n",
       " <tf.Tensor 'unstack:34' shape=(2,) dtype=float32>,\n",
       " <tf.Tensor 'unstack:35' shape=(2,) dtype=float32>,\n",
       " <tf.Tensor 'unstack:36' shape=(2,) dtype=float32>,\n",
       " <tf.Tensor 'unstack:37' shape=(2,) dtype=float32>,\n",
       " <tf.Tensor 'unstack:38' shape=(2,) dtype=float32>,\n",
       " <tf.Tensor 'unstack:39' shape=(2,) dtype=float32>,\n",
       " <tf.Tensor 'unstack:40' shape=(2,) dtype=float32>,\n",
       " <tf.Tensor 'unstack:41' shape=(2,) dtype=float32>,\n",
       " <tf.Tensor 'unstack:42' shape=(2,) dtype=float32>,\n",
       " <tf.Tensor 'unstack:43' shape=(2,) dtype=float32>,\n",
       " <tf.Tensor 'unstack:44' shape=(2,) dtype=float32>,\n",
       " <tf.Tensor 'unstack:45' shape=(2,) dtype=float32>,\n",
       " <tf.Tensor 'unstack:46' shape=(2,) dtype=float32>,\n",
       " <tf.Tensor 'unstack:47' shape=(2,) dtype=float32>,\n",
       " <tf.Tensor 'unstack:48' shape=(2,) dtype=float32>,\n",
       " <tf.Tensor 'unstack:49' shape=(2,) dtype=float32>,\n",
       " <tf.Tensor 'unstack:50' shape=(2,) dtype=float32>,\n",
       " <tf.Tensor 'unstack:51' shape=(2,) dtype=float32>,\n",
       " <tf.Tensor 'unstack:52' shape=(2,) dtype=float32>]"
      ]
     },
     "execution_count": 54,
     "metadata": {},
     "output_type": "execute_result"
    }
   ],
   "source": [
    "inputs_series"
   ]
  },
  {
   "cell_type": "code",
   "execution_count": 55,
   "metadata": {},
   "outputs": [
    {
     "data": {
      "text/plain": [
       "[<tf.Tensor 'unstack_1:0' shape=(2, 18) dtype=float32>,\n",
       " <tf.Tensor 'unstack_1:1' shape=(2, 18) dtype=float32>,\n",
       " <tf.Tensor 'unstack_1:2' shape=(2, 18) dtype=float32>,\n",
       " <tf.Tensor 'unstack_1:3' shape=(2, 18) dtype=float32>,\n",
       " <tf.Tensor 'unstack_1:4' shape=(2, 18) dtype=float32>,\n",
       " <tf.Tensor 'unstack_1:5' shape=(2, 18) dtype=float32>,\n",
       " <tf.Tensor 'unstack_1:6' shape=(2, 18) dtype=float32>,\n",
       " <tf.Tensor 'unstack_1:7' shape=(2, 18) dtype=float32>,\n",
       " <tf.Tensor 'unstack_1:8' shape=(2, 18) dtype=float32>,\n",
       " <tf.Tensor 'unstack_1:9' shape=(2, 18) dtype=float32>,\n",
       " <tf.Tensor 'unstack_1:10' shape=(2, 18) dtype=float32>,\n",
       " <tf.Tensor 'unstack_1:11' shape=(2, 18) dtype=float32>,\n",
       " <tf.Tensor 'unstack_1:12' shape=(2, 18) dtype=float32>,\n",
       " <tf.Tensor 'unstack_1:13' shape=(2, 18) dtype=float32>,\n",
       " <tf.Tensor 'unstack_1:14' shape=(2, 18) dtype=float32>,\n",
       " <tf.Tensor 'unstack_1:15' shape=(2, 18) dtype=float32>,\n",
       " <tf.Tensor 'unstack_1:16' shape=(2, 18) dtype=float32>,\n",
       " <tf.Tensor 'unstack_1:17' shape=(2, 18) dtype=float32>,\n",
       " <tf.Tensor 'unstack_1:18' shape=(2, 18) dtype=float32>,\n",
       " <tf.Tensor 'unstack_1:19' shape=(2, 18) dtype=float32>,\n",
       " <tf.Tensor 'unstack_1:20' shape=(2, 18) dtype=float32>,\n",
       " <tf.Tensor 'unstack_1:21' shape=(2, 18) dtype=float32>,\n",
       " <tf.Tensor 'unstack_1:22' shape=(2, 18) dtype=float32>,\n",
       " <tf.Tensor 'unstack_1:23' shape=(2, 18) dtype=float32>,\n",
       " <tf.Tensor 'unstack_1:24' shape=(2, 18) dtype=float32>,\n",
       " <tf.Tensor 'unstack_1:25' shape=(2, 18) dtype=float32>,\n",
       " <tf.Tensor 'unstack_1:26' shape=(2, 18) dtype=float32>,\n",
       " <tf.Tensor 'unstack_1:27' shape=(2, 18) dtype=float32>,\n",
       " <tf.Tensor 'unstack_1:28' shape=(2, 18) dtype=float32>,\n",
       " <tf.Tensor 'unstack_1:29' shape=(2, 18) dtype=float32>,\n",
       " <tf.Tensor 'unstack_1:30' shape=(2, 18) dtype=float32>,\n",
       " <tf.Tensor 'unstack_1:31' shape=(2, 18) dtype=float32>,\n",
       " <tf.Tensor 'unstack_1:32' shape=(2, 18) dtype=float32>,\n",
       " <tf.Tensor 'unstack_1:33' shape=(2, 18) dtype=float32>,\n",
       " <tf.Tensor 'unstack_1:34' shape=(2, 18) dtype=float32>,\n",
       " <tf.Tensor 'unstack_1:35' shape=(2, 18) dtype=float32>,\n",
       " <tf.Tensor 'unstack_1:36' shape=(2, 18) dtype=float32>,\n",
       " <tf.Tensor 'unstack_1:37' shape=(2, 18) dtype=float32>,\n",
       " <tf.Tensor 'unstack_1:38' shape=(2, 18) dtype=float32>,\n",
       " <tf.Tensor 'unstack_1:39' shape=(2, 18) dtype=float32>,\n",
       " <tf.Tensor 'unstack_1:40' shape=(2, 18) dtype=float32>,\n",
       " <tf.Tensor 'unstack_1:41' shape=(2, 18) dtype=float32>,\n",
       " <tf.Tensor 'unstack_1:42' shape=(2, 18) dtype=float32>,\n",
       " <tf.Tensor 'unstack_1:43' shape=(2, 18) dtype=float32>,\n",
       " <tf.Tensor 'unstack_1:44' shape=(2, 18) dtype=float32>,\n",
       " <tf.Tensor 'unstack_1:45' shape=(2, 18) dtype=float32>,\n",
       " <tf.Tensor 'unstack_1:46' shape=(2, 18) dtype=float32>,\n",
       " <tf.Tensor 'unstack_1:47' shape=(2, 18) dtype=float32>,\n",
       " <tf.Tensor 'unstack_1:48' shape=(2, 18) dtype=float32>,\n",
       " <tf.Tensor 'unstack_1:49' shape=(2, 18) dtype=float32>,\n",
       " <tf.Tensor 'unstack_1:50' shape=(2, 18) dtype=float32>,\n",
       " <tf.Tensor 'unstack_1:51' shape=(2, 18) dtype=float32>,\n",
       " <tf.Tensor 'unstack_1:52' shape=(2, 18) dtype=float32>]"
      ]
     },
     "execution_count": 55,
     "metadata": {},
     "output_type": "execute_result"
    }
   ],
   "source": [
    "labels_series"
   ]
  },
  {
   "cell_type": "code",
   "execution_count": 56,
   "metadata": {},
   "outputs": [],
   "source": [
    "# Forward pass\n",
    "current_state = init_state # batch_s x state_s\n",
    "states_series = []\n",
    "for current_input in inputs_series:\n",
    "    # bsxss\n",
    "    current_input = tf.reshape(current_input, [batch_size, 1]) \n",
    "    # bsxis concat bsxss -> bsx(is+ss) \n",
    "    input_and_state_concatenated = tf.concat([current_input, current_state],1)  # Increasing number of columns\n",
    "    # 5x5, 5x4 -> 5x4 + 1x4 = 5x4\n",
    "    # next_state = tf.tanh(tf.matmul(input_and_state_concatenated, W) + b)  # Broadcasted addition\n",
    "    next_state = tf.nn.relu(tf.matmul(input_and_state_concatenated, W) + b)  # Broadcasted addition\n",
    "    \n",
    "    states_series.append(next_state)\n",
    "    current_state = next_state"
   ]
  },
  {
   "cell_type": "code",
   "execution_count": 57,
   "metadata": {},
   "outputs": [],
   "source": [
    "# loss calculation\n",
    "# 5x4 * 4x2 + 1x2 = 5x2\n",
    "logits_series = [tf.matmul(state, W2) + b2 for state in states_series] #Broadcasted addition\n",
    "\n",
    "# the same size with the batch for the training\n",
    "predictions_series = [tf.nn.softmax(logits) for logits in logits_series]\n",
    "# predictions_series = [tf.round(tf.sigmoid(logits)) for logits in logits_series]\n",
    "\n",
    "# compute the loss with cross entropy (it will be probabilistic 0-1 compare it with label)\n",
    "losses = [tf.nn.softmax_cross_entropy_with_logits_v2(logits = logits,labels = labels) for logits, labels in zip(logits_series,labels_series)]\n",
    "# losses = [tf.nn.sigmoid_cross_entropy_with_logits(logits = logits,labels = labels) for logits, labels in zip(logits_series,labels_series)]\n",
    "\n",
    "# make the loss scalar\n",
    "total_loss = tf.reduce_mean(losses)\n",
    "# gradient step\n",
    "train_step = tf.train.AdagradOptimizer(0.3).minimize(total_loss)"
   ]
  },
  {
   "cell_type": "code",
   "execution_count": 58,
   "metadata": {},
   "outputs": [
    {
     "data": {
      "text/plain": [
       "(48018, 18)"
      ]
     },
     "execution_count": 58,
     "metadata": {},
     "output_type": "execute_result"
    }
   ],
   "source": [
    "train_label_hot.shape"
   ]
  },
  {
   "cell_type": "code",
   "execution_count": 59,
   "metadata": {},
   "outputs": [
    {
     "data": {
      "text/plain": [
       "(48018, 1)"
      ]
     },
     "execution_count": 59,
     "metadata": {},
     "output_type": "execute_result"
    }
   ],
   "source": [
    "train_dataset_reform.shape"
   ]
  },
  {
   "cell_type": "code",
   "execution_count": 60,
   "metadata": {},
   "outputs": [],
   "source": [
    "x = train_dataset_reform.reshape((batch_size,-1))\n",
    "y = train_label_hot.reshape((batch_size, -1, num_classes))"
   ]
  },
  {
   "cell_type": "code",
   "execution_count": 61,
   "metadata": {},
   "outputs": [
    {
     "data": {
      "text/plain": [
       "(2, 24009)"
      ]
     },
     "execution_count": 61,
     "metadata": {},
     "output_type": "execute_result"
    }
   ],
   "source": [
    "x.shape"
   ]
  },
  {
   "cell_type": "code",
   "execution_count": 62,
   "metadata": {},
   "outputs": [
    {
     "data": {
      "text/plain": [
       "(2, 24009, 18)"
      ]
     },
     "execution_count": 62,
     "metadata": {},
     "output_type": "execute_result"
    }
   ],
   "source": [
    "y.shape"
   ]
  },
  {
   "cell_type": "code",
   "execution_count": 63,
   "metadata": {},
   "outputs": [],
   "source": [
    "num_epochs = 50"
   ]
  },
  {
   "cell_type": "code",
   "execution_count": 64,
   "metadata": {},
   "outputs": [
    {
     "data": {
      "text/plain": [
       "453"
      ]
     },
     "execution_count": 64,
     "metadata": {},
     "output_type": "execute_result"
    }
   ],
   "source": [
    "num_batches"
   ]
  },
  {
   "cell_type": "code",
   "execution_count": 65,
   "metadata": {},
   "outputs": [],
   "source": [
    "def accuracy_list(predictions, labels):\n",
    "  return (100*np.mean(np.argmax(np.asarray(predictions),2) == np.argmax(np.asarray(labels),2)))"
   ]
  },
  {
   "cell_type": "code",
   "execution_count": 66,
   "metadata": {},
   "outputs": [
    {
     "name": "stdout",
     "output_type": "stream",
     "text": [
      "New data, epoch 0\n",
      "Step 0 Loss 8501.739\n",
      "Step 45 Loss 2.082132\n",
      "Step 90 Loss 2.2911139\n",
      "Step 135 Loss 2.2355294\n",
      "Step 180 Loss 2.3489084\n",
      "Step 225 Loss 2.357231\n",
      "Step 270 Loss 2.1763716\n",
      "Step 315 Loss 2.675916\n",
      "Step 360 Loss 1.9061393\n",
      "Step 405 Loss 2.6521223\n",
      "Step 450 Loss 2.3639457\n",
      "New data, epoch 1\n",
      "Step 0 Loss 2.8934162\n",
      "Step 45 Loss 1.9621732\n",
      "Step 90 Loss 2.2378416\n",
      "Step 135 Loss 2.3646743\n",
      "Step 180 Loss 2.3391216\n",
      "Step 225 Loss 2.3797293\n",
      "Step 270 Loss 2.2004259\n",
      "Step 315 Loss 2.7466142\n",
      "Step 360 Loss 1.9508241\n",
      "Step 405 Loss 2.5503995\n",
      "Step 450 Loss 2.4210515\n",
      "New data, epoch 2\n",
      "Step 0 Loss 2.860684\n",
      "Step 45 Loss 1.996052\n",
      "Step 90 Loss 2.2158673\n",
      "Step 135 Loss 2.3783388\n",
      "Step 180 Loss 2.324613\n",
      "Step 225 Loss 2.3834722\n",
      "Step 270 Loss 2.220913\n",
      "Step 315 Loss 2.771669\n",
      "Step 360 Loss 1.976799\n",
      "Step 405 Loss 2.4933639\n",
      "Step 450 Loss 2.452447\n",
      "New data, epoch 3\n",
      "Step 0 Loss 2.8341274\n",
      "Step 45 Loss 2.0200763\n",
      "Step 90 Loss 2.2112582\n",
      "Step 135 Loss 2.3829849\n",
      "Step 180 Loss 2.3111286\n",
      "Step 225 Loss 2.3837755\n",
      "Step 270 Loss 2.2343674\n",
      "Step 315 Loss 2.784411\n",
      "Step 360 Loss 1.9945229\n",
      "Step 405 Loss 2.4581027\n",
      "Step 450 Loss 2.470838\n",
      "New data, epoch 4\n",
      "Step 0 Loss 2.812704\n",
      "Step 45 Loss 2.0360472\n",
      "Step 90 Loss 2.2118526\n",
      "Step 135 Loss 2.385927\n",
      "Step 180 Loss 2.3001442\n",
      "Step 225 Loss 2.3831987\n",
      "Step 270 Loss 2.2435305\n",
      "Step 315 Loss 2.7921104\n",
      "Step 360 Loss 2.0073876\n",
      "Step 405 Loss 2.4345424\n",
      "Step 450 Loss 2.4828315\n",
      "New data, epoch 5\n",
      "Step 0 Loss 2.7954106\n",
      "Step 45 Loss 2.0471008\n",
      "Step 90 Loss 2.213985\n",
      "Step 135 Loss 2.3881779\n",
      "Step 180 Loss 2.291343\n",
      "Step 225 Loss 2.3823864\n",
      "Step 270 Loss 2.2500782\n",
      "Step 315 Loss 2.7972567\n",
      "Step 360 Loss 2.0171528\n",
      "Step 405 Loss 2.4177234\n",
      "Step 450 Loss 2.4913454\n",
      "New data, epoch 6\n",
      "Step 0 Loss 2.781278\n",
      "Step 45 Loss 2.0551276\n",
      "Step 90 Loss 2.2164829\n",
      "Step 135 Loss 2.389986\n",
      "Step 180 Loss 2.2842226\n",
      "Step 225 Loss 2.3815463\n",
      "Step 270 Loss 2.2549586\n",
      "Step 315 Loss 2.8009305\n",
      "Step 360 Loss 2.024827\n",
      "Step 405 Loss 2.4050844\n",
      "Step 450 Loss 2.4977748\n",
      "New data, epoch 7\n",
      "Step 0 Loss 2.7695432\n",
      "Step 45 Loss 2.0612028\n",
      "Step 90 Loss 2.2189503\n",
      "Step 135 Loss 2.3914652\n",
      "Step 180 Loss 2.2783718\n",
      "Step 225 Loss 2.3807476\n",
      "Step 270 Loss 2.2587268\n",
      "Step 315 Loss 2.8036773\n",
      "Step 360 Loss 2.0310256\n",
      "Step 405 Loss 2.395203\n",
      "Step 450 Loss 2.5028534\n",
      "New data, epoch 8\n",
      "Step 0 Loss 2.759645\n",
      "Step 45 Loss 2.0659611\n",
      "Step 90 Loss 2.221258\n",
      "Step 135 Loss 2.3926868\n",
      "Step 180 Loss 2.2734869\n",
      "Step 225 Loss 2.3800113\n",
      "Step 270 Loss 2.26172\n",
      "Step 315 Loss 2.805804\n",
      "Step 360 Loss 2.0361443\n",
      "Step 405 Loss 2.3872359\n",
      "Step 450 Loss 2.5069985\n",
      "New data, epoch 9\n",
      "Step 0 Loss 2.7511744\n",
      "Step 45 Loss 2.0697918\n",
      "Step 90 Loss 2.2233737\n",
      "Step 135 Loss 2.3937054\n",
      "Step 180 Loss 2.269348\n",
      "Step 225 Loss 2.37934\n",
      "Step 270 Loss 2.264155\n",
      "Step 315 Loss 2.8074954\n",
      "Step 360 Loss 2.0404482\n",
      "Step 405 Loss 2.3806539\n",
      "Step 450 Loss 2.510469\n",
      "New data, epoch 10\n",
      "Step 0 Loss 2.743833\n",
      "Step 45 Loss 2.072947\n",
      "Step 90 Loss 2.2252986\n",
      "Step 135 Loss 2.3945606\n",
      "Step 180 Loss 2.265795\n",
      "Step 225 Loss 2.3787308\n",
      "Step 270 Loss 2.2661753\n",
      "Step 315 Loss 2.8088715\n",
      "Step 360 Loss 2.0441225\n",
      "Step 405 Loss 2.3751078\n",
      "Step 450 Loss 2.5134323\n",
      "New data, epoch 11\n",
      "Step 0 Loss 2.7373996\n",
      "Step 45 Loss 2.0755947\n",
      "Step 90 Loss 2.2270484\n",
      "Step 135 Loss 2.395284\n",
      "Step 180 Loss 2.2627087\n",
      "Step 225 Loss 2.3781767\n",
      "Step 270 Loss 2.2678792\n",
      "Step 315 Loss 2.81001\n",
      "Step 360 Loss 2.047299\n",
      "Step 405 Loss 2.370357\n",
      "Step 450 Loss 2.5160024\n",
      "New data, epoch 12\n",
      "Step 0 Loss 2.7317073\n",
      "Step 45 Loss 2.077852\n",
      "Step 90 Loss 2.2286415\n",
      "Step 135 Loss 2.3959002\n",
      "Step 180 Loss 2.2600014\n",
      "Step 225 Loss 2.377672\n",
      "Step 270 Loss 2.2693367\n",
      "Step 315 Loss 2.8109672\n",
      "Step 360 Loss 2.0500758\n",
      "Step 405 Loss 2.3662338\n",
      "Step 450 Loss 2.5182598\n",
      "New data, epoch 13\n",
      "Step 0 Loss 2.7266264\n",
      "Step 45 Loss 2.079802\n",
      "Step 90 Loss 2.2300966\n",
      "Step 135 Loss 2.3964288\n",
      "Step 180 Loss 2.2576041\n",
      "Step 225 Loss 2.3772101\n",
      "Step 270 Loss 2.2705982\n",
      "Step 315 Loss 2.8117814\n",
      "Step 360 Loss 2.052526\n",
      "Step 405 Loss 2.3626127\n",
      "Step 450 Loss 2.5202637\n",
      "New data, epoch 14\n",
      "Step 0 Loss 2.7220585\n",
      "Step 45 Loss 2.0815067\n",
      "Step 90 Loss 2.2314289\n",
      "Step 135 Loss 2.3968847\n",
      "Step 180 Loss 2.2554653\n",
      "Step 225 Loss 2.376787\n",
      "Step 270 Loss 2.271702\n",
      "Step 315 Loss 2.8124828\n",
      "Step 360 Loss 2.054706\n",
      "Step 405 Loss 2.3594022\n",
      "Step 450 Loss 2.5220592\n",
      "New data, epoch 15\n",
      "Step 0 Loss 2.7179236\n",
      "Step 45 Loss 2.0830107\n",
      "Step 90 Loss 2.2326536\n",
      "Step 135 Loss 2.3972797\n",
      "Step 180 Loss 2.253543\n",
      "Step 225 Loss 2.376397\n",
      "Step 270 Loss 2.272677\n",
      "Step 315 Loss 2.813092\n",
      "Step 360 Loss 2.0566595\n",
      "Step 405 Loss 2.3565302\n",
      "Step 450 Loss 2.5236797\n",
      "New data, epoch 16\n",
      "Step 0 Loss 2.7141597\n",
      "Step 45 Loss 2.0843494\n",
      "Step 90 Loss 2.233784\n",
      "Step 135 Loss 2.3976238\n",
      "Step 180 Loss 2.2518046\n",
      "Step 225 Loss 2.3760366\n",
      "Step 270 Loss 2.2735445\n",
      "Step 315 Loss 2.8136265\n",
      "Step 360 Loss 2.0584216\n",
      "Step 405 Loss 2.3539433\n",
      "Step 450 Loss 2.5251524\n",
      "New data, epoch 17\n",
      "Step 0 Loss 2.7107139\n",
      "Step 45 Loss 2.0855498\n",
      "Step 90 Loss 2.2348297\n",
      "Step 135 Loss 2.3979244\n",
      "Step 180 Loss 2.2502239\n",
      "Step 225 Loss 2.3757029\n",
      "Step 270 Loss 2.274322\n",
      "Step 315 Loss 2.814098\n",
      "Step 360 Loss 2.0600202\n",
      "Step 405 Loss 2.3515968\n",
      "Step 450 Loss 2.5264986\n",
      "New data, epoch 18\n",
      "Step 0 Loss 2.707545\n",
      "Step 45 Loss 2.086634\n",
      "Step 90 Loss 2.2358012\n",
      "Step 135 Loss 2.3981888\n",
      "Step 180 Loss 2.248779\n",
      "Step 225 Loss 2.3753922\n",
      "Step 270 Loss 2.2750237\n",
      "Step 315 Loss 2.8145175\n",
      "Step 360 Loss 2.0614774\n",
      "Step 405 Loss 2.3494573\n",
      "Step 450 Loss 2.527734\n",
      "New data, epoch 19\n",
      "Step 0 Loss 2.7046192\n",
      "Step 45 Loss 2.0876186\n",
      "Step 90 Loss 2.236706\n",
      "Step 135 Loss 2.398422\n",
      "Step 180 Loss 2.2474527\n",
      "Step 225 Loss 2.3751016\n",
      "Step 270 Loss 2.27566\n",
      "Step 315 Loss 2.8148918\n",
      "Step 360 Loss 2.0628126\n",
      "Step 405 Loss 2.3474956\n",
      "Step 450 Loss 2.5288749\n",
      "New data, epoch 20\n",
      "Step 0 Loss 2.701906\n",
      "Step 45 Loss 2.0885177\n",
      "Step 90 Loss 2.237551\n",
      "Step 135 Loss 2.3986278\n",
      "Step 180 Loss 2.2462292\n",
      "Step 225 Loss 2.3748305\n",
      "Step 270 Loss 2.27624\n",
      "Step 315 Loss 2.815229\n",
      "Step 360 Loss 2.064041\n",
      "Step 405 Loss 2.3456888\n",
      "Step 450 Loss 2.5299313\n",
      "New data, epoch 21\n",
      "Step 0 Loss 2.699382\n",
      "Step 45 Loss 2.0893419\n",
      "Step 90 Loss 2.2383428\n",
      "Step 135 Loss 2.3988104\n",
      "Step 180 Loss 2.245097\n",
      "Step 225 Loss 2.3745756\n",
      "Step 270 Loss 2.2767718\n",
      "Step 315 Loss 2.815534\n",
      "Step 360 Loss 2.0651753\n",
      "Step 405 Loss 2.344018\n",
      "Step 450 Loss 2.5309145\n",
      "New data, epoch 22\n",
      "Step 0 Loss 2.6970265\n",
      "Step 45 Loss 2.0901022\n",
      "Step 90 Loss 2.2390862\n",
      "Step 135 Loss 2.3989725\n",
      "Step 180 Loss 2.2440455\n",
      "Step 225 Loss 2.374336\n",
      "Step 270 Loss 2.2772608\n",
      "Step 315 Loss 2.8158107\n",
      "Step 360 Loss 2.066226\n",
      "Step 405 Loss 2.3424673\n",
      "Step 450 Loss 2.5318313\n",
      "New data, epoch 23\n",
      "Step 0 Loss 2.6948204\n",
      "Step 45 Loss 2.0908048\n",
      "Step 90 Loss 2.2397857\n",
      "Step 135 Loss 2.3991168\n",
      "Step 180 Loss 2.2430658\n",
      "Step 225 Loss 2.3741097\n",
      "Step 270 Loss 2.2777126\n",
      "Step 315 Loss 2.8160627\n",
      "Step 360 Loss 2.0672028\n",
      "Step 405 Loss 2.341022\n",
      "Step 450 Loss 2.5326896\n",
      "New data, epoch 24\n",
      "Step 0 Loss 2.6927505\n",
      "Step 45 Loss 2.0914574\n",
      "Step 90 Loss 2.2404454\n",
      "Step 135 Loss 2.3992453\n",
      "Step 180 Loss 2.2421505\n",
      "Step 225 Loss 2.373896\n",
      "Step 270 Loss 2.2781308\n",
      "Step 315 Loss 2.816294\n",
      "Step 360 Loss 2.0681143\n",
      "Step 405 Loss 2.3396726\n",
      "Step 450 Loss 2.533495\n",
      "New data, epoch 25\n",
      "Step 0 Loss 2.6908028\n",
      "Step 45 Loss 2.092065\n",
      "Step 90 Loss 2.241069\n",
      "Step 135 Loss 2.3993602\n",
      "Step 180 Loss 2.2412927\n",
      "Step 225 Loss 2.3736944\n",
      "Step 270 Loss 2.2785199\n",
      "Step 315 Loss 2.8165057\n",
      "Step 360 Loss 2.0689664\n",
      "Step 405 Loss 2.3384075\n",
      "Step 450 Loss 2.534252\n",
      "New data, epoch 26\n",
      "Step 0 Loss 2.688966\n",
      "Step 45 Loss 2.0926328\n",
      "Step 90 Loss 2.2416599\n",
      "Step 135 Loss 2.399463\n",
      "Step 180 Loss 2.2404866\n",
      "Step 225 Loss 2.3735023\n",
      "Step 270 Loss 2.2788827\n",
      "Step 315 Loss 2.8167005\n",
      "Step 360 Loss 2.0697646\n",
      "Step 405 Loss 2.3372183\n",
      "Step 450 Loss 2.5349662\n",
      "New data, epoch 27\n",
      "Step 0 Loss 2.6872287\n",
      "Step 45 Loss 2.0931644\n",
      "Step 90 Loss 2.2422202\n",
      "Step 135 Loss 2.3995557\n",
      "Step 180 Loss 2.239728\n",
      "Step 225 Loss 2.37332\n",
      "Step 270 Loss 2.2792215\n",
      "Step 315 Loss 2.8168805\n",
      "Step 360 Loss 2.0705152\n",
      "Step 405 Loss 2.3360994\n",
      "Step 450 Loss 2.5356414\n",
      "New data, epoch 28\n",
      "Step 0 Loss 2.6855838\n",
      "Step 45 Loss 2.0936637\n",
      "Step 90 Loss 2.2427528\n",
      "Step 135 Loss 2.399638\n",
      "Step 180 Loss 2.239012\n",
      "Step 225 Loss 2.3731463\n",
      "Step 270 Loss 2.2795396\n",
      "Step 315 Loss 2.8170474\n",
      "Step 360 Loss 2.0712214\n",
      "Step 405 Loss 2.3350427\n",
      "Step 450 Loss 2.5362802\n",
      "New data, epoch 29\n",
      "Step 0 Loss 2.6840234\n",
      "Step 45 Loss 2.0941334\n",
      "Step 90 Loss 2.24326\n",
      "Step 135 Loss 2.3997123\n",
      "Step 180 Loss 2.2383351\n",
      "Step 225 Loss 2.3729806\n",
      "Step 270 Loss 2.2798383\n",
      "Step 315 Loss 2.8172023\n"
     ]
    },
    {
     "name": "stdout",
     "output_type": "stream",
     "text": [
      "Step 360 Loss 2.071888\n",
      "Step 405 Loss 2.334043\n",
      "Step 450 Loss 2.536887\n",
      "New data, epoch 30\n",
      "Step 0 Loss 2.6825404\n",
      "Step 45 Loss 2.0945768\n",
      "Step 90 Loss 2.243743\n",
      "Step 135 Loss 2.3997788\n",
      "Step 180 Loss 2.2376943\n",
      "Step 225 Loss 2.3728223\n",
      "Step 270 Loss 2.2801197\n",
      "Step 315 Loss 2.8173468\n",
      "Step 360 Loss 2.072518\n",
      "Step 405 Loss 2.3330956\n",
      "Step 450 Loss 2.537463\n",
      "New data, epoch 31\n",
      "Step 0 Loss 2.6811275\n",
      "Step 45 Loss 2.094996\n",
      "Step 90 Loss 2.244204\n",
      "Step 135 Loss 2.3998384\n",
      "Step 180 Loss 2.2370858\n",
      "Step 225 Loss 2.372671\n",
      "Step 270 Loss 2.2803853\n",
      "Step 315 Loss 2.8174808\n",
      "Step 360 Loss 2.073115\n",
      "Step 405 Loss 2.3321962\n",
      "Step 450 Loss 2.538011\n",
      "New data, epoch 32\n",
      "Step 0 Loss 2.6797807\n",
      "Step 45 Loss 2.0953932\n",
      "Step 90 Loss 2.244645\n",
      "Step 135 Loss 2.3998919\n",
      "Step 180 Loss 2.2365074\n",
      "Step 225 Loss 2.372526\n",
      "Step 270 Loss 2.280636\n",
      "Step 315 Loss 2.8176067\n",
      "Step 360 Loss 2.0736814\n",
      "Step 405 Loss 2.33134\n",
      "Step 450 Loss 2.5385342\n",
      "New data, epoch 33\n",
      "Step 0 Loss 2.678495\n",
      "Step 45 Loss 2.0957701\n",
      "Step 90 Loss 2.2450671\n",
      "Step 135 Loss 2.3999398\n",
      "Step 180 Loss 2.2359567\n",
      "Step 225 Loss 2.372387\n",
      "Step 270 Loss 2.2808735\n",
      "Step 315 Loss 2.8177245\n",
      "Step 360 Loss 2.0742197\n",
      "Step 405 Loss 2.330525\n",
      "Step 450 Loss 2.5390325\n",
      "New data, epoch 34\n",
      "Step 0 Loss 2.6772647\n",
      "Step 45 Loss 2.0961277\n",
      "Step 90 Loss 2.245472\n",
      "Step 135 Loss 2.399983\n",
      "Step 180 Loss 2.235432\n",
      "Step 225 Loss 2.3722537\n",
      "Step 270 Loss 2.2810988\n",
      "Step 315 Loss 2.8178353\n",
      "Step 360 Loss 2.074731\n",
      "Step 405 Loss 2.3297472\n",
      "Step 450 Loss 2.53951\n",
      "New data, epoch 35\n",
      "Step 0 Loss 2.6760876\n",
      "Step 45 Loss 2.0964687\n",
      "Step 90 Loss 2.2458599\n",
      "Step 135 Loss 2.4000216\n",
      "Step 180 Loss 2.234931\n",
      "Step 225 Loss 2.3721259\n",
      "Step 270 Loss 2.2813134\n",
      "Step 315 Loss 2.8179395\n",
      "Step 360 Loss 2.0752194\n",
      "Step 405 Loss 2.3290043\n",
      "Step 450 Loss 2.5399668\n",
      "New data, epoch 36\n",
      "Step 0 Loss 2.6749585\n",
      "Step 45 Loss 2.0967937\n",
      "Step 90 Loss 2.2462323\n",
      "Step 135 Loss 2.4000561\n",
      "Step 180 Loss 2.234452\n",
      "Step 225 Loss 2.3720021\n",
      "Step 270 Loss 2.2815175\n",
      "Step 315 Loss 2.818037\n",
      "Step 360 Loss 2.0756848\n",
      "Step 405 Loss 2.3282933\n",
      "Step 450 Loss 2.5404043\n",
      "New data, epoch 37\n",
      "Step 0 Loss 2.6738763\n",
      "Step 45 Loss 2.0971038\n",
      "Step 90 Loss 2.2465909\n",
      "Step 135 Loss 2.4000869\n",
      "Step 180 Loss 2.2339938\n",
      "Step 225 Loss 2.3718839\n",
      "Step 270 Loss 2.281712\n",
      "Step 315 Loss 2.8181295\n",
      "Step 360 Loss 2.0761297\n",
      "Step 405 Loss 2.3276122\n",
      "Step 450 Loss 2.5408242\n",
      "New data, epoch 38\n",
      "Step 0 Loss 2.6728354\n",
      "Step 45 Loss 2.097401\n",
      "Step 90 Loss 2.2469358\n",
      "Step 135 Loss 2.4001143\n",
      "Step 180 Loss 2.2335541\n",
      "Step 225 Loss 2.3717694\n",
      "Step 270 Loss 2.2818975\n",
      "Step 315 Loss 2.8182163\n",
      "Step 360 Loss 2.0765553\n",
      "Step 405 Loss 2.3269591\n",
      "Step 450 Loss 2.5412276\n",
      "New data, epoch 39\n",
      "Step 0 Loss 2.6718345\n",
      "Step 45 Loss 2.0976844\n",
      "Step 90 Loss 2.2472677\n",
      "Step 135 Loss 2.4001386\n",
      "Step 180 Loss 2.2331324\n",
      "Step 225 Loss 2.3716588\n",
      "Step 270 Loss 2.2820742\n",
      "Step 315 Loss 2.8182995\n",
      "Step 360 Loss 2.0769627\n",
      "Step 405 Loss 2.3263323\n",
      "Step 450 Loss 2.5416152\n",
      "New data, epoch 40\n",
      "Step 0 Loss 2.6708713\n",
      "Step 45 Loss 2.0979562\n",
      "Step 90 Loss 2.2475882\n",
      "Step 135 Loss 2.40016\n",
      "Step 180 Loss 2.2327275\n",
      "Step 225 Loss 2.3715522\n",
      "Step 270 Loss 2.2822442\n",
      "Step 315 Loss 2.8183777\n",
      "Step 360 Loss 2.077353\n",
      "Step 405 Loss 2.3257296\n",
      "Step 450 Loss 2.541988\n",
      "New data, epoch 41\n",
      "Step 0 Loss 2.6699421\n",
      "Step 45 Loss 2.098217\n",
      "Step 90 Loss 2.2478971\n",
      "Step 135 Loss 2.4001794\n",
      "Step 180 Loss 2.2323382\n",
      "Step 225 Loss 2.371449\n",
      "Step 270 Loss 2.2824066\n",
      "Step 315 Loss 2.818452\n",
      "Step 360 Loss 2.0777285\n",
      "Step 405 Loss 2.3251498\n",
      "Step 450 Loss 2.5423477\n",
      "New data, epoch 42\n",
      "Step 0 Loss 2.6690469\n",
      "Step 45 Loss 2.0984676\n",
      "Step 90 Loss 2.2481956\n",
      "Step 135 Loss 2.4001966\n",
      "Step 180 Loss 2.231964\n",
      "Step 225 Loss 2.3713496\n",
      "Step 270 Loss 2.2825625\n",
      "Step 315 Loss 2.8185217\n",
      "Step 360 Loss 2.0780888\n",
      "Step 405 Loss 2.3245914\n",
      "Step 450 Loss 2.542694\n",
      "New data, epoch 43\n",
      "Step 0 Loss 2.6681828\n",
      "Step 45 Loss 2.0987086\n",
      "Step 90 Loss 2.2484841\n",
      "Step 135 Loss 2.4002106\n",
      "Step 180 Loss 2.231603\n",
      "Step 225 Loss 2.3712535\n",
      "Step 270 Loss 2.282712\n",
      "Step 315 Loss 2.8185892\n",
      "Step 360 Loss 2.0784352\n",
      "Step 405 Loss 2.3240528\n",
      "Step 450 Loss 2.543028\n",
      "New data, epoch 44\n",
      "Step 0 Loss 2.6673477\n",
      "Step 45 Loss 2.0989406\n",
      "Step 90 Loss 2.2487633\n",
      "Step 135 Loss 2.4002225\n",
      "Step 180 Loss 2.2312555\n",
      "Step 225 Loss 2.3711598\n",
      "Step 270 Loss 2.2828557\n",
      "Step 315 Loss 2.8186533\n",
      "Step 360 Loss 2.0787687\n",
      "Step 405 Loss 2.3235338\n",
      "Step 450 Loss 2.5433507\n",
      "New data, epoch 45\n",
      "Step 0 Loss 2.6665409\n",
      "Step 45 Loss 2.0991638\n",
      "Step 90 Loss 2.2490332\n",
      "Step 135 Loss 2.4002335\n",
      "Step 180 Loss 2.2309206\n",
      "Step 225 Loss 2.371069\n",
      "Step 270 Loss 2.2829938\n",
      "Step 315 Loss 2.8187134\n",
      "Step 360 Loss 2.0790894\n",
      "Step 405 Loss 2.3230324\n",
      "Step 450 Loss 2.5436628\n",
      "New data, epoch 46\n",
      "Step 0 Loss 2.6657605\n",
      "Step 45 Loss 2.0993788\n",
      "Step 90 Loss 2.2492948\n",
      "Step 135 Loss 2.4002423\n",
      "Step 180 Loss 2.2305965\n",
      "Step 225 Loss 2.370981\n",
      "Step 270 Loss 2.2831266\n",
      "Step 315 Loss 2.8187714\n",
      "Step 360 Loss 2.0793989\n",
      "Step 405 Loss 2.322548\n",
      "Step 450 Loss 2.5439649\n",
      "New data, epoch 47\n",
      "Step 0 Loss 2.6650043\n",
      "Step 45 Loss 2.099587\n",
      "Step 90 Loss 2.2495482\n",
      "Step 135 Loss 2.4002507\n",
      "Step 180 Loss 2.2302837\n",
      "Step 225 Loss 2.370896\n",
      "Step 270 Loss 2.283255\n",
      "Step 315 Loss 2.818827\n",
      "Step 360 Loss 2.0796976\n",
      "Step 405 Loss 2.3220794\n",
      "Step 450 Loss 2.544257\n",
      "New data, epoch 48\n",
      "Step 0 Loss 2.6642718\n",
      "Step 45 Loss 2.0997875\n",
      "Step 90 Loss 2.2497942\n",
      "Step 135 Loss 2.4002564\n",
      "Step 180 Loss 2.2299807\n",
      "Step 225 Loss 2.370813\n",
      "Step 270 Loss 2.2833784\n",
      "Step 315 Loss 2.8188794\n",
      "Step 360 Loss 2.0799863\n",
      "Step 405 Loss 2.3216262\n",
      "Step 450 Loss 2.54454\n",
      "New data, epoch 49\n",
      "Step 0 Loss 2.663562\n",
      "Step 45 Loss 2.0999813\n",
      "Step 90 Loss 2.2500324\n",
      "Step 135 Loss 2.4002612\n",
      "Step 180 Loss 2.2296882\n",
      "Step 225 Loss 2.3707328\n",
      "Step 270 Loss 2.2834976\n",
      "Step 315 Loss 2.8189306\n",
      "Step 360 Loss 2.0802648\n",
      "Step 405 Loss 2.321187\n",
      "Step 450 Loss 2.5448139\n",
      "batch: 0 , accuracy: 6.60377358490566\n",
      "batch: 1 , accuracy: 8.49056603773585\n",
      "batch: 2 , accuracy: 6.60377358490566\n",
      "batch: 3 , accuracy: 7.547169811320755\n",
      "batch: 4 , accuracy: 6.60377358490566\n",
      "batch: 5 , accuracy: 9.433962264150944\n",
      "batch: 6 , accuracy: 7.547169811320755\n",
      "batch: 7 , accuracy: 9.433962264150944\n",
      "batch: 8 , accuracy: 9.433962264150944\n",
      "batch: 9 , accuracy: 10.377358490566039\n",
      "batch: 10 , accuracy: 8.49056603773585\n",
      "batch: 11 , accuracy: 13.20754716981132\n",
      "batch: 12 , accuracy: 11.320754716981133\n",
      "batch: 13 , accuracy: 16.037735849056602\n",
      "batch: 14 , accuracy: 13.20754716981132\n",
      "batch: 15 , accuracy: 15.09433962264151\n",
      "batch: 16 , accuracy: 14.150943396226415\n",
      "batch: 17 , accuracy: 10.377358490566039\n",
      "batch: 18 , accuracy: 9.433962264150944\n",
      "batch: 19 , accuracy: 10.377358490566039\n",
      "batch: 20 , accuracy: 13.20754716981132\n",
      "batch: 21 , accuracy: 13.20754716981132\n",
      "batch: 22 , accuracy: 1.8867924528301887\n",
      "batch: 23 , accuracy: 0.0\n",
      "batch: 24 , accuracy: 0.0\n",
      "batch: 25 , accuracy: 9.433962264150944\n",
      "batch: 26 , accuracy: 7.547169811320755\n",
      "batch: 27 , accuracy: 15.09433962264151\n",
      "batch: 28 , accuracy: 10.377358490566039\n",
      "batch: 29 , accuracy: 13.20754716981132\n",
      "batch: 30 , accuracy: 10.377358490566039\n",
      "batch: 31 , accuracy: 9.433962264150944\n",
      "batch: 32 , accuracy: 9.433962264150944\n",
      "batch: 33 , accuracy: 9.433962264150944\n",
      "batch: 34 , accuracy: 8.49056603773585\n",
      "batch: 35 , accuracy: 6.60377358490566\n",
      "batch: 36 , accuracy: 8.49056603773585\n",
      "batch: 37 , accuracy: 7.547169811320755\n",
      "batch: 38 , accuracy: 10.377358490566039\n",
      "batch: 39 , accuracy: 8.49056603773585\n",
      "batch: 40 , accuracy: 9.433962264150944\n",
      "batch: 41 , accuracy: 6.60377358490566\n",
      "batch: 42 , accuracy: 10.377358490566039\n",
      "batch: 43 , accuracy: 10.377358490566039\n",
      "batch: 44 , accuracy: 8.49056603773585\n",
      "batch: 45 , accuracy: 20.754716981132077\n",
      "batch: 46 , accuracy: 23.58490566037736\n",
      "batch: 47 , accuracy: 16.037735849056602\n",
      "batch: 48 , accuracy: 15.09433962264151\n",
      "batch: 49 , accuracy: 14.150943396226415\n",
      "batch: 50 , accuracy: 14.150943396226415\n",
      "batch: 51 , accuracy: 15.09433962264151\n",
      "batch: 52 , accuracy: 9.433962264150944\n",
      "batch: 53 , accuracy: 10.377358490566039\n",
      "batch: 54 , accuracy: 11.320754716981133\n",
      "batch: 55 , accuracy: 15.09433962264151\n",
      "batch: 56 , accuracy: 15.09433962264151\n",
      "batch: 57 , accuracy: 0.0\n",
      "batch: 58 , accuracy: 0.0\n",
      "batch: 59 , accuracy: 2.8301886792452833\n",
      "batch: 60 , accuracy: 4.716981132075472\n",
      "batch: 61 , accuracy: 9.433962264150944\n",
      "batch: 62 , accuracy: 7.547169811320755\n",
      "batch: 63 , accuracy: 8.49056603773585\n",
      "batch: 64 , accuracy: 11.320754716981133\n",
      "batch: 65 , accuracy: 5.660377358490567\n",
      "batch: 66 , accuracy: 2.8301886792452833\n",
      "batch: 67 , accuracy: 2.8301886792452833\n",
      "batch: 68 , accuracy: 4.716981132075472\n",
      "batch: 69 , accuracy: 2.8301886792452833\n",
      "batch: 70 , accuracy: 3.7735849056603774\n",
      "batch: 71 , accuracy: 1.8867924528301887\n",
      "batch: 72 , accuracy: 5.660377358490567\n",
      "batch: 73 , accuracy: 3.7735849056603774\n",
      "batch: 74 , accuracy: 2.8301886792452833\n",
      "batch: 75 , accuracy: 2.8301886792452833\n",
      "batch: 76 , accuracy: 4.716981132075472\n",
      "batch: 77 , accuracy: 4.716981132075472\n",
      "batch: 78 , accuracy: 3.7735849056603774\n",
      "batch: 79 , accuracy: 10.377358490566039\n",
      "batch: 80 , accuracy: 8.49056603773585\n",
      "batch: 81 , accuracy: 6.60377358490566\n",
      "batch: 82 , accuracy: 5.660377358490567\n",
      "batch: 83 , accuracy: 6.60377358490566\n",
      "batch: 84 , accuracy: 13.20754716981132\n",
      "batch: 85 , accuracy: 6.60377358490566\n",
      "batch: 86 , accuracy: 5.660377358490567\n",
      "batch: 87 , accuracy: 5.660377358490567\n",
      "batch: 88 , accuracy: 6.60377358490566\n",
      "batch: 89 , accuracy: 10.377358490566039\n",
      "batch: 90 , accuracy: 13.20754716981132\n",
      "batch: 91 , accuracy: 7.547169811320755\n",
      "batch: 92 , accuracy: 1.8867924528301887\n",
      "batch: 93 , accuracy: 0.0\n",
      "batch: 94 , accuracy: 2.8301886792452833\n",
      "batch: 95 , accuracy: 12.264150943396226\n",
      "batch: 96 , accuracy: 13.20754716981132\n",
      "batch: 97 , accuracy: 16.9811320754717\n",
      "batch: 98 , accuracy: 16.037735849056602\n",
      "batch: 99 , accuracy: 12.264150943396226\n",
      "batch: 100 , accuracy: 8.49056603773585\n",
      "batch: 101 , accuracy: 5.660377358490567\n",
      "batch: 102 , accuracy: 10.377358490566039\n",
      "batch: 103 , accuracy: 12.264150943396226\n",
      "batch: 104 , accuracy: 8.49056603773585\n",
      "batch: 105 , accuracy: 8.49056603773585\n",
      "batch: 106 , accuracy: 8.49056603773585\n",
      "batch: 107 , accuracy: 10.377358490566039\n",
      "batch: 108 , accuracy: 7.547169811320755\n"
     ]
    },
    {
     "name": "stdout",
     "output_type": "stream",
     "text": [
      "batch: 109 , accuracy: 7.547169811320755\n",
      "batch: 110 , accuracy: 8.49056603773585\n",
      "batch: 111 , accuracy: 12.264150943396226\n",
      "batch: 112 , accuracy: 10.377358490566039\n",
      "batch: 113 , accuracy: 9.433962264150944\n",
      "batch: 114 , accuracy: 15.09433962264151\n",
      "batch: 115 , accuracy: 16.9811320754717\n",
      "batch: 116 , accuracy: 16.037735849056602\n",
      "batch: 117 , accuracy: 15.09433962264151\n",
      "batch: 118 , accuracy: 26.41509433962264\n",
      "batch: 119 , accuracy: 16.037735849056602\n",
      "batch: 120 , accuracy: 11.320754716981133\n",
      "batch: 121 , accuracy: 10.377358490566039\n",
      "batch: 122 , accuracy: 13.20754716981132\n",
      "batch: 123 , accuracy: 20.754716981132077\n",
      "batch: 124 , accuracy: 20.754716981132077\n",
      "batch: 125 , accuracy: 16.037735849056602\n",
      "batch: 126 , accuracy: 0.0\n",
      "batch: 127 , accuracy: 2.8301886792452833\n",
      "batch: 128 , accuracy: 8.49056603773585\n",
      "batch: 129 , accuracy: 9.433962264150944\n",
      "batch: 130 , accuracy: 9.433962264150944\n",
      "batch: 131 , accuracy: 13.20754716981132\n",
      "batch: 132 , accuracy: 5.660377358490567\n",
      "batch: 133 , accuracy: 9.433962264150944\n",
      "batch: 134 , accuracy: 7.547169811320755\n",
      "batch: 135 , accuracy: 7.547169811320755\n",
      "batch: 136 , accuracy: 11.320754716981133\n",
      "batch: 137 , accuracy: 7.547169811320755\n",
      "batch: 138 , accuracy: 5.660377358490567\n",
      "batch: 139 , accuracy: 7.547169811320755\n",
      "batch: 140 , accuracy: 12.264150943396226\n",
      "batch: 141 , accuracy: 9.433962264150944\n",
      "batch: 142 , accuracy: 6.60377358490566\n",
      "batch: 143 , accuracy: 8.49056603773585\n",
      "batch: 144 , accuracy: 10.377358490566039\n",
      "batch: 145 , accuracy: 16.9811320754717\n",
      "batch: 146 , accuracy: 9.433962264150944\n",
      "batch: 147 , accuracy: 10.377358490566039\n",
      "batch: 148 , accuracy: 26.41509433962264\n",
      "batch: 149 , accuracy: 10.377358490566039\n",
      "batch: 150 , accuracy: 16.037735849056602\n",
      "batch: 151 , accuracy: 15.09433962264151\n",
      "batch: 152 , accuracy: 13.20754716981132\n",
      "batch: 153 , accuracy: 14.150943396226415\n",
      "batch: 154 , accuracy: 13.20754716981132\n",
      "batch: 155 , accuracy: 14.150943396226415\n",
      "batch: 156 , accuracy: 16.9811320754717\n",
      "batch: 157 , accuracy: 24.528301886792452\n",
      "batch: 158 , accuracy: 36.79245283018868\n",
      "batch: 159 , accuracy: 12.264150943396226\n",
      "batch: 160 , accuracy: 0.0\n",
      "batch: 161 , accuracy: 6.60377358490566\n",
      "batch: 162 , accuracy: 14.150943396226415\n",
      "batch: 163 , accuracy: 10.377358490566039\n",
      "batch: 164 , accuracy: 16.9811320754717\n",
      "batch: 165 , accuracy: 16.9811320754717\n",
      "batch: 166 , accuracy: 15.09433962264151\n",
      "batch: 167 , accuracy: 11.320754716981133\n",
      "batch: 168 , accuracy: 15.09433962264151\n",
      "batch: 169 , accuracy: 10.377358490566039\n",
      "batch: 170 , accuracy: 17.92452830188679\n",
      "batch: 171 , accuracy: 15.09433962264151\n",
      "batch: 172 , accuracy: 11.320754716981133\n",
      "batch: 173 , accuracy: 5.660377358490567\n",
      "batch: 174 , accuracy: 17.92452830188679\n",
      "batch: 175 , accuracy: 10.377358490566039\n",
      "batch: 176 , accuracy: 12.264150943396226\n",
      "batch: 177 , accuracy: 20.754716981132077\n",
      "batch: 178 , accuracy: 15.09433962264151\n",
      "batch: 179 , accuracy: 14.150943396226415\n",
      "batch: 180 , accuracy: 16.9811320754717\n",
      "batch: 181 , accuracy: 18.867924528301888\n",
      "batch: 182 , accuracy: 23.58490566037736\n",
      "batch: 183 , accuracy: 23.58490566037736\n",
      "batch: 184 , accuracy: 22.641509433962266\n",
      "batch: 185 , accuracy: 25.471698113207548\n",
      "batch: 186 , accuracy: 18.867924528301888\n",
      "batch: 187 , accuracy: 17.92452830188679\n",
      "batch: 188 , accuracy: 16.9811320754717\n",
      "batch: 189 , accuracy: 19.81132075471698\n",
      "batch: 190 , accuracy: 27.358490566037734\n",
      "batch: 191 , accuracy: 41.509433962264154\n",
      "batch: 192 , accuracy: 24.528301886792452\n",
      "batch: 193 , accuracy: 0.0\n",
      "batch: 194 , accuracy: 2.8301886792452833\n",
      "batch: 195 , accuracy: 12.264150943396226\n",
      "batch: 196 , accuracy: 12.264150943396226\n",
      "batch: 197 , accuracy: 12.264150943396226\n",
      "batch: 198 , accuracy: 17.92452830188679\n",
      "batch: 199 , accuracy: 16.037735849056602\n",
      "batch: 200 , accuracy: 14.150943396226415\n",
      "batch: 201 , accuracy: 8.49056603773585\n",
      "batch: 202 , accuracy: 7.547169811320755\n",
      "batch: 203 , accuracy: 7.547169811320755\n",
      "batch: 204 , accuracy: 7.547169811320755\n",
      "batch: 205 , accuracy: 7.547169811320755\n",
      "batch: 206 , accuracy: 5.660377358490567\n",
      "batch: 207 , accuracy: 15.09433962264151\n",
      "batch: 208 , accuracy: 8.49056603773585\n",
      "batch: 209 , accuracy: 5.660377358490567\n",
      "batch: 210 , accuracy: 11.320754716981133\n",
      "batch: 211 , accuracy: 12.264150943396226\n",
      "batch: 212 , accuracy: 10.377358490566039\n",
      "batch: 213 , accuracy: 11.320754716981133\n",
      "batch: 214 , accuracy: 23.58490566037736\n",
      "batch: 215 , accuracy: 16.9811320754717\n",
      "batch: 216 , accuracy: 14.150943396226415\n",
      "batch: 217 , accuracy: 13.20754716981132\n",
      "batch: 218 , accuracy: 14.150943396226415\n",
      "batch: 219 , accuracy: 13.20754716981132\n",
      "batch: 220 , accuracy: 15.09433962264151\n",
      "batch: 221 , accuracy: 12.264150943396226\n",
      "batch: 222 , accuracy: 16.037735849056602\n",
      "batch: 223 , accuracy: 30.18867924528302\n",
      "batch: 224 , accuracy: 43.39622641509434\n",
      "batch: 225 , accuracy: 0.0\n",
      "batch: 226 , accuracy: 7.547169811320755\n",
      "batch: 227 , accuracy: 15.09433962264151\n",
      "batch: 228 , accuracy: 16.9811320754717\n",
      "batch: 229 , accuracy: 16.9811320754717\n",
      "batch: 230 , accuracy: 14.150943396226415\n",
      "batch: 231 , accuracy: 20.754716981132077\n",
      "batch: 232 , accuracy: 17.92452830188679\n",
      "batch: 233 , accuracy: 14.150943396226415\n",
      "batch: 234 , accuracy: 13.20754716981132\n",
      "batch: 235 , accuracy: 15.09433962264151\n",
      "batch: 236 , accuracy: 11.320754716981133\n",
      "batch: 237 , accuracy: 11.320754716981133\n",
      "batch: 238 , accuracy: 11.320754716981133\n",
      "batch: 239 , accuracy: 11.320754716981133\n",
      "batch: 240 , accuracy: 12.264150943396226\n",
      "batch: 241 , accuracy: 18.867924528301888\n",
      "batch: 242 , accuracy: 21.69811320754717\n",
      "batch: 243 , accuracy: 17.92452830188679\n",
      "batch: 244 , accuracy: 16.037735849056602\n",
      "batch: 245 , accuracy: 23.58490566037736\n",
      "batch: 246 , accuracy: 27.358490566037734\n",
      "batch: 247 , accuracy: 24.528301886792452\n",
      "batch: 248 , accuracy: 25.471698113207548\n",
      "batch: 249 , accuracy: 26.41509433962264\n",
      "batch: 250 , accuracy: 20.754716981132077\n",
      "batch: 251 , accuracy: 21.69811320754717\n",
      "batch: 252 , accuracy: 23.58490566037736\n",
      "batch: 253 , accuracy: 48.113207547169814\n",
      "batch: 254 , accuracy: 41.509433962264154\n",
      "batch: 255 , accuracy: 0.0\n",
      "batch: 256 , accuracy: 12.264150943396226\n",
      "batch: 257 , accuracy: 14.150943396226415\n",
      "batch: 258 , accuracy: 9.433962264150944\n",
      "batch: 259 , accuracy: 3.7735849056603774\n",
      "batch: 260 , accuracy: 1.8867924528301887\n",
      "batch: 261 , accuracy: 5.660377358490567\n",
      "batch: 262 , accuracy: 3.7735849056603774\n",
      "batch: 263 , accuracy: 3.7735849056603774\n",
      "batch: 264 , accuracy: 4.716981132075472\n",
      "batch: 265 , accuracy: 5.660377358490567\n",
      "batch: 266 , accuracy: 5.660377358490567\n",
      "batch: 267 , accuracy: 6.60377358490566\n",
      "batch: 268 , accuracy: 9.433962264150944\n",
      "batch: 269 , accuracy: 8.49056603773585\n",
      "batch: 270 , accuracy: 14.150943396226415\n",
      "batch: 271 , accuracy: 10.377358490566039\n",
      "batch: 272 , accuracy: 3.7735849056603774\n",
      "batch: 273 , accuracy: 12.264150943396226\n",
      "batch: 274 , accuracy: 16.9811320754717\n",
      "batch: 275 , accuracy: 15.09433962264151\n",
      "batch: 276 , accuracy: 11.320754716981133\n",
      "batch: 277 , accuracy: 11.320754716981133\n",
      "batch: 278 , accuracy: 7.547169811320755\n",
      "batch: 279 , accuracy: 8.49056603773585\n",
      "batch: 280 , accuracy: 42.45283018867924\n",
      "batch: 281 , accuracy: 43.39622641509434\n",
      "batch: 282 , accuracy: 0.0\n",
      "batch: 283 , accuracy: 14.150943396226415\n",
      "batch: 284 , accuracy: 16.9811320754717\n",
      "batch: 285 , accuracy: 16.9811320754717\n",
      "batch: 286 , accuracy: 5.660377358490567\n",
      "batch: 287 , accuracy: 0.9433962264150944\n",
      "batch: 288 , accuracy: 1.8867924528301887\n",
      "batch: 289 , accuracy: 1.8867924528301887\n",
      "batch: 290 , accuracy: 0.0\n",
      "batch: 291 , accuracy: 4.716981132075472\n",
      "batch: 292 , accuracy: 1.8867924528301887\n",
      "batch: 293 , accuracy: 0.0\n",
      "batch: 294 , accuracy: 0.0\n",
      "batch: 295 , accuracy: 0.0\n",
      "batch: 296 , accuracy: 6.60377358490566\n",
      "batch: 297 , accuracy: 9.433962264150944\n",
      "batch: 298 , accuracy: 2.8301886792452833\n",
      "batch: 299 , accuracy: 11.320754716981133\n",
      "batch: 300 , accuracy: 4.716981132075472\n",
      "batch: 301 , accuracy: 0.9433962264150944\n",
      "batch: 302 , accuracy: 0.9433962264150944\n",
      "batch: 303 , accuracy: 1.8867924528301887\n",
      "batch: 304 , accuracy: 28.30188679245283\n",
      "batch: 305 , accuracy: 44.339622641509436\n",
      "batch: 306 , accuracy: 11.320754716981133\n",
      "batch: 307 , accuracy: 10.377358490566039\n",
      "batch: 308 , accuracy: 23.58490566037736\n",
      "batch: 309 , accuracy: 18.867924528301888\n",
      "batch: 310 , accuracy: 9.433962264150944\n",
      "batch: 311 , accuracy: 8.49056603773585\n",
      "batch: 312 , accuracy: 8.49056603773585\n",
      "batch: 313 , accuracy: 4.716981132075472\n",
      "batch: 314 , accuracy: 4.716981132075472\n",
      "batch: 315 , accuracy: 2.8301886792452833\n",
      "batch: 316 , accuracy: 3.7735849056603774\n",
      "batch: 317 , accuracy: 3.7735849056603774\n",
      "batch: 318 , accuracy: 7.547169811320755\n",
      "batch: 319 , accuracy: 12.264150943396226\n",
      "batch: 320 , accuracy: 16.037735849056602\n",
      "batch: 321 , accuracy: 8.49056603773585\n",
      "batch: 322 , accuracy: 16.037735849056602\n"
     ]
    },
    {
     "name": "stdout",
     "output_type": "stream",
     "text": [
      "batch: 323 , accuracy: 4.716981132075472\n",
      "batch: 324 , accuracy: 5.660377358490567\n",
      "batch: 325 , accuracy: 12.264150943396226\n",
      "batch: 326 , accuracy: 45.28301886792453\n",
      "batch: 327 , accuracy: 38.67924528301887\n",
      "batch: 328 , accuracy: 17.92452830188679\n",
      "batch: 329 , accuracy: 26.41509433962264\n",
      "batch: 330 , accuracy: 22.641509433962266\n",
      "batch: 331 , accuracy: 16.9811320754717\n",
      "batch: 332 , accuracy: 8.49056603773585\n",
      "batch: 333 , accuracy: 8.49056603773585\n",
      "batch: 334 , accuracy: 2.8301886792452833\n",
      "batch: 335 , accuracy: 0.0\n",
      "batch: 336 , accuracy: 1.8867924528301887\n",
      "batch: 337 , accuracy: 1.8867924528301887\n",
      "batch: 338 , accuracy: 0.9433962264150944\n",
      "batch: 339 , accuracy: 4.716981132075472\n",
      "batch: 340 , accuracy: 13.20754716981132\n",
      "batch: 341 , accuracy: 18.867924528301888\n",
      "batch: 342 , accuracy: 16.9811320754717\n",
      "batch: 343 , accuracy: 15.09433962264151\n",
      "batch: 344 , accuracy: 8.49056603773585\n",
      "batch: 345 , accuracy: 16.9811320754717\n",
      "batch: 346 , accuracy: 33.0188679245283\n",
      "batch: 347 , accuracy: 52.83018867924528\n",
      "batch: 348 , accuracy: 18.867924528301888\n",
      "batch: 349 , accuracy: 29.245283018867923\n",
      "batch: 350 , accuracy: 16.9811320754717\n",
      "batch: 351 , accuracy: 17.92452830188679\n",
      "batch: 352 , accuracy: 16.9811320754717\n",
      "batch: 353 , accuracy: 27.358490566037734\n",
      "batch: 354 , accuracy: 17.92452830188679\n",
      "batch: 355 , accuracy: 20.754716981132077\n",
      "batch: 356 , accuracy: 21.69811320754717\n",
      "batch: 357 , accuracy: 19.81132075471698\n",
      "batch: 358 , accuracy: 19.81132075471698\n",
      "batch: 359 , accuracy: 22.641509433962266\n",
      "batch: 360 , accuracy: 30.18867924528302\n",
      "batch: 361 , accuracy: 32.075471698113205\n",
      "batch: 362 , accuracy: 27.358490566037734\n",
      "batch: 363 , accuracy: 29.245283018867923\n",
      "batch: 364 , accuracy: 26.41509433962264\n",
      "batch: 365 , accuracy: 23.58490566037736\n",
      "batch: 366 , accuracy: 34.90566037735849\n",
      "batch: 367 , accuracy: 42.45283018867924\n",
      "batch: 368 , accuracy: 19.81132075471698\n",
      "batch: 369 , accuracy: 21.69811320754717\n",
      "batch: 370 , accuracy: 12.264150943396226\n",
      "batch: 371 , accuracy: 17.92452830188679\n",
      "batch: 372 , accuracy: 16.037735849056602\n",
      "batch: 373 , accuracy: 16.037735849056602\n",
      "batch: 374 , accuracy: 16.037735849056602\n",
      "batch: 375 , accuracy: 19.81132075471698\n",
      "batch: 376 , accuracy: 20.754716981132077\n",
      "batch: 377 , accuracy: 19.81132075471698\n",
      "batch: 378 , accuracy: 17.92452830188679\n",
      "batch: 379 , accuracy: 18.867924528301888\n",
      "batch: 380 , accuracy: 27.358490566037734\n",
      "batch: 381 , accuracy: 26.41509433962264\n",
      "batch: 382 , accuracy: 20.754716981132077\n",
      "batch: 383 , accuracy: 19.81132075471698\n",
      "batch: 384 , accuracy: 17.92452830188679\n",
      "batch: 385 , accuracy: 30.18867924528302\n",
      "batch: 386 , accuracy: 26.41509433962264\n",
      "batch: 387 , accuracy: 20.754716981132077\n",
      "batch: 388 , accuracy: 21.69811320754717\n",
      "batch: 389 , accuracy: 9.433962264150944\n",
      "batch: 390 , accuracy: 8.49056603773585\n",
      "batch: 391 , accuracy: 10.377358490566039\n",
      "batch: 392 , accuracy: 8.49056603773585\n",
      "batch: 393 , accuracy: 7.547169811320755\n",
      "batch: 394 , accuracy: 11.320754716981133\n",
      "batch: 395 , accuracy: 13.20754716981132\n",
      "batch: 396 , accuracy: 16.037735849056602\n",
      "batch: 397 , accuracy: 15.09433962264151\n",
      "batch: 398 , accuracy: 21.69811320754717\n",
      "batch: 399 , accuracy: 17.92452830188679\n",
      "batch: 400 , accuracy: 10.377358490566039\n",
      "batch: 401 , accuracy: 9.433962264150944\n",
      "batch: 402 , accuracy: 13.20754716981132\n",
      "batch: 403 , accuracy: 27.358490566037734\n",
      "batch: 404 , accuracy: 31.132075471698112\n",
      "batch: 405 , accuracy: 28.30188679245283\n",
      "batch: 406 , accuracy: 27.358490566037734\n",
      "batch: 407 , accuracy: 32.075471698113205\n",
      "batch: 408 , accuracy: 30.18867924528302\n",
      "batch: 409 , accuracy: 33.9622641509434\n",
      "batch: 410 , accuracy: 37.735849056603776\n",
      "batch: 411 , accuracy: 34.90566037735849\n",
      "batch: 412 , accuracy: 40.56603773584906\n",
      "batch: 413 , accuracy: 31.132075471698112\n",
      "batch: 414 , accuracy: 33.9622641509434\n",
      "batch: 415 , accuracy: 37.735849056603776\n",
      "batch: 416 , accuracy: 44.339622641509436\n",
      "batch: 417 , accuracy: 34.90566037735849\n",
      "batch: 418 , accuracy: 33.9622641509434\n",
      "batch: 419 , accuracy: 32.075471698113205\n",
      "batch: 420 , accuracy: 31.132075471698112\n",
      "batch: 421 , accuracy: 26.41509433962264\n",
      "batch: 422 , accuracy: 31.132075471698112\n",
      "batch: 423 , accuracy: 39.62264150943396\n",
      "batch: 424 , accuracy: 38.67924528301887\n",
      "batch: 425 , accuracy: 33.9622641509434\n",
      "batch: 426 , accuracy: 37.735849056603776\n",
      "batch: 427 , accuracy: 34.90566037735849\n",
      "batch: 428 , accuracy: 34.90566037735849\n",
      "batch: 429 , accuracy: 39.62264150943396\n",
      "batch: 430 , accuracy: 39.62264150943396\n",
      "batch: 431 , accuracy: 41.509433962264154\n",
      "batch: 432 , accuracy: 43.39622641509434\n",
      "batch: 433 , accuracy: 45.28301886792453\n",
      "batch: 434 , accuracy: 40.56603773584906\n",
      "batch: 435 , accuracy: 36.79245283018868\n",
      "batch: 436 , accuracy: 36.79245283018868\n",
      "batch: 437 , accuracy: 33.0188679245283\n",
      "batch: 438 , accuracy: 37.735849056603776\n",
      "batch: 439 , accuracy: 40.56603773584906\n",
      "batch: 440 , accuracy: 29.245283018867923\n",
      "batch: 441 , accuracy: 27.358490566037734\n",
      "batch: 442 , accuracy: 27.358490566037734\n",
      "batch: 443 , accuracy: 31.132075471698112\n",
      "batch: 444 , accuracy: 33.9622641509434\n",
      "batch: 445 , accuracy: 37.735849056603776\n",
      "batch: 446 , accuracy: 35.84905660377358\n",
      "batch: 447 , accuracy: 36.79245283018868\n",
      "batch: 448 , accuracy: 33.9622641509434\n",
      "batch: 449 , accuracy: 35.84905660377358\n",
      "batch: 450 , accuracy: 35.84905660377358\n",
      "batch: 451 , accuracy: 36.79245283018868\n",
      "batch: 452 , accuracy: 24.528301886792452\n",
      "15.508767545503767\n"
     ]
    }
   ],
   "source": [
    "with tf.Session() as sess:\n",
    "    # sess.run(tf.initialize_all_variables())\n",
    "    sess.run(tf.global_variables_initializer())\n",
    "    # plt.ion()\n",
    "    # plt.figure()\n",
    "    # plt.show()\n",
    "    loss_list = []\n",
    "    \n",
    "    for epoch_idx in range(num_epochs): # 100\n",
    "        _current_state = np.zeros((batch_size, state_size))\n",
    "\n",
    "        print(\"New data, epoch\", epoch_idx)\n",
    "\n",
    "        for batch_idx in range(num_batches): # 666\n",
    "            start_idx = batch_idx * truncated_backprop_length\n",
    "            end_idx = start_idx + truncated_backprop_length\n",
    "            # all 5 rows, certain numbers of column which the total = 15 columns\n",
    "            batchX = x[:,start_idx:end_idx]\n",
    "            batchY = y[:,start_idx:end_idx]\n",
    "            \n",
    "            # calculate loss, gradient step, \n",
    "            _total_loss, _train_step, _current_state, _predictions_series, _labels_series = sess.run(\n",
    "                [total_loss, train_step, current_state, predictions_series, labels_series],\n",
    "                feed_dict={\n",
    "                    batchX_placeholder:batchX,\n",
    "                    batchY_placeholder:batchY,\n",
    "                    # it was part of computational graph, where the init_state is the placeholder\n",
    "                    init_state:_current_state\n",
    "                })\n",
    "\n",
    "            loss_list.append(_total_loss)\n",
    "            # print(\"prediction\", _predictions_series)\n",
    "            # print(\"label\",_labels_series)\n",
    "           \n",
    "            if (batch_idx%(num_batches//10) == 0):\n",
    "                print(\"Step\",batch_idx, \"Loss\", _total_loss)\n",
    "                # plot(loss_list, _predictions_series, batchX, batchY)\n",
    "\n",
    "    # accuracy\n",
    "    _current_state = np.zeros((batch_size, state_size))\n",
    "    acc = 0\n",
    "    total_acc = 0\n",
    "    for batch_idx in range(num_batches):\n",
    "        start_idx = batch_idx * truncated_backprop_length\n",
    "        end_idx = start_idx + truncated_backprop_length\n",
    "        \n",
    "        batchX = x[:,start_idx:end_idx]\n",
    "        batchY = y[:,start_idx:end_idx]\n",
    "\n",
    "        # calculate loss, gradient step, \n",
    "        _predictions_series, _labels_series = sess.run([predictions_series, labels_series],\n",
    "            feed_dict={\n",
    "                batchX_placeholder:batchX,\n",
    "                batchY_placeholder:batchY,\n",
    "                # it was part of computational graph, where the init_state is the placeholder\n",
    "                init_state:_current_state\n",
    "            })\n",
    "        acc = accuracy_list( _predictions_series, _labels_series)\n",
    "        print(\"batch:\",batch_idx,\", accuracy:\",acc)\n",
    "        total_acc += acc\n",
    "    \n",
    "    print(total_acc/num_batches)\n",
    "# plt.ioff()\n",
    "# plt.show()\n"
   ]
  },
  {
   "cell_type": "code",
   "execution_count": 92,
   "metadata": {},
   "outputs": [
    {
     "data": {
      "text/plain": [
       "array([[0.13241306, 0.02757386, 0.04472994, 0.15169942, 0.01510084,\n",
       "        0.08247881, 0.00120155, 0.02419116, 0.00051674, 0.00379654,\n",
       "        0.01344477, 0.07153476, 0.00606989, 0.01386202, 0.18017827,\n",
       "        0.03059891, 0.03409372, 0.16651577],\n",
       "       [0.13241306, 0.02757386, 0.04472994, 0.15169942, 0.01510084,\n",
       "        0.08247881, 0.00120155, 0.02419116, 0.00051674, 0.00379654,\n",
       "        0.01344477, 0.07153476, 0.00606989, 0.01386202, 0.18017827,\n",
       "        0.03059891, 0.03409372, 0.16651577]], dtype=float32)"
      ]
     },
     "execution_count": 92,
     "metadata": {},
     "output_type": "execute_result"
    }
   ],
   "source": [
    "_predictions_series[0]"
   ]
  },
  {
   "cell_type": "code",
   "execution_count": 93,
   "metadata": {},
   "outputs": [
    {
     "data": {
      "text/plain": [
       "array([[1., 0., 0., 0., 0., 0., 0., 0., 0., 0., 0., 0., 0., 0., 0., 0.,\n",
       "        0., 0.],\n",
       "       [0., 0., 0., 0., 0., 0., 0., 0., 0., 0., 0., 0., 0., 0., 0., 1.,\n",
       "        0., 0.]], dtype=float32)"
      ]
     },
     "execution_count": 93,
     "metadata": {},
     "output_type": "execute_result"
    }
   ],
   "source": [
    "_labels_series[0]"
   ]
  },
  {
   "cell_type": "code",
   "execution_count": 94,
   "metadata": {},
   "outputs": [
    {
     "data": {
      "text/plain": [
       "array([14, 14], dtype=int64)"
      ]
     },
     "execution_count": 94,
     "metadata": {},
     "output_type": "execute_result"
    }
   ],
   "source": [
    "np.argmax(_predictions_series[1], 1)"
   ]
  },
  {
   "cell_type": "code",
   "execution_count": 95,
   "metadata": {},
   "outputs": [
    {
     "data": {
      "text/plain": [
       "array([0, 2], dtype=int64)"
      ]
     },
     "execution_count": 95,
     "metadata": {},
     "output_type": "execute_result"
    }
   ],
   "source": [
    "np.argmax(_labels_series[1], 1)"
   ]
  },
  {
   "cell_type": "code",
   "execution_count": 96,
   "metadata": {},
   "outputs": [
    {
     "data": {
      "text/plain": [
       "(53, 2, 18)"
      ]
     },
     "execution_count": 96,
     "metadata": {},
     "output_type": "execute_result"
    }
   ],
   "source": [
    "np.asarray(_predictions_series).shape"
   ]
  },
  {
   "cell_type": "code",
   "execution_count": 97,
   "metadata": {},
   "outputs": [
    {
     "data": {
      "text/plain": [
       "(53, 2)"
      ]
     },
     "execution_count": 97,
     "metadata": {},
     "output_type": "execute_result"
    }
   ],
   "source": [
    "np.argmax(np.asarray(_labels_series),2).shape"
   ]
  },
  {
   "cell_type": "code",
   "execution_count": 98,
   "metadata": {
    "scrolled": true
   },
   "outputs": [
    {
     "data": {
      "text/plain": [
       "(53, 2)"
      ]
     },
     "execution_count": 98,
     "metadata": {},
     "output_type": "execute_result"
    }
   ],
   "source": [
    "np.argmax(np.asarray(_predictions_series),2).shape"
   ]
  },
  {
   "cell_type": "code",
   "execution_count": 99,
   "metadata": {},
   "outputs": [
    {
     "data": {
      "text/plain": [
       "array([[ 0, 15],\n",
       "       [ 0,  2],\n",
       "       [16, 14],\n",
       "       [16, 14],\n",
       "       [ 0, 15],\n",
       "       [ 0,  2],\n",
       "       [16, 14],\n",
       "       [16, 14],\n",
       "       [ 0, 15],\n",
       "       [ 0,  2],\n",
       "       [ 2, 14],\n",
       "       [ 2, 14],\n",
       "       [14, 14],\n",
       "       [14, 15],\n",
       "       [16,  2],\n",
       "       [16, 14],\n",
       "       [ 0, 14],\n",
       "       [ 0, 15],\n",
       "       [ 2,  2],\n",
       "       [ 2, 14],\n",
       "       [14, 14],\n",
       "       [14, 15],\n",
       "       [16,  2],\n",
       "       [16, 14],\n",
       "       [ 0, 14],\n",
       "       [ 0, 15],\n",
       "       [ 2, 15],\n",
       "       [ 2,  2],\n",
       "       [14, 15],\n",
       "       [16, 15],\n",
       "       [16, 15],\n",
       "       [ 0,  2],\n",
       "       [ 0, 14],\n",
       "       [ 0, 14],\n",
       "       [16, 15],\n",
       "       [16,  2],\n",
       "       [ 0, 14],\n",
       "       [ 0, 15],\n",
       "       [16, 15],\n",
       "       [16,  2],\n",
       "       [ 0,  3],\n",
       "       [ 0, 14],\n",
       "       [ 2, 14],\n",
       "       [ 2, 15],\n",
       "       [14,  2],\n",
       "       [14, 15],\n",
       "       [16, 15],\n",
       "       [16,  2],\n",
       "       [ 0,  3],\n",
       "       [ 0, 15],\n",
       "       [ 2, 15],\n",
       "       [ 2, 15],\n",
       "       [14,  2]], dtype=int64)"
      ]
     },
     "execution_count": 99,
     "metadata": {},
     "output_type": "execute_result"
    }
   ],
   "source": [
    "np.argmax(np.asarray(_labels_series),2)"
   ]
  },
  {
   "cell_type": "code",
   "execution_count": 101,
   "metadata": {},
   "outputs": [
    {
     "data": {
      "text/plain": [
       "array([[14, 14],\n",
       "       [14, 14],\n",
       "       [14, 14],\n",
       "       [14, 14],\n",
       "       [14, 14],\n",
       "       [14, 14],\n",
       "       [14, 14],\n",
       "       [14, 14],\n",
       "       [14, 14],\n",
       "       [14, 14],\n",
       "       [14, 14],\n",
       "       [14, 14],\n",
       "       [14, 14],\n",
       "       [14, 14],\n",
       "       [14, 14],\n",
       "       [14, 14],\n",
       "       [14, 14],\n",
       "       [14, 14],\n",
       "       [14, 14],\n",
       "       [14, 14],\n",
       "       [14, 14],\n",
       "       [14, 14],\n",
       "       [14, 14],\n",
       "       [14, 14],\n",
       "       [14, 14],\n",
       "       [14, 14],\n",
       "       [14, 14],\n",
       "       [14, 14],\n",
       "       [14, 14],\n",
       "       [14, 14],\n",
       "       [14, 14],\n",
       "       [14, 14],\n",
       "       [14, 14],\n",
       "       [14, 14],\n",
       "       [14, 14],\n",
       "       [14, 14],\n",
       "       [14, 14],\n",
       "       [14, 14],\n",
       "       [14, 14],\n",
       "       [14, 14],\n",
       "       [14, 14],\n",
       "       [14, 14],\n",
       "       [14, 14],\n",
       "       [14, 14],\n",
       "       [14, 14],\n",
       "       [14, 14],\n",
       "       [14, 14],\n",
       "       [14, 14],\n",
       "       [14, 14],\n",
       "       [14, 14],\n",
       "       [14, 14],\n",
       "       [14, 14],\n",
       "       [14, 14]], dtype=int64)"
      ]
     },
     "execution_count": 101,
     "metadata": {},
     "output_type": "execute_result"
    }
   ],
   "source": [
    "np.argmax(np.asarray(_predictions_series),2)"
   ]
  },
  {
   "cell_type": "code",
   "execution_count": 139,
   "metadata": {},
   "outputs": [
    {
     "data": {
      "text/plain": [
       "24.528301886792452"
      ]
     },
     "execution_count": 139,
     "metadata": {},
     "output_type": "execute_result"
    }
   ],
   "source": [
    "100*np.mean(np.argmax(np.asarray(_predictions_series),2) == np.argmax(np.asarray(_labels_series),2))"
   ]
  }
 ],
 "metadata": {
  "colab": {
   "default_view": {},
   "name": "2_fullyconnected.ipynb",
   "provenance": [],
   "version": "0.3.2",
   "views": {}
  },
  "kernelspec": {
   "display_name": "tensorflow",
   "language": "python",
   "name": "tensorflow"
  },
  "language_info": {
   "codemirror_mode": {
    "name": "ipython",
    "version": 3
   },
   "file_extension": ".py",
   "mimetype": "text/x-python",
   "name": "python",
   "nbconvert_exporter": "python",
   "pygments_lexer": "ipython3",
   "version": "3.5.5"
  }
 },
 "nbformat": 4,
 "nbformat_minor": 1
}
