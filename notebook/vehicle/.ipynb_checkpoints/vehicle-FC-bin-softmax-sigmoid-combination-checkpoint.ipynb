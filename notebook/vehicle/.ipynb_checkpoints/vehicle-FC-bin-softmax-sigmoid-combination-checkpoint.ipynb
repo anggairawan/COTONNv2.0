{
 "cells": [
  {
   "cell_type": "code",
   "execution_count": 1,
   "metadata": {
    "cellView": "both",
    "colab": {
     "autoexec": {
      "startup": false,
      "wait_interval": 0
     }
    },
    "colab_type": "code",
    "id": "JLpLa8Jt7Vu4"
   },
   "outputs": [],
   "source": [
    "# These are all the modules we'll be using later. Make sure you can import them\n",
    "# before proceeding further.\n",
    "from __future__ import print_function\n",
    "import numpy as np\n",
    "import tensorflow as tf\n",
    "from six.moves import cPickle as pickle\n",
    "from six.moves import range\n",
    "\n",
    "import random\n",
    "# import seaborn as sns\n",
    "# sns.set_style(\"darkgrid\")\n",
    "\n",
    "import matplotlib.pyplot as plt\n",
    "# plot param\n",
    "%matplotlib inline\n",
    "plt.rcParams['figure.figsize'] = (22.0, 12.0) # set default size of plots\n",
    "plt.rcParams['image.interpolation'] = 'nearest'\n",
    "plt.rcParams['image.cmap'] = 'gray'\n",
    "plt.style.use('ggplot')\n",
    "# plt.style.use('seaborn')\n",
    "\n",
    "from livelossplot import PlotLosses\n",
    "from time import sleep"
   ]
  },
  {
   "cell_type": "code",
   "execution_count": 3,
   "metadata": {},
   "outputs": [],
   "source": [
    "det = False"
   ]
  },
  {
   "cell_type": "code",
   "execution_count": 4,
   "metadata": {},
   "outputs": [],
   "source": [
    "# parse the controller file\n",
    "# f = open('../COTONN/vehicle_small/controller.scs', \"r\")\n",
    "f = open('controller.scs', \"r\")\n",
    "\n",
    "lines = []\n",
    "\n",
    "for line in f:\n",
    "    if '#MATRIX:DATA\\n' in line:                \n",
    "        for line in f: # now you are at the lines you want\n",
    "            # skip the #BEGIN \n",
    "            # read the state-actions\n",
    "            lines = f.readlines()\n",
    "            \n",
    "del lines[-1]\n",
    "\n",
    "# take the state as the train dataset\n",
    "ltrain_dataset = []\n",
    "for x in lines:\n",
    "    ltrain_dataset.append(x.split(' ')[0])\n",
    "# del ltrain_dataset[-1] # delete the string #END at the end of the file \n",
    "\n",
    "# convert to the numpy array with float32 data type\n",
    "train_dataset = np.asarray(ltrain_dataset)\n",
    "train_dataset = train_dataset.astype(np.float32)\n",
    "\n",
    "upper_limit = train_dataset.shape[0]\n",
    "num_samples = upper_limit\n",
    "\n",
    "# take action/label pair of the state \n",
    "# take the action(s) [column 1:-1] / the rest of the integer except the state\n",
    "ltrain_label = []\n",
    "for x in lines:\n",
    "    if det == False:\n",
    "        ltrain_label.append(x.strip().split()[1:])\n",
    "    else:\n",
    "        ltrain_label.append(x.strip().split()[1])\n",
    "# del ltrain_label[-1] # delete the string #END at the end of the file  \n",
    "\n",
    "# convert to numpy array, note that the result is still not in one hot encoding format\n",
    "train_label = np.asarray(ltrain_label)\n",
    "\n",
    "# define number of samples\n",
    "# num_samples = train_dataset.shape[0]\n",
    "\n",
    "if det == False:\n",
    "    # select to use ND or D case here\n",
    "    # create now array to be filled by the encoded label\n",
    "    train_label_int = [[int(i) for i in l] for l in ltrain_label]\n",
    "    action_setlist = sorted(set(x for l in train_label_int for x in l))\n",
    "    num_label = len(action_setlist)\n",
    "    train_label_hot = np.zeros([num_samples, num_label], dtype=np.float32)\n",
    "    for i,actions in enumerate(train_label_int):\n",
    "        for action in actions:\n",
    "            train_label_hot[i, action_setlist.index(action)] = 1\n",
    "else:\n",
    "    train_label_hot = train_label[:, None].astype(np.uint8)"
   ]
  },
  {
   "cell_type": "code",
   "execution_count": 5,
   "metadata": {},
   "outputs": [
    {
     "data": {
      "text/plain": [
       "(48018,)"
      ]
     },
     "execution_count": 5,
     "metadata": {},
     "output_type": "execute_result"
    }
   ],
   "source": [
    "train_dataset.shape"
   ]
  },
  {
   "cell_type": "code",
   "execution_count": 6,
   "metadata": {},
   "outputs": [
    {
     "data": {
      "text/plain": [
       "(48018, 18)"
      ]
     },
     "execution_count": 6,
     "metadata": {},
     "output_type": "execute_result"
    }
   ],
   "source": [
    "train_label_hot.shape"
   ]
  },
  {
   "cell_type": "code",
   "execution_count": 7,
   "metadata": {},
   "outputs": [],
   "source": [
    "train_dataset_dim = train_dataset[:, None]\n",
    "# slice the samples\n",
    "train_sliced = train_dataset_dim[:upper_limit]\n",
    "# change it to init\n",
    "train_sliced_int = train_sliced.astype(np.uint32)\n",
    "# split to 4 bytes\n",
    "tsi8_unordered = train_sliced_int.view(np.uint8)\n",
    "# little endian format\n",
    "tsi8 = np.flip(tsi8_unordered,1)\n",
    "# unpack\n",
    "toy_vehicle_input_unreduced = np.unpackbits(tsi8).reshape(-1,32)\n",
    "\n",
    "# get index of MSB\n",
    "msb = len(bin(int(np.max(train_dataset_dim))))-2\n",
    "# get total bit\n",
    "total_bit = toy_vehicle_input_unreduced.shape[1]\n",
    "# reduce to the minimal binary representation\n",
    "toy_vehicle_input = toy_vehicle_input_unreduced[:, np.arange(total_bit-msb,total_bit)]\n",
    "\n",
    "num_label = train_label_hot.shape[1]\n",
    "\n",
    "input_size = toy_vehicle_input.shape[1]\n",
    "\n",
    "train_dataset_reform = toy_vehicle_input"
   ]
  },
  {
   "cell_type": "code",
   "execution_count": 8,
   "metadata": {},
   "outputs": [
    {
     "data": {
      "text/plain": [
       "(48018, 17)"
      ]
     },
     "execution_count": 8,
     "metadata": {},
     "output_type": "execute_result"
    }
   ],
   "source": [
    "train_dataset_reform.shape"
   ]
  },
  {
   "cell_type": "code",
   "execution_count": 9,
   "metadata": {},
   "outputs": [],
   "source": [
    "def accuracy_softmax(predictions, labels):\n",
    "  return (100.0 * np.sum(np.argmax(predictions, 1) == np.argmax(labels, 1))\n",
    "          / predictions.shape[0])\n",
    "\n",
    "def accuracy_multilabel(predictions, labels):\n",
    "  return (100.0 * np.mean(predictions == labels))\n",
    "\n",
    "def accuracy_multilabel_softmax(predictions, labels):\n",
    "    predictions_soft = np.zeros_like(predictions)\n",
    "    predictions_soft[np.arange(len(predictions)), predictions.argmax(1)] = 1\n",
    "    return (100.0*np.mean(labels[np.arange(len(labels)), predictions_soft.argmax(1)]))\n"
   ]
  },
  {
   "cell_type": "code",
   "execution_count": 10,
   "metadata": {},
   "outputs": [
    {
     "name": "stdout",
     "output_type": "stream",
     "text": [
      "1024\n",
      "47.0\n"
     ]
    }
   ],
   "source": [
    "tf.reset_default_graph()\n",
    "batch_size = 1024 #  num_samples # (num_samples//20) # 113*6 # num_samples\n",
    "num_batches = np.ceil(num_samples/batch_size)\n",
    "print(batch_size)\n",
    "print(num_batches)"
   ]
  },
  {
   "cell_type": "code",
   "execution_count": 11,
   "metadata": {},
   "outputs": [],
   "source": [
    "hidden_size = 128\n",
    "hidden_size2 = 128\n",
    "hidden_size3 = 128\n",
    "hidden_size4 = 128\n",
    "\n",
    "# with tf.device('/device:GPU:0'):\n",
    "# Input data. For the training data, we use a placeholder that will be fed\n",
    "# at run time with a training minibatch.\n",
    "# tf_train_dataset = tf.placeholder(tf.float32, shape=(batch_size, input_size))\n",
    "# tf_train_labels = tf.placeholder(tf.float32, shape=(batch_size, num_label))\n",
    "tf_train_dataset = tf.placeholder(tf.float32, shape=(None, input_size))\n",
    "tf_train_labels = tf.placeholder(tf.float32, shape=(None, num_label))\n",
    "dropout_prob = tf.placeholder(tf.float32)\n",
    "\n",
    "# Variables.\n",
    "weights1 = tf.Variable(tf.truncated_normal([input_size, hidden_size]))\n",
    "biases1 = tf.Variable(tf.zeros([hidden_size]))\n",
    "\n",
    "# weights2 = tf.Variable(tf.truncated_normal([hidden_size, num_label]))\n",
    "# biases2 = tf.Variable(tf.zeros([num_label]))\n",
    "\n",
    "weights2 = tf.Variable(tf.truncated_normal([hidden_size, hidden_size2]))\n",
    "biases2 = tf.Variable(tf.zeros([hidden_size2]))\n",
    "\n",
    "# weights3 = tf.Variable(tf.truncated_normal([hidden_size2, num_label]))\n",
    "# biases3 = tf.Variable(tf.zeros([num_label]))\n",
    "weights3 = tf.Variable(tf.truncated_normal([hidden_size2, hidden_size3]))\n",
    "biases3 = tf.Variable(tf.zeros([hidden_size3]))\n",
    "\n",
    "# weights4 = tf.Variable(tf.truncated_normal([hidden_size3, num_label]))\n",
    "# biases4 = tf.Variable(tf.zeros([num_label]))\n",
    "weights4 = tf.Variable(tf.truncated_normal([hidden_size3, hidden_size4]))\n",
    "biases4 = tf.Variable(tf.zeros([hidden_size4]))\n",
    "\n",
    "weights5 = tf.Variable(tf.truncated_normal([hidden_size4, num_label]))\n",
    "biases5 = tf.Variable(tf.zeros([num_label]))\n",
    "\n",
    "# Training computation.\n",
    "logits1 = tf.matmul(tf_train_dataset, weights1) + biases1  \n",
    "relu_act_func_d = tf.nn.sigmoid(logits1)\n",
    "relu_act_func = tf.nn.dropout(relu_act_func_d, dropout_prob)\n",
    "\n",
    "logits2 = tf.matmul(relu_act_func, weights2) + biases2\n",
    "relu_act_func2_d = tf.nn.sigmoid(logits2)\n",
    "relu_act_func2 = tf.nn.dropout(relu_act_func2_d, dropout_prob)\n",
    "\n",
    "logits3 = tf.matmul(relu_act_func2, weights3) + biases3\n",
    "\n",
    "relu_act_func3 = tf.nn.sigmoid(logits3)\n",
    "logits4 = tf.matmul(relu_act_func3, weights4) + biases4\n",
    "\n",
    "relu_act_func4 = tf.nn.sigmoid(logits4)\n",
    "logits5 = tf.matmul(relu_act_func4, weights5) + biases5\n",
    "\n",
    "logits = logits5\n",
    "# train_prediction = tf.round(tf.sigmoid(logits))\n",
    "train_prediction = (tf.nn.softmax(logits))\n",
    "\n",
    "# loss calculation\n",
    "# loss = tf.reduce_mean(tf.nn.softmax_cross_entropy_with_logits_v2(labels=tf_train_labels, logits=logits))\n",
    "loss = tf.reduce_mean(tf.nn.sigmoid_cross_entropy_with_logits(labels=tf_train_labels, logits=logits))\n",
    "\n",
    "loss_summary = tf.summary.scalar('loss', loss)\n",
    "# optimizer = tf.train.GradientDescentOptimizer(0.0001).minimize(loss)\n",
    "optimizer = tf.train.AdamOptimizer(0.0015).minimize(loss)\n"
   ]
  },
  {
   "cell_type": "code",
   "execution_count": 22,
   "metadata": {},
   "outputs": [
    {
     "data": {
      "image/png": "[encoded data removed]",
      "text/plain": [
       "<Figure size 864x576 with 2 Axes>"
      ]
     },
     "metadata": {},
     "output_type": "display_data"
    },
    {
     "name": "stdout",
     "output_type": "stream",
     "text": [
      "Epoch:  7467, Loss: 0.001378, Accuracy: 99.99%\n",
      "batch_limit   1024 Training Acc:   100.00   100.00   100.00%\n",
      "batch_limit   2048 Training Acc:   100.00   200.00   100.00%\n",
      "batch_limit   3072 Training Acc:    99.90   299.90    99.97%\n",
      "batch_limit   4096 Training Acc:    99.90   399.80    99.95%\n",
      "batch_limit   5120 Training Acc:    99.90   499.71    99.94%\n",
      "batch_limit   6144 Training Acc:   100.00   599.71    99.95%\n",
      "batch_limit   7168 Training Acc:   100.00   699.71    99.96%\n",
      "batch_limit   8192 Training Acc:   100.00   799.71    99.96%\n",
      "batch_limit   9216 Training Acc:   100.00   899.71    99.97%\n",
      "batch_limit  10240 Training Acc:   100.00   999.71    99.97%\n",
      "batch_limit  11264 Training Acc:   100.00  1099.71    99.97%\n",
      "batch_limit  12288 Training Acc:   100.00  1199.71    99.98%\n",
      "batch_limit  13312 Training Acc:   100.00  1299.71    99.98%\n",
      "batch_limit  14336 Training Acc:   100.00  1399.71    99.98%\n",
      "batch_limit  15360 Training Acc:   100.00  1499.71    99.98%\n",
      "batch_limit  16384 Training Acc:   100.00  1599.71    99.98%\n",
      "batch_limit  17408 Training Acc:   100.00  1699.71    99.98%\n",
      "batch_limit  18432 Training Acc:   100.00  1799.71    99.98%\n",
      "batch_limit  19456 Training Acc:   100.00  1899.71    99.98%\n",
      "batch_limit  20480 Training Acc:   100.00  1999.71    99.99%\n",
      "batch_limit  21504 Training Acc:   100.00  2099.71    99.99%\n",
      "batch_limit  22528 Training Acc:   100.00  2199.71    99.99%\n",
      "batch_limit  23552 Training Acc:   100.00  2299.71    99.99%\n",
      "batch_limit  24576 Training Acc:   100.00  2399.71    99.99%\n",
      "batch_limit  25600 Training Acc:   100.00  2499.71    99.99%\n",
      "batch_limit  26624 Training Acc:   100.00  2599.71    99.99%\n",
      "batch_limit  27648 Training Acc:   100.00  2699.71    99.99%\n",
      "batch_limit  28672 Training Acc:   100.00  2799.71    99.99%\n",
      "batch_limit  29696 Training Acc:    99.90  2899.61    99.99%\n",
      "batch_limit  30720 Training Acc:   100.00  2999.61    99.99%\n",
      "batch_limit  31744 Training Acc:   100.00  3099.61    99.99%\n",
      "batch_limit  32768 Training Acc:   100.00  3199.61    99.99%\n",
      "batch_limit  33792 Training Acc:   100.00  3299.61    99.99%\n",
      "batch_limit  34816 Training Acc:   100.00  3399.61    99.99%\n",
      "batch_limit  35840 Training Acc:   100.00  3499.61    99.99%\n",
      "batch_limit  36864 Training Acc:   100.00  3599.61    99.99%\n",
      "batch_limit  37888 Training Acc:   100.00  3699.61    99.99%\n",
      "batch_limit  38912 Training Acc:   100.00  3799.61    99.99%\n",
      "batch_limit  39936 Training Acc:   100.00  3899.61    99.99%\n",
      "batch_limit  40960 Training Acc:   100.00  3999.61    99.99%\n",
      "batch_limit  41984 Training Acc:   100.00  4099.61    99.99%\n",
      "batch_limit  43008 Training Acc:   100.00  4199.61    99.99%\n",
      "batch_limit  44032 Training Acc:   100.00  4299.61    99.99%\n",
      "batch_limit  45056 Training Acc:   100.00  4399.61    99.99%\n",
      "batch_limit  46080 Training Acc:   100.00  4499.61    99.99%\n",
      "batch_limit  47104 Training Acc:   100.00  4599.61    99.99%\n",
      "batch_limit  48018 Training Acc:   100.00  4699.61    99.99%\n",
      "99.99168882978724\n"
     ]
    }
   ],
   "source": [
    "loss_history = []\n",
    "acc_history = []\n",
    "liveplot = PlotLosses()\n",
    "\n",
    "acc = 0\n",
    "acc_cum = 0\n",
    "acc_temp = 0\n",
    "epoch_idx = 0\n",
    "loss_disp_true = False\n",
    "loss_avg = 0.0\n",
    "old_loss_avg = 0.0\n",
    "loss_cum = 0.0\n",
    "need_one_more_iteration = True\n",
    "\n",
    "early_stop_loss_counter = 0\n",
    "not_early_stop = True\n",
    "\n",
    "acc_stop = 99.99\n",
    "\n",
    "with tf.Session() as session:\n",
    "# with tf.Session(config=tf.ConfigProto(log_device_placement=True)) as session:\n",
    "#with tf.Session(graph=graph) as session:\n",
    "    tf.global_variables_initializer().run()\n",
    "    print(\"Initialized\")\n",
    "    while (((acc < acc_stop) or need_one_more_iteration) and not_early_stop):\n",
    "        if (acc >= acc_stop):\n",
    "            need_one_more_iteration = False\n",
    "        else:\n",
    "            need_one_more_iteration = True\n",
    "            \n",
    "        epoch_idx += 1\n",
    "        acc_cum = 0\n",
    "        for step in range(int(num_batches)):\n",
    "            # Pick an offset within the training data, which has been randomized.\n",
    "            # Note: we could use better randomization across epochs.\n",
    "        \n",
    "            offset = (step * batch_size)\n",
    "            \n",
    "            if num_samples > offset + batch_size:\n",
    "                batch_limit = offset + batch_size\n",
    "            else:\n",
    "                batch_limit = num_samples\n",
    "                loss_disp_true = True\n",
    "                       \n",
    "            # offset = np.random.randint(num_samples - batch_size , size = 1)[0]\n",
    "            # Generate a minibatch.\n",
    "            batch_data = train_dataset_reform[offset:(batch_limit), :]\n",
    "            batch_labels = train_label_hot[offset:(batch_limit), :]\n",
    "\n",
    "            # print(offset)\n",
    "            # Prepare a dictionary telling the session where to feed the minibatch.\n",
    "            # The key of the dictionary is the placeholder node of the graph to be fed,\n",
    "            # and the value is the numpy array to feed to it.\n",
    "            feed_dict = {tf_train_dataset : batch_data, tf_train_labels : batch_labels, dropout_prob : 1}\n",
    "            _, l, predictions, added_summary, logits_check = session.run(\n",
    "                [optimizer, loss, train_prediction, loss_summary, logits], feed_dict=feed_dict)\n",
    "\n",
    "            # writer.add_summary(added_summary)\n",
    "            acc_temp =  accuracy_multilabel_softmax(predictions, batch_labels)\n",
    "            acc_cum += acc_temp\n",
    "            acc = acc_cum/(step+1)\n",
    "            loss_cum += l\n",
    "            if loss_disp_true:\n",
    "                loss_disp_true = False\n",
    "                loss_avg = loss_cum/num_batches\n",
    "                loss_cum = 0\n",
    "                loss_history.append(loss_avg)\n",
    "                acc_history.append(acc)\n",
    "                liveplot.update({\n",
    "                    'accuracy': acc,\n",
    "                    # 'val_accuracy': 1 - np.random.rand() / (i + 0.5),\n",
    "                    'loss': loss_avg,\n",
    "                    # 'val_mse': 1. / (i + 0.5)\n",
    "                })\n",
    "                liveplot.draw()\n",
    "                print(\"Epoch:{0:6d}, Loss: {1:8.6f}, Accuracy:{2:6.2f}%\".format(epoch_idx, loss_avg, acc))\n",
    "                \n",
    "                if loss_avg == old_loss_avg:\n",
    "                    print('stagnan')\n",
    "                    early_stop_loss_counter += 1\n",
    "                    if early_stop_loss_counter == 100:\n",
    "                        not_early_stop = False\n",
    "                    \n",
    "                old_loss_avg = loss_avg\n",
    "                # sleep(0.1)\n",
    "                # print(\"Epoch {0:6d} batch_limit: {1:6d} Loss: {2:8.4f} Training Acc: {3:8.2f} {4:8.2f} {5:8.2f}%\".format(epoch_idx, batch_limit, l, acc_temp, acc_cum, acc))\n",
    "                    \n",
    "    # Do for the test batch\n",
    "    acc = 0\n",
    "    acc_cum = 0\n",
    "    for step in range(int(num_batches)):\n",
    "        # Pick an offset within the training data, which has been randomized.\n",
    "        # Note: we could use better randomization across epochs.\n",
    "        offset = (step * batch_size) #  % (train_label_hot.shape[0] - batch_size)\n",
    "        \n",
    "        if num_samples > offset + batch_size:\n",
    "            batch_limit = offset + batch_size\n",
    "        else:\n",
    "            batch_limit = num_samples\n",
    "            loss_disp_true = True\n",
    "\n",
    "        batch_data = train_dataset_reform[offset:(batch_limit), :]\n",
    "        batch_labels = train_label_hot[offset:(batch_limit), :]\n",
    "        feed_dict = {tf_train_dataset : batch_data, tf_train_labels : batch_labels, dropout_prob : 1}\n",
    "        test_predictions = session.run(train_prediction, feed_dict=feed_dict)\n",
    "        acc_temp = accuracy_multilabel_softmax(test_predictions, batch_labels)\n",
    "        acc_cum = acc_cum + acc_temp\n",
    "        acc = acc_cum/(step+1)\n",
    "        \n",
    "        print(\"batch_limit {0:6d} Training Acc: {1:8.2f} {2:8.2f} {3:8.2f}%\".format(batch_limit, acc_temp, acc_cum, acc))\n",
    "\n",
    "    print(acc)"
   ]
  },
  {
   "cell_type": "code",
   "execution_count": 23,
   "metadata": {},
   "outputs": [
    {
     "data": {
      "text/plain": [
       "[99.98545545212765,\n",
       " 99.98545545212765,\n",
       " 99.98753324468085,\n",
       " 99.98753324468085,\n",
       " 99.98753324468085,\n",
       " 99.98753324468085,\n",
       " 99.98753324468085,\n",
       " 99.98753324468085,\n",
       " 99.98753324468085,\n",
       " 99.98753324468085,\n",
       " 99.98753324468085,\n",
       " 99.98753324468085,\n",
       " 99.98753324468085,\n",
       " 99.98753324468085,\n",
       " 99.98753324468085,\n",
       " 99.98753324468085,\n",
       " 99.98753324468085,\n",
       " 99.98753324468085,\n",
       " 99.98753324468085,\n",
       " 99.98753324468085,\n",
       " 99.98753324468085,\n",
       " 99.98753324468085,\n",
       " 99.98753324468085,\n",
       " 99.98753324468085,\n",
       " 99.98753324468085,\n",
       " 99.98753324468085,\n",
       " 99.98753324468085,\n",
       " 99.98961103723404,\n",
       " 99.98961103723404,\n",
       " 99.98961103723404,\n",
       " 99.98961103723404,\n",
       " 99.98961103723404,\n",
       " 99.98961103723404,\n",
       " 99.98961103723404,\n",
       " 99.98961103723404,\n",
       " 99.98961103723404,\n",
       " 99.98961103723404,\n",
       " 99.98961103723404,\n",
       " 99.98961103723404,\n",
       " 99.98961103723404,\n",
       " 99.98961103723404,\n",
       " 99.98961103723404,\n",
       " 99.98961103723404,\n",
       " 99.98961103723404,\n",
       " 99.98961103723404,\n",
       " 99.98961103723404,\n",
       " 99.99168882978724,\n",
       " 99.98961103723404,\n",
       " 99.99168882978724,\n",
       " 99.99168882978724]"
      ]
     },
     "execution_count": 23,
     "metadata": {},
     "output_type": "execute_result"
    }
   ],
   "source": [
    "acc_history[-50:]"
   ]
  },
  {
   "cell_type": "code",
   "execution_count": null,
   "metadata": {},
   "outputs": [],
   "source": [
    "hidden = str(hidden_size)+str(hidden_size2)"
   ]
  },
  {
   "cell_type": "code",
   "execution_count": null,
   "metadata": {},
   "outputs": [],
   "source": [
    "plt.rcParams['figure.figsize'] = (18.0, 8.0)\n",
    "plt.plot(loss_history)\n",
    "fig.savefig(f.name[:-4]+hidden+'nd_loss.png', dpi = 200)\n",
    "fig = plt.gcf()\n",
    "plt.show()\n",
    "plt.draw()\n"
   ]
  },
  {
   "cell_type": "code",
   "execution_count": null,
   "metadata": {},
   "outputs": [],
   "source": [
    "plt.plot(acc_history)\n",
    "fig.savefig(f.name[:-4]+hidden+'nd_acc.png', dpi = 200)\n",
    "fig = plt.gcf()\n",
    "plt.show()\n",
    "plt.draw()\n"
   ]
  }
 ],
 "metadata": {
  "colab": {
   "default_view": {},
   "name": "2_fullyconnected.ipynb",
   "provenance": [],
   "version": "0.3.2",
   "views": {}
  },
  "kernelspec": {
   "display_name": "tensorflow",
   "language": "python",
   "name": "tensorflow"
  },
  "language_info": {
   "codemirror_mode": {
    "name": "ipython",
    "version": 3
   },
   "file_extension": ".py",
   "mimetype": "text/x-python",
   "name": "python",
   "nbconvert_exporter": "python",
   "pygments_lexer": "ipython3",
   "version": "3.5.5"
  }
 },
 "nbformat": 4,
 "nbformat_minor": 1
}
