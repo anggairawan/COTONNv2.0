{
 "cells": [
  {
   "cell_type": "code",
   "execution_count": 1,
   "metadata": {
    "cellView": "both",
    "colab": {
     "autoexec": {
      "startup": false,
      "wait_interval": 0
     }
    },
    "colab_type": "code",
    "id": "JLpLa8Jt7Vu4"
   },
   "outputs": [],
   "source": [
    "# These are all the modules we'll be using later. Make sure you can import them\n",
    "# before proceeding further.\n",
    "from __future__ import print_function\n",
    "import numpy as np\n",
    "import tensorflow as tf\n",
    "from six.moves import cPickle as pickle\n",
    "from six.moves import range\n",
    "\n",
    "import random\n",
    "import seaborn as sns\n",
    "sns.set_style(\"darkgrid\")\n",
    "\n",
    "import matplotlib.pyplot as plt\n",
    "# plot param\n",
    "%matplotlib inline\n",
    "plt.rcParams['figure.figsize'] = (22.0, 12.0) # set default size of plots\n",
    "plt.rcParams['image.interpolation'] = 'nearest'\n",
    "plt.rcParams['image.cmap'] = 'gray'\n",
    "# plt.style.use('ggplot')"
   ]
  },
  {
   "cell_type": "code",
   "execution_count": null,
   "metadata": {},
   "outputs": [],
   "source": [
    "def create_dataset_from_scots(controller_filename, deterministic = False):\n",
    "    f = open(controller_filename, \"r\")\n",
    "    lines = []\n",
    "    for line in f:\n",
    "        if '#MATRIX:DATA\\n' in line:                \n",
    "            for line in f: # now you are at the lines you want\n",
    "                # skip the #BEGIN \n",
    "                # read the state-actions\n",
    "                lines = f.readlines()\n",
    "    del lines[-1] # delete #END\n",
    "    # take the state as the train dataset\n",
    "    list_train_dataset = []\n",
    "    for x in lines:\n",
    "        list_train_dataset.append(x.split(' ')[0])\n",
    "    # convert to the numpy array with float32 data type\n",
    "    train_dataset = np.asarray(list_train_dataset)\n",
    "    train_dataset = train_dataset.astype(np.float32)\n",
    "    # take action/label pair of the state \n",
    "    # take the action(s) [column 1:-1] / the rest of the integer except the state\n",
    "    list_train_label = []\n",
    "    for x in lines:\n",
    "        if deterministic == False:\n",
    "            list_train_label.append(x.strip().split()[1:])\n",
    "        else:\n",
    "            list_train_label.append(x.strip().split()[1])\n",
    "    # convert to numpy array, note that the result is still not in one hot encoding format\n",
    "    train_label = np.asarray(list_train_label)\n",
    "    # define number of samples\n",
    "    num_samples = train_label.shape[0]\n",
    "    if deterministic == False:\n",
    "        # select to use ND or D case here\n",
    "        # create now array to be filled by the encoded label\n",
    "        train_label_hot = np.zeros([num_samples,2], dtype=np.float32)\n",
    "        # encode label to one hot encoding format\n",
    "        for i in range(num_samples):\n",
    "            if train_label[i] == ['0']:\n",
    "                train_label_hot[i] = [1, 0]\n",
    "            elif train_label[i] == ['1']:\n",
    "                train_label_hot[i] = [0, 1]\n",
    "            elif train_label[i] == ['0','1']:\n",
    "                train_label_hot[i] = [1, 1]\n",
    "    else:\n",
    "        train_label_hot = train_label[:, None].astype(np.uint8)\n",
    "\n",
    "    "
   ]
  },
  {
   "cell_type": "code",
   "execution_count": 100,
   "metadata": {},
   "outputs": [],
   "source": [
    "det = True"
   ]
  },
  {
   "cell_type": "code",
   "execution_count": 127,
   "metadata": {},
   "outputs": [],
   "source": [
    "# parse the controller file\n",
    "f = open('../COTONN/dcdc_small/controller.scs', \"r\")\n",
    "\n",
    "lines = []\n",
    "\n",
    "for line in f:\n",
    "    if '#MATRIX:DATA\\n' in line:                \n",
    "        for line in f: # now you are at the lines you want\n",
    "            # skip the #BEGIN \n",
    "            # read the state-actions\n",
    "            lines = f.readlines()\n",
    "            \n",
    "del lines[-1]\n",
    "\n",
    "# take the state as the train dataset\n",
    "ltrain_dataset = []\n",
    "for x in lines:\n",
    "    ltrain_dataset.append(x.split(' ')[0])\n",
    "# del ltrain_dataset[-1] # delete the string #END at the end of the file \n",
    "\n",
    "# convert to the numpy array with float32 data type\n",
    "train_dataset = np.asarray(ltrain_dataset)\n",
    "train_dataset = train_dataset.astype(np.float32)\n",
    "\n",
    "# take action/label pair of the state \n",
    "# take the action(s) [column 1:-1] / the rest of the integer except the state\n",
    "ltrain_label = []\n",
    "for x in lines:\n",
    "    if det == False:\n",
    "        ltrain_label.append(x.strip().split()[1:])\n",
    "    else:\n",
    "        ltrain_label.append(x.strip().split()[1])\n",
    "# del ltrain_label[-1] # delete the string #END at the end of the file  \n",
    "\n",
    "# convert to numpy array, note that the result is still not in one hot encoding format\n",
    "train_label = np.asarray(ltrain_label)\n",
    "\n",
    "# define number of samples\n",
    "num_samples = train_dataset.shape[0]\n",
    "\n",
    "if det == False:\n",
    "    # select to use ND or D case here\n",
    "    # create now array to be filled by the encoded label\n",
    "    train_label_hot = np.zeros([num_samples,2], dtype=np.float32)\n",
    "\n",
    "    # encode label to one hot encoding format\n",
    "    for i in range(num_samples):\n",
    "        if train_label[i] == ['0']:\n",
    "            train_label_hot[i] = [1, 0]\n",
    "        elif train_label[i] == ['1']:\n",
    "            train_label_hot[i] = [0, 1]\n",
    "        elif train_label[i] == ['0','1']:\n",
    "            train_label_hot[i] = [1, 1]\n",
    "else:\n",
    "    train_label_hot = train_label[:, None].astype(np.uint8)\n",
    "    \n"
   ]
  },
  {
   "cell_type": "code",
   "execution_count": 44,
   "metadata": {},
   "outputs": [
    {
     "data": {
      "text/plain": [
       "2"
      ]
     },
     "execution_count": 44,
     "metadata": {},
     "output_type": "execute_result"
    }
   ],
   "source": [
    "len(max(ltrain_label,key=len))"
   ]
  },
  {
   "cell_type": "code",
   "execution_count": 49,
   "metadata": {},
   "outputs": [],
   "source": [
    "label_array = np.array([np.array(actions) for actions in ltrain_label])"
   ]
  },
  {
   "cell_type": "code",
   "execution_count": 54,
   "metadata": {},
   "outputs": [
    {
     "ename": "ValueError",
     "evalue": "setting an array element with a sequence.",
     "output_type": "error",
     "traceback": [
      "\u001b[1;31m---------------------------------------------------------------------------\u001b[0m",
      "\u001b[1;31mValueError\u001b[0m                                Traceback (most recent call last)",
      "\u001b[1;32m<ipython-input-54-c90ce37197cf>\u001b[0m in \u001b[0;36m<module>\u001b[1;34m()\u001b[0m\n\u001b[1;32m----> 1\u001b[1;33m \u001b[0mlabel_array\u001b[0m\u001b[1;33m.\u001b[0m\u001b[0mastype\u001b[0m\u001b[1;33m(\u001b[0m\u001b[0mnp\u001b[0m\u001b[1;33m.\u001b[0m\u001b[0muint8\u001b[0m\u001b[1;33m)\u001b[0m\u001b[1;33m\u001b[0m\u001b[0m\n\u001b[0m",
      "\u001b[1;31mValueError\u001b[0m: setting an array element with a sequence."
     ]
    }
   ],
   "source": [
    "label_array.astype(np.uint8)"
   ]
  },
  {
   "cell_type": "code",
   "execution_count": 128,
   "metadata": {},
   "outputs": [
    {
     "data": {
      "text/plain": [
       "(8677, 1)"
      ]
     },
     "execution_count": 128,
     "metadata": {},
     "output_type": "execute_result"
    }
   ],
   "source": [
    "train_label_hot.shape"
   ]
  },
  {
   "cell_type": "code",
   "execution_count": 129,
   "metadata": {},
   "outputs": [
    {
     "data": {
      "text/plain": [
       "8677"
      ]
     },
     "execution_count": 129,
     "metadata": {},
     "output_type": "execute_result"
    }
   ],
   "source": [
    "upper_limit = train_dataset.shape[0]\n",
    "upper_limit"
   ]
  },
  {
   "cell_type": "code",
   "execution_count": 130,
   "metadata": {
    "scrolled": false
   },
   "outputs": [
    {
     "data": {
      "text/plain": [
       "array([[1],\n",
       "       [1],\n",
       "       [1],\n",
       "       ...,\n",
       "       [0],\n",
       "       [0],\n",
       "       [0]], dtype=uint8)"
      ]
     },
     "execution_count": 130,
     "metadata": {},
     "output_type": "execute_result"
    }
   ],
   "source": [
    "train_label_hot"
   ]
  },
  {
   "cell_type": "code",
   "execution_count": 131,
   "metadata": {},
   "outputs": [],
   "source": [
    "train_dataset_dim = train_dataset[:, None]\n",
    "# slice the samples\n",
    "train_sliced = train_dataset_dim[:upper_limit]\n",
    "# change it to init\n",
    "train_sliced_int = train_sliced.astype(np.uint32)\n",
    "# split to 4 bytes\n",
    "tsi8_unordered = train_sliced_int.view(np.uint8)\n",
    "# little endian format\n",
    "tsi8 = np.flip(tsi8_unordered,1)\n",
    "# unpack\n",
    "toy_vehicle_input_unreduced = np.unpackbits(tsi8).reshape(-1,32)\n",
    "\n",
    "# get index of MSB\n",
    "msb = len(bin(int(np.max(train_dataset_dim))))-2\n",
    "# get total bit\n",
    "total_bit = toy_vehicle_input_unreduced.shape[1]\n",
    "# reduce to the minimal binary representation\n",
    "toy_vehicle_input = toy_vehicle_input_unreduced[:, np.arange(total_bit-msb,total_bit)]\n",
    "\n",
    "num_label = train_label_hot.shape[1]\n",
    "\n",
    "input_size = toy_vehicle_input.shape[1]\n",
    "\n",
    "train_dataset_reform = toy_vehicle_input"
   ]
  },
  {
   "cell_type": "code",
   "execution_count": 132,
   "metadata": {},
   "outputs": [],
   "source": [
    "def accuracy_softmax(predictions, labels):\n",
    "  return (100.0 * np.sum(np.argmax(predictions, 1) == np.argmax(labels, 1))\n",
    "          / predictions.shape[0])\n",
    "\n",
    "def accuracy_multilabel(predictions, labels):\n",
    "  return (100.0 * np.mean(predictions == labels))"
   ]
  },
  {
   "cell_type": "code",
   "execution_count": 133,
   "metadata": {},
   "outputs": [],
   "source": [
    "tf.reset_default_graph()\n",
    "batch_size = 128 # num_samples # (num_samples//20) # 113*6 # num_samples\n",
    "num_batches = np.ceil(num_samples/batch_size)"
   ]
  },
  {
   "cell_type": "code",
   "execution_count": 134,
   "metadata": {},
   "outputs": [
    {
     "name": "stdout",
     "output_type": "stream",
     "text": [
      "128\n",
      "68.0\n"
     ]
    }
   ],
   "source": [
    "print(batch_size)\n",
    "print(num_batches)"
   ]
  },
  {
   "cell_type": "code",
   "execution_count": 135,
   "metadata": {},
   "outputs": [],
   "source": [
    "hidden_size = 8\n",
    "hidden_size2 = 8\n",
    "\n",
    "# with tf.device('/device:GPU:0'):\n",
    "# Input data. For the training data, we use a placeholder that will be fed\n",
    "# at run time with a training minibatch.\n",
    "# tf_train_dataset = tf.placeholder(tf.float32, shape=(batch_size, input_size))\n",
    "# tf_train_labels = tf.placeholder(tf.float32, shape=(batch_size, num_label))\n",
    "tf_train_dataset = tf.placeholder(tf.float32, shape=(None, input_size))\n",
    "tf_train_labels = tf.placeholder(tf.float32, shape=(None, num_label))\n",
    "dropout_prob = tf.placeholder(tf.float32)\n",
    "\n",
    "# Variables.\n",
    "weights1 = tf.Variable(tf.truncated_normal([input_size, hidden_size]))\n",
    "biases1 = tf.Variable(tf.zeros([hidden_size]))\n",
    "\n",
    "# weights2 = tf.Variable(tf.truncated_normal([hidden_size, num_label]))\n",
    "# biases2 = tf.Variable(tf.zeros([num_label]))\n",
    "\n",
    "weights2 = tf.Variable(tf.truncated_normal([hidden_size, hidden_size2]))\n",
    "biases2 = tf.Variable(tf.zeros([hidden_size2]))\n",
    "\n",
    "weights3 = tf.Variable(tf.truncated_normal([hidden_size2, num_label]))\n",
    "biases3 = tf.Variable(tf.zeros([num_label]))\n",
    "\n",
    "\"\"\"\n",
    "# weights4 = tf.Variable(tf.truncated_normal([hidden_size3, num_label]))\n",
    "# biases4 = tf.Variable(tf.zeros([num_label]))\n",
    "weights4 = tf.Variable(tf.truncated_normal([hidden_size3, hidden_size4]))\n",
    "biases4 = tf.Variable(tf.zeros([hidden_size4]))\n",
    "\n",
    "weights5 = tf.Variable(tf.truncated_normal([hidden_size4, num_label]))\n",
    "biases5 = tf.Variable(tf.zeros([num_label]))\n",
    "\"\"\"\n",
    "\n",
    "# Training computation.\n",
    "logits1 = tf.matmul(tf_train_dataset, weights1) + biases1  \n",
    "relu_act_func_d = tf.nn.sigmoid(logits1)\n",
    "relu_act_func = tf.nn.dropout(relu_act_func_d, dropout_prob)\n",
    "\n",
    "logits2 = tf.matmul(relu_act_func, weights2) + biases2\n",
    "relu_act_func2_d = tf.nn.sigmoid(logits2)\n",
    "relu_act_func2 = tf.nn.dropout(relu_act_func2_d, dropout_prob)\n",
    "\n",
    "logits3 = tf.matmul(relu_act_func2, weights3) + biases3\n",
    "\n",
    "\"\"\"\n",
    "relu_act_func3 = tf.nn.relu(logits3)\n",
    "logits4 = tf.matmul(relu_act_func3, weights4) + biases4\n",
    "\n",
    "relu_act_func4 = tf.nn.relu(logits4)\n",
    "logits5 = tf.matmul(relu_act_func4, weights5) + biases5\n",
    "\"\"\"\n",
    "\n",
    "logits = logits3\n",
    "train_prediction = tf.round(tf.sigmoid(logits))\n",
    "\n",
    "# loss calculation\n",
    "# loss = tf.reduce_mean(tf.nn.softmax_cross_entropy_with_logits_v2(labels=tf_train_labels, logits=logits5))\n",
    "loss = tf.reduce_mean(tf.nn.sigmoid_cross_entropy_with_logits(labels=tf_train_labels, logits=logits))\n",
    "\n",
    "loss_summary = tf.summary.scalar('loss', loss)\n",
    "# optimizer = tf.train.GradientDescentOptimizer(0.0001).minimize(loss)\n",
    "optimizer = tf.train.AdamOptimizer(0.0015).minimize(loss)\n"
   ]
  },
  {
   "cell_type": "code",
   "execution_count": 136,
   "metadata": {},
   "outputs": [
    {
     "name": "stdout",
     "output_type": "stream",
     "text": [
      "Initialized\n",
      "Epoch      1 batch_limit:   8677 Loss:   0.2717 Training Acc:    96.04  5592.13    82.24%\n",
      "Epoch      2 batch_limit:   8677 Loss:   0.2585 Training Acc:    96.04  5592.91    82.25%\n",
      "Epoch      3 batch_limit:   8677 Loss:   0.2555 Training Acc:    96.04  5592.91    82.25%\n",
      "Epoch      4 batch_limit:   8677 Loss:   0.2538 Training Acc:    96.04  5592.91    82.25%\n",
      "Epoch      5 batch_limit:   8677 Loss:   0.2525 Training Acc:    96.04  5592.91    82.25%\n",
      "Epoch      6 batch_limit:   8677 Loss:   0.2514 Training Acc:    96.04  5592.91    82.25%\n",
      "Epoch      7 batch_limit:   8677 Loss:   0.2504 Training Acc:    96.04  5592.91    82.25%\n",
      "Epoch      8 batch_limit:   8677 Loss:   0.2496 Training Acc:    96.04  5592.91    82.25%\n",
      "Epoch      9 batch_limit:   8677 Loss:   0.2488 Training Acc:    96.04  5592.91    82.25%\n",
      "Epoch     10 batch_limit:   8677 Loss:   0.2481 Training Acc:    96.04  5592.91    82.25%\n",
      "Epoch     11 batch_limit:   8677 Loss:   0.2474 Training Acc:    96.04  5592.91    82.25%\n",
      "Epoch     12 batch_limit:   8677 Loss:   0.2468 Training Acc:    96.04  5592.91    82.25%\n",
      "Epoch     13 batch_limit:   8677 Loss:   0.2461 Training Acc:    96.04  5592.91    82.25%\n",
      "Epoch     14 batch_limit:   8677 Loss:   0.2456 Training Acc:    96.04  5592.91    82.25%\n",
      "Epoch     15 batch_limit:   8677 Loss:   0.2450 Training Acc:    96.04  5592.91    82.25%\n",
      "Epoch     16 batch_limit:   8677 Loss:   0.2445 Training Acc:    96.04  5592.91    82.25%\n",
      "Epoch     17 batch_limit:   8677 Loss:   0.2440 Training Acc:    96.04  5592.91    82.25%\n",
      "Epoch     18 batch_limit:   8677 Loss:   0.2435 Training Acc:    96.04  5592.91    82.25%\n",
      "Epoch     19 batch_limit:   8677 Loss:   0.2430 Training Acc:    96.04  5592.91    82.25%\n",
      "Epoch     20 batch_limit:   8677 Loss:   0.2426 Training Acc:    96.04  5592.91    82.25%\n",
      "Epoch     21 batch_limit:   8677 Loss:   0.2422 Training Acc:    96.04  5592.91    82.25%\n",
      "Epoch     22 batch_limit:   8677 Loss:   0.2418 Training Acc:    96.04  5592.91    82.25%\n",
      "Epoch     23 batch_limit:   8677 Loss:   0.2414 Training Acc:    96.04  5592.91    82.25%\n",
      "Epoch     24 batch_limit:   8677 Loss:   0.2410 Training Acc:    96.04  5592.91    82.25%\n",
      "Epoch     25 batch_limit:   8677 Loss:   0.2406 Training Acc:    96.04  5592.91    82.25%\n",
      "Epoch     26 batch_limit:   8677 Loss:   0.2403 Training Acc:    96.04  5592.91    82.25%\n",
      "Epoch     27 batch_limit:   8677 Loss:   0.2400 Training Acc:    96.04  5592.91    82.25%\n",
      "Epoch     28 batch_limit:   8677 Loss:   0.2396 Training Acc:    96.04  5592.91    82.25%\n",
      "Epoch     29 batch_limit:   8677 Loss:   0.2393 Training Acc:    96.04  5592.91    82.25%\n",
      "Epoch     30 batch_limit:   8677 Loss:   0.2390 Training Acc:    96.04  5592.91    82.25%\n",
      "Epoch     31 batch_limit:   8677 Loss:   0.2387 Training Acc:    96.04  5592.91    82.25%\n",
      "Epoch     32 batch_limit:   8677 Loss:   0.2384 Training Acc:    96.04  5592.91    82.25%\n",
      "Epoch     33 batch_limit:   8677 Loss:   0.2381 Training Acc:    96.04  5592.91    82.25%\n",
      "Epoch     34 batch_limit:   8677 Loss:   0.2378 Training Acc:    96.04  5592.91    82.25%\n",
      "Epoch     35 batch_limit:   8677 Loss:   0.2375 Training Acc:    96.04  5592.91    82.25%\n",
      "Epoch     36 batch_limit:   8677 Loss:   0.2372 Training Acc:    96.04  5592.91    82.25%\n",
      "Epoch     37 batch_limit:   8677 Loss:   0.2369 Training Acc:    96.04  5592.91    82.25%\n",
      "Epoch     38 batch_limit:   8677 Loss:   0.2366 Training Acc:    96.04  5592.91    82.25%\n",
      "Epoch     39 batch_limit:   8677 Loss:   0.2364 Training Acc:    96.04  5592.91    82.25%\n",
      "Epoch     40 batch_limit:   8677 Loss:   0.2361 Training Acc:    96.04  5592.91    82.25%\n",
      "Epoch     41 batch_limit:   8677 Loss:   0.2358 Training Acc:    96.04  5592.91    82.25%\n",
      "Epoch     42 batch_limit:   8677 Loss:   0.2355 Training Acc:    96.04  5592.91    82.25%\n",
      "Epoch     43 batch_limit:   8677 Loss:   0.2352 Training Acc:    96.04  5592.91    82.25%\n",
      "Epoch     44 batch_limit:   8677 Loss:   0.2350 Training Acc:    96.04  5592.91    82.25%\n",
      "Epoch     45 batch_limit:   8677 Loss:   0.2347 Training Acc:    96.04  5592.91    82.25%\n",
      "Epoch     46 batch_limit:   8677 Loss:   0.2344 Training Acc:    96.04  5592.91    82.25%\n",
      "Epoch     47 batch_limit:   8677 Loss:   0.2341 Training Acc:    96.04  5592.91    82.25%\n",
      "Epoch     48 batch_limit:   8677 Loss:   0.2338 Training Acc:    96.04  5592.91    82.25%\n",
      "Epoch     49 batch_limit:   8677 Loss:   0.2336 Training Acc:    96.04  5592.91    82.25%\n",
      "Epoch     50 batch_limit:   8677 Loss:   0.2333 Training Acc:    96.04  5592.91    82.25%\n",
      "Epoch     51 batch_limit:   8677 Loss:   0.2330 Training Acc:    96.04  5592.91    82.25%\n",
      "Epoch     52 batch_limit:   8677 Loss:   0.2327 Training Acc:    96.04  5592.91    82.25%\n",
      "Epoch     53 batch_limit:   8677 Loss:   0.2325 Training Acc:    96.04  5592.91    82.25%\n",
      "Epoch     54 batch_limit:   8677 Loss:   0.2322 Training Acc:    96.04  5592.91    82.25%\n",
      "Epoch     55 batch_limit:   8677 Loss:   0.2319 Training Acc:    96.04  5592.91    82.25%\n",
      "Epoch     56 batch_limit:   8677 Loss:   0.2317 Training Acc:    96.04  5592.91    82.25%\n",
      "Epoch     57 batch_limit:   8677 Loss:   0.2314 Training Acc:    96.04  5592.91    82.25%\n",
      "Epoch     58 batch_limit:   8677 Loss:   0.2311 Training Acc:    96.04  5592.91    82.25%\n",
      "Epoch     59 batch_limit:   8677 Loss:   0.2309 Training Acc:    96.04  5592.91    82.25%\n",
      "Epoch     60 batch_limit:   8677 Loss:   0.2306 Training Acc:    96.04  5592.91    82.25%\n",
      "Epoch     61 batch_limit:   8677 Loss:   0.2304 Training Acc:    96.04  5592.91    82.25%\n",
      "Epoch     62 batch_limit:   8677 Loss:   0.2301 Training Acc:    96.04  5592.91    82.25%\n",
      "Epoch     63 batch_limit:   8677 Loss:   0.2299 Training Acc:    96.04  5592.91    82.25%\n",
      "Epoch     64 batch_limit:   8677 Loss:   0.2297 Training Acc:    96.04  5592.91    82.25%\n",
      "Epoch     65 batch_limit:   8677 Loss:   0.2294 Training Acc:    96.04  5592.91    82.25%\n",
      "Epoch     66 batch_limit:   8677 Loss:   0.2292 Training Acc:    96.04  5592.91    82.25%\n",
      "Epoch     67 batch_limit:   8677 Loss:   0.2290 Training Acc:    96.04  5592.91    82.25%\n",
      "Epoch     68 batch_limit:   8677 Loss:   0.2288 Training Acc:    96.04  5592.91    82.25%\n",
      "Epoch     69 batch_limit:   8677 Loss:   0.2285 Training Acc:    96.04  5592.91    82.25%\n",
      "Epoch     70 batch_limit:   8677 Loss:   0.2283 Training Acc:    96.04  5592.91    82.25%\n",
      "Epoch     71 batch_limit:   8677 Loss:   0.2281 Training Acc:    96.04  5592.91    82.25%\n",
      "Epoch     72 batch_limit:   8677 Loss:   0.2279 Training Acc:    96.04  5592.91    82.25%\n",
      "Epoch     73 batch_limit:   8677 Loss:   0.2277 Training Acc:    96.04  5592.91    82.25%\n",
      "Epoch     74 batch_limit:   8677 Loss:   0.2275 Training Acc:    96.04  5592.91    82.25%\n",
      "Epoch     75 batch_limit:   8677 Loss:   0.2274 Training Acc:    96.04  5592.91    82.25%\n",
      "Epoch     76 batch_limit:   8677 Loss:   0.2272 Training Acc:    96.04  5592.91    82.25%\n",
      "Epoch     77 batch_limit:   8677 Loss:   0.2270 Training Acc:    96.04  5592.91    82.25%\n",
      "Epoch     78 batch_limit:   8677 Loss:   0.2268 Training Acc:    96.04  5592.91    82.25%\n",
      "Epoch     79 batch_limit:   8677 Loss:   0.2266 Training Acc:    96.04  5592.91    82.25%\n",
      "Epoch     80 batch_limit:   8677 Loss:   0.2265 Training Acc:    96.04  5592.91    82.25%\n",
      "Epoch     81 batch_limit:   8677 Loss:   0.2263 Training Acc:    96.04  5592.91    82.25%\n",
      "Epoch     82 batch_limit:   8677 Loss:   0.2261 Training Acc:    96.04  5592.91    82.25%\n",
      "Epoch     83 batch_limit:   8677 Loss:   0.2260 Training Acc:    96.04  5592.91    82.25%\n",
      "Epoch     84 batch_limit:   8677 Loss:   0.2258 Training Acc:    96.04  5592.91    82.25%\n",
      "Epoch     85 batch_limit:   8677 Loss:   0.2256 Training Acc:    96.04  5592.91    82.25%\n",
      "Epoch     86 batch_limit:   8677 Loss:   0.2255 Training Acc:    96.04  5592.91    82.25%\n",
      "Epoch     87 batch_limit:   8677 Loss:   0.2253 Training Acc:    96.04  5592.91    82.25%\n",
      "Epoch     88 batch_limit:   8677 Loss:   0.2252 Training Acc:    96.04  5592.91    82.25%\n",
      "Epoch     89 batch_limit:   8677 Loss:   0.2250 Training Acc:    96.04  5592.91    82.25%\n",
      "Epoch     90 batch_limit:   8677 Loss:   0.2249 Training Acc:    96.04  5592.91    82.25%\n",
      "Epoch     91 batch_limit:   8677 Loss:   0.2247 Training Acc:    96.04  5592.91    82.25%\n"
     ]
    },
    {
     "name": "stdout",
     "output_type": "stream",
     "text": [
      "Epoch     92 batch_limit:   8677 Loss:   0.2246 Training Acc:    96.04  5592.91    82.25%\n",
      "Epoch     93 batch_limit:   8677 Loss:   0.2244 Training Acc:    96.04  5592.91    82.25%\n",
      "Epoch     94 batch_limit:   8677 Loss:   0.2243 Training Acc:    96.04  5592.91    82.25%\n",
      "Epoch     95 batch_limit:   8677 Loss:   0.2241 Training Acc:    96.04  5592.91    82.25%\n",
      "Epoch     96 batch_limit:   8677 Loss:   0.2240 Training Acc:    96.04  5592.91    82.25%\n",
      "Epoch     97 batch_limit:   8677 Loss:   0.2238 Training Acc:    96.04  5592.91    82.25%\n",
      "Epoch     98 batch_limit:   8677 Loss:   0.2237 Training Acc:    96.04  5592.91    82.25%\n",
      "Epoch     99 batch_limit:   8677 Loss:   0.2235 Training Acc:    96.04  5592.91    82.25%\n",
      "Epoch    100 batch_limit:   8677 Loss:   0.2234 Training Acc:    96.04  5592.91    82.25%\n",
      "Epoch    101 batch_limit:   8677 Loss:   0.2232 Training Acc:    96.04  5592.91    82.25%\n",
      "Epoch    102 batch_limit:   8677 Loss:   0.2231 Training Acc:    96.04  5592.91    82.25%\n",
      "Epoch    103 batch_limit:   8677 Loss:   0.2229 Training Acc:    96.04  5592.91    82.25%\n",
      "Epoch    104 batch_limit:   8677 Loss:   0.2228 Training Acc:    96.04  5592.91    82.25%\n",
      "Epoch    105 batch_limit:   8677 Loss:   0.2226 Training Acc:    96.04  5592.91    82.25%\n",
      "Epoch    106 batch_limit:   8677 Loss:   0.2224 Training Acc:    96.04  5592.91    82.25%\n",
      "Epoch    107 batch_limit:   8677 Loss:   0.2223 Training Acc:    96.04  5592.91    82.25%\n",
      "Epoch    108 batch_limit:   8677 Loss:   0.2221 Training Acc:    96.04  5592.91    82.25%\n",
      "Epoch    109 batch_limit:   8677 Loss:   0.2219 Training Acc:    96.04  5592.91    82.25%\n",
      "Epoch    110 batch_limit:   8677 Loss:   0.2217 Training Acc:    96.04  5592.91    82.25%\n",
      "Epoch    111 batch_limit:   8677 Loss:   0.2216 Training Acc:    96.04  5592.91    82.25%\n",
      "Epoch    112 batch_limit:   8677 Loss:   0.2214 Training Acc:    96.04  5592.91    82.25%\n",
      "Epoch    113 batch_limit:   8677 Loss:   0.2212 Training Acc:    96.04  5592.91    82.25%\n",
      "Epoch    114 batch_limit:   8677 Loss:   0.2210 Training Acc:    96.04  5592.91    82.25%\n",
      "Epoch    115 batch_limit:   8677 Loss:   0.2208 Training Acc:    96.04  5592.91    82.25%\n",
      "Epoch    116 batch_limit:   8677 Loss:   0.2206 Training Acc:    96.04  5592.91    82.25%\n",
      "Epoch    117 batch_limit:   8677 Loss:   0.2204 Training Acc:    96.04  5592.91    82.25%\n",
      "Epoch    118 batch_limit:   8677 Loss:   0.2202 Training Acc:    96.04  5592.91    82.25%\n",
      "Epoch    119 batch_limit:   8677 Loss:   0.2199 Training Acc:    96.04  5592.91    82.25%\n",
      "Epoch    120 batch_limit:   8677 Loss:   0.2197 Training Acc:    96.04  5592.91    82.25%\n",
      "Epoch    121 batch_limit:   8677 Loss:   0.2195 Training Acc:    96.04  5593.70    82.26%\n",
      "Epoch    122 batch_limit:   8677 Loss:   0.2192 Training Acc:    96.04  5593.70    82.26%\n",
      "Epoch    123 batch_limit:   8677 Loss:   0.2190 Training Acc:    96.04  5593.70    82.26%\n",
      "Epoch    124 batch_limit:   8677 Loss:   0.2187 Training Acc:    96.04  5593.70    82.26%\n",
      "Epoch    125 batch_limit:   8677 Loss:   0.2184 Training Acc:    96.04  5593.70    82.26%\n",
      "Epoch    126 batch_limit:   8677 Loss:   0.2182 Training Acc:    96.04  5594.48    82.27%\n",
      "Epoch    127 batch_limit:   8677 Loss:   0.2179 Training Acc:    96.04  5595.26    82.28%\n",
      "Epoch    128 batch_limit:   8677 Loss:   0.2176 Training Acc:    96.04  5595.26    82.28%\n",
      "Epoch    129 batch_limit:   8677 Loss:   0.2173 Training Acc:    96.04  5596.04    82.29%\n",
      "Epoch    130 batch_limit:   8677 Loss:   0.2169 Training Acc:    96.04  5597.60    82.32%\n",
      "Epoch    131 batch_limit:   8677 Loss:   0.2166 Training Acc:    96.04  5599.16    82.34%\n",
      "Epoch    132 batch_limit:   8677 Loss:   0.2163 Training Acc:    96.04  5599.16    82.34%\n",
      "Epoch    133 batch_limit:   8677 Loss:   0.2159 Training Acc:    96.04  5599.16    82.34%\n",
      "Epoch    134 batch_limit:   8677 Loss:   0.2156 Training Acc:    96.04  5599.95    82.35%\n",
      "Epoch    135 batch_limit:   8677 Loss:   0.2152 Training Acc:    96.04  5600.73    82.36%\n",
      "Epoch    136 batch_limit:   8677 Loss:   0.2148 Training Acc:    96.04  5601.51    82.38%\n",
      "Epoch    137 batch_limit:   8677 Loss:   0.2144 Training Acc:    96.04  5602.29    82.39%\n",
      "Epoch    138 batch_limit:   8677 Loss:   0.2140 Training Acc:    96.04  5603.85    82.41%\n",
      "Epoch    139 batch_limit:   8677 Loss:   0.2136 Training Acc:    96.04  5605.41    82.43%\n",
      "Epoch    140 batch_limit:   8677 Loss:   0.2132 Training Acc:    96.04  5606.20    82.44%\n",
      "Epoch    141 batch_limit:   8677 Loss:   0.2127 Training Acc:    96.04  5606.98    82.46%\n",
      "Epoch    142 batch_limit:   8677 Loss:   0.2123 Training Acc:    96.04  5607.76    82.47%\n",
      "Epoch    143 batch_limit:   8677 Loss:   0.2118 Training Acc:    96.04  5607.76    82.47%\n",
      "Epoch    144 batch_limit:   8677 Loss:   0.2113 Training Acc:    96.04  5608.54    82.48%\n",
      "Epoch    145 batch_limit:   8677 Loss:   0.2109 Training Acc:    96.04  5609.32    82.49%\n",
      "Epoch    146 batch_limit:   8677 Loss:   0.2104 Training Acc:    96.04  5611.66    82.52%\n",
      "Epoch    147 batch_limit:   8677 Loss:   0.2099 Training Acc:    96.04  5613.23    82.55%\n",
      "Epoch    148 batch_limit:   8677 Loss:   0.2094 Training Acc:    96.04  5614.79    82.57%\n",
      "Epoch    149 batch_limit:   8677 Loss:   0.2088 Training Acc:    96.04  5615.57    82.58%\n",
      "Epoch    150 batch_limit:   8677 Loss:   0.2083 Training Acc:    96.04  5615.57    82.58%\n",
      "Epoch    151 batch_limit:   8677 Loss:   0.2078 Training Acc:    96.04  5617.91    82.62%\n",
      "Epoch    152 batch_limit:   8677 Loss:   0.2072 Training Acc:    96.04  5617.91    82.62%\n",
      "Epoch    153 batch_limit:   8677 Loss:   0.2066 Training Acc:    96.04  5618.70    82.63%\n",
      "Epoch    154 batch_limit:   8677 Loss:   0.2061 Training Acc:    96.04  5621.04    82.66%\n",
      "Epoch    155 batch_limit:   8677 Loss:   0.2055 Training Acc:    96.04  5625.73    82.73%\n",
      "Epoch    156 batch_limit:   8677 Loss:   0.2049 Training Acc:    96.04  5627.29    82.75%\n",
      "Epoch    157 batch_limit:   8677 Loss:   0.2043 Training Acc:    96.04  5626.51    82.74%\n",
      "Epoch    158 batch_limit:   8677 Loss:   0.2037 Training Acc:    96.04  5628.85    82.78%\n",
      "Epoch    159 batch_limit:   8677 Loss:   0.2031 Training Acc:    96.04  5631.20    82.81%\n",
      "Epoch    160 batch_limit:   8677 Loss:   0.2024 Training Acc:    96.04  5633.54    82.85%\n",
      "Epoch    161 batch_limit:   8677 Loss:   0.2018 Training Acc:    96.04  5635.88    82.88%\n",
      "Epoch    162 batch_limit:   8677 Loss:   0.2011 Training Acc:    96.04  5635.10    82.87%\n",
      "Epoch    163 batch_limit:   8677 Loss:   0.2004 Training Acc:    96.04  5638.23    82.92%\n",
      "Epoch    164 batch_limit:   8677 Loss:   0.1998 Training Acc:    96.04  5638.23    82.92%\n",
      "Epoch    165 batch_limit:   8677 Loss:   0.1991 Training Acc:    96.04  5639.01    82.93%\n",
      "Epoch    166 batch_limit:   8677 Loss:   0.1984 Training Acc:    96.04  5639.01    82.93%\n",
      "Epoch    167 batch_limit:   8677 Loss:   0.1977 Training Acc:    96.04  5639.01    82.93%\n",
      "Epoch    168 batch_limit:   8677 Loss:   0.1969 Training Acc:    96.04  5640.57    82.95%\n",
      "Epoch    169 batch_limit:   8677 Loss:   0.1962 Training Acc:    96.04  5641.35    82.96%\n",
      "Epoch    170 batch_limit:   8677 Loss:   0.1954 Training Acc:    96.04  5642.13    82.97%\n",
      "Epoch    171 batch_limit:   8677 Loss:   0.1947 Training Acc:    96.04  5645.26    83.02%\n",
      "Epoch    172 batch_limit:   8677 Loss:   0.1939 Training Acc:    96.04  5648.38    83.06%\n",
      "Epoch    173 batch_limit:   8677 Loss:   0.1931 Training Acc:    96.04  5649.95    83.09%\n",
      "Epoch    174 batch_limit:   8677 Loss:   0.1923 Training Acc:    96.04  5650.73    83.10%\n",
      "Epoch    175 batch_limit:   8677 Loss:   0.1914 Training Acc:    96.04  5653.07    83.13%\n",
      "Epoch    176 batch_limit:   8677 Loss:   0.1906 Training Acc:    96.04  5654.63    83.16%\n",
      "Epoch    177 batch_limit:   8677 Loss:   0.1898 Training Acc:    96.04  5656.98    83.19%\n",
      "Epoch    178 batch_limit:   8677 Loss:   0.1889 Training Acc:    96.04  5658.54    83.21%\n",
      "Epoch    179 batch_limit:   8677 Loss:   0.1881 Training Acc:    96.04  5660.10    83.24%\n",
      "Epoch    180 batch_limit:   8677 Loss:   0.1872 Training Acc:    96.04  5660.88    83.25%\n",
      "Epoch    181 batch_limit:   8677 Loss:   0.1863 Training Acc:    96.04  5660.10    83.24%\n",
      "Epoch    182 batch_limit:   8677 Loss:   0.1855 Training Acc:    96.04  5662.45    83.27%\n",
      "Epoch    183 batch_limit:   8677 Loss:   0.1846 Training Acc:    96.04  5664.01    83.29%\n"
     ]
    },
    {
     "name": "stdout",
     "output_type": "stream",
     "text": [
      "Epoch    184 batch_limit:   8677 Loss:   0.1837 Training Acc:    96.04  5666.35    83.33%\n",
      "Epoch    185 batch_limit:   8677 Loss:   0.1828 Training Acc:    96.04  5668.70    83.36%\n",
      "Epoch    186 batch_limit:   8677 Loss:   0.1819 Training Acc:    96.04  5667.13    83.34%\n",
      "Epoch    187 batch_limit:   8677 Loss:   0.1811 Training Acc:    96.04  5669.48    83.37%\n",
      "Epoch    188 batch_limit:   8677 Loss:   0.1802 Training Acc:    96.04  5669.48    83.37%\n",
      "Epoch    189 batch_limit:   8677 Loss:   0.1793 Training Acc:    96.04  5669.48    83.37%\n",
      "Epoch    190 batch_limit:   8677 Loss:   0.1785 Training Acc:    96.04  5667.91    83.35%\n",
      "Epoch    191 batch_limit:   8677 Loss:   0.1776 Training Acc:    96.04  5667.91    83.35%\n",
      "Epoch    192 batch_limit:   8677 Loss:   0.1768 Training Acc:    96.04  5668.70    83.36%\n",
      "Epoch    193 batch_limit:   8677 Loss:   0.1760 Training Acc:    96.04  5669.48    83.37%\n",
      "Epoch    194 batch_limit:   8677 Loss:   0.1751 Training Acc:    96.04  5673.38    83.43%\n",
      "Epoch    195 batch_limit:   8677 Loss:   0.1743 Training Acc:    96.04  5681.20    83.55%\n",
      "Epoch    196 batch_limit:   8677 Loss:   0.1735 Training Acc:    96.04  5683.54    83.58%\n",
      "Epoch    197 batch_limit:   8677 Loss:   0.1727 Training Acc:    96.04  5685.88    83.62%\n",
      "Epoch    198 batch_limit:   8677 Loss:   0.1719 Training Acc:    96.04  5687.45    83.64%\n",
      "Epoch    199 batch_limit:   8677 Loss:   0.1712 Training Acc:    96.04  5691.35    83.70%\n",
      "Epoch    200 batch_limit:   8677 Loss:   0.1704 Training Acc:    96.04  5696.82    83.78%\n",
      "Epoch    201 batch_limit:   8677 Loss:   0.1696 Training Acc:    96.04  5699.16    83.81%\n",
      "Epoch    202 batch_limit:   8677 Loss:   0.1689 Training Acc:    96.04  5706.20    83.91%\n",
      "Epoch    203 batch_limit:   8677 Loss:   0.1681 Training Acc:    96.04  5706.98    83.93%\n",
      "Epoch    204 batch_limit:   8677 Loss:   0.1674 Training Acc:    96.04  5710.10    83.97%\n",
      "Epoch    205 batch_limit:   8677 Loss:   0.1667 Training Acc:    96.04  5710.88    83.98%\n",
      "Epoch    206 batch_limit:   8677 Loss:   0.1660 Training Acc:    96.04  5712.45    84.01%\n",
      "Epoch    207 batch_limit:   8677 Loss:   0.1653 Training Acc:    96.04  5715.57    84.05%\n",
      "Epoch    208 batch_limit:   8677 Loss:   0.1646 Training Acc:    96.04  5720.26    84.12%\n",
      "Epoch    209 batch_limit:   8677 Loss:   0.1640 Training Acc:    96.04  5727.29    84.22%\n",
      "Epoch    210 batch_limit:   8677 Loss:   0.1633 Training Acc:    96.04  5730.41    84.27%\n",
      "Epoch    211 batch_limit:   8677 Loss:   0.1626 Training Acc:    96.04  5738.23    84.39%\n",
      "Epoch    212 batch_limit:   8677 Loss:   0.1620 Training Acc:    96.04  5748.38    84.54%\n",
      "Epoch    213 batch_limit:   8677 Loss:   0.1614 Training Acc:    96.04  5750.73    84.57%\n",
      "Epoch    214 batch_limit:   8677 Loss:   0.1607 Training Acc:    96.04  5759.32    84.70%\n",
      "Epoch    215 batch_limit:   8677 Loss:   0.1601 Training Acc:    96.04  5762.45    84.74%\n",
      "Epoch    216 batch_limit:   8677 Loss:   0.1595 Training Acc:    96.04  5768.70    84.83%\n",
      "Epoch    217 batch_limit:   8677 Loss:   0.1589 Training Acc:    96.04  5771.04    84.87%\n",
      "Epoch    218 batch_limit:   8677 Loss:   0.1583 Training Acc:    96.04  5777.29    84.96%\n",
      "Epoch    219 batch_limit:   8677 Loss:   0.1578 Training Acc:    96.04  5781.98    85.03%\n",
      "Epoch    220 batch_limit:   8677 Loss:   0.1572 Training Acc:    96.04  5787.45    85.11%\n",
      "Epoch    221 batch_limit:   8677 Loss:   0.1566 Training Acc:    96.04  5795.26    85.22%\n",
      "Epoch    222 batch_limit:   8677 Loss:   0.1561 Training Acc:    96.04  5806.20    85.39%\n",
      "Epoch    223 batch_limit:   8677 Loss:   0.1556 Training Acc:    96.04  5815.57    85.52%\n",
      "Epoch    224 batch_limit:   8677 Loss:   0.1550 Training Acc:    96.04  5817.91    85.56%\n",
      "Epoch    225 batch_limit:   8677 Loss:   0.1545 Training Acc:    96.04  5829.63    85.73%\n",
      "Epoch    226 batch_limit:   8677 Loss:   0.1540 Training Acc:    96.04  5834.32    85.80%\n",
      "Epoch    227 batch_limit:   8677 Loss:   0.1536 Training Acc:    96.04  5841.35    85.90%\n",
      "Epoch    228 batch_limit:   8677 Loss:   0.1531 Training Acc:    96.04  5849.16    86.02%\n",
      "Epoch    229 batch_limit:   8677 Loss:   0.1526 Training Acc:    96.04  5861.66    86.20%\n",
      "Epoch    230 batch_limit:   8677 Loss:   0.1522 Training Acc:    96.04  5871.04    86.34%\n",
      "Epoch    231 batch_limit:   8677 Loss:   0.1517 Training Acc:    96.04  5881.20    86.49%\n",
      "Epoch    232 batch_limit:   8677 Loss:   0.1513 Training Acc:    96.04  5889.01    86.60%\n",
      "Epoch    233 batch_limit:   8677 Loss:   0.1509 Training Acc:    96.04  5896.82    86.72%\n",
      "Epoch    234 batch_limit:   8677 Loss:   0.1505 Training Acc:    96.04  5905.41    86.84%\n",
      "Epoch    235 batch_limit:   8677 Loss:   0.1501 Training Acc:    96.04  5915.57    86.99%\n",
      "Epoch    236 batch_limit:   8677 Loss:   0.1498 Training Acc:    96.04  5927.29    87.17%\n",
      "Epoch    237 batch_limit:   8677 Loss:   0.1494 Training Acc:    96.04  5937.45    87.32%\n",
      "Epoch    238 batch_limit:   8677 Loss:   0.1490 Training Acc:    96.04  5949.16    87.49%\n",
      "Epoch    239 batch_limit:   8677 Loss:   0.1487 Training Acc:    96.04  5955.41    87.58%\n",
      "Epoch    240 batch_limit:   8677 Loss:   0.1484 Training Acc:    96.04  5964.79    87.72%\n",
      "Epoch    241 batch_limit:   8677 Loss:   0.1481 Training Acc:    96.04  5976.51    87.89%\n",
      "Epoch    242 batch_limit:   8677 Loss:   0.1478 Training Acc:    96.04  5985.10    88.02%\n",
      "Epoch    243 batch_limit:   8677 Loss:   0.1475 Training Acc:    96.04  5992.91    88.13%\n",
      "Epoch    244 batch_limit:   8677 Loss:   0.1472 Training Acc:    96.04  5996.82    88.19%\n",
      "Epoch    245 batch_limit:   8677 Loss:   0.1470 Training Acc:    96.04  6003.07    88.28%\n",
      "Epoch    246 batch_limit:   8677 Loss:   0.1468 Training Acc:    96.04  6004.63    88.30%\n",
      "Epoch    247 batch_limit:   8677 Loss:   0.1465 Training Acc:    96.04  6013.23    88.43%\n",
      "Epoch    248 batch_limit:   8677 Loss:   0.1463 Training Acc:    96.04  6024.16    88.59%\n",
      "Epoch    249 batch_limit:   8677 Loss:   0.1461 Training Acc:    96.04  6032.76    88.72%\n",
      "Epoch    250 batch_limit:   8677 Loss:   0.1459 Training Acc:    96.04  6039.79    88.82%\n",
      "Epoch    251 batch_limit:   8677 Loss:   0.1457 Training Acc:    96.04  6050.73    88.98%\n",
      "Epoch    252 batch_limit:   8677 Loss:   0.1456 Training Acc:    96.04  6060.88    89.13%\n",
      "Epoch    253 batch_limit:   8677 Loss:   0.1454 Training Acc:    96.04  6064.79    89.19%\n",
      "Epoch    254 batch_limit:   8677 Loss:   0.1453 Training Acc:    96.04  6073.38    89.31%\n",
      "Epoch    255 batch_limit:   8677 Loss:   0.1452 Training Acc:    96.04  6081.20    89.43%\n",
      "Epoch    256 batch_limit:   8677 Loss:   0.1450 Training Acc:    96.04  6086.66    89.51%\n",
      "Epoch    257 batch_limit:   8677 Loss:   0.1449 Training Acc:    96.04  6094.48    89.62%\n",
      "Epoch    258 batch_limit:   8677 Loss:   0.1448 Training Acc:    96.04  6107.76    89.82%\n",
      "Epoch    259 batch_limit:   8677 Loss:   0.1448 Training Acc:    96.04  6117.13    89.96%\n",
      "Epoch    260 batch_limit:   8677 Loss:   0.1447 Training Acc:    96.04  6124.95    90.07%\n",
      "Epoch    261 batch_limit:   8677 Loss:   0.1446 Training Acc:    96.04  6134.32    90.21%\n",
      "Epoch    262 batch_limit:   8677 Loss:   0.1446 Training Acc:    96.04  6142.13    90.33%\n",
      "Epoch    263 batch_limit:   8677 Loss:   0.1445 Training Acc:    96.04  6146.04    90.38%\n",
      "Epoch    264 batch_limit:   8677 Loss:   0.1445 Training Acc:    96.04  6152.29    90.47%\n",
      "Epoch    265 batch_limit:   8677 Loss:   0.1445 Training Acc:    96.04  6159.32    90.58%\n",
      "Epoch    266 batch_limit:   8677 Loss:   0.1445 Training Acc:    96.04  6165.57    90.67%\n",
      "Epoch    267 batch_limit:   8677 Loss:   0.1445 Training Acc:    96.04  6174.16    90.80%\n",
      "Epoch    268 batch_limit:   8677 Loss:   0.1445 Training Acc:    96.04  6178.07    90.85%\n",
      "Epoch    269 batch_limit:   8677 Loss:   0.1445 Training Acc:    96.04  6186.66    90.98%\n",
      "Epoch    270 batch_limit:   8677 Loss:   0.1445 Training Acc:    96.04  6196.82    91.13%\n",
      "Epoch    271 batch_limit:   8677 Loss:   0.1446 Training Acc:    96.04  6203.07    91.22%\n",
      "Epoch    272 batch_limit:   8677 Loss:   0.1446 Training Acc:    96.04  6211.66    91.35%\n",
      "Epoch    273 batch_limit:   8677 Loss:   0.1446 Training Acc:    96.04  6222.60    91.51%\n",
      "Epoch    274 batch_limit:   8677 Loss:   0.1447 Training Acc:    96.04  6229.63    91.61%\n",
      "Epoch    275 batch_limit:   8677 Loss:   0.1448 Training Acc:    96.04  6230.41    91.62%\n",
      "Epoch    276 batch_limit:   8677 Loss:   0.1448 Training Acc:    96.04  6240.57    91.77%\n"
     ]
    },
    {
     "name": "stdout",
     "output_type": "stream",
     "text": [
      "Epoch    277 batch_limit:   8677 Loss:   0.1449 Training Acc:    96.04  6248.38    91.89%\n",
      "Epoch    278 batch_limit:   8677 Loss:   0.1450 Training Acc:    96.04  6253.85    91.97%\n",
      "Epoch    279 batch_limit:   8677 Loss:   0.1451 Training Acc:    96.04  6257.76    92.03%\n",
      "Epoch    280 batch_limit:   8677 Loss:   0.1452 Training Acc:    96.04  6259.32    92.05%\n",
      "Epoch    281 batch_limit:   8677 Loss:   0.1453 Training Acc:    96.04  6259.32    92.05%\n",
      "Epoch    282 batch_limit:   8677 Loss:   0.1455 Training Acc:    96.04  6259.32    92.05%\n",
      "Epoch    283 batch_limit:   8677 Loss:   0.1456 Training Acc:    96.04  6265.57    92.14%\n",
      "Epoch    284 batch_limit:   8677 Loss:   0.1457 Training Acc:    96.04  6268.70    92.19%\n",
      "Epoch    285 batch_limit:   8677 Loss:   0.1459 Training Acc:    96.04  6274.16    92.27%\n",
      "Epoch    286 batch_limit:   8677 Loss:   0.1461 Training Acc:    96.04  6275.73    92.29%\n",
      "Epoch    287 batch_limit:   8677 Loss:   0.1462 Training Acc:    96.04  6281.20    92.37%\n",
      "Epoch    288 batch_limit:   8677 Loss:   0.1464 Training Acc:    96.04  6283.54    92.40%\n",
      "Epoch    289 batch_limit:   8677 Loss:   0.1466 Training Acc:    96.04  6287.45    92.46%\n",
      "Epoch    290 batch_limit:   8677 Loss:   0.1468 Training Acc:    96.04  6292.13    92.53%\n",
      "Epoch    291 batch_limit:   8677 Loss:   0.1470 Training Acc:    96.04  6296.04    92.59%\n",
      "Epoch    292 batch_limit:   8677 Loss:   0.1472 Training Acc:    96.04  6299.16    92.63%\n",
      "Epoch    293 batch_limit:   8677 Loss:   0.1474 Training Acc:    96.04  6302.29    92.68%\n",
      "Epoch    294 batch_limit:   8677 Loss:   0.1477 Training Acc:    96.04  6306.20    92.74%\n",
      "Epoch    295 batch_limit:   8677 Loss:   0.1479 Training Acc:    96.04  6310.88    92.81%\n",
      "Epoch    296 batch_limit:   8677 Loss:   0.1482 Training Acc:    96.04  6313.23    92.84%\n",
      "Epoch    297 batch_limit:   8677 Loss:   0.1485 Training Acc:    96.04  6316.35    92.89%\n",
      "Epoch    298 batch_limit:   8677 Loss:   0.1487 Training Acc:    96.04  6317.91    92.91%\n",
      "Epoch    299 batch_limit:   8677 Loss:   0.1490 Training Acc:    96.04  6322.60    92.98%\n",
      "Epoch    300 batch_limit:   8677 Loss:   0.1493 Training Acc:    96.04  6324.16    93.00%\n",
      "Epoch    301 batch_limit:   8677 Loss:   0.1497 Training Acc:    96.04  6323.38    92.99%\n",
      "Epoch    302 batch_limit:   8677 Loss:   0.1500 Training Acc:    96.04  6328.85    93.07%\n",
      "Epoch    303 batch_limit:   8677 Loss:   0.1503 Training Acc:    95.05  6329.42    93.08%\n",
      "Epoch    304 batch_limit:   8677 Loss:   0.1507 Training Acc:    95.05  6338.02    93.21%\n",
      "Epoch    305 batch_limit:   8677 Loss:   0.1511 Training Acc:    95.05  6339.58    93.23%\n",
      "Epoch    306 batch_limit:   8677 Loss:   0.1515 Training Acc:    95.05  6341.92    93.26%\n",
      "Epoch    307 batch_limit:   8677 Loss:   0.1519 Training Acc:    95.05  6346.61    93.33%\n",
      "Epoch    308 batch_limit:   8677 Loss:   0.1523 Training Acc:    95.05  6348.17    93.36%\n",
      "Epoch    309 batch_limit:   8677 Loss:   0.1527 Training Acc:    95.05  6349.74    93.38%\n",
      "Epoch    310 batch_limit:   8677 Loss:   0.1531 Training Acc:    95.05  6350.52    93.39%\n",
      "Epoch    311 batch_limit:   8677 Loss:   0.1536 Training Acc:    95.05  6351.30    93.40%\n",
      "Epoch    312 batch_limit:   8677 Loss:   0.1540 Training Acc:    95.05  6353.64    93.44%\n",
      "Epoch    313 batch_limit:   8677 Loss:   0.1545 Training Acc:    94.06  6354.22    93.44%\n",
      "Epoch    314 batch_limit:   8677 Loss:   0.1550 Training Acc:    94.06  6360.47    93.54%\n",
      "Epoch    315 batch_limit:   8677 Loss:   0.1555 Training Acc:    94.06  6364.37    93.59%\n",
      "Epoch    316 batch_limit:   8677 Loss:   0.1560 Training Acc:    94.06  6366.72    93.63%\n",
      "Epoch    317 batch_limit:   8677 Loss:   0.1566 Training Acc:    94.06  6371.40    93.70%\n",
      "Epoch    318 batch_limit:   8677 Loss:   0.1571 Training Acc:    94.06  6376.09    93.77%\n",
      "Epoch    319 batch_limit:   8677 Loss:   0.1577 Training Acc:    94.06  6377.65    93.79%\n",
      "Epoch    320 batch_limit:   8677 Loss:   0.1582 Training Acc:    94.06  6383.12    93.87%\n",
      "Epoch    321 batch_limit:   8677 Loss:   0.1588 Training Acc:    94.06  6387.03    93.93%\n",
      "Epoch    322 batch_limit:   8677 Loss:   0.1594 Training Acc:    93.07  6389.16    93.96%\n",
      "Epoch    323 batch_limit:   8677 Loss:   0.1600 Training Acc:    93.07  6393.07    94.02%\n",
      "Epoch    324 batch_limit:   8677 Loss:   0.1606 Training Acc:    93.07  6396.19    94.06%\n",
      "Epoch    325 batch_limit:   8677 Loss:   0.1612 Training Acc:    93.07  6397.76    94.08%\n",
      "Epoch    326 batch_limit:   8677 Loss:   0.1618 Training Acc:    93.07  6401.66    94.14%\n",
      "Epoch    327 batch_limit:   8677 Loss:   0.1624 Training Acc:    93.07  6405.57    94.20%\n",
      "Epoch    328 batch_limit:   8677 Loss:   0.1630 Training Acc:    93.07  6409.48    94.26%\n",
      "Epoch    329 batch_limit:   8677 Loss:   0.1637 Training Acc:    93.07  6409.48    94.26%\n",
      "Epoch    330 batch_limit:   8677 Loss:   0.1643 Training Acc:    93.07  6410.26    94.27%\n",
      "Epoch    331 batch_limit:   8677 Loss:   0.1650 Training Acc:    93.07  6417.29    94.37%\n",
      "Epoch    332 batch_limit:   8677 Loss:   0.1656 Training Acc:    93.07  6421.19    94.43%\n",
      "Epoch    333 batch_limit:   8677 Loss:   0.1663 Training Acc:    93.07  6422.76    94.45%\n",
      "Epoch    334 batch_limit:   8677 Loss:   0.1669 Training Acc:    93.07  6424.32    94.48%\n",
      "Epoch    335 batch_limit:   8677 Loss:   0.1676 Training Acc:    93.07  6426.66    94.51%\n",
      "Epoch    336 batch_limit:   8677 Loss:   0.1682 Training Acc:    94.06  6430.00    94.56%\n",
      "Epoch    337 batch_limit:   8677 Loss:   0.1689 Training Acc:    93.07  6430.57    94.57%\n",
      "Epoch    338 batch_limit:   8677 Loss:   0.1696 Training Acc:    93.07  6432.13    94.59%\n",
      "Epoch    339 batch_limit:   8677 Loss:   0.1702 Training Acc:    93.07  6432.91    94.60%\n",
      "Epoch    340 batch_limit:   8677 Loss:   0.1709 Training Acc:    93.07  6434.48    94.62%\n",
      "Epoch    341 batch_limit:   8677 Loss:   0.1715 Training Acc:    93.07  6434.48    94.62%\n",
      "Epoch    342 batch_limit:   8677 Loss:   0.1722 Training Acc:    93.07  6436.04    94.65%\n",
      "Epoch    343 batch_limit:   8677 Loss:   0.1729 Training Acc:    92.08  6438.17    94.68%\n",
      "Epoch    344 batch_limit:   8677 Loss:   0.1735 Training Acc:    92.08  6438.95    94.69%\n",
      "Epoch    345 batch_limit:   8677 Loss:   0.1742 Training Acc:    92.08  6441.30    94.72%\n",
      "Epoch    346 batch_limit:   8677 Loss:   0.1748 Training Acc:    92.08  6442.86    94.75%\n",
      "Epoch    347 batch_limit:   8677 Loss:   0.1754 Training Acc:    92.08  6442.86    94.75%\n",
      "Epoch    348 batch_limit:   8677 Loss:   0.1761 Training Acc:    92.08  6443.64    94.76%\n",
      "Epoch    349 batch_limit:   8677 Loss:   0.1767 Training Acc:    92.08  6445.99    94.79%\n",
      "Epoch    350 batch_limit:   8677 Loss:   0.1773 Training Acc:    92.08  6445.99    94.79%\n",
      "Epoch    351 batch_limit:   8677 Loss:   0.1779 Training Acc:    92.08  6447.55    94.82%\n",
      "Epoch    352 batch_limit:   8677 Loss:   0.1786 Training Acc:    92.08  6448.33    94.83%\n",
      "Epoch    353 batch_limit:   8677 Loss:   0.1792 Training Acc:    92.08  6449.11    94.84%\n",
      "Epoch    354 batch_limit:   8677 Loss:   0.1798 Training Acc:    92.08  6449.11    94.84%\n",
      "Epoch    355 batch_limit:   8677 Loss:   0.1803 Training Acc:    92.08  6450.67    94.86%\n",
      "Epoch    356 batch_limit:   8677 Loss:   0.1809 Training Acc:    92.08  6450.67    94.86%\n",
      "Epoch    357 batch_limit:   8677 Loss:   0.1815 Training Acc:    92.08  6450.67    94.86%\n",
      "Epoch    358 batch_limit:   8677 Loss:   0.1821 Training Acc:    92.08  6452.24    94.89%\n",
      "Epoch    359 batch_limit:   8677 Loss:   0.1826 Training Acc:    92.08  6452.24    94.89%\n",
      "Epoch    360 batch_limit:   8677 Loss:   0.1832 Training Acc:    92.08  6454.58    94.92%\n",
      "Epoch    361 batch_limit:   8677 Loss:   0.1837 Training Acc:    92.08  6454.58    94.92%\n",
      "Epoch    362 batch_limit:   8677 Loss:   0.1842 Training Acc:    92.08  6454.58    94.92%\n",
      "Epoch    363 batch_limit:   8677 Loss:   0.1847 Training Acc:    92.08  6454.58    94.92%\n",
      "Epoch    364 batch_limit:   8677 Loss:   0.1853 Training Acc:    92.08  6455.36    94.93%\n",
      "Epoch    365 batch_limit:   8677 Loss:   0.1858 Training Acc:    92.08  6456.14    94.94%\n",
      "Epoch    366 batch_limit:   8677 Loss:   0.1862 Training Acc:    92.08  6459.27    94.99%\n",
      "Epoch    367 batch_limit:   8677 Loss:   0.1867 Training Acc:    92.08  6462.39    95.04%\n"
     ]
    },
    {
     "data": {
      "text/plain": [
       "'\\n    # Do for the test batch\\n    acc = 0\\n    for step in range(num_batches):\\n        # Pick an offset within the training data, which has been randomized.\\n        # Note: we could use better randomization across epochs.\\n        offset = (step * batch_size) #  % (train_label_hot.shape[0] - batch_size)\\n        # Generate a minibatch.\\n        batch_data = train_dataset_reform[offset:(offset + batch_size), :]\\n        batch_labels = train_label_hot[offset:(offset + batch_size), :]\\n\\n        # print(offset)\\n        # Prepare a dictionary telling the session where to feed the minibatch.\\n        # The key of the dictionary is the placeholder node of the graph to be fed,\\n        # and the value is the numpy array to feed to it.\\n        feed_dict = {tf_train_dataset : batch_data, tf_train_labels : batch_labels, dropout_prob : 1}\\n        test_predictions = session.run(train_prediction, feed_dict=feed_dict)\\n        print(offset, offset + batch_size)\\n        # print(batch_labels)\\n        # print(test_predictions)\\n        batch_acc = accuracy_multilabel(test_predictions, batch_labels)\\n        print(\"Minibatch accuracy: %.1f%%\" % batch_acc)\\n        acc = acc + batch_acc\\n\\n    print(acc)\\n'"
      ]
     },
     "execution_count": 136,
     "metadata": {},
     "output_type": "execute_result"
    }
   ],
   "source": [
    "loss_history = []\n",
    "\n",
    "acc = 0\n",
    "acc_cum = 0\n",
    "acc_temp = 0\n",
    "epoch_idx = 0\n",
    "loss_disp_true = False\n",
    "\n",
    "with tf.Session() as session:\n",
    "# with tf.Session(config=tf.ConfigProto(log_device_placement=True)) as session:\n",
    "#with tf.Session(graph=graph) as session:\n",
    "    tf.global_variables_initializer().run()\n",
    "    print(\"Initialized\")\n",
    "    while acc < 95:\n",
    "        epoch_idx += 1\n",
    "        acc_cum = 0\n",
    "        for step in range(int(num_batches)):\n",
    "            # Pick an offset within the training data, which has been randomized.\n",
    "            # Note: we could use better randomization across epochs.\n",
    "        \n",
    "            offset = (step * batch_size)\n",
    "            \n",
    "            if num_samples > offset + batch_size:\n",
    "                batch_limit = offset + batch_size\n",
    "            else:\n",
    "                batch_limit = num_samples\n",
    "                loss_disp_true = True\n",
    "                       \n",
    "            # offset = np.random.randint(num_samples - batch_size , size = 1)[0]\n",
    "            # Generate a minibatch.\n",
    "            batch_data = train_dataset_reform[offset:(batch_limit), :]\n",
    "            batch_labels = train_label_hot[offset:(batch_limit), :]\n",
    "\n",
    "            # print(offset)\n",
    "            # Prepare a dictionary telling the session where to feed the minibatch.\n",
    "            # The key of the dictionary is the placeholder node of the graph to be fed,\n",
    "            # and the value is the numpy array to feed to it.\n",
    "            feed_dict = {tf_train_dataset : batch_data, tf_train_labels : batch_labels, dropout_prob : 1}\n",
    "            _, l, predictions, added_summary, logits_check = session.run(\n",
    "                [optimizer, loss, train_prediction, loss_summary, logits], feed_dict=feed_dict)\n",
    "\n",
    "            # writer.add_summary(added_summary)\n",
    "            acc_temp =  accuracy_multilabel(predictions, batch_labels)\n",
    "            acc_cum += acc_temp\n",
    "            acc = acc_cum/(step+1)\n",
    "            if loss_disp_true:\n",
    "                loss_disp_true = False\n",
    "                loss_history.append(l)\n",
    "                print(\"Epoch {0:6d} batch_limit: {1:6d} Loss: {2:8.4f} Training Acc: {3:8.2f} {4:8.2f} {5:8.2f}%\".format(epoch_idx, batch_limit, l, acc_temp, acc_cum, acc))\n",
    "\n",
    "\"\"\"\n",
    "    # Do for the test batch\n",
    "    acc = 0\n",
    "    for step in range(num_batches):\n",
    "        # Pick an offset within the training data, which has been randomized.\n",
    "        # Note: we could use better randomization across epochs.\n",
    "        offset = (step * batch_size) #  % (train_label_hot.shape[0] - batch_size)\n",
    "        # Generate a minibatch.\n",
    "        batch_data = train_dataset_reform[offset:(offset + batch_size), :]\n",
    "        batch_labels = train_label_hot[offset:(offset + batch_size), :]\n",
    "\n",
    "        # print(offset)\n",
    "        # Prepare a dictionary telling the session where to feed the minibatch.\n",
    "        # The key of the dictionary is the placeholder node of the graph to be fed,\n",
    "        # and the value is the numpy array to feed to it.\n",
    "        feed_dict = {tf_train_dataset : batch_data, tf_train_labels : batch_labels, dropout_prob : 1}\n",
    "        test_predictions = session.run(train_prediction, feed_dict=feed_dict)\n",
    "        print(offset, offset + batch_size)\n",
    "        # print(batch_labels)\n",
    "        # print(test_predictions)\n",
    "        batch_acc = accuracy_multilabel(test_predictions, batch_labels)\n",
    "        print(\"Minibatch accuracy: %.1f%%\" % batch_acc)\n",
    "        acc = acc + batch_acc\n",
    "\n",
    "    print(acc)\n",
    "\"\"\""
   ]
  },
  {
   "cell_type": "code",
   "execution_count": null,
   "metadata": {},
   "outputs": [],
   "source": [
    "tf_train_dataset"
   ]
  },
  {
   "cell_type": "code",
   "execution_count": 137,
   "metadata": {},
   "outputs": [
    {
     "data": {
      "text/plain": [
       "1.3975760614015555"
      ]
     },
     "execution_count": 137,
     "metadata": {},
     "output_type": "execute_result"
    }
   ],
   "source": [
    "acc/num_batches"
   ]
  },
  {
   "cell_type": "code",
   "execution_count": null,
   "metadata": {},
   "outputs": [],
   "source": [
    "np.sum(train_label_hot)"
   ]
  },
  {
   "cell_type": "code",
   "execution_count": 113,
   "metadata": {},
   "outputs": [],
   "source": [
    "hidden = str(hidden_size)+str(hidden_size2)"
   ]
  },
  {
   "cell_type": "code",
   "execution_count": 114,
   "metadata": {},
   "outputs": [
    {
     "data": {
      "image/png": "[encoded data removed]",
      "text/plain": [
       "<Figure size 1296x576 with 1 Axes>"
      ]
     },
     "metadata": {},
     "output_type": "display_data"
    },
    {
     "data": {
      "text/plain": [
       "<Figure size 1296x576 with 0 Axes>"
      ]
     },
     "metadata": {},
     "output_type": "display_data"
    }
   ],
   "source": [
    "plt.rcParams['figure.figsize'] = (18.0, 8.0)\n",
    "plt.style.use('ggplot')\n",
    "plt.plot(loss_history)\n",
    "fig = plt.gcf()\n",
    "plt.show()\n",
    "plt.draw()\n",
    "fig.savefig(f.name[:-4]+hidden+'.png', dpi = 200)"
   ]
  },
  {
   "cell_type": "code",
   "execution_count": 65,
   "metadata": {
    "scrolled": false
   },
   "outputs": [
    {
     "data": {
      "text/plain": [
       "array([[0., 0.],\n",
       "       [0., 0.],\n",
       "       [0., 0.],\n",
       "       ...,\n",
       "       [0., 0.],\n",
       "       [0., 0.],\n",
       "       [0., 0.]], dtype=float32)"
      ]
     },
     "execution_count": 65,
     "metadata": {},
     "output_type": "execute_result"
    }
   ],
   "source": [
    "predictions"
   ]
  },
  {
   "cell_type": "code",
   "execution_count": 66,
   "metadata": {},
   "outputs": [
    {
     "data": {
      "text/plain": [
       "array([[0., 0.],\n",
       "       [0., 0.],\n",
       "       [0., 0.],\n",
       "       ...,\n",
       "       [0., 0.],\n",
       "       [0., 0.],\n",
       "       [0., 0.]], dtype=float32)"
      ]
     },
     "execution_count": 66,
     "metadata": {},
     "output_type": "execute_result"
    }
   ],
   "source": [
    "batch_labels"
   ]
  },
  {
   "cell_type": "code",
   "execution_count": null,
   "metadata": {},
   "outputs": [],
   "source": [
    "np.mean(predictions == batch_labels)"
   ]
  }
 ],
 "metadata": {
  "colab": {
   "default_view": {},
   "name": "2_fullyconnected.ipynb",
   "provenance": [],
   "version": "0.3.2",
   "views": {}
  },
  "kernelspec": {
   "display_name": "tensorflow",
   "language": "python",
   "name": "tensorflow"
  },
  "language_info": {
   "codemirror_mode": {
    "name": "ipython",
    "version": 3
   },
   "file_extension": ".py",
   "mimetype": "text/x-python",
   "name": "python",
   "nbconvert_exporter": "python",
   "pygments_lexer": "ipython3",
   "version": "3.5.5"
  }
 },
 "nbformat": 4,
 "nbformat_minor": 1
}
