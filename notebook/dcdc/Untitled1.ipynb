{
 "cells": [
  {
   "cell_type": "code",
   "execution_count": 1,
   "metadata": {},
   "outputs": [],
   "source": [
    "from __future__ import print_function, division\n",
    "import numpy as np\n",
    "import tensorflow as tf\n",
    "import matplotlib.pyplot as plt"
   ]
  },
  {
   "cell_type": "code",
   "execution_count": 2,
   "metadata": {},
   "outputs": [],
   "source": [
    "num_epochs = 100\n",
    "total_series_length = 50000\n",
    "truncated_backprop_length = 15\n",
    "state_size = 4\n",
    "num_classes = 2\n",
    "echo_step = 3\n",
    "batch_size = 5\n",
    "num_batches = total_series_length//batch_size//truncated_backprop_length"
   ]
  },
  {
   "cell_type": "code",
   "execution_count": 3,
   "metadata": {},
   "outputs": [],
   "source": [
    "def generateData():\n",
    "    x = np.array(np.random.choice(2, total_series_length, p=[0.5, 0.5]))\n",
    "    y = np.roll(x, echo_step)\n",
    "    y[0:echo_step] = 0\n",
    "\n",
    "    x = x.reshape((batch_size, -1))  # The first index changing slowest, subseries as rows\n",
    "    y = y.reshape((batch_size, -1))\n",
    "\n",
    "    return (x, y)"
   ]
  },
  {
   "cell_type": "code",
   "execution_count": 5,
   "metadata": {},
   "outputs": [],
   "source": [
    "batchX_placeholder = tf.placeholder(tf.float32, [batch_size, truncated_backprop_length])\n",
    "batchY_placeholder = tf.placeholder(tf.int32, [batch_size, truncated_backprop_length])"
   ]
  },
  {
   "cell_type": "code",
   "execution_count": 6,
   "metadata": {},
   "outputs": [
    {
     "data": {
      "text/plain": [
       "<tf.Tensor 'Placeholder:0' shape=(5, 15) dtype=float32>"
      ]
     },
     "execution_count": 6,
     "metadata": {},
     "output_type": "execute_result"
    }
   ],
   "source": [
    "batchX_placeholder"
   ]
  },
  {
   "cell_type": "code",
   "execution_count": 10,
   "metadata": {},
   "outputs": [],
   "source": [
    "init_state = tf.placeholder(tf.float32, [batch_size, state_size])\n",
    "\n",
    "W2 = tf.Variable(np.random.rand(state_size, num_classes),dtype=tf.float32)\n",
    "b2 = tf.Variable(np.zeros((1,num_classes)), dtype=tf.float32)\n",
    "\n",
    "# Unpack columns\n",
    "inputs_series = tf.split(batchX_placeholder, truncated_backprop_length, 1)\n",
    "labels_series = tf.unstack(batchY_placeholder, axis=1)"
   ]
  },
  {
   "cell_type": "code",
   "execution_count": 12,
   "metadata": {},
   "outputs": [
    {
     "data": {
      "text/plain": [
       "<tf.Tensor 'Placeholder_4:0' shape=(5, 4) dtype=float32>"
      ]
     },
     "execution_count": 12,
     "metadata": {},
     "output_type": "execute_result"
    }
   ],
   "source": [
    "init_state"
   ]
  },
  {
   "cell_type": "code",
   "execution_count": 14,
   "metadata": {},
   "outputs": [
    {
     "data": {
      "text/plain": [
       "[<tf.Tensor 'split_2:0' shape=(5, 1) dtype=float32>,\n",
       " <tf.Tensor 'split_2:1' shape=(5, 1) dtype=float32>,\n",
       " <tf.Tensor 'split_2:2' shape=(5, 1) dtype=float32>,\n",
       " <tf.Tensor 'split_2:3' shape=(5, 1) dtype=float32>,\n",
       " <tf.Tensor 'split_2:4' shape=(5, 1) dtype=float32>,\n",
       " <tf.Tensor 'split_2:5' shape=(5, 1) dtype=float32>,\n",
       " <tf.Tensor 'split_2:6' shape=(5, 1) dtype=float32>,\n",
       " <tf.Tensor 'split_2:7' shape=(5, 1) dtype=float32>,\n",
       " <tf.Tensor 'split_2:8' shape=(5, 1) dtype=float32>,\n",
       " <tf.Tensor 'split_2:9' shape=(5, 1) dtype=float32>,\n",
       " <tf.Tensor 'split_2:10' shape=(5, 1) dtype=float32>,\n",
       " <tf.Tensor 'split_2:11' shape=(5, 1) dtype=float32>,\n",
       " <tf.Tensor 'split_2:12' shape=(5, 1) dtype=float32>,\n",
       " <tf.Tensor 'split_2:13' shape=(5, 1) dtype=float32>,\n",
       " <tf.Tensor 'split_2:14' shape=(5, 1) dtype=float32>]"
      ]
     },
     "execution_count": 14,
     "metadata": {},
     "output_type": "execute_result"
    }
   ],
   "source": [
    "inputs_series"
   ]
  },
  {
   "cell_type": "code",
   "execution_count": 15,
   "metadata": {},
   "outputs": [
    {
     "data": {
      "text/plain": [
       "[<tf.Tensor 'unstack:0' shape=(5,) dtype=int32>,\n",
       " <tf.Tensor 'unstack:1' shape=(5,) dtype=int32>,\n",
       " <tf.Tensor 'unstack:2' shape=(5,) dtype=int32>,\n",
       " <tf.Tensor 'unstack:3' shape=(5,) dtype=int32>,\n",
       " <tf.Tensor 'unstack:4' shape=(5,) dtype=int32>,\n",
       " <tf.Tensor 'unstack:5' shape=(5,) dtype=int32>,\n",
       " <tf.Tensor 'unstack:6' shape=(5,) dtype=int32>,\n",
       " <tf.Tensor 'unstack:7' shape=(5,) dtype=int32>,\n",
       " <tf.Tensor 'unstack:8' shape=(5,) dtype=int32>,\n",
       " <tf.Tensor 'unstack:9' shape=(5,) dtype=int32>,\n",
       " <tf.Tensor 'unstack:10' shape=(5,) dtype=int32>,\n",
       " <tf.Tensor 'unstack:11' shape=(5,) dtype=int32>,\n",
       " <tf.Tensor 'unstack:12' shape=(5,) dtype=int32>,\n",
       " <tf.Tensor 'unstack:13' shape=(5,) dtype=int32>,\n",
       " <tf.Tensor 'unstack:14' shape=(5,) dtype=int32>]"
      ]
     },
     "execution_count": 15,
     "metadata": {},
     "output_type": "execute_result"
    }
   ],
   "source": [
    "labels_series"
   ]
  },
  {
   "cell_type": "code",
   "execution_count": 20,
   "metadata": {},
   "outputs": [],
   "source": [
    "# Forward passes\n",
    "cell = tf.nn.rnn_cell.BasicRNNCell(state_size)\n",
    "states_series, current_state = tf.nn.static_rnn(cell, inputs_series, init_state)"
   ]
  },
  {
   "cell_type": "code",
   "execution_count": 21,
   "metadata": {},
   "outputs": [
    {
     "data": {
      "text/plain": [
       "<tensorflow.python.ops.rnn_cell_impl.BasicRNNCell at 0x19cc8ff9278>"
      ]
     },
     "execution_count": 21,
     "metadata": {},
     "output_type": "execute_result"
    }
   ],
   "source": [
    "cell"
   ]
  },
  {
   "cell_type": "code",
   "execution_count": 22,
   "metadata": {},
   "outputs": [
    {
     "data": {
      "text/plain": [
       "[<tf.Tensor 'rnn/basic_rnn_cell/Tanh:0' shape=(5, 4) dtype=float32>,\n",
       " <tf.Tensor 'rnn/basic_rnn_cell/Tanh_1:0' shape=(5, 4) dtype=float32>,\n",
       " <tf.Tensor 'rnn/basic_rnn_cell/Tanh_2:0' shape=(5, 4) dtype=float32>,\n",
       " <tf.Tensor 'rnn/basic_rnn_cell/Tanh_3:0' shape=(5, 4) dtype=float32>,\n",
       " <tf.Tensor 'rnn/basic_rnn_cell/Tanh_4:0' shape=(5, 4) dtype=float32>,\n",
       " <tf.Tensor 'rnn/basic_rnn_cell/Tanh_5:0' shape=(5, 4) dtype=float32>,\n",
       " <tf.Tensor 'rnn/basic_rnn_cell/Tanh_6:0' shape=(5, 4) dtype=float32>,\n",
       " <tf.Tensor 'rnn/basic_rnn_cell/Tanh_7:0' shape=(5, 4) dtype=float32>,\n",
       " <tf.Tensor 'rnn/basic_rnn_cell/Tanh_8:0' shape=(5, 4) dtype=float32>,\n",
       " <tf.Tensor 'rnn/basic_rnn_cell/Tanh_9:0' shape=(5, 4) dtype=float32>,\n",
       " <tf.Tensor 'rnn/basic_rnn_cell/Tanh_10:0' shape=(5, 4) dtype=float32>,\n",
       " <tf.Tensor 'rnn/basic_rnn_cell/Tanh_11:0' shape=(5, 4) dtype=float32>,\n",
       " <tf.Tensor 'rnn/basic_rnn_cell/Tanh_12:0' shape=(5, 4) dtype=float32>,\n",
       " <tf.Tensor 'rnn/basic_rnn_cell/Tanh_13:0' shape=(5, 4) dtype=float32>,\n",
       " <tf.Tensor 'rnn/basic_rnn_cell/Tanh_14:0' shape=(5, 4) dtype=float32>]"
      ]
     },
     "execution_count": 22,
     "metadata": {},
     "output_type": "execute_result"
    }
   ],
   "source": [
    "states_series"
   ]
  },
  {
   "cell_type": "code",
   "execution_count": 23,
   "metadata": {},
   "outputs": [
    {
     "data": {
      "text/plain": [
       "<tf.Tensor 'rnn/basic_rnn_cell/Tanh_14:0' shape=(5, 4) dtype=float32>"
      ]
     },
     "execution_count": 23,
     "metadata": {},
     "output_type": "execute_result"
    }
   ],
   "source": [
    "current_state"
   ]
  },
  {
   "cell_type": "code",
   "execution_count": null,
   "metadata": {},
   "outputs": [],
   "source": []
  },
  {
   "cell_type": "code",
   "execution_count": null,
   "metadata": {},
   "outputs": [],
   "source": []
  },
  {
   "cell_type": "code",
   "execution_count": null,
   "metadata": {},
   "outputs": [],
   "source": []
  },
  {
   "cell_type": "code",
   "execution_count": null,
   "metadata": {},
   "outputs": [],
   "source": []
  },
  {
   "cell_type": "code",
   "execution_count": null,
   "metadata": {},
   "outputs": [],
   "source": [
    "\n",
    "logits_series = [tf.matmul(state, W2) + b2 for state in states_series] #Broadcasted addition\n",
    "predictions_series = [tf.nn.softmax(logits) for logits in logits_series]\n",
    "\n",
    "losses = [tf.nn.sparse_softmax_cross_entropy_with_logits(logits, labels) for logits, labels in zip(logits_series,labels_series)]\n",
    "total_loss = tf.reduce_mean(losses)\n",
    "\n",
    "train_step = tf.train.AdagradOptimizer(0.3).minimize(total_loss)\n",
    "\n",
    "def plot(loss_list, predictions_series, batchX, batchY):\n",
    "    plt.subplot(2, 3, 1)\n",
    "    plt.cla()\n",
    "    plt.plot(loss_list)\n",
    "\n",
    "    for batch_series_idx in range(5):\n",
    "        one_hot_output_series = np.array(predictions_series)[:, batch_series_idx, :]\n",
    "        single_output_series = np.array([(1 if out[0] < 0.5 else 0) for out in one_hot_output_series])\n",
    "\n",
    "        plt.subplot(2, 3, batch_series_idx + 2)\n",
    "        plt.cla()\n",
    "        plt.axis([0, truncated_backprop_length, 0, 2])\n",
    "        left_offset = range(truncated_backprop_length)\n",
    "        plt.bar(left_offset, batchX[batch_series_idx, :], width=1, color=\"blue\")\n",
    "        plt.bar(left_offset, batchY[batch_series_idx, :] * 0.5, width=1, color=\"red\")\n",
    "        plt.bar(left_offset, single_output_series * 0.3, width=1, color=\"green\")\n",
    "\n",
    "    plt.draw()\n",
    "    plt.pause(0.0001)\n",
    "\n",
    "\n",
    "with tf.Session() as sess:\n",
    "    sess.run(tf.initialize_all_variables())\n",
    "    plt.ion()\n",
    "    plt.figure()\n",
    "    plt.show()\n",
    "    loss_list = []\n",
    "\n",
    "    for epoch_idx in range(num_epochs):\n",
    "        x,y = generateData()\n",
    "        _current_state = np.zeros((batch_size, state_size))\n",
    "\n",
    "        print(\"New data, epoch\", epoch_idx)\n",
    "\n",
    "        for batch_idx in range(num_batches):\n",
    "            start_idx = batch_idx * truncated_backprop_length\n",
    "            end_idx = start_idx + truncated_backprop_length\n",
    "\n",
    "            batchX = x[:,start_idx:end_idx]\n",
    "            batchY = y[:,start_idx:end_idx]\n",
    "\n",
    "            _total_loss, _train_step, _current_state, _predictions_series = sess.run(\n",
    "                [total_loss, train_step, current_state, predictions_series],\n",
    "                feed_dict={\n",
    "                    batchX_placeholder:batchX,\n",
    "                    batchY_placeholder:batchY,\n",
    "                    init_state:_current_state\n",
    "                })\n",
    "\n",
    "            loss_list.append(_total_loss)\n",
    "\n",
    "            if batch_idx%100 == 0:\n",
    "                print(\"Step\",batch_idx, \"Loss\", _total_loss)\n",
    "                plot(loss_list, _predictions_series, batchX, batchY)\n",
    "\n",
    "plt.ioff()\n",
    "plt.show()"
   ]
  }
 ],
 "metadata": {
  "kernelspec": {
   "display_name": "tensorflow",
   "language": "python",
   "name": "tensorflow"
  },
  "language_info": {
   "codemirror_mode": {
    "name": "ipython",
    "version": 3
   },
   "file_extension": ".py",
   "mimetype": "text/x-python",
   "name": "python",
   "nbconvert_exporter": "python",
   "pygments_lexer": "ipython3",
   "version": "3.5.5"
  }
 },
 "nbformat": 4,
 "nbformat_minor": 2
}
