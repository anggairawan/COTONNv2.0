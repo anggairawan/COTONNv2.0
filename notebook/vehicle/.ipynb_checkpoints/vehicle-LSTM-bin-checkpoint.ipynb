{
 "cells": [
  {
   "cell_type": "markdown",
   "metadata": {
    "colab_type": "text",
    "id": "kR-4eNdK6lYS"
   },
   "source": [
    "Vehicle binary encoding representation input"
   ]
  },
  {
   "cell_type": "code",
   "execution_count": 1,
   "metadata": {
    "cellView": "both",
    "colab": {
     "autoexec": {
      "startup": false,
      "wait_interval": 0
     }
    },
    "colab_type": "code",
    "id": "JLpLa8Jt7Vu4"
   },
   "outputs": [],
   "source": [
    "# These are all the modules we'll be using later. Make sure you can import them\n",
    "# before proceeding further.\n",
    "from __future__ import print_function\n",
    "import numpy as np\n",
    "import tensorflow as tf\n",
    "from six.moves import cPickle as pickle\n",
    "from six.moves import range\n",
    "\n",
    "import matplotlib.pyplot as plt\n",
    "# plot param\n",
    "%matplotlib inline\n",
    "plt.rcParams['figure.figsize'] = (28.0, 12.0) # set default size of plots\n",
    "plt.rcParams['image.interpolation'] = 'nearest'\n",
    "plt.rcParams['image.cmap'] = 'gray'\n",
    "plt.style.use('ggplot')"
   ]
  },
  {
   "cell_type": "markdown",
   "metadata": {},
   "source": [
    "First, manipulate the input and output data"
   ]
  },
  {
   "cell_type": "markdown",
   "metadata": {},
   "source": [
    "For now, always assumme that the state represent by single dimension vector\n",
    "in other word it only has one feature.\n",
    "\n",
    "Meanwhile the action size should be check if there is non-determinism in which action the controller should choose (it will influence how the score/loss function will be calculated). For instance, when the state has two ND actions (0 and 1), the loss function of that sample should be zero if the predicted action is action[0] OR action[1]."
   ]
  },
  {
   "cell_type": "markdown",
   "metadata": {},
   "source": [
    "For this vehicle case the input size is one (there is no ND on the actions)."
   ]
  },
  {
   "cell_type": "markdown",
   "metadata": {},
   "source": [
    "The uniqueness of the actions would determine the size of the output layer neuron's size"
   ]
  },
  {
   "cell_type": "code",
   "execution_count": 2,
   "metadata": {},
   "outputs": [],
   "source": [
    "# parse the controller file\n",
    "f = open('vehicle.txt', \"r\")"
   ]
  },
  {
   "cell_type": "code",
   "execution_count": 3,
   "metadata": {},
   "outputs": [],
   "source": [
    "lines = f.readlines()"
   ]
  },
  {
   "cell_type": "code",
   "execution_count": 4,
   "metadata": {},
   "outputs": [],
   "source": [
    "ltrain_dataset = []\n",
    "ltrain_label = []"
   ]
  },
  {
   "cell_type": "code",
   "execution_count": 5,
   "metadata": {},
   "outputs": [],
   "source": [
    "for x in lines:\n",
    "    ltrain_dataset.append(x.split(' ')[0].strip('\\n'))\n",
    "    ltrain_label.append(x.split(' ')[1].strip('\\n'))\n",
    "f.close()"
   ]
  },
  {
   "cell_type": "code",
   "execution_count": 6,
   "metadata": {},
   "outputs": [],
   "source": [
    "train_dataset = np.asarray(ltrain_dataset)\n",
    "train_label = np.asarray(ltrain_label)"
   ]
  },
  {
   "cell_type": "code",
   "execution_count": 7,
   "metadata": {
    "scrolled": true
   },
   "outputs": [],
   "source": [
    "train_dataset = train_dataset.astype(np.float32)\n",
    "train_label = train_label.astype(np.float32)"
   ]
  },
  {
   "cell_type": "code",
   "execution_count": 8,
   "metadata": {},
   "outputs": [
    {
     "data": {
      "text/plain": [
       "(48018,)"
      ]
     },
     "execution_count": 8,
     "metadata": {},
     "output_type": "execute_result"
    }
   ],
   "source": [
    "train_label.shape"
   ]
  },
  {
   "cell_type": "code",
   "execution_count": 9,
   "metadata": {},
   "outputs": [
    {
     "data": {
      "text/plain": [
       "(48018,)"
      ]
     },
     "execution_count": 9,
     "metadata": {},
     "output_type": "execute_result"
    }
   ],
   "source": [
    "train_dataset.shape"
   ]
  },
  {
   "cell_type": "code",
   "execution_count": 10,
   "metadata": {},
   "outputs": [
    {
     "data": {
      "text/plain": [
       "18"
      ]
     },
     "execution_count": 10,
     "metadata": {},
     "output_type": "execute_result"
    }
   ],
   "source": [
    "num_label = len(set(train_label))\n",
    "num_label"
   ]
  },
  {
   "cell_type": "code",
   "execution_count": 11,
   "metadata": {},
   "outputs": [],
   "source": [
    "lcoll_label = sorted(list(set(train_label)))"
   ]
  },
  {
   "cell_type": "code",
   "execution_count": 12,
   "metadata": {},
   "outputs": [
    {
     "data": {
      "text/plain": [
       "[0.0,\n",
       " 1.0,\n",
       " 5.0,\n",
       " 6.0,\n",
       " 7.0,\n",
       " 13.0,\n",
       " 14.0,\n",
       " 20.0,\n",
       " 21.0,\n",
       " 27.0,\n",
       " 28.0,\n",
       " 34.0,\n",
       " 35.0,\n",
       " 41.0,\n",
       " 42.0,\n",
       " 43.0,\n",
       " 47.0,\n",
       " 48.0]"
      ]
     },
     "execution_count": 12,
     "metadata": {},
     "output_type": "execute_result"
    }
   ],
   "source": [
    "lcoll_label"
   ]
  },
  {
   "cell_type": "code",
   "execution_count": 13,
   "metadata": {},
   "outputs": [
    {
     "data": {
      "text/plain": [
       "2"
      ]
     },
     "execution_count": 13,
     "metadata": {},
     "output_type": "execute_result"
    }
   ],
   "source": [
    "lcoll_label.index(5)"
   ]
  },
  {
   "cell_type": "code",
   "execution_count": 14,
   "metadata": {},
   "outputs": [
    {
     "data": {
      "text/plain": [
       "(48018,)"
      ]
     },
     "execution_count": 14,
     "metadata": {},
     "output_type": "execute_result"
    }
   ],
   "source": [
    "train_dataset.shape"
   ]
  },
  {
   "cell_type": "code",
   "execution_count": 15,
   "metadata": {
    "scrolled": true
   },
   "outputs": [
    {
     "data": {
      "text/plain": [
       "(48018,)"
      ]
     },
     "execution_count": 15,
     "metadata": {},
     "output_type": "execute_result"
    }
   ],
   "source": [
    "train_label.shape"
   ]
  },
  {
   "cell_type": "code",
   "execution_count": 16,
   "metadata": {
    "scrolled": true
   },
   "outputs": [
    {
     "data": {
      "image/png": "[encoded data removed]",
      "text/plain": [
       "<Figure size 432x288 with 1 Axes>"
      ]
     },
     "metadata": {},
     "output_type": "display_data"
    }
   ],
   "source": [
    "# plot a small fraction of the dataset\n",
    "plt.plot(train_dataset[:200], train_label[:200], 'r')\n",
    "plt.xlabel('x')\n",
    "plt.ylabel('y')\n",
    "plt.title('title')\n",
    "plt.show()"
   ]
  },
  {
   "cell_type": "code",
   "execution_count": 17,
   "metadata": {
    "scrolled": false
   },
   "outputs": [
    {
     "data": {
      "text/plain": [
       "4"
      ]
     },
     "execution_count": 17,
     "metadata": {},
     "output_type": "execute_result"
    }
   ],
   "source": [
    "lcoll_label.index(train_label[0])"
   ]
  },
  {
   "cell_type": "code",
   "execution_count": 18,
   "metadata": {},
   "outputs": [
    {
     "data": {
      "text/plain": [
       "range(0, 48018)"
      ]
     },
     "execution_count": 18,
     "metadata": {},
     "output_type": "execute_result"
    }
   ],
   "source": [
    "range(train_label.shape[0])"
   ]
  },
  {
   "cell_type": "code",
   "execution_count": 19,
   "metadata": {},
   "outputs": [],
   "source": [
    "train_label_transformed = np.zeros_like(train_label)"
   ]
  },
  {
   "cell_type": "code",
   "execution_count": 20,
   "metadata": {},
   "outputs": [],
   "source": [
    "for i in range(train_label.shape[0]):\n",
    "    train_label_transformed[i] = lcoll_label.index(train_label[i])"
   ]
  },
  {
   "cell_type": "code",
   "execution_count": 21,
   "metadata": {},
   "outputs": [
    {
     "data": {
      "text/plain": [
       "array([ 4., 13., 17., ..., 15., 15.,  2.], dtype=float32)"
      ]
     },
     "execution_count": 21,
     "metadata": {},
     "output_type": "execute_result"
    }
   ],
   "source": [
    "train_label_transformed"
   ]
  },
  {
   "cell_type": "code",
   "execution_count": 22,
   "metadata": {},
   "outputs": [
    {
     "data": {
      "text/plain": [
       "array([  147.,   150.,   151., ..., 90665., 90666., 90667.], dtype=float32)"
      ]
     },
     "execution_count": 22,
     "metadata": {},
     "output_type": "execute_result"
    }
   ],
   "source": [
    "train_dataset"
   ]
  },
  {
   "cell_type": "code",
   "execution_count": 23,
   "metadata": {},
   "outputs": [
    {
     "data": {
      "text/plain": [
       "18"
      ]
     },
     "execution_count": 23,
     "metadata": {},
     "output_type": "execute_result"
    }
   ],
   "source": [
    "len(lcoll_label)"
   ]
  },
  {
   "cell_type": "code",
   "execution_count": 24,
   "metadata": {},
   "outputs": [],
   "source": [
    "# convert to the one hot encoding representation\n",
    "train_label_hot = (np.arange(len(lcoll_label)) == train_label_transformed[:, None]).astype(np.float32)"
   ]
  },
  {
   "cell_type": "code",
   "execution_count": 25,
   "metadata": {
    "scrolled": true
   },
   "outputs": [
    {
     "data": {
      "text/plain": [
       "(48018, 18)"
      ]
     },
     "execution_count": 25,
     "metadata": {},
     "output_type": "execute_result"
    }
   ],
   "source": [
    "train_label_hot.shape"
   ]
  },
  {
   "cell_type": "code",
   "execution_count": 26,
   "metadata": {},
   "outputs": [
    {
     "data": {
      "text/plain": [
       "array([0., 0., 0., 0., 1., 0., 0., 0., 0., 0., 0., 0., 0., 0., 0., 0., 0.,\n",
       "       0.], dtype=float32)"
      ]
     },
     "execution_count": 26,
     "metadata": {},
     "output_type": "execute_result"
    }
   ],
   "source": [
    "train_label_hot[0]"
   ]
  },
  {
   "cell_type": "code",
   "execution_count": 27,
   "metadata": {},
   "outputs": [],
   "source": [
    "train_dataset_reform = train_dataset[:, None]"
   ]
  },
  {
   "cell_type": "code",
   "execution_count": 28,
   "metadata": {},
   "outputs": [],
   "source": [
    "def accuracy(predictions, labels):\n",
    "  return (100.0 * np.sum(np.argmax(predictions, 1) == np.argmax(labels, 1))\n",
    "          / predictions.shape[0])"
   ]
  },
  {
   "cell_type": "code",
   "execution_count": 29,
   "metadata": {},
   "outputs": [
    {
     "data": {
      "text/plain": [
       "(48018, 1)"
      ]
     },
     "execution_count": 29,
     "metadata": {},
     "output_type": "execute_result"
    }
   ],
   "source": [
    "train_dataset_reform.shape"
   ]
  },
  {
   "cell_type": "code",
   "execution_count": 30,
   "metadata": {},
   "outputs": [
    {
     "data": {
      "text/plain": [
       "(48018, 18)"
      ]
     },
     "execution_count": 30,
     "metadata": {},
     "output_type": "execute_result"
    }
   ],
   "source": [
    "train_label_hot.shape"
   ]
  },
  {
   "cell_type": "code",
   "execution_count": 31,
   "metadata": {},
   "outputs": [
    {
     "data": {
      "text/plain": [
       "90667.0"
      ]
     },
     "execution_count": 31,
     "metadata": {},
     "output_type": "execute_result"
    }
   ],
   "source": [
    "np.max(train_dataset_reform)"
   ]
  },
  {
   "cell_type": "code",
   "execution_count": 32,
   "metadata": {},
   "outputs": [
    {
     "data": {
      "text/plain": [
       "array([[  147.],\n",
       "       [  150.],\n",
       "       [  151.],\n",
       "       ...,\n",
       "       [90665.],\n",
       "       [90666.],\n",
       "       [90667.]], dtype=float32)"
      ]
     },
     "execution_count": 32,
     "metadata": {},
     "output_type": "execute_result"
    }
   ],
   "source": [
    "train_dataset_reform"
   ]
  },
  {
   "cell_type": "markdown",
   "metadata": {},
   "source": [
    "Unpack the input to binary representation, such that it results in input with higher dimension"
   ]
  },
  {
   "cell_type": "code",
   "execution_count": 125,
   "metadata": {},
   "outputs": [
    {
     "data": {
      "text/plain": [
       "array([[0, 0, 0, 0, 0, 0, 0, 0, 0, 0, 0, 0, 0, 0, 0, 0, 0, 0, 0, 0, 0, 0,\n",
       "        0, 0, 0, 0, 0, 0, 0, 0, 0, 0],\n",
       "       [0, 0, 0, 0, 0, 0, 0, 1, 0, 0, 0, 0, 0, 0, 0, 0, 0, 0, 0, 0, 0, 0,\n",
       "        0, 0, 0, 0, 0, 0, 0, 0, 0, 0],\n",
       "       [0, 0, 0, 0, 0, 0, 1, 0, 0, 0, 0, 0, 0, 0, 0, 0, 0, 0, 0, 0, 0, 0,\n",
       "        0, 0, 0, 0, 0, 0, 0, 0, 0, 0]], dtype=uint8)"
      ]
     },
     "execution_count": 125,
     "metadata": {},
     "output_type": "execute_result"
    }
   ],
   "source": [
    "# unpackbits example\n",
    "np.unpackbits(np.arange(3, dtype=np.uint32).view(np.uint8)).reshape((-1,32))"
   ]
  },
  {
   "cell_type": "code",
   "execution_count": 34,
   "metadata": {},
   "outputs": [],
   "source": [
    "a = np.array([1,256], dtype = np.uint32)"
   ]
  },
  {
   "cell_type": "code",
   "execution_count": 35,
   "metadata": {},
   "outputs": [
    {
     "data": {
      "text/plain": [
       "array([1, 0, 0, 0, 0, 1, 0, 0], dtype=uint8)"
      ]
     },
     "execution_count": 35,
     "metadata": {},
     "output_type": "execute_result"
    }
   ],
   "source": [
    "# it is on big endian(?), \n",
    "# it also in 4 bit representation (32/8)\n",
    "# MSB are placed on the right side of each number\n",
    "a.view(np.uint8)"
   ]
  },
  {
   "cell_type": "code",
   "execution_count": 36,
   "metadata": {
    "scrolled": false
   },
   "outputs": [
    {
     "data": {
      "text/plain": [
       "array([[0, 0, 0, 0, 0, 0, 0, 1, 0, 0, 0, 0, 0, 0, 0, 0, 0, 0, 0, 0, 0, 0,\n",
       "        0, 0, 0, 0, 0, 0, 0, 0, 0, 0],\n",
       "       [0, 0, 0, 0, 0, 0, 0, 0, 0, 0, 0, 0, 0, 0, 0, 1, 0, 0, 0, 0, 0, 0,\n",
       "        0, 0, 0, 0, 0, 0, 0, 0, 0, 0]], dtype=uint8)"
      ]
     },
     "execution_count": 36,
     "metadata": {},
     "output_type": "execute_result"
    }
   ],
   "source": [
    "# change it to real binary\n",
    "np.unpackbits(a.view(np.uint8)).reshape(-1,32)"
   ]
  },
  {
   "cell_type": "markdown",
   "metadata": {},
   "source": [
    "Transform the dataset"
   ]
  },
  {
   "cell_type": "code",
   "execution_count": 37,
   "metadata": {},
   "outputs": [
    {
     "data": {
      "text/plain": [
       "48018"
      ]
     },
     "execution_count": 37,
     "metadata": {},
     "output_type": "execute_result"
    }
   ],
   "source": [
    "train_dataset_reform.shape[0]"
   ]
  },
  {
   "cell_type": "code",
   "execution_count": 38,
   "metadata": {},
   "outputs": [],
   "source": [
    "# set the upper limit of experiment\n",
    "upper_limit = train_dataset_reform.shape[0] #40\n",
    "# upper_limit = 400"
   ]
  },
  {
   "cell_type": "code",
   "execution_count": 39,
   "metadata": {
    "scrolled": true
   },
   "outputs": [
    {
     "data": {
      "text/plain": [
       "array([[  147.],\n",
       "       [  150.],\n",
       "       [  151.],\n",
       "       ...,\n",
       "       [90665.],\n",
       "       [90666.],\n",
       "       [90667.]], dtype=float32)"
      ]
     },
     "execution_count": 39,
     "metadata": {},
     "output_type": "execute_result"
    }
   ],
   "source": [
    "# slice the samples\n",
    "train_sliced = train_dataset_reform[:upper_limit]\n",
    "train_sliced"
   ]
  },
  {
   "cell_type": "code",
   "execution_count": 40,
   "metadata": {},
   "outputs": [
    {
     "data": {
      "text/plain": [
       "array([[  147],\n",
       "       [  150],\n",
       "       [  151],\n",
       "       ...,\n",
       "       [90665],\n",
       "       [90666],\n",
       "       [90667]], dtype=uint32)"
      ]
     },
     "execution_count": 40,
     "metadata": {},
     "output_type": "execute_result"
    }
   ],
   "source": [
    "# change it to init\n",
    "train_sliced_int = train_sliced.astype(np.uint32)\n",
    "train_sliced_int"
   ]
  },
  {
   "cell_type": "code",
   "execution_count": 135,
   "metadata": {},
   "outputs": [
    {
     "data": {
      "text/plain": [
       "array([[  0,   0,   0, 147],\n",
       "       [  0,   0,   0, 150],\n",
       "       [  0,   0,   0, 151],\n",
       "       ...,\n",
       "       [  0,   1,  98,  41],\n",
       "       [  0,   1,  98,  42],\n",
       "       [  0,   1,  98,  43]], dtype=uint8)"
      ]
     },
     "execution_count": 135,
     "metadata": {},
     "output_type": "execute_result"
    }
   ],
   "source": [
    "tsi8_unordered = train_sliced_int.view(np.uint8)\n",
    "tsi8 = np.flip(tsi8_unordered,1)\n",
    "tsi8"
   ]
  },
  {
   "cell_type": "code",
   "execution_count": 167,
   "metadata": {},
   "outputs": [
    {
     "data": {
      "text/plain": [
       "array([[0, 0, 0, ..., 0, 1, 1],\n",
       "       [0, 0, 0, ..., 1, 1, 0],\n",
       "       [0, 0, 0, ..., 1, 1, 1],\n",
       "       ...,\n",
       "       [0, 0, 0, ..., 0, 0, 1],\n",
       "       [0, 0, 0, ..., 0, 1, 0],\n",
       "       [0, 0, 0, ..., 0, 1, 1]], dtype=uint8)"
      ]
     },
     "execution_count": 167,
     "metadata": {},
     "output_type": "execute_result"
    }
   ],
   "source": [
    "# converte to bit representation\n",
    "# toy_vehicle_input = np.unpackbits(tu_u8, axis=1)\n",
    "# toy_vehicle_input\n",
    "toy_vehicle_input_unreduced = np.unpackbits(tsi8).reshape(-1,32)\n",
    "toy_vehicle_input_unreduced"
   ]
  },
  {
   "cell_type": "code",
   "execution_count": 168,
   "metadata": {},
   "outputs": [
    {
     "data": {
      "text/plain": [
       "array([0, 0, 0, 0, 0, 0, 0, 0, 0, 0, 0, 0, 0, 0, 0, 1, 0, 1, 1, 0, 0, 0,\n",
       "       1, 0, 0, 0, 1, 0, 1, 0, 1, 1], dtype=uint8)"
      ]
     },
     "execution_count": 168,
     "metadata": {},
     "output_type": "execute_result"
    }
   ],
   "source": [
    "toy_vehicle_input_unreduced[-1]"
   ]
  },
  {
   "cell_type": "code",
   "execution_count": 173,
   "metadata": {},
   "outputs": [
    {
     "data": {
      "text/plain": [
       "(48018, 17)"
      ]
     },
     "execution_count": 173,
     "metadata": {},
     "output_type": "execute_result"
    }
   ],
   "source": [
    "toy_vehicle_input = toy_vehicle_input_unreduced[:, np.arange(15,32)]\n",
    "toy_vehicle_input.shape"
   ]
  },
  {
   "cell_type": "code",
   "execution_count": 172,
   "metadata": {},
   "outputs": [
    {
     "data": {
      "text/plain": [
       "48018"
      ]
     },
     "execution_count": 172,
     "metadata": {},
     "output_type": "execute_result"
    }
   ],
   "source": [
    "num_samples = toy_vehicle_input.shape[0]\n",
    "num_samples"
   ]
  },
  {
   "cell_type": "code",
   "execution_count": 44,
   "metadata": {},
   "outputs": [
    {
     "data": {
      "text/plain": [
       "48018"
      ]
     },
     "execution_count": 44,
     "metadata": {},
     "output_type": "execute_result"
    }
   ],
   "source": [
    "num_samples"
   ]
  },
  {
   "cell_type": "markdown",
   "metadata": {},
   "source": [
    "RNN"
   ]
  },
  {
   "cell_type": "markdown",
   "metadata": {},
   "source": [
    "Hyperparameter"
   ]
  },
  {
   "cell_type": "code",
   "execution_count": 174,
   "metadata": {},
   "outputs": [],
   "source": [
    "total_series_length = num_samples\n",
    "truncated_backprop_length = 53\n",
    "input_size = toy_vehicle_input.shape[1]\n",
    "state_size = toy_vehicle_input.shape[1]\n",
    "num_classes = num_label\n",
    "batch_size = num_samples//truncated_backprop_length\n",
    "num_batches = total_series_length//batch_size//truncated_backprop_length"
   ]
  },
  {
   "cell_type": "code",
   "execution_count": 175,
   "metadata": {},
   "outputs": [
    {
     "data": {
      "text/plain": [
       "53"
      ]
     },
     "execution_count": 175,
     "metadata": {},
     "output_type": "execute_result"
    }
   ],
   "source": [
    "truncated_backprop_length"
   ]
  },
  {
   "cell_type": "code",
   "execution_count": 176,
   "metadata": {},
   "outputs": [
    {
     "data": {
      "text/plain": [
       "1"
      ]
     },
     "execution_count": 176,
     "metadata": {},
     "output_type": "execute_result"
    }
   ],
   "source": [
    "num_batches"
   ]
  },
  {
   "cell_type": "code",
   "execution_count": 177,
   "metadata": {},
   "outputs": [
    {
     "data": {
      "text/plain": [
       "906"
      ]
     },
     "execution_count": 177,
     "metadata": {},
     "output_type": "execute_result"
    }
   ],
   "source": [
    "batch_size"
   ]
  },
  {
   "cell_type": "code",
   "execution_count": 178,
   "metadata": {},
   "outputs": [
    {
     "data": {
      "text/plain": [
       "17"
      ]
     },
     "execution_count": 178,
     "metadata": {},
     "output_type": "execute_result"
    }
   ],
   "source": [
    "state_size"
   ]
  },
  {
   "cell_type": "code",
   "execution_count": 179,
   "metadata": {},
   "outputs": [],
   "source": [
    "def accuracy_list(predictions, labels):\n",
    "  return (100*np.mean(np.argmax(np.asarray(predictions),2) == np.argmax(np.asarray(labels),2)))"
   ]
  },
  {
   "cell_type": "markdown",
   "metadata": {},
   "source": [
    "Graph"
   ]
  },
  {
   "cell_type": "code",
   "execution_count": 180,
   "metadata": {},
   "outputs": [],
   "source": [
    "# computational graph input, output, initial state\n",
    "batchX_placeholder = tf.placeholder(tf.float32, [batch_size, truncated_backprop_length, input_size])\n",
    "batchY_placeholder = tf.placeholder(tf.float32, [batch_size, truncated_backprop_length, num_classes])\n",
    "init_state = tf.placeholder(tf.float32, [batch_size, state_size])"
   ]
  },
  {
   "cell_type": "code",
   "execution_count": 181,
   "metadata": {},
   "outputs": [],
   "source": [
    "# weights and biases\n",
    "# input(k) + hidden state(k-1) to state(k)\n",
    "W = tf.Variable(np.random.rand(state_size+input_size, state_size), dtype=tf.float32)\n",
    "b = tf.Variable(np.zeros((1,state_size)), dtype=tf.float32)\n",
    "# hidden state to output\n",
    "W2 = tf.Variable(np.random.rand(state_size, num_classes),dtype=tf.float32)\n",
    "b2 = tf.Variable(np.zeros((1,num_classes)), dtype=tf.float32)"
   ]
  },
  {
   "cell_type": "code",
   "execution_count": 182,
   "metadata": {},
   "outputs": [],
   "source": [
    "# Unpack columns/slice each column (batch_size x truncated_backprop_length) -> (batch_sizex1) x tbl  \n",
    "inputs_series = tf.unstack(batchX_placeholder, axis=1)\n",
    "labels_series = tf.unstack(batchY_placeholder, axis=1)"
   ]
  },
  {
   "cell_type": "code",
   "execution_count": 183,
   "metadata": {},
   "outputs": [
    {
     "data": {
      "text/plain": [
       "[<tf.Tensor 'unstack_2:0' shape=(906, 17) dtype=float32>,\n",
       " <tf.Tensor 'unstack_2:1' shape=(906, 17) dtype=float32>,\n",
       " <tf.Tensor 'unstack_2:2' shape=(906, 17) dtype=float32>,\n",
       " <tf.Tensor 'unstack_2:3' shape=(906, 17) dtype=float32>,\n",
       " <tf.Tensor 'unstack_2:4' shape=(906, 17) dtype=float32>,\n",
       " <tf.Tensor 'unstack_2:5' shape=(906, 17) dtype=float32>,\n",
       " <tf.Tensor 'unstack_2:6' shape=(906, 17) dtype=float32>,\n",
       " <tf.Tensor 'unstack_2:7' shape=(906, 17) dtype=float32>,\n",
       " <tf.Tensor 'unstack_2:8' shape=(906, 17) dtype=float32>,\n",
       " <tf.Tensor 'unstack_2:9' shape=(906, 17) dtype=float32>,\n",
       " <tf.Tensor 'unstack_2:10' shape=(906, 17) dtype=float32>,\n",
       " <tf.Tensor 'unstack_2:11' shape=(906, 17) dtype=float32>,\n",
       " <tf.Tensor 'unstack_2:12' shape=(906, 17) dtype=float32>,\n",
       " <tf.Tensor 'unstack_2:13' shape=(906, 17) dtype=float32>,\n",
       " <tf.Tensor 'unstack_2:14' shape=(906, 17) dtype=float32>,\n",
       " <tf.Tensor 'unstack_2:15' shape=(906, 17) dtype=float32>,\n",
       " <tf.Tensor 'unstack_2:16' shape=(906, 17) dtype=float32>,\n",
       " <tf.Tensor 'unstack_2:17' shape=(906, 17) dtype=float32>,\n",
       " <tf.Tensor 'unstack_2:18' shape=(906, 17) dtype=float32>,\n",
       " <tf.Tensor 'unstack_2:19' shape=(906, 17) dtype=float32>,\n",
       " <tf.Tensor 'unstack_2:20' shape=(906, 17) dtype=float32>,\n",
       " <tf.Tensor 'unstack_2:21' shape=(906, 17) dtype=float32>,\n",
       " <tf.Tensor 'unstack_2:22' shape=(906, 17) dtype=float32>,\n",
       " <tf.Tensor 'unstack_2:23' shape=(906, 17) dtype=float32>,\n",
       " <tf.Tensor 'unstack_2:24' shape=(906, 17) dtype=float32>,\n",
       " <tf.Tensor 'unstack_2:25' shape=(906, 17) dtype=float32>,\n",
       " <tf.Tensor 'unstack_2:26' shape=(906, 17) dtype=float32>,\n",
       " <tf.Tensor 'unstack_2:27' shape=(906, 17) dtype=float32>,\n",
       " <tf.Tensor 'unstack_2:28' shape=(906, 17) dtype=float32>,\n",
       " <tf.Tensor 'unstack_2:29' shape=(906, 17) dtype=float32>,\n",
       " <tf.Tensor 'unstack_2:30' shape=(906, 17) dtype=float32>,\n",
       " <tf.Tensor 'unstack_2:31' shape=(906, 17) dtype=float32>,\n",
       " <tf.Tensor 'unstack_2:32' shape=(906, 17) dtype=float32>,\n",
       " <tf.Tensor 'unstack_2:33' shape=(906, 17) dtype=float32>,\n",
       " <tf.Tensor 'unstack_2:34' shape=(906, 17) dtype=float32>,\n",
       " <tf.Tensor 'unstack_2:35' shape=(906, 17) dtype=float32>,\n",
       " <tf.Tensor 'unstack_2:36' shape=(906, 17) dtype=float32>,\n",
       " <tf.Tensor 'unstack_2:37' shape=(906, 17) dtype=float32>,\n",
       " <tf.Tensor 'unstack_2:38' shape=(906, 17) dtype=float32>,\n",
       " <tf.Tensor 'unstack_2:39' shape=(906, 17) dtype=float32>,\n",
       " <tf.Tensor 'unstack_2:40' shape=(906, 17) dtype=float32>,\n",
       " <tf.Tensor 'unstack_2:41' shape=(906, 17) dtype=float32>,\n",
       " <tf.Tensor 'unstack_2:42' shape=(906, 17) dtype=float32>,\n",
       " <tf.Tensor 'unstack_2:43' shape=(906, 17) dtype=float32>,\n",
       " <tf.Tensor 'unstack_2:44' shape=(906, 17) dtype=float32>,\n",
       " <tf.Tensor 'unstack_2:45' shape=(906, 17) dtype=float32>,\n",
       " <tf.Tensor 'unstack_2:46' shape=(906, 17) dtype=float32>,\n",
       " <tf.Tensor 'unstack_2:47' shape=(906, 17) dtype=float32>,\n",
       " <tf.Tensor 'unstack_2:48' shape=(906, 17) dtype=float32>,\n",
       " <tf.Tensor 'unstack_2:49' shape=(906, 17) dtype=float32>,\n",
       " <tf.Tensor 'unstack_2:50' shape=(906, 17) dtype=float32>,\n",
       " <tf.Tensor 'unstack_2:51' shape=(906, 17) dtype=float32>,\n",
       " <tf.Tensor 'unstack_2:52' shape=(906, 17) dtype=float32>]"
      ]
     },
     "execution_count": 183,
     "metadata": {},
     "output_type": "execute_result"
    }
   ],
   "source": [
    "inputs_series"
   ]
  },
  {
   "cell_type": "code",
   "execution_count": 184,
   "metadata": {},
   "outputs": [
    {
     "data": {
      "text/plain": [
       "[<tf.Tensor 'unstack_3:0' shape=(906, 18) dtype=float32>,\n",
       " <tf.Tensor 'unstack_3:1' shape=(906, 18) dtype=float32>,\n",
       " <tf.Tensor 'unstack_3:2' shape=(906, 18) dtype=float32>,\n",
       " <tf.Tensor 'unstack_3:3' shape=(906, 18) dtype=float32>,\n",
       " <tf.Tensor 'unstack_3:4' shape=(906, 18) dtype=float32>,\n",
       " <tf.Tensor 'unstack_3:5' shape=(906, 18) dtype=float32>,\n",
       " <tf.Tensor 'unstack_3:6' shape=(906, 18) dtype=float32>,\n",
       " <tf.Tensor 'unstack_3:7' shape=(906, 18) dtype=float32>,\n",
       " <tf.Tensor 'unstack_3:8' shape=(906, 18) dtype=float32>,\n",
       " <tf.Tensor 'unstack_3:9' shape=(906, 18) dtype=float32>,\n",
       " <tf.Tensor 'unstack_3:10' shape=(906, 18) dtype=float32>,\n",
       " <tf.Tensor 'unstack_3:11' shape=(906, 18) dtype=float32>,\n",
       " <tf.Tensor 'unstack_3:12' shape=(906, 18) dtype=float32>,\n",
       " <tf.Tensor 'unstack_3:13' shape=(906, 18) dtype=float32>,\n",
       " <tf.Tensor 'unstack_3:14' shape=(906, 18) dtype=float32>,\n",
       " <tf.Tensor 'unstack_3:15' shape=(906, 18) dtype=float32>,\n",
       " <tf.Tensor 'unstack_3:16' shape=(906, 18) dtype=float32>,\n",
       " <tf.Tensor 'unstack_3:17' shape=(906, 18) dtype=float32>,\n",
       " <tf.Tensor 'unstack_3:18' shape=(906, 18) dtype=float32>,\n",
       " <tf.Tensor 'unstack_3:19' shape=(906, 18) dtype=float32>,\n",
       " <tf.Tensor 'unstack_3:20' shape=(906, 18) dtype=float32>,\n",
       " <tf.Tensor 'unstack_3:21' shape=(906, 18) dtype=float32>,\n",
       " <tf.Tensor 'unstack_3:22' shape=(906, 18) dtype=float32>,\n",
       " <tf.Tensor 'unstack_3:23' shape=(906, 18) dtype=float32>,\n",
       " <tf.Tensor 'unstack_3:24' shape=(906, 18) dtype=float32>,\n",
       " <tf.Tensor 'unstack_3:25' shape=(906, 18) dtype=float32>,\n",
       " <tf.Tensor 'unstack_3:26' shape=(906, 18) dtype=float32>,\n",
       " <tf.Tensor 'unstack_3:27' shape=(906, 18) dtype=float32>,\n",
       " <tf.Tensor 'unstack_3:28' shape=(906, 18) dtype=float32>,\n",
       " <tf.Tensor 'unstack_3:29' shape=(906, 18) dtype=float32>,\n",
       " <tf.Tensor 'unstack_3:30' shape=(906, 18) dtype=float32>,\n",
       " <tf.Tensor 'unstack_3:31' shape=(906, 18) dtype=float32>,\n",
       " <tf.Tensor 'unstack_3:32' shape=(906, 18) dtype=float32>,\n",
       " <tf.Tensor 'unstack_3:33' shape=(906, 18) dtype=float32>,\n",
       " <tf.Tensor 'unstack_3:34' shape=(906, 18) dtype=float32>,\n",
       " <tf.Tensor 'unstack_3:35' shape=(906, 18) dtype=float32>,\n",
       " <tf.Tensor 'unstack_3:36' shape=(906, 18) dtype=float32>,\n",
       " <tf.Tensor 'unstack_3:37' shape=(906, 18) dtype=float32>,\n",
       " <tf.Tensor 'unstack_3:38' shape=(906, 18) dtype=float32>,\n",
       " <tf.Tensor 'unstack_3:39' shape=(906, 18) dtype=float32>,\n",
       " <tf.Tensor 'unstack_3:40' shape=(906, 18) dtype=float32>,\n",
       " <tf.Tensor 'unstack_3:41' shape=(906, 18) dtype=float32>,\n",
       " <tf.Tensor 'unstack_3:42' shape=(906, 18) dtype=float32>,\n",
       " <tf.Tensor 'unstack_3:43' shape=(906, 18) dtype=float32>,\n",
       " <tf.Tensor 'unstack_3:44' shape=(906, 18) dtype=float32>,\n",
       " <tf.Tensor 'unstack_3:45' shape=(906, 18) dtype=float32>,\n",
       " <tf.Tensor 'unstack_3:46' shape=(906, 18) dtype=float32>,\n",
       " <tf.Tensor 'unstack_3:47' shape=(906, 18) dtype=float32>,\n",
       " <tf.Tensor 'unstack_3:48' shape=(906, 18) dtype=float32>,\n",
       " <tf.Tensor 'unstack_3:49' shape=(906, 18) dtype=float32>,\n",
       " <tf.Tensor 'unstack_3:50' shape=(906, 18) dtype=float32>,\n",
       " <tf.Tensor 'unstack_3:51' shape=(906, 18) dtype=float32>,\n",
       " <tf.Tensor 'unstack_3:52' shape=(906, 18) dtype=float32>]"
      ]
     },
     "execution_count": 184,
     "metadata": {},
     "output_type": "execute_result"
    }
   ],
   "source": [
    "labels_series"
   ]
  },
  {
   "cell_type": "code",
   "execution_count": 185,
   "metadata": {},
   "outputs": [],
   "source": [
    "# Forward pass\n",
    "current_state = init_state # batch_s x state_s\n",
    "states_series = []\n",
    "for current_input in inputs_series:\n",
    "    # bsxss\n",
    "    current_input = tf.reshape(current_input, [batch_size, input_size]) \n",
    "    # bsxis concat bsxss -> bsx(is+ss) \n",
    "    input_and_state_concatenated = tf.concat([current_input, current_state],1)  # Increasing number of columns\n",
    "    # 5x5, 5x4 -> 5x4 + 1x4 = 5x4\n",
    "    # next_state = tf.tanh(tf.matmul(input_and_state_concatenated, W) + b)  # Broadcasted addition\n",
    "    next_state = tf.nn.relu(tf.matmul(input_and_state_concatenated, W) + b)  # Broadcasted addition\n",
    "    \n",
    "    states_series.append(next_state)\n",
    "    current_state = next_state"
   ]
  },
  {
   "cell_type": "code",
   "execution_count": 186,
   "metadata": {},
   "outputs": [],
   "source": [
    "# loss calculation\n",
    "# 5x4 * 4x2 + 1x2 = 5x2\n",
    "logits_series = [tf.matmul(state, W2) + b2 for state in states_series] #Broadcasted addition\n",
    "\n",
    "# the same size with the batch for the training\n",
    "predictions_series = [tf.nn.softmax(logits) for logits in logits_series]\n",
    "# predictions_series = [tf.round(tf.sigmoid(logits)) for logits in logits_series]\n",
    "\n",
    "# compute the loss with cross entropy (it will be probabilistic 0-1 compare it with label)\n",
    "losses = [tf.nn.softmax_cross_entropy_with_logits_v2(logits = logits,labels = labels) for logits, labels in zip(logits_series,labels_series)]\n",
    "# losses = [tf.nn.sigmoid_cross_entropy_with_logits(logits = logits,labels = labels) for logits, labels in zip(logits_series,labels_series)]\n",
    "\n",
    "# make the loss scalar\n",
    "total_loss = tf.reduce_mean(losses)\n",
    "# gradient step\n",
    "train_step = tf.train.AdagradOptimizer(0.1).minimize(total_loss)"
   ]
  },
  {
   "cell_type": "code",
   "execution_count": 187,
   "metadata": {},
   "outputs": [
    {
     "data": {
      "text/plain": [
       "(48018, 18)"
      ]
     },
     "execution_count": 187,
     "metadata": {},
     "output_type": "execute_result"
    }
   ],
   "source": [
    "train_label_hot.shape"
   ]
  },
  {
   "cell_type": "code",
   "execution_count": 188,
   "metadata": {},
   "outputs": [
    {
     "data": {
      "text/plain": [
       "(48018, 1)"
      ]
     },
     "execution_count": 188,
     "metadata": {},
     "output_type": "execute_result"
    }
   ],
   "source": [
    "train_dataset_reform.shape"
   ]
  },
  {
   "cell_type": "code",
   "execution_count": 189,
   "metadata": {},
   "outputs": [
    {
     "data": {
      "text/plain": [
       "array([[1, 0, 1, 1, 0, 0, 0, 1, 0, 0, 0, 1, 0, 1, 0, 0, 1],\n",
       "       [1, 0, 1, 1, 0, 0, 0, 1, 0, 0, 0, 1, 0, 1, 0, 1, 0]], dtype=uint8)"
      ]
     },
     "execution_count": 189,
     "metadata": {},
     "output_type": "execute_result"
    }
   ],
   "source": [
    "toy_vehicle_input[-3:-1]"
   ]
  },
  {
   "cell_type": "code",
   "execution_count": 190,
   "metadata": {},
   "outputs": [],
   "source": [
    "x = toy_vehicle_input[:upper_limit].reshape((batch_size,-1, input_size))\n",
    "y = train_label_hot[:upper_limit].reshape((batch_size, -1, num_classes))\n",
    "# x = toy_vehicle_input.reshape((batch_size,-1, input_size))\n",
    "# y = train_label_hot.reshape((batch_size, -1, num_classes))"
   ]
  },
  {
   "cell_type": "code",
   "execution_count": 191,
   "metadata": {},
   "outputs": [
    {
     "data": {
      "text/plain": [
       "(906, 53, 17)"
      ]
     },
     "execution_count": 191,
     "metadata": {},
     "output_type": "execute_result"
    }
   ],
   "source": [
    "x.shape"
   ]
  },
  {
   "cell_type": "code",
   "execution_count": 192,
   "metadata": {},
   "outputs": [
    {
     "data": {
      "text/plain": [
       "(906, 53, 18)"
      ]
     },
     "execution_count": 192,
     "metadata": {},
     "output_type": "execute_result"
    }
   ],
   "source": [
    "y.shape"
   ]
  },
  {
   "cell_type": "code",
   "execution_count": 193,
   "metadata": {},
   "outputs": [
    {
     "data": {
      "text/plain": [
       "array([[[0, 0, 0, ..., 0, 1, 1],\n",
       "        [0, 0, 0, ..., 1, 1, 0],\n",
       "        [0, 0, 0, ..., 1, 1, 1],\n",
       "        ...,\n",
       "        [0, 0, 0, ..., 0, 1, 0],\n",
       "        [0, 0, 0, ..., 1, 1, 0],\n",
       "        [0, 0, 0, ..., 1, 1, 1]],\n",
       "\n",
       "       [[0, 0, 0, ..., 0, 0, 0],\n",
       "        [0, 0, 0, ..., 0, 0, 1],\n",
       "        [0, 0, 0, ..., 0, 1, 0],\n",
       "        ...,\n",
       "        [0, 0, 0, ..., 0, 0, 0],\n",
       "        [0, 0, 0, ..., 0, 0, 1],\n",
       "        [0, 0, 0, ..., 0, 1, 0]],\n",
       "\n",
       "       [[0, 0, 0, ..., 0, 1, 1],\n",
       "        [0, 0, 0, ..., 1, 0, 0],\n",
       "        [0, 0, 0, ..., 1, 0, 1],\n",
       "        ...,\n",
       "        [0, 0, 0, ..., 0, 0, 1],\n",
       "        [0, 0, 0, ..., 0, 1, 0],\n",
       "        [0, 0, 0, ..., 1, 1, 0]],\n",
       "\n",
       "       ...,\n",
       "\n",
       "       [[1, 0, 1, ..., 0, 0, 0],\n",
       "        [1, 0, 1, ..., 0, 0, 1],\n",
       "        [1, 0, 1, ..., 0, 1, 0],\n",
       "        ...,\n",
       "        [1, 0, 1, ..., 0, 0, 0],\n",
       "        [1, 0, 1, ..., 0, 1, 1],\n",
       "        [1, 0, 1, ..., 1, 0, 0]],\n",
       "\n",
       "       [[1, 0, 1, ..., 1, 0, 1],\n",
       "        [1, 0, 1, ..., 1, 1, 0],\n",
       "        [1, 0, 1, ..., 1, 1, 1],\n",
       "        ...,\n",
       "        [1, 0, 1, ..., 1, 1, 1],\n",
       "        [1, 0, 1, ..., 0, 0, 0],\n",
       "        [1, 0, 1, ..., 0, 0, 1]],\n",
       "\n",
       "       [[1, 0, 1, ..., 0, 1, 0],\n",
       "        [1, 0, 1, ..., 0, 1, 1],\n",
       "        [1, 0, 1, ..., 1, 0, 0],\n",
       "        ...,\n",
       "        [1, 0, 1, ..., 0, 0, 1],\n",
       "        [1, 0, 1, ..., 0, 1, 0],\n",
       "        [1, 0, 1, ..., 0, 1, 1]]], dtype=uint8)"
      ]
     },
     "execution_count": 193,
     "metadata": {},
     "output_type": "execute_result"
    }
   ],
   "source": [
    "x"
   ]
  },
  {
   "cell_type": "code",
   "execution_count": 194,
   "metadata": {},
   "outputs": [
    {
     "data": {
      "text/plain": [
       "array([[0, 0, 0, ..., 0, 1, 1],\n",
       "       [0, 0, 0, ..., 1, 1, 0],\n",
       "       [0, 0, 0, ..., 1, 1, 1],\n",
       "       ...,\n",
       "       [1, 0, 1, ..., 0, 0, 1],\n",
       "       [1, 0, 1, ..., 0, 1, 0],\n",
       "       [1, 0, 1, ..., 0, 1, 1]], dtype=uint8)"
      ]
     },
     "execution_count": 194,
     "metadata": {},
     "output_type": "execute_result"
    }
   ],
   "source": [
    " toy_vehicle_input"
   ]
  },
  {
   "cell_type": "code",
   "execution_count": 195,
   "metadata": {},
   "outputs": [],
   "source": [
    "num_epochs = 3700"
   ]
  },
  {
   "cell_type": "code",
   "execution_count": 196,
   "metadata": {},
   "outputs": [
    {
     "data": {
      "text/plain": [
       "1"
      ]
     },
     "execution_count": 196,
     "metadata": {},
     "output_type": "execute_result"
    }
   ],
   "source": [
    "num_batches"
   ]
  },
  {
   "cell_type": "code",
   "execution_count": 197,
   "metadata": {},
   "outputs": [
    {
     "name": "stdout",
     "output_type": "stream",
     "text": [
      "New data, epoch 1\n",
      "batch: 0 , accuracy: 9.348577616727061\n",
      "Step 0 Loss nan\n",
      "New data, epoch 2\n",
      "batch: 0 , accuracy: 15.15889874630347\n",
      "Step 0 Loss nan\n",
      "New data, epoch 3\n",
      "batch: 0 , accuracy: 15.15889874630347\n",
      "Step 0 Loss nan\n",
      "New data, epoch 4\n",
      "batch: 0 , accuracy: 15.15889874630347\n",
      "Step 0 Loss nan\n",
      "New data, epoch 5\n",
      "batch: 0 , accuracy: 15.15889874630347\n",
      "Step 0 Loss nan\n",
      "New data, epoch 6\n",
      "batch: 0 , accuracy: 15.15889874630347\n",
      "Step 0 Loss nan\n",
      "New data, epoch 7\n",
      "batch: 0 , accuracy: 15.15889874630347\n",
      "Step 0 Loss nan\n",
      "New data, epoch 8\n",
      "batch: 0 , accuracy: 15.15889874630347\n",
      "Step 0 Loss nan\n",
      "New data, epoch 9\n",
      "batch: 0 , accuracy: 15.15889874630347\n",
      "Step 0 Loss nan\n",
      "New data, epoch 10\n",
      "batch: 0 , accuracy: 15.15889874630347\n",
      "Step 0 Loss nan\n",
      "New data, epoch 11\n",
      "batch: 0 , accuracy: 15.15889874630347\n",
      "Step 0 Loss nan\n",
      "New data, epoch 12\n",
      "batch: 0 , accuracy: 15.15889874630347\n",
      "Step 0 Loss nan\n",
      "New data, epoch 13\n",
      "batch: 0 , accuracy: 15.15889874630347\n",
      "Step 0 Loss nan\n",
      "New data, epoch 14\n",
      "batch: 0 , accuracy: 15.15889874630347\n",
      "Step 0 Loss nan\n",
      "New data, epoch 15\n",
      "batch: 0 , accuracy: 15.15889874630347\n",
      "Step 0 Loss nan\n",
      "New data, epoch 16\n",
      "batch: 0 , accuracy: 15.15889874630347\n",
      "Step 0 Loss nan\n",
      "New data, epoch 17\n",
      "batch: 0 , accuracy: 15.15889874630347\n",
      "Step 0 Loss nan\n",
      "New data, epoch 18\n",
      "batch: 0 , accuracy: 15.15889874630347\n",
      "Step 0 Loss nan\n",
      "New data, epoch 19\n",
      "batch: 0 , accuracy: 15.15889874630347\n",
      "Step 0 Loss nan\n",
      "New data, epoch 20\n",
      "batch: 0 , accuracy: 15.15889874630347\n",
      "Step 0 Loss nan\n",
      "New data, epoch 21\n",
      "batch: 0 , accuracy: 15.15889874630347\n",
      "Step 0 Loss nan\n",
      "New data, epoch 22\n",
      "batch: 0 , accuracy: 15.15889874630347\n",
      "Step 0 Loss nan\n",
      "New data, epoch 23\n",
      "batch: 0 , accuracy: 15.15889874630347\n",
      "Step 0 Loss nan\n",
      "New data, epoch 24\n",
      "batch: 0 , accuracy: 15.15889874630347\n",
      "Step 0 Loss nan\n",
      "New data, epoch 25\n",
      "batch: 0 , accuracy: 15.15889874630347\n",
      "Step 0 Loss nan\n",
      "New data, epoch 26\n",
      "batch: 0 , accuracy: 15.15889874630347\n",
      "Step 0 Loss nan\n",
      "New data, epoch 27\n",
      "batch: 0 , accuracy: 15.15889874630347\n",
      "Step 0 Loss nan\n",
      "New data, epoch 28\n",
      "batch: 0 , accuracy: 15.15889874630347\n",
      "Step 0 Loss nan\n",
      "New data, epoch 29\n",
      "batch: 0 , accuracy: 15.15889874630347\n",
      "Step 0 Loss nan\n",
      "New data, epoch 30\n",
      "batch: 0 , accuracy: 15.15889874630347\n",
      "Step 0 Loss nan\n",
      "New data, epoch 31\n",
      "batch: 0 , accuracy: 15.15889874630347\n",
      "Step 0 Loss nan\n",
      "New data, epoch 32\n",
      "batch: 0 , accuracy: 15.15889874630347\n",
      "Step 0 Loss nan\n",
      "New data, epoch 33\n",
      "batch: 0 , accuracy: 15.15889874630347\n",
      "Step 0 Loss nan\n",
      "New data, epoch 34\n",
      "batch: 0 , accuracy: 15.15889874630347\n",
      "Step 0 Loss nan\n",
      "New data, epoch 35\n",
      "batch: 0 , accuracy: 15.15889874630347\n",
      "Step 0 Loss nan\n",
      "New data, epoch 36\n",
      "batch: 0 , accuracy: 15.15889874630347\n",
      "Step 0 Loss nan\n",
      "New data, epoch 37\n",
      "batch: 0 , accuracy: 15.15889874630347\n",
      "Step 0 Loss nan\n",
      "New data, epoch 38\n",
      "batch: 0 , accuracy: 15.15889874630347\n",
      "Step 0 Loss nan\n",
      "New data, epoch 39\n",
      "batch: 0 , accuracy: 15.15889874630347\n",
      "Step 0 Loss nan\n",
      "New data, epoch 40\n",
      "batch: 0 , accuracy: 15.15889874630347\n",
      "Step 0 Loss nan\n",
      "New data, epoch 41\n",
      "batch: 0 , accuracy: 15.15889874630347\n",
      "Step 0 Loss nan\n",
      "New data, epoch 42\n",
      "batch: 0 , accuracy: 15.15889874630347\n",
      "Step 0 Loss nan\n",
      "New data, epoch 43\n",
      "batch: 0 , accuracy: 15.15889874630347\n",
      "Step 0 Loss nan\n",
      "New data, epoch 44\n",
      "batch: 0 , accuracy: 15.15889874630347\n",
      "Step 0 Loss nan\n",
      "New data, epoch 45\n",
      "batch: 0 , accuracy: 15.15889874630347\n",
      "Step 0 Loss nan\n",
      "New data, epoch 46\n",
      "batch: 0 , accuracy: 15.15889874630347\n",
      "Step 0 Loss nan\n",
      "New data, epoch 47\n",
      "batch: 0 , accuracy: 15.15889874630347\n",
      "Step 0 Loss nan\n",
      "New data, epoch 48\n",
      "batch: 0 , accuracy: 15.15889874630347\n",
      "Step 0 Loss nan\n",
      "New data, epoch 49\n",
      "batch: 0 , accuracy: 15.15889874630347\n",
      "Step 0 Loss nan\n",
      "New data, epoch 50\n",
      "batch: 0 , accuracy: 15.15889874630347\n",
      "Step 0 Loss nan\n",
      "New data, epoch 51\n",
      "batch: 0 , accuracy: 15.15889874630347\n",
      "Step 0 Loss nan\n",
      "New data, epoch 52\n",
      "batch: 0 , accuracy: 15.15889874630347\n",
      "Step 0 Loss nan\n",
      "New data, epoch 53\n",
      "batch: 0 , accuracy: 15.15889874630347\n",
      "Step 0 Loss nan\n",
      "New data, epoch 54\n",
      "batch: 0 , accuracy: 15.15889874630347\n",
      "Step 0 Loss nan\n",
      "New data, epoch 55\n",
      "batch: 0 , accuracy: 15.15889874630347\n",
      "Step 0 Loss nan\n",
      "New data, epoch 56\n",
      "batch: 0 , accuracy: 15.15889874630347\n",
      "Step 0 Loss nan\n",
      "New data, epoch 57\n",
      "batch: 0 , accuracy: 15.15889874630347\n",
      "Step 0 Loss nan\n",
      "New data, epoch 58\n",
      "batch: 0 , accuracy: 15.15889874630347\n",
      "Step 0 Loss nan\n",
      "New data, epoch 59\n",
      "batch: 0 , accuracy: 15.15889874630347\n",
      "Step 0 Loss nan\n",
      "New data, epoch 60\n",
      "batch: 0 , accuracy: 15.15889874630347\n",
      "Step 0 Loss nan\n",
      "New data, epoch 61\n",
      "batch: 0 , accuracy: 15.15889874630347\n",
      "Step 0 Loss nan\n",
      "New data, epoch 62\n",
      "batch: 0 , accuracy: 15.15889874630347\n",
      "Step 0 Loss nan\n",
      "New data, epoch 63\n",
      "batch: 0 , accuracy: 15.15889874630347\n",
      "Step 0 Loss nan\n",
      "New data, epoch 64\n",
      "batch: 0 , accuracy: 15.15889874630347\n",
      "Step 0 Loss nan\n",
      "New data, epoch 65\n",
      "batch: 0 , accuracy: 15.15889874630347\n",
      "Step 0 Loss nan\n",
      "New data, epoch 66\n",
      "batch: 0 , accuracy: 15.15889874630347\n",
      "Step 0 Loss nan\n",
      "New data, epoch 67\n",
      "batch: 0 , accuracy: 15.15889874630347\n",
      "Step 0 Loss nan\n",
      "New data, epoch 68\n",
      "batch: 0 , accuracy: 15.15889874630347\n",
      "Step 0 Loss nan\n",
      "New data, epoch 69\n",
      "batch: 0 , accuracy: 15.15889874630347\n",
      "Step 0 Loss nan\n",
      "New data, epoch 70\n",
      "batch: 0 , accuracy: 15.15889874630347\n",
      "Step 0 Loss nan\n",
      "New data, epoch 71\n",
      "batch: 0 , accuracy: 15.15889874630347\n",
      "Step 0 Loss nan\n",
      "New data, epoch 72\n",
      "batch: 0 , accuracy: 15.15889874630347\n",
      "Step 0 Loss nan\n",
      "New data, epoch 73\n",
      "batch: 0 , accuracy: 15.15889874630347\n",
      "Step 0 Loss nan\n",
      "New data, epoch 74\n",
      "batch: 0 , accuracy: 15.15889874630347\n",
      "Step 0 Loss nan\n",
      "New data, epoch 75\n",
      "batch: 0 , accuracy: 15.15889874630347\n",
      "Step 0 Loss nan\n",
      "New data, epoch 76\n",
      "batch: 0 , accuracy: 15.15889874630347\n",
      "Step 0 Loss nan\n",
      "New data, epoch 77\n",
      "batch: 0 , accuracy: 15.15889874630347\n",
      "Step 0 Loss nan\n",
      "New data, epoch 78\n",
      "batch: 0 , accuracy: 15.15889874630347\n",
      "Step 0 Loss nan\n",
      "New data, epoch 79\n",
      "batch: 0 , accuracy: 15.15889874630347\n",
      "Step 0 Loss nan\n",
      "New data, epoch 80\n",
      "batch: 0 , accuracy: 15.15889874630347\n",
      "Step 0 Loss nan\n",
      "New data, epoch 81\n",
      "batch: 0 , accuracy: 15.15889874630347\n",
      "Step 0 Loss nan\n",
      "New data, epoch 82\n",
      "batch: 0 , accuracy: 15.15889874630347\n",
      "Step 0 Loss nan\n",
      "New data, epoch 83\n",
      "batch: 0 , accuracy: 15.15889874630347\n",
      "Step 0 Loss nan\n",
      "New data, epoch 84\n",
      "batch: 0 , accuracy: 15.15889874630347\n",
      "Step 0 Loss nan\n",
      "New data, epoch 85\n",
      "batch: 0 , accuracy: 15.15889874630347\n",
      "Step 0 Loss nan\n",
      "New data, epoch 86\n",
      "batch: 0 , accuracy: 15.15889874630347\n",
      "Step 0 Loss nan\n",
      "New data, epoch 87\n",
      "batch: 0 , accuracy: 15.15889874630347\n",
      "Step 0 Loss nan\n",
      "New data, epoch 88\n",
      "batch: 0 , accuracy: 15.15889874630347\n",
      "Step 0 Loss nan\n",
      "New data, epoch 89\n",
      "batch: 0 , accuracy: 15.15889874630347\n",
      "Step 0 Loss nan\n",
      "New data, epoch 90\n",
      "batch: 0 , accuracy: 15.15889874630347\n",
      "Step 0 Loss nan\n",
      "New data, epoch 91\n",
      "batch: 0 , accuracy: 15.15889874630347\n",
      "Step 0 Loss nan\n",
      "New data, epoch 92\n",
      "batch: 0 , accuracy: 15.15889874630347\n",
      "Step 0 Loss nan\n",
      "New data, epoch 93\n",
      "batch: 0 , accuracy: 15.15889874630347\n",
      "Step 0 Loss nan\n",
      "New data, epoch 94\n",
      "batch: 0 , accuracy: 15.15889874630347\n",
      "Step 0 Loss nan\n",
      "New data, epoch 95\n",
      "batch: 0 , accuracy: 15.15889874630347\n",
      "Step 0 Loss nan\n",
      "New data, epoch 96\n",
      "batch: 0 , accuracy: 15.15889874630347\n",
      "Step 0 Loss nan\n",
      "New data, epoch 97\n",
      "batch: 0 , accuracy: 15.15889874630347\n",
      "Step 0 Loss nan\n",
      "New data, epoch 98\n",
      "batch: 0 , accuracy: 15.15889874630347\n",
      "Step 0 Loss nan\n",
      "New data, epoch 99\n",
      "batch: 0 , accuracy: 15.15889874630347\n",
      "Step 0 Loss nan\n",
      "New data, epoch 100\n",
      "batch: 0 , accuracy: 15.15889874630347\n",
      "Step 0 Loss nan\n",
      "New data, epoch 101\n",
      "batch: 0 , accuracy: 15.15889874630347\n",
      "Step 0 Loss nan\n",
      "New data, epoch 102\n",
      "batch: 0 , accuracy: 15.15889874630347\n",
      "Step 0 Loss nan\n",
      "New data, epoch 103\n",
      "batch: 0 , accuracy: 15.15889874630347\n",
      "Step 0 Loss nan\n",
      "New data, epoch 104\n",
      "batch: 0 , accuracy: 15.15889874630347\n",
      "Step 0 Loss nan\n",
      "New data, epoch 105\n",
      "batch: 0 , accuracy: 15.15889874630347\n",
      "Step 0 Loss nan\n",
      "New data, epoch 106\n",
      "batch: 0 , accuracy: 15.15889874630347\n",
      "Step 0 Loss nan\n",
      "New data, epoch 107\n",
      "batch: 0 , accuracy: 15.15889874630347\n",
      "Step 0 Loss nan\n",
      "New data, epoch 108\n",
      "batch: 0 , accuracy: 15.15889874630347\n",
      "Step 0 Loss nan\n",
      "New data, epoch 109\n",
      "batch: 0 , accuracy: 15.15889874630347\n",
      "Step 0 Loss nan\n",
      "New data, epoch 110\n",
      "batch: 0 , accuracy: 15.15889874630347\n",
      "Step 0 Loss nan\n",
      "New data, epoch 111\n",
      "batch: 0 , accuracy: 15.15889874630347\n",
      "Step 0 Loss nan\n",
      "New data, epoch 112\n",
      "batch: 0 , accuracy: 15.15889874630347\n",
      "Step 0 Loss nan\n",
      "New data, epoch 113\n"
     ]
    },
    {
     "name": "stdout",
     "output_type": "stream",
     "text": [
      "batch: 0 , accuracy: 15.15889874630347\n",
      "Step 0 Loss nan\n",
      "New data, epoch 114\n",
      "batch: 0 , accuracy: 15.15889874630347\n",
      "Step 0 Loss nan\n",
      "New data, epoch 115\n",
      "batch: 0 , accuracy: 15.15889874630347\n",
      "Step 0 Loss nan\n",
      "New data, epoch 116\n",
      "batch: 0 , accuracy: 15.15889874630347\n",
      "Step 0 Loss nan\n",
      "New data, epoch 117\n",
      "batch: 0 , accuracy: 15.15889874630347\n",
      "Step 0 Loss nan\n",
      "New data, epoch 118\n",
      "batch: 0 , accuracy: 15.15889874630347\n",
      "Step 0 Loss nan\n",
      "New data, epoch 119\n",
      "batch: 0 , accuracy: 15.15889874630347\n",
      "Step 0 Loss nan\n",
      "New data, epoch 120\n",
      "batch: 0 , accuracy: 15.15889874630347\n",
      "Step 0 Loss nan\n",
      "New data, epoch 121\n",
      "batch: 0 , accuracy: 15.15889874630347\n",
      "Step 0 Loss nan\n",
      "New data, epoch 122\n",
      "batch: 0 , accuracy: 15.15889874630347\n",
      "Step 0 Loss nan\n",
      "New data, epoch 123\n",
      "batch: 0 , accuracy: 15.15889874630347\n",
      "Step 0 Loss nan\n",
      "New data, epoch 124\n",
      "batch: 0 , accuracy: 15.15889874630347\n",
      "Step 0 Loss nan\n",
      "New data, epoch 125\n",
      "batch: 0 , accuracy: 15.15889874630347\n",
      "Step 0 Loss nan\n",
      "New data, epoch 126\n",
      "batch: 0 , accuracy: 15.15889874630347\n",
      "Step 0 Loss nan\n",
      "New data, epoch 127\n",
      "batch: 0 , accuracy: 15.15889874630347\n",
      "Step 0 Loss nan\n",
      "New data, epoch 128\n",
      "batch: 0 , accuracy: 15.15889874630347\n",
      "Step 0 Loss nan\n",
      "New data, epoch 129\n",
      "batch: 0 , accuracy: 15.15889874630347\n",
      "Step 0 Loss nan\n",
      "New data, epoch 130\n",
      "batch: 0 , accuracy: 15.15889874630347\n",
      "Step 0 Loss nan\n",
      "New data, epoch 131\n",
      "batch: 0 , accuracy: 15.15889874630347\n",
      "Step 0 Loss nan\n",
      "New data, epoch 132\n",
      "batch: 0 , accuracy: 15.15889874630347\n",
      "Step 0 Loss nan\n",
      "New data, epoch 133\n",
      "batch: 0 , accuracy: 15.15889874630347\n",
      "Step 0 Loss nan\n",
      "New data, epoch 134\n",
      "batch: 0 , accuracy: 15.15889874630347\n",
      "Step 0 Loss nan\n",
      "New data, epoch 135\n",
      "batch: 0 , accuracy: 15.15889874630347\n",
      "Step 0 Loss nan\n",
      "New data, epoch 136\n",
      "batch: 0 , accuracy: 15.15889874630347\n",
      "Step 0 Loss nan\n",
      "New data, epoch 137\n",
      "batch: 0 , accuracy: 15.15889874630347\n",
      "Step 0 Loss nan\n",
      "New data, epoch 138\n",
      "batch: 0 , accuracy: 15.15889874630347\n",
      "Step 0 Loss nan\n",
      "New data, epoch 139\n",
      "batch: 0 , accuracy: 15.15889874630347\n",
      "Step 0 Loss nan\n",
      "New data, epoch 140\n",
      "batch: 0 , accuracy: 15.15889874630347\n",
      "Step 0 Loss nan\n",
      "New data, epoch 141\n",
      "batch: 0 , accuracy: 15.15889874630347\n",
      "Step 0 Loss nan\n",
      "New data, epoch 142\n",
      "batch: 0 , accuracy: 15.15889874630347\n",
      "Step 0 Loss nan\n",
      "New data, epoch 143\n",
      "batch: 0 , accuracy: 15.15889874630347\n",
      "Step 0 Loss nan\n",
      "New data, epoch 144\n",
      "batch: 0 , accuracy: 15.15889874630347\n",
      "Step 0 Loss nan\n",
      "New data, epoch 145\n",
      "batch: 0 , accuracy: 15.15889874630347\n",
      "Step 0 Loss nan\n",
      "New data, epoch 146\n",
      "batch: 0 , accuracy: 15.15889874630347\n",
      "Step 0 Loss nan\n",
      "New data, epoch 147\n",
      "batch: 0 , accuracy: 15.15889874630347\n",
      "Step 0 Loss nan\n",
      "New data, epoch 148\n",
      "batch: 0 , accuracy: 15.15889874630347\n",
      "Step 0 Loss nan\n",
      "New data, epoch 149\n",
      "batch: 0 , accuracy: 15.15889874630347\n",
      "Step 0 Loss nan\n",
      "New data, epoch 150\n",
      "batch: 0 , accuracy: 15.15889874630347\n",
      "Step 0 Loss nan\n",
      "New data, epoch 151\n",
      "batch: 0 , accuracy: 15.15889874630347\n",
      "Step 0 Loss nan\n",
      "New data, epoch 152\n",
      "batch: 0 , accuracy: 15.15889874630347\n",
      "Step 0 Loss nan\n",
      "New data, epoch 153\n",
      "batch: 0 , accuracy: 15.15889874630347\n",
      "Step 0 Loss nan\n",
      "New data, epoch 154\n",
      "batch: 0 , accuracy: 15.15889874630347\n",
      "Step 0 Loss nan\n",
      "New data, epoch 155\n"
     ]
    },
    {
     "ename": "KeyboardInterrupt",
     "evalue": "",
     "output_type": "error",
     "traceback": [
      "\u001b[1;31m---------------------------------------------------------------------------\u001b[0m",
      "\u001b[1;31mKeyboardInterrupt\u001b[0m                         Traceback (most recent call last)",
      "\u001b[1;32m<ipython-input-197-425c401f3227>\u001b[0m in \u001b[0;36m<module>\u001b[1;34m()\u001b[0m\n\u001b[0;32m     28\u001b[0m                     \u001b[0mbatchY_placeholder\u001b[0m\u001b[1;33m:\u001b[0m\u001b[0mbatchY\u001b[0m\u001b[1;33m,\u001b[0m\u001b[1;33m\u001b[0m\u001b[0m\n\u001b[0;32m     29\u001b[0m                     \u001b[1;31m# it was part of computational graph, where the init_state is the placeholder\u001b[0m\u001b[1;33m\u001b[0m\u001b[1;33m\u001b[0m\u001b[0m\n\u001b[1;32m---> 30\u001b[1;33m                     \u001b[0minit_state\u001b[0m\u001b[1;33m:\u001b[0m\u001b[0m_current_state\u001b[0m\u001b[1;33m\u001b[0m\u001b[0m\n\u001b[0m\u001b[0;32m     31\u001b[0m                 })\n\u001b[0;32m     32\u001b[0m \u001b[1;33m\u001b[0m\u001b[0m\n",
      "\u001b[1;32mc:\\users\\gebruiker\\anaconda3\\envs\\tensorflow\\lib\\site-packages\\tensorflow\\python\\client\\session.py\u001b[0m in \u001b[0;36mrun\u001b[1;34m(self, fetches, feed_dict, options, run_metadata)\u001b[0m\n\u001b[0;32m    903\u001b[0m     \u001b[1;32mtry\u001b[0m\u001b[1;33m:\u001b[0m\u001b[1;33m\u001b[0m\u001b[0m\n\u001b[0;32m    904\u001b[0m       result = self._run(None, fetches, feed_dict, options_ptr,\n\u001b[1;32m--> 905\u001b[1;33m                          run_metadata_ptr)\n\u001b[0m\u001b[0;32m    906\u001b[0m       \u001b[1;32mif\u001b[0m \u001b[0mrun_metadata\u001b[0m\u001b[1;33m:\u001b[0m\u001b[1;33m\u001b[0m\u001b[0m\n\u001b[0;32m    907\u001b[0m         \u001b[0mproto_data\u001b[0m \u001b[1;33m=\u001b[0m \u001b[0mtf_session\u001b[0m\u001b[1;33m.\u001b[0m\u001b[0mTF_GetBuffer\u001b[0m\u001b[1;33m(\u001b[0m\u001b[0mrun_metadata_ptr\u001b[0m\u001b[1;33m)\u001b[0m\u001b[1;33m\u001b[0m\u001b[0m\n",
      "\u001b[1;32mc:\\users\\gebruiker\\anaconda3\\envs\\tensorflow\\lib\\site-packages\\tensorflow\\python\\client\\session.py\u001b[0m in \u001b[0;36m_run\u001b[1;34m(self, handle, fetches, feed_dict, options, run_metadata)\u001b[0m\n\u001b[0;32m   1135\u001b[0m     \u001b[1;32mif\u001b[0m \u001b[0mfinal_fetches\u001b[0m \u001b[1;32mor\u001b[0m \u001b[0mfinal_targets\u001b[0m \u001b[1;32mor\u001b[0m \u001b[1;33m(\u001b[0m\u001b[0mhandle\u001b[0m \u001b[1;32mand\u001b[0m \u001b[0mfeed_dict_tensor\u001b[0m\u001b[1;33m)\u001b[0m\u001b[1;33m:\u001b[0m\u001b[1;33m\u001b[0m\u001b[0m\n\u001b[0;32m   1136\u001b[0m       results = self._do_run(handle, final_targets, final_fetches,\n\u001b[1;32m-> 1137\u001b[1;33m                              feed_dict_tensor, options, run_metadata)\n\u001b[0m\u001b[0;32m   1138\u001b[0m     \u001b[1;32melse\u001b[0m\u001b[1;33m:\u001b[0m\u001b[1;33m\u001b[0m\u001b[0m\n\u001b[0;32m   1139\u001b[0m       \u001b[0mresults\u001b[0m \u001b[1;33m=\u001b[0m \u001b[1;33m[\u001b[0m\u001b[1;33m]\u001b[0m\u001b[1;33m\u001b[0m\u001b[0m\n",
      "\u001b[1;32mc:\\users\\gebruiker\\anaconda3\\envs\\tensorflow\\lib\\site-packages\\tensorflow\\python\\client\\session.py\u001b[0m in \u001b[0;36m_do_run\u001b[1;34m(self, handle, target_list, fetch_list, feed_dict, options, run_metadata)\u001b[0m\n\u001b[0;32m   1353\u001b[0m     \u001b[1;32mif\u001b[0m \u001b[0mhandle\u001b[0m \u001b[1;32mis\u001b[0m \u001b[1;32mNone\u001b[0m\u001b[1;33m:\u001b[0m\u001b[1;33m\u001b[0m\u001b[0m\n\u001b[0;32m   1354\u001b[0m       return self._do_call(_run_fn, self._session, feeds, fetches, targets,\n\u001b[1;32m-> 1355\u001b[1;33m                            options, run_metadata)\n\u001b[0m\u001b[0;32m   1356\u001b[0m     \u001b[1;32melse\u001b[0m\u001b[1;33m:\u001b[0m\u001b[1;33m\u001b[0m\u001b[0m\n\u001b[0;32m   1357\u001b[0m       \u001b[1;32mreturn\u001b[0m \u001b[0mself\u001b[0m\u001b[1;33m.\u001b[0m\u001b[0m_do_call\u001b[0m\u001b[1;33m(\u001b[0m\u001b[0m_prun_fn\u001b[0m\u001b[1;33m,\u001b[0m \u001b[0mself\u001b[0m\u001b[1;33m.\u001b[0m\u001b[0m_session\u001b[0m\u001b[1;33m,\u001b[0m \u001b[0mhandle\u001b[0m\u001b[1;33m,\u001b[0m \u001b[0mfeeds\u001b[0m\u001b[1;33m,\u001b[0m \u001b[0mfetches\u001b[0m\u001b[1;33m)\u001b[0m\u001b[1;33m\u001b[0m\u001b[0m\n",
      "\u001b[1;32mc:\\users\\gebruiker\\anaconda3\\envs\\tensorflow\\lib\\site-packages\\tensorflow\\python\\client\\session.py\u001b[0m in \u001b[0;36m_do_call\u001b[1;34m(self, fn, *args)\u001b[0m\n\u001b[0;32m   1359\u001b[0m   \u001b[1;32mdef\u001b[0m \u001b[0m_do_call\u001b[0m\u001b[1;33m(\u001b[0m\u001b[0mself\u001b[0m\u001b[1;33m,\u001b[0m \u001b[0mfn\u001b[0m\u001b[1;33m,\u001b[0m \u001b[1;33m*\u001b[0m\u001b[0margs\u001b[0m\u001b[1;33m)\u001b[0m\u001b[1;33m:\u001b[0m\u001b[1;33m\u001b[0m\u001b[0m\n\u001b[0;32m   1360\u001b[0m     \u001b[1;32mtry\u001b[0m\u001b[1;33m:\u001b[0m\u001b[1;33m\u001b[0m\u001b[0m\n\u001b[1;32m-> 1361\u001b[1;33m       \u001b[1;32mreturn\u001b[0m \u001b[0mfn\u001b[0m\u001b[1;33m(\u001b[0m\u001b[1;33m*\u001b[0m\u001b[0margs\u001b[0m\u001b[1;33m)\u001b[0m\u001b[1;33m\u001b[0m\u001b[0m\n\u001b[0m\u001b[0;32m   1362\u001b[0m     \u001b[1;32mexcept\u001b[0m \u001b[0merrors\u001b[0m\u001b[1;33m.\u001b[0m\u001b[0mOpError\u001b[0m \u001b[1;32mas\u001b[0m \u001b[0me\u001b[0m\u001b[1;33m:\u001b[0m\u001b[1;33m\u001b[0m\u001b[0m\n\u001b[0;32m   1363\u001b[0m       \u001b[0mmessage\u001b[0m \u001b[1;33m=\u001b[0m \u001b[0mcompat\u001b[0m\u001b[1;33m.\u001b[0m\u001b[0mas_text\u001b[0m\u001b[1;33m(\u001b[0m\u001b[0me\u001b[0m\u001b[1;33m.\u001b[0m\u001b[0mmessage\u001b[0m\u001b[1;33m)\u001b[0m\u001b[1;33m\u001b[0m\u001b[0m\n",
      "\u001b[1;32mc:\\users\\gebruiker\\anaconda3\\envs\\tensorflow\\lib\\site-packages\\tensorflow\\python\\client\\session.py\u001b[0m in \u001b[0;36m_run_fn\u001b[1;34m(session, feed_dict, fetch_list, target_list, options, run_metadata)\u001b[0m\n\u001b[0;32m   1338\u001b[0m         \u001b[1;32melse\u001b[0m\u001b[1;33m:\u001b[0m\u001b[1;33m\u001b[0m\u001b[0m\n\u001b[0;32m   1339\u001b[0m           return tf_session.TF_Run(session, options, feed_dict, fetch_list,\n\u001b[1;32m-> 1340\u001b[1;33m                                    target_list, status, run_metadata)\n\u001b[0m\u001b[0;32m   1341\u001b[0m \u001b[1;33m\u001b[0m\u001b[0m\n\u001b[0;32m   1342\u001b[0m     \u001b[1;32mdef\u001b[0m \u001b[0m_prun_fn\u001b[0m\u001b[1;33m(\u001b[0m\u001b[0msession\u001b[0m\u001b[1;33m,\u001b[0m \u001b[0mhandle\u001b[0m\u001b[1;33m,\u001b[0m \u001b[0mfeed_dict\u001b[0m\u001b[1;33m,\u001b[0m \u001b[0mfetch_list\u001b[0m\u001b[1;33m)\u001b[0m\u001b[1;33m:\u001b[0m\u001b[1;33m\u001b[0m\u001b[0m\n",
      "\u001b[1;31mKeyboardInterrupt\u001b[0m: "
     ]
    }
   ],
   "source": [
    "with tf.Session() as sess:\n",
    "    # sess.run(tf.initialize_all_variables())\n",
    "    sess.run(tf.global_variables_initializer())\n",
    "    # plt.ion()\n",
    "    # plt.figure()\n",
    "    # plt.show()\n",
    "    loss_list = []\n",
    "    acc = 0\n",
    "    epoch_idx = 0\n",
    "    \n",
    "    while acc != 100:\n",
    "    # for epoch_idx in range(num_epochs): # 100\n",
    "        _current_state = np.zeros((batch_size, state_size))   \n",
    "        epoch_idx += 1\n",
    "        print(\"New data, epoch\", epoch_idx)\n",
    "        for batch_idx in range(num_batches): # 666\n",
    "            start_idx = batch_idx * truncated_backprop_length\n",
    "            end_idx = start_idx + truncated_backprop_length\n",
    "            # all 5 rows, certain numbers of column which the total = 15 columns\n",
    "            batchX = x[:,start_idx:end_idx]\n",
    "            batchY = y[:,start_idx:end_idx]\n",
    "            \n",
    "            # calculate loss, gradient step, \n",
    "            _total_loss, _train_step, _current_state, _predictions_series, _labels_series = sess.run(\n",
    "                [total_loss, train_step, current_state, predictions_series, labels_series],\n",
    "                feed_dict={\n",
    "                    batchX_placeholder:batchX,\n",
    "                    batchY_placeholder:batchY,\n",
    "                    # it was part of computational graph, where the init_state is the placeholder\n",
    "                    init_state:_current_state\n",
    "                })\n",
    "\n",
    "            loss_list.append(_total_loss)\n",
    "            # print(\"prediction\", _predictions_series)\n",
    "            # print(\"label\",_labels_series)\n",
    "            acc = accuracy_list( _predictions_series, _labels_series)\n",
    "            print(\"batch:\",batch_idx,\", accuracy:\",acc)\n",
    "            # if (batch_idx%(num_batches//10) == 0):\n",
    "            print(\"Step\",batch_idx, \"Loss\", _total_loss)\n",
    "                # plot(loss_list, _predictions_series, batchX, batchY)\n",
    "\n",
    "    # accuracy\n",
    "    _current_state = np.zeros((batch_size, state_size))\n",
    "    acc = 0\n",
    "    total_acc = 0\n",
    "    for batch_idx in range(num_batches):\n",
    "        start_idx = batch_idx * truncated_backprop_length\n",
    "        end_idx = start_idx + truncated_backprop_length\n",
    "        \n",
    "        batchX = x[:,start_idx:end_idx]\n",
    "        batchY = y[:,start_idx:end_idx]\n",
    "\n",
    "        # calculate loss, gradient step, \n",
    "        _predictions_series, _labels_series = sess.run([predictions_series, labels_series],\n",
    "            feed_dict={\n",
    "                batchX_placeholder:batchX,\n",
    "                batchY_placeholder:batchY,\n",
    "                # it was part of computational graph, where the init_state is the placeholder\n",
    "                init_state:_current_state\n",
    "            })\n",
    "        acc = accuracy_list( _predictions_series, _labels_series)\n",
    "        print(\"batch:\",batch_idx,\", accuracy:\",acc)\n",
    "        total_acc += acc\n",
    "    \n",
    "    print(\"test accuracy\")\n",
    "    print(total_acc/num_batches)\n",
    "# plt.ioff()\n",
    "# plt.show()\n"
   ]
  },
  {
   "cell_type": "code",
   "execution_count": null,
   "metadata": {},
   "outputs": [],
   "source": [
    "_predictions_series[0]"
   ]
  },
  {
   "cell_type": "code",
   "execution_count": null,
   "metadata": {},
   "outputs": [],
   "source": [
    "_labels_series[0]"
   ]
  },
  {
   "cell_type": "code",
   "execution_count": null,
   "metadata": {},
   "outputs": [],
   "source": [
    "len(_predictions_series)"
   ]
  },
  {
   "cell_type": "code",
   "execution_count": null,
   "metadata": {},
   "outputs": [],
   "source": [
    "np.max(_predictions_series,2)"
   ]
  },
  {
   "cell_type": "code",
   "execution_count": null,
   "metadata": {
    "scrolled": true
   },
   "outputs": [],
   "source": [
    "np.argmax(_predictions_series, 2)"
   ]
  },
  {
   "cell_type": "code",
   "execution_count": null,
   "metadata": {},
   "outputs": [],
   "source": [
    "np.argmax(_labels_series, 2)"
   ]
  },
  {
   "cell_type": "code",
   "execution_count": null,
   "metadata": {},
   "outputs": [],
   "source": [
    "100*np.mean(np.argmax(np.asarray(_predictions_series),2) == np.argmax(np.asarray(_labels_series),2))"
   ]
  },
  {
   "cell_type": "code",
   "execution_count": null,
   "metadata": {},
   "outputs": [],
   "source": [
    "np.argmax(np.asarray(_predictions_series),2) == np.argmax(np.asarray(_labels_series),2)"
   ]
  },
  {
   "cell_type": "markdown",
   "metadata": {},
   "source": [
    "LSTM"
   ]
  },
  {
   "cell_type": "code",
   "execution_count": 244,
   "metadata": {},
   "outputs": [],
   "source": [
    "total_series_length = num_samples\n",
    "truncated_backprop_length = 6\n",
    "input_size = toy_vehicle_input.shape[1]\n",
    "state_size = toy_vehicle_input.shape[1]\n",
    "num_classes = num_label\n",
    "batch_size = num_samples//truncated_backprop_length\n",
    "num_batches = total_series_length//batch_size//truncated_backprop_length"
   ]
  },
  {
   "cell_type": "code",
   "execution_count": 276,
   "metadata": {},
   "outputs": [],
   "source": [
    "batch_size = 1"
   ]
  },
  {
   "cell_type": "code",
   "execution_count": 277,
   "metadata": {},
   "outputs": [
    {
     "data": {
      "text/plain": [
       "1"
      ]
     },
     "execution_count": 277,
     "metadata": {},
     "output_type": "execute_result"
    }
   ],
   "source": [
    "batch_size"
   ]
  },
  {
   "cell_type": "code",
   "execution_count": 278,
   "metadata": {},
   "outputs": [
    {
     "data": {
      "text/plain": [
       "17"
      ]
     },
     "execution_count": 278,
     "metadata": {},
     "output_type": "execute_result"
    }
   ],
   "source": [
    "state_size"
   ]
  },
  {
   "cell_type": "code",
   "execution_count": 279,
   "metadata": {},
   "outputs": [
    {
     "data": {
      "text/plain": [
       "17"
      ]
     },
     "execution_count": 279,
     "metadata": {},
     "output_type": "execute_result"
    }
   ],
   "source": [
    "input_size"
   ]
  },
  {
   "cell_type": "code",
   "execution_count": 280,
   "metadata": {},
   "outputs": [
    {
     "data": {
      "text/plain": [
       "6"
      ]
     },
     "execution_count": 280,
     "metadata": {},
     "output_type": "execute_result"
    }
   ],
   "source": [
    "truncated_backprop_length"
   ]
  },
  {
   "cell_type": "code",
   "execution_count": 281,
   "metadata": {},
   "outputs": [],
   "source": [
    "tf.reset_default_graph()"
   ]
  },
  {
   "cell_type": "code",
   "execution_count": 282,
   "metadata": {},
   "outputs": [],
   "source": [
    "batchX_placeholder = tf.placeholder(tf.float32, [batch_size, truncated_backprop_length, input_size])\n",
    "batchY_placeholder = tf.placeholder(tf.float32, [batch_size, truncated_backprop_length, num_classes])\n",
    "\n",
    "# init_state = tf.placeholder(tf.float32, [batch_size, state_size])\n",
    "cell_state = tf.placeholder(tf.float32, [batch_size, state_size])\n",
    "hidden_state = tf.placeholder(tf.float32, [batch_size, state_size])\n",
    "init_state = tf.nn.rnn_cell.LSTMStateTuple(cell_state, hidden_state)\n",
    "\n",
    "W2 = tf.Variable(np.random.rand(state_size, num_classes),dtype=tf.float32)\n",
    "b2 = tf.Variable(np.zeros((1,num_classes)), dtype=tf.float32)"
   ]
  },
  {
   "cell_type": "code",
   "execution_count": 283,
   "metadata": {},
   "outputs": [],
   "source": [
    "# Unpack columns\n",
    "inputs_series = tf.unstack(batchX_placeholder, axis=1)\n",
    "labels_series = tf.unstack(batchY_placeholder, axis=1)"
   ]
  },
  {
   "cell_type": "code",
   "execution_count": 284,
   "metadata": {},
   "outputs": [
    {
     "data": {
      "text/plain": [
       "<tf.Tensor 'Placeholder:0' shape=(1, 6, 17) dtype=float32>"
      ]
     },
     "execution_count": 284,
     "metadata": {},
     "output_type": "execute_result"
    }
   ],
   "source": [
    "batchX_placeholder"
   ]
  },
  {
   "cell_type": "code",
   "execution_count": 285,
   "metadata": {},
   "outputs": [
    {
     "data": {
      "text/plain": [
       "<tf.Tensor 'Placeholder_1:0' shape=(1, 6, 18) dtype=float32>"
      ]
     },
     "execution_count": 285,
     "metadata": {},
     "output_type": "execute_result"
    }
   ],
   "source": [
    "batchY_placeholder"
   ]
  },
  {
   "cell_type": "code",
   "execution_count": 286,
   "metadata": {},
   "outputs": [
    {
     "data": {
      "text/plain": [
       "[<tf.Tensor 'unstack:0' shape=(1, 17) dtype=float32>,\n",
       " <tf.Tensor 'unstack:1' shape=(1, 17) dtype=float32>,\n",
       " <tf.Tensor 'unstack:2' shape=(1, 17) dtype=float32>,\n",
       " <tf.Tensor 'unstack:3' shape=(1, 17) dtype=float32>,\n",
       " <tf.Tensor 'unstack:4' shape=(1, 17) dtype=float32>,\n",
       " <tf.Tensor 'unstack:5' shape=(1, 17) dtype=float32>]"
      ]
     },
     "execution_count": 286,
     "metadata": {},
     "output_type": "execute_result"
    }
   ],
   "source": [
    "inputs_series"
   ]
  },
  {
   "cell_type": "code",
   "execution_count": 287,
   "metadata": {},
   "outputs": [
    {
     "data": {
      "text/plain": [
       "[<tf.Tensor 'unstack_1:0' shape=(1, 18) dtype=float32>,\n",
       " <tf.Tensor 'unstack_1:1' shape=(1, 18) dtype=float32>,\n",
       " <tf.Tensor 'unstack_1:2' shape=(1, 18) dtype=float32>,\n",
       " <tf.Tensor 'unstack_1:3' shape=(1, 18) dtype=float32>,\n",
       " <tf.Tensor 'unstack_1:4' shape=(1, 18) dtype=float32>,\n",
       " <tf.Tensor 'unstack_1:5' shape=(1, 18) dtype=float32>]"
      ]
     },
     "execution_count": 287,
     "metadata": {},
     "output_type": "execute_result"
    }
   ],
   "source": [
    "labels_series"
   ]
  },
  {
   "cell_type": "code",
   "execution_count": 256,
   "metadata": {},
   "outputs": [],
   "source": [
    "from tensorflow.contrib import rnn "
   ]
  },
  {
   "cell_type": "code",
   "execution_count": 258,
   "metadata": {},
   "outputs": [
    {
     "data": {
      "text/plain": [
       "LSTMStateTuple(c=<tf.Tensor 'Placeholder_2:0' shape=(8003, 17) dtype=float32>, h=<tf.Tensor 'Placeholder_3:0' shape=(8003, 17) dtype=float32>)"
      ]
     },
     "execution_count": 258,
     "metadata": {},
     "output_type": "execute_result"
    }
   ],
   "source": [
    "init_state"
   ]
  },
  {
   "cell_type": "code",
   "execution_count": 289,
   "metadata": {},
   "outputs": [],
   "source": [
    "# Forward passes\n",
    "# cell = tf.nn.rnn_cell.BasicRNNCell(state_size)\n",
    "# states_series, current_state = tf.nn.rnn(cell, inputs_series, init_state)\n",
    "# cell = tf.nn.rnn_cell.BasicLSTMCell(state_size, state_is_tuple=True)\n",
    "cell = rnn.BasicLSTMCell(state_size)"
   ]
  },
  {
   "cell_type": "code",
   "execution_count": 290,
   "metadata": {},
   "outputs": [
    {
     "data": {
      "text/plain": [
       "LSTMStateTuple(c=17, h=17)"
      ]
     },
     "execution_count": 290,
     "metadata": {},
     "output_type": "execute_result"
    }
   ],
   "source": [
    "cell.state_size"
   ]
  },
  {
   "cell_type": "code",
   "execution_count": 291,
   "metadata": {},
   "outputs": [],
   "source": [
    "# states_series, current_state = tf.nn.rnn(cell, inputs_series, init_state)\n",
    "states_series, current_state = rnn.static_rnn(cell, inputs_series, init_state)"
   ]
  },
  {
   "cell_type": "code",
   "execution_count": 292,
   "metadata": {},
   "outputs": [],
   "source": [
    "logits_series = [tf.matmul(state, W2) + b2 for state in states_series] #Broadcasted addition\n",
    "predictions_series = [tf.nn.softmax(logits) for logits in logits_series]\n",
    "# predictions_series = [tf.round(tf.sigmoid(logits)) for logits in logits_series]\n",
    "\n",
    "losses = [tf.nn.softmax_cross_entropy_with_logits_v2(logits = logits,labels = labels) for logits, labels in zip(logits_series,labels_series)]\n",
    "# losses = [tf.nn.sigmoid_cross_entropy_with_logits(logits = logits,labels = labels) for logits, labels in zip(logits_series,labels_series)]\n",
    "total_loss = tf.reduce_mean(losses)\n",
    "\n",
    "# train_step = tf.train.AdagradOptimizer(0.3).minimize(total_loss)\n",
    "train_step = tf.train.AdamOptimizer(0.3).minimize(total_loss)"
   ]
  },
  {
   "cell_type": "code",
   "execution_count": 293,
   "metadata": {},
   "outputs": [
    {
     "data": {
      "text/plain": [
       "1"
      ]
     },
     "execution_count": 293,
     "metadata": {},
     "output_type": "execute_result"
    }
   ],
   "source": [
    "num_batches"
   ]
  },
  {
   "cell_type": "code",
   "execution_count": 294,
   "metadata": {},
   "outputs": [],
   "source": [
    "x = toy_vehicle_input.reshape((batch_size,-1, input_size))\n",
    "y = train_label_hot[:upper_limit].reshape((batch_size, -1, num_classes))\n",
    "# x = toy_vehicle_input.reshape((batch_size,-1, input_size))\n",
    "# y = train_label_hot.reshape((batch_size, -1, num_classes))"
   ]
  },
  {
   "cell_type": "code",
   "execution_count": 297,
   "metadata": {},
   "outputs": [
    {
     "data": {
      "text/plain": [
       "array([[[0, 0, 0, ..., 0, 1, 1],\n",
       "        [0, 0, 0, ..., 1, 1, 0],\n",
       "        [0, 0, 0, ..., 1, 1, 1],\n",
       "        ...,\n",
       "        [1, 0, 1, ..., 0, 0, 1],\n",
       "        [1, 0, 1, ..., 0, 1, 0],\n",
       "        [1, 0, 1, ..., 0, 1, 1]]], dtype=uint8)"
      ]
     },
     "execution_count": 297,
     "metadata": {},
     "output_type": "execute_result"
    }
   ],
   "source": [
    "x"
   ]
  },
  {
   "cell_type": "code",
   "execution_count": 298,
   "metadata": {},
   "outputs": [
    {
     "data": {
      "text/plain": [
       "48018"
      ]
     },
     "execution_count": 298,
     "metadata": {},
     "output_type": "execute_result"
    }
   ],
   "source": [
    "num_samples"
   ]
  },
  {
   "cell_type": "code",
   "execution_count": 299,
   "metadata": {},
   "outputs": [
    {
     "data": {
      "text/plain": [
       "1"
      ]
     },
     "execution_count": 299,
     "metadata": {},
     "output_type": "execute_result"
    }
   ],
   "source": [
    "batch_size"
   ]
  },
  {
   "cell_type": "code",
   "execution_count": 300,
   "metadata": {},
   "outputs": [
    {
     "data": {
      "text/plain": [
       "17"
      ]
     },
     "execution_count": 300,
     "metadata": {},
     "output_type": "execute_result"
    }
   ],
   "source": [
    "state_size"
   ]
  },
  {
   "cell_type": "code",
   "execution_count": 301,
   "metadata": {},
   "outputs": [
    {
     "data": {
      "text/plain": [
       "<tf.Tensor 'Placeholder_2:0' shape=(1, 17) dtype=float32>"
      ]
     },
     "execution_count": 301,
     "metadata": {},
     "output_type": "execute_result"
    }
   ],
   "source": [
    "cell_state"
   ]
  },
  {
   "cell_type": "code",
   "execution_count": 302,
   "metadata": {},
   "outputs": [
    {
     "data": {
      "text/plain": [
       "<tf.Tensor 'Placeholder_3:0' shape=(1, 17) dtype=float32>"
      ]
     },
     "execution_count": 302,
     "metadata": {},
     "output_type": "execute_result"
    }
   ],
   "source": [
    "hidden_state"
   ]
  },
  {
   "cell_type": "code",
   "execution_count": 303,
   "metadata": {},
   "outputs": [
    {
     "data": {
      "text/plain": [
       "1"
      ]
     },
     "execution_count": 303,
     "metadata": {},
     "output_type": "execute_result"
    }
   ],
   "source": [
    "num_batches"
   ]
  },
  {
   "cell_type": "code",
   "execution_count": 305,
   "metadata": {},
   "outputs": [
    {
     "data": {
      "text/plain": [
       "48018"
      ]
     },
     "execution_count": 305,
     "metadata": {},
     "output_type": "execute_result"
    }
   ],
   "source": [
    "num_samples"
   ]
  },
  {
   "cell_type": "code",
   "execution_count": 313,
   "metadata": {},
   "outputs": [
    {
     "name": "stdout",
     "output_type": "stream",
     "text": [
      "New data, epoch 1\n",
      "Epoch      1 Step:      0 Loss: 2.8914 Training Acc: 0.00 0.00 0.00 %\n",
      "Epoch      1 Step:   5000 Loss: 2.5218 Training Acc: 16.67 206933.33 41.38 %\n",
      "Epoch      1 Step:  10000 Loss: 2.2170 Training Acc: 16.67 385983.33 38.59 %\n",
      "Epoch      1 Step:  15000 Loss: 1.7674 Training Acc: 50.00 574466.67 38.30 %\n",
      "Epoch      1 Step:  20000 Loss: 1.8875 Training Acc: 33.33 729166.67 36.46 %\n",
      "Epoch      1 Step:  25000 Loss: 2.3486 Training Acc: 16.67 850533.33 34.02 %\n",
      "Epoch      1 Step:  30000 Loss: 3.8420 Training Acc: 0.00 998016.67 33.27 %\n",
      "Epoch      1 Step:  35000 Loss: 4.4269 Training Acc: 50.00 1165433.33 33.30 %\n",
      "Epoch      1 Step:  40000 Loss: 2.6676 Training Acc: 16.67 1346033.33 33.65 %\n",
      "Epoch      1 Step:  45000 Loss: 0.6710 Training Acc: 66.67 1606066.67 35.69 %\n",
      "New data, epoch 2\n",
      "Epoch      2 Step:      0 Loss: 29.7418 Training Acc: 0.00 0.00 0.00 %\n",
      "Epoch      2 Step:   5000 Loss: 2.4630 Training Acc: 16.67 206883.33 41.37 %\n",
      "Epoch      2 Step:  10000 Loss: 2.3691 Training Acc: 16.67 382100.00 38.21 %\n",
      "Epoch      2 Step:  15000 Loss: 1.6145 Training Acc: 0.00 567400.00 37.82 %\n",
      "Epoch      2 Step:  20000 Loss: 1.7829 Training Acc: 33.33 722716.67 36.13 %\n",
      "Epoch      2 Step:  25000 Loss: 5.6908 Training Acc: 16.67 843116.67 33.72 %\n",
      "Epoch      2 Step:  30000 Loss: 3.4843 Training Acc: 0.00 993083.33 33.10 %\n",
      "Epoch      2 Step:  35000 Loss: 2.9472 Training Acc: 50.00 1157233.33 33.06 %\n",
      "Epoch      2 Step:  40000 Loss: 2.2432 Training Acc: 16.67 1337500.00 33.44 %\n",
      "Epoch      2 Step:  45000 Loss: 0.6693 Training Acc: 66.67 1598500.00 35.52 %\n",
      "New data, epoch 3\n",
      "Epoch      3 Step:      0 Loss: 22.1078 Training Acc: 0.00 0.00 0.00 %\n",
      "Epoch      3 Step:   5000 Loss: 2.4612 Training Acc: 16.67 207716.67 41.54 %\n",
      "Epoch      3 Step:  10000 Loss: 2.3432 Training Acc: 16.67 382683.33 38.26 %\n",
      "Epoch      3 Step:  15000 Loss: 1.6536 Training Acc: 0.00 568200.00 37.88 %\n",
      "Epoch      3 Step:  20000 Loss: 1.7839 Training Acc: 33.33 723316.67 36.16 %\n",
      "Epoch      3 Step:  25000 Loss: 5.7001 Training Acc: 16.67 843750.00 33.75 %\n",
      "Epoch      3 Step:  30000 Loss: 3.5180 Training Acc: 0.00 993533.33 33.12 %\n",
      "Epoch      3 Step:  35000 Loss: 2.9493 Training Acc: 50.00 1157650.00 33.07 %\n",
      "Epoch      3 Step:  40000 Loss: 2.2764 Training Acc: 16.67 1338116.67 33.45 %\n",
      "Epoch      3 Step:  45000 Loss: 0.6693 Training Acc: 66.67 1598583.33 35.52 %\n",
      "New data, epoch 4\n",
      "Epoch      4 Step:      0 Loss: 24.1551 Training Acc: 0.00 0.00 0.00 %\n",
      "Epoch      4 Step:   5000 Loss: 2.4599 Training Acc: 16.67 207133.33 41.42 %\n",
      "Epoch      4 Step:  10000 Loss: 2.3453 Training Acc: 16.67 382433.33 38.24 %\n",
      "Epoch      4 Step:  15000 Loss: 1.6191 Training Acc: 0.00 568183.33 37.88 %\n",
      "Epoch      4 Step:  20000 Loss: 1.7817 Training Acc: 33.33 723633.33 36.18 %\n",
      "Epoch      4 Step:  25000 Loss: 5.6713 Training Acc: 16.67 844333.33 33.77 %\n",
      "Epoch      4 Step:  30000 Loss: 3.5163 Training Acc: 0.00 994133.33 33.14 %\n",
      "Epoch      4 Step:  35000 Loss: 2.9478 Training Acc: 50.00 1158250.00 33.09 %\n",
      "Epoch      4 Step:  40000 Loss: 2.2991 Training Acc: 16.67 1338366.67 33.46 %\n",
      "Epoch      4 Step:  45000 Loss: 0.6692 Training Acc: 66.67 1598900.00 35.53 %\n",
      "New data, epoch 5\n",
      "Epoch      5 Step:      0 Loss: 24.1472 Training Acc: 0.00 0.00 0.00 %\n"
     ]
    },
    {
     "ename": "KeyboardInterrupt",
     "evalue": "",
     "output_type": "error",
     "traceback": [
      "\u001b[1;31m---------------------------------------------------------------------------\u001b[0m",
      "\u001b[1;31mKeyboardInterrupt\u001b[0m                         Traceback (most recent call last)",
      "\u001b[1;32m<ipython-input-313-4d02104fd556>\u001b[0m in \u001b[0;36m<module>\u001b[1;34m()\u001b[0m\n\u001b[0;32m     42\u001b[0m                     \u001b[0mbatchY_placeholder\u001b[0m\u001b[1;33m:\u001b[0m \u001b[0mbatchY\u001b[0m\u001b[1;33m,\u001b[0m\u001b[1;33m\u001b[0m\u001b[0m\n\u001b[0;32m     43\u001b[0m                     \u001b[0mcell_state\u001b[0m\u001b[1;33m:\u001b[0m \u001b[0m_current_cell_state\u001b[0m\u001b[1;33m,\u001b[0m\u001b[1;33m\u001b[0m\u001b[0m\n\u001b[1;32m---> 44\u001b[1;33m                     \u001b[0mhidden_state\u001b[0m\u001b[1;33m:\u001b[0m \u001b[0m_current_hidden_state\u001b[0m\u001b[1;33m\u001b[0m\u001b[0m\n\u001b[0m\u001b[0;32m     45\u001b[0m                 })\n\u001b[0;32m     46\u001b[0m \u001b[1;33m\u001b[0m\u001b[0m\n",
      "\u001b[1;32mc:\\users\\gebruiker\\anaconda3\\envs\\tensorflow\\lib\\site-packages\\tensorflow\\python\\client\\session.py\u001b[0m in \u001b[0;36mrun\u001b[1;34m(self, fetches, feed_dict, options, run_metadata)\u001b[0m\n\u001b[0;32m    903\u001b[0m     \u001b[1;32mtry\u001b[0m\u001b[1;33m:\u001b[0m\u001b[1;33m\u001b[0m\u001b[0m\n\u001b[0;32m    904\u001b[0m       result = self._run(None, fetches, feed_dict, options_ptr,\n\u001b[1;32m--> 905\u001b[1;33m                          run_metadata_ptr)\n\u001b[0m\u001b[0;32m    906\u001b[0m       \u001b[1;32mif\u001b[0m \u001b[0mrun_metadata\u001b[0m\u001b[1;33m:\u001b[0m\u001b[1;33m\u001b[0m\u001b[0m\n\u001b[0;32m    907\u001b[0m         \u001b[0mproto_data\u001b[0m \u001b[1;33m=\u001b[0m \u001b[0mtf_session\u001b[0m\u001b[1;33m.\u001b[0m\u001b[0mTF_GetBuffer\u001b[0m\u001b[1;33m(\u001b[0m\u001b[0mrun_metadata_ptr\u001b[0m\u001b[1;33m)\u001b[0m\u001b[1;33m\u001b[0m\u001b[0m\n",
      "\u001b[1;32mc:\\users\\gebruiker\\anaconda3\\envs\\tensorflow\\lib\\site-packages\\tensorflow\\python\\client\\session.py\u001b[0m in \u001b[0;36m_run\u001b[1;34m(self, handle, fetches, feed_dict, options, run_metadata)\u001b[0m\n\u001b[0;32m   1135\u001b[0m     \u001b[1;32mif\u001b[0m \u001b[0mfinal_fetches\u001b[0m \u001b[1;32mor\u001b[0m \u001b[0mfinal_targets\u001b[0m \u001b[1;32mor\u001b[0m \u001b[1;33m(\u001b[0m\u001b[0mhandle\u001b[0m \u001b[1;32mand\u001b[0m \u001b[0mfeed_dict_tensor\u001b[0m\u001b[1;33m)\u001b[0m\u001b[1;33m:\u001b[0m\u001b[1;33m\u001b[0m\u001b[0m\n\u001b[0;32m   1136\u001b[0m       results = self._do_run(handle, final_targets, final_fetches,\n\u001b[1;32m-> 1137\u001b[1;33m                              feed_dict_tensor, options, run_metadata)\n\u001b[0m\u001b[0;32m   1138\u001b[0m     \u001b[1;32melse\u001b[0m\u001b[1;33m:\u001b[0m\u001b[1;33m\u001b[0m\u001b[0m\n\u001b[0;32m   1139\u001b[0m       \u001b[0mresults\u001b[0m \u001b[1;33m=\u001b[0m \u001b[1;33m[\u001b[0m\u001b[1;33m]\u001b[0m\u001b[1;33m\u001b[0m\u001b[0m\n",
      "\u001b[1;32mc:\\users\\gebruiker\\anaconda3\\envs\\tensorflow\\lib\\site-packages\\tensorflow\\python\\client\\session.py\u001b[0m in \u001b[0;36m_do_run\u001b[1;34m(self, handle, target_list, fetch_list, feed_dict, options, run_metadata)\u001b[0m\n\u001b[0;32m   1353\u001b[0m     \u001b[1;32mif\u001b[0m \u001b[0mhandle\u001b[0m \u001b[1;32mis\u001b[0m \u001b[1;32mNone\u001b[0m\u001b[1;33m:\u001b[0m\u001b[1;33m\u001b[0m\u001b[0m\n\u001b[0;32m   1354\u001b[0m       return self._do_call(_run_fn, self._session, feeds, fetches, targets,\n\u001b[1;32m-> 1355\u001b[1;33m                            options, run_metadata)\n\u001b[0m\u001b[0;32m   1356\u001b[0m     \u001b[1;32melse\u001b[0m\u001b[1;33m:\u001b[0m\u001b[1;33m\u001b[0m\u001b[0m\n\u001b[0;32m   1357\u001b[0m       \u001b[1;32mreturn\u001b[0m \u001b[0mself\u001b[0m\u001b[1;33m.\u001b[0m\u001b[0m_do_call\u001b[0m\u001b[1;33m(\u001b[0m\u001b[0m_prun_fn\u001b[0m\u001b[1;33m,\u001b[0m \u001b[0mself\u001b[0m\u001b[1;33m.\u001b[0m\u001b[0m_session\u001b[0m\u001b[1;33m,\u001b[0m \u001b[0mhandle\u001b[0m\u001b[1;33m,\u001b[0m \u001b[0mfeeds\u001b[0m\u001b[1;33m,\u001b[0m \u001b[0mfetches\u001b[0m\u001b[1;33m)\u001b[0m\u001b[1;33m\u001b[0m\u001b[0m\n",
      "\u001b[1;32mc:\\users\\gebruiker\\anaconda3\\envs\\tensorflow\\lib\\site-packages\\tensorflow\\python\\client\\session.py\u001b[0m in \u001b[0;36m_do_call\u001b[1;34m(self, fn, *args)\u001b[0m\n\u001b[0;32m   1359\u001b[0m   \u001b[1;32mdef\u001b[0m \u001b[0m_do_call\u001b[0m\u001b[1;33m(\u001b[0m\u001b[0mself\u001b[0m\u001b[1;33m,\u001b[0m \u001b[0mfn\u001b[0m\u001b[1;33m,\u001b[0m \u001b[1;33m*\u001b[0m\u001b[0margs\u001b[0m\u001b[1;33m)\u001b[0m\u001b[1;33m:\u001b[0m\u001b[1;33m\u001b[0m\u001b[0m\n\u001b[0;32m   1360\u001b[0m     \u001b[1;32mtry\u001b[0m\u001b[1;33m:\u001b[0m\u001b[1;33m\u001b[0m\u001b[0m\n\u001b[1;32m-> 1361\u001b[1;33m       \u001b[1;32mreturn\u001b[0m \u001b[0mfn\u001b[0m\u001b[1;33m(\u001b[0m\u001b[1;33m*\u001b[0m\u001b[0margs\u001b[0m\u001b[1;33m)\u001b[0m\u001b[1;33m\u001b[0m\u001b[0m\n\u001b[0m\u001b[0;32m   1362\u001b[0m     \u001b[1;32mexcept\u001b[0m \u001b[0merrors\u001b[0m\u001b[1;33m.\u001b[0m\u001b[0mOpError\u001b[0m \u001b[1;32mas\u001b[0m \u001b[0me\u001b[0m\u001b[1;33m:\u001b[0m\u001b[1;33m\u001b[0m\u001b[0m\n\u001b[0;32m   1363\u001b[0m       \u001b[0mmessage\u001b[0m \u001b[1;33m=\u001b[0m \u001b[0mcompat\u001b[0m\u001b[1;33m.\u001b[0m\u001b[0mas_text\u001b[0m\u001b[1;33m(\u001b[0m\u001b[0me\u001b[0m\u001b[1;33m.\u001b[0m\u001b[0mmessage\u001b[0m\u001b[1;33m)\u001b[0m\u001b[1;33m\u001b[0m\u001b[0m\n",
      "\u001b[1;32mc:\\users\\gebruiker\\anaconda3\\envs\\tensorflow\\lib\\site-packages\\tensorflow\\python\\client\\session.py\u001b[0m in \u001b[0;36m_run_fn\u001b[1;34m(session, feed_dict, fetch_list, target_list, options, run_metadata)\u001b[0m\n\u001b[0;32m   1338\u001b[0m         \u001b[1;32melse\u001b[0m\u001b[1;33m:\u001b[0m\u001b[1;33m\u001b[0m\u001b[0m\n\u001b[0;32m   1339\u001b[0m           return tf_session.TF_Run(session, options, feed_dict, fetch_list,\n\u001b[1;32m-> 1340\u001b[1;33m                                    target_list, status, run_metadata)\n\u001b[0m\u001b[0;32m   1341\u001b[0m \u001b[1;33m\u001b[0m\u001b[0m\n\u001b[0;32m   1342\u001b[0m     \u001b[1;32mdef\u001b[0m \u001b[0m_prun_fn\u001b[0m\u001b[1;33m(\u001b[0m\u001b[0msession\u001b[0m\u001b[1;33m,\u001b[0m \u001b[0mhandle\u001b[0m\u001b[1;33m,\u001b[0m \u001b[0mfeed_dict\u001b[0m\u001b[1;33m,\u001b[0m \u001b[0mfetch_list\u001b[0m\u001b[1;33m)\u001b[0m\u001b[1;33m:\u001b[0m\u001b[1;33m\u001b[0m\u001b[0m\n",
      "\u001b[1;31mKeyboardInterrupt\u001b[0m: "
     ]
    }
   ],
   "source": [
    "with tf.Session() as sess:\n",
    "    # sess.run(tf.initialize_all_variables())\n",
    "    sess.run(tf.global_variables_initializer())\n",
    "    # plt.ion()\n",
    "    # plt.figure()\n",
    "    # plt.show()\n",
    "    loss_list = []\n",
    "    acc = 0\n",
    "    acc_temp = 0\n",
    "    epoch_idx = 0\n",
    "    \n",
    "    while acc != 100:\n",
    "    # for epoch_idx in range(num_epochs): # 100\n",
    "        epoch_idx += 1\n",
    "        _current_cell_state = np.zeros((batch_size, state_size))\n",
    "        _current_hidden_state = np.zeros((batch_size, state_size))\n",
    "        print(\"New data, epoch\", epoch_idx)\n",
    "        acc = 0\n",
    "        for batch_idx in range(num_samples - truncated_backprop_length):\n",
    "            start_idx = batch_idx # * truncated_backprop_length\n",
    "            end_idx = start_idx + truncated_backprop_length\n",
    "            \n",
    "            # print(batch_idx)\n",
    "            \n",
    "            batchX = x[:,start_idx:end_idx]\n",
    "            batchY = y[:,start_idx:end_idx]\n",
    "\n",
    "            \"\"\"\n",
    "            _total_loss, _train_step, _current_state, _predictions_series = sess.run(\n",
    "                [total_loss, train_step, current_state, predictions_series],\n",
    "                feed_dict={\n",
    "                    batchX_placeholder:batchX,\n",
    "                    batchY_placeholder:batchY,\n",
    "                    init_state:_current_state\n",
    "                })\n",
    "            \"\"\"\n",
    "            \n",
    "            _total_loss, _train_step, _current_state, _predictions_series, _labels_series = sess.run(\n",
    "                [total_loss, train_step, current_state, predictions_series, labels_series],\n",
    "                feed_dict={\n",
    "                    batchX_placeholder: batchX,\n",
    "                    batchY_placeholder: batchY,\n",
    "                    cell_state: _current_cell_state,\n",
    "                    hidden_state: _current_hidden_state\n",
    "                })\n",
    "            \n",
    "            _current_cell_state, _current_hidden_state = _current_state\n",
    "            \n",
    "            loss_list.append(_total_loss)\n",
    "            # print(_predictions_series)\n",
    "            # print(_labels_series)\n",
    "            \n",
    "            acc_temp = accuracy_list( _predictions_series, _labels_series)\n",
    "            acc += acc_temp\n",
    "            \n",
    "            if batch_idx%5000 == 0:\n",
    "                # acc = accuracy_list( _predictions_series, _labels_series) \n",
    "                print(\"Epoch {0:6d} Step: {1:6d} Loss: {2:.4f} Training Acc: {3:.2f} {4:.2f} {5:.2f} %\".format(epoch_idx, batch_idx, _total_loss, acc_temp, acc, acc/(batch_idx+1)))\n",
    "                # plot(loss_list, _predictions_series, batchX, batchY)\n"
   ]
  },
  {
   "cell_type": "code",
   "execution_count": null,
   "metadata": {},
   "outputs": [],
   "source": []
  },
  {
   "cell_type": "code",
   "execution_count": null,
   "metadata": {},
   "outputs": [],
   "source": []
  }
 ],
 "metadata": {
  "colab": {
   "default_view": {},
   "name": "2_fullyconnected.ipynb",
   "provenance": [],
   "version": "0.3.2",
   "views": {}
  },
  "kernelspec": {
   "display_name": "tensorflow",
   "language": "python",
   "name": "tensorflow"
  },
  "language_info": {
   "codemirror_mode": {
    "name": "ipython",
    "version": 3
   },
   "file_extension": ".py",
   "mimetype": "text/x-python",
   "name": "python",
   "nbconvert_exporter": "python",
   "pygments_lexer": "ipython3",
   "version": "3.5.5"
  }
 },
 "nbformat": 4,
 "nbformat_minor": 1
}
