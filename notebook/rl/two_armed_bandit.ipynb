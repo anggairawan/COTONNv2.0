{
 "cells": [
  {
   "cell_type": "code",
   "execution_count": 1,
   "metadata": {},
   "outputs": [],
   "source": [
    "import tensorflow as tf\n",
    "import numpy as np"
   ]
  },
  {
   "cell_type": "code",
   "execution_count": 2,
   "metadata": {},
   "outputs": [],
   "source": [
    "#List out our bandits. Currently bandit 4 (index#3) is set to most often provide a positive reward.\n",
    "bandits = [0.2,0,-0.2,-5]\n",
    "num_bandits = len(bandits)\n",
    "def pullBandit(bandit):\n",
    "    #Get a random number.\n",
    "    result = np.random.randn(1)\n",
    "    if result > bandit:\n",
    "        #return a positive reward.\n",
    "        return 1\n",
    "    else:\n",
    "        #return a negative reward.\n",
    "        return -1"
   ]
  },
  {
   "cell_type": "code",
   "execution_count": 3,
   "metadata": {},
   "outputs": [],
   "source": [
    "tf.reset_default_graph()\n",
    "\n",
    "#These two lines established the feed-forward part of the network. This does the actual choosing.\n",
    "weights = tf.Variable(tf.ones([num_bandits]))\n",
    "chosen_action = tf.argmax(weights,0)"
   ]
  },
  {
   "cell_type": "code",
   "execution_count": 4,
   "metadata": {},
   "outputs": [
    {
     "data": {
      "text/plain": [
       "<tf.Variable 'Variable:0' shape=(4,) dtype=float32_ref>"
      ]
     },
     "execution_count": 4,
     "metadata": {},
     "output_type": "execute_result"
    }
   ],
   "source": [
    "weights"
   ]
  },
  {
   "cell_type": "code",
   "execution_count": 5,
   "metadata": {},
   "outputs": [
    {
     "data": {
      "text/plain": [
       "<tf.Tensor 'ArgMax:0' shape=() dtype=int64>"
      ]
     },
     "execution_count": 5,
     "metadata": {},
     "output_type": "execute_result"
    }
   ],
   "source": [
    "chosen_action"
   ]
  },
  {
   "cell_type": "code",
   "execution_count": 6,
   "metadata": {},
   "outputs": [],
   "source": [
    "#The next six lines establish the training proceedure. We feed the reward and chosen action into the network\n",
    "#to compute the loss, and use it to update the network.\n",
    "reward_holder = tf.placeholder(shape=[1],dtype=tf.float32)\n",
    "action_holder = tf.placeholder(shape=[1],dtype=tf.int32)\n",
    "responsible_weight = tf.slice(weights,action_holder,[1])\n",
    "loss = -(tf.log(responsible_weight)*reward_holder)\n",
    "optimizer = tf.train.GradientDescentOptimizer(learning_rate=0.001)\n",
    "update = optimizer.minimize(loss)"
   ]
  },
  {
   "cell_type": "code",
   "execution_count": 12,
   "metadata": {},
   "outputs": [
    {
     "name": "stdout",
     "output_type": "stream",
     "text": [
      "Running reward for the 4 bandits: [1. 0. 0. 0.]\n",
      "[1.] [1. 1. 1. 1.]\n",
      "Running reward for the 4 bandits: [ 0.  0.  0. 39.]\n",
      "[1.037322] [1.000005  1.        1.0000011 1.037322 ]\n",
      "Running reward for the 4 bandits: [ 1.  0. -1. 87.]\n",
      "[1.0826261] [1.001005  1.        0.9990011 1.0826261]\n",
      "Running reward for the 4 bandits: [  0.  -1.  -1. 133.]\n",
      "[1.12433] [1.0000061 0.999     0.9990021 1.12433  ]\n",
      "Running reward for the 4 bandits: [ -1.  -1.  -2. 181.]\n",
      "[1.1662564] [0.9990061 0.999     0.9980011 1.1662564]\n",
      "Running reward for the 4 bandits: [  0.   0.  -2. 225.]\n",
      "[1.2034054] [1.000008  1.0000011 0.9980021 1.2034054]\n",
      "Running reward for the 4 bandits: [ -1.  -1.  -2. 273.]\n",
      "[1.2426654] [0.999008  0.9990011 0.9980021 1.2426654]\n",
      "Running reward for the 4 bandits: [ -1.  -1.  -3. 322.]\n",
      "[1.281502] [0.999008  0.9990011 0.9970001 1.281502 ]\n",
      "Running reward for the 4 bandits: [ -1.  -1.  -3. 370.]\n",
      "[1.3184366] [0.99900895 0.9990011  0.9970001  1.3184366 ]\n",
      "Running reward for the 4 bandits: [ -1.  -2.  -3. 415.]\n",
      "[1.3521465] [0.9990099 0.9980001 0.9970011 1.3521465]\n",
      "Running reward for the 4 bandits: [ -1.  -2.  -6. 462.]\n",
      "[1.3864796] [0.9990099 0.9980001 0.993989  1.3864796]\n",
      "Running reward for the 4 bandits: [  0.  -1.  -6. 508.]\n",
      "[1.4192772] [1.0000108 0.9990021 0.99399   1.4192772]\n",
      "Running reward for the 4 bandits: [  0.  -3.  -4. 554.]\n",
      "[1.4513339] [1.0000108 0.9969991 0.9960011 1.4513339]\n",
      "Running reward for the 4 bandits: [  0.  -3.  -4. 602.]\n",
      "[1.484046] [1.0000108  0.9969991  0.99600214 1.484046  ]\n",
      "Running reward for the 4 bandits: [ -1.  -3.  -4. 649.]\n",
      "[1.515392] [0.99901086 0.9970001  0.99600214 1.515392  ]\n",
      "Running reward for the 4 bandits: [ -2.  -4.  -4. 697.]\n",
      "[1.5467492] [0.99800986 0.9959971  0.99600214 1.5467492 ]\n",
      "Running reward for the 4 bandits: [ -3.  -4.  -5. 743.]\n",
      "[1.5762144] [0.99700785 0.9959981  0.9949981  1.5762144 ]\n",
      "Running reward for the 4 bandits: [ -4.  -4.  -6. 791.]\n",
      "[1.6063843] [0.9960048  0.9959981  0.99399304 1.6063843 ]\n",
      "Running reward for the 4 bandits: [ -6.  -3.  -6. 836.]\n",
      "[1.6341627] [0.9939957  0.9970021  0.99399406 1.6341627 ]\n",
      "Running reward for the 4 bandits: [ -6.  -4.  -5. 882.]\n",
      "[1.6620784] [0.99399674 0.9959991  0.9950001  1.6620784 ]\n",
      "The agent thinks bandit 4 is the most promising....\n",
      "...and it was right!\n"
     ]
    }
   ],
   "source": [
    "total_episodes = 1000 #Set total number of episodes to train agent on.\n",
    "total_reward = np.zeros(num_bandits) #Set scoreboard for bandits to 0.\n",
    "e = 0.1 #Set the chance of taking a random action.\n",
    "\n",
    "init = tf.global_variables_initializer()\n",
    "\n",
    "# Launch the tensorflow graph\n",
    "with tf.Session() as sess:\n",
    "    sess.run(init)\n",
    "    i = 0\n",
    "    while i < total_episodes:\n",
    "        \n",
    "        #Choose either a random action or one from our network.\n",
    "        if np.random.rand(1) < e:\n",
    "            action = np.random.randint(num_bandits)\n",
    "        else:\n",
    "            action = sess.run(chosen_action)\n",
    "        \n",
    "        reward = pullBandit(bandits[action]) #Get our reward from picking one of the bandits.\n",
    "        \n",
    "        #Update the network.\n",
    "        _,resp,ww = sess.run([update,responsible_weight,weights], feed_dict={reward_holder:[reward],action_holder:[action]})\n",
    "        \n",
    "        #Update our running tally of scores.\n",
    "        total_reward[action] += reward\n",
    "        if i % 50 == 0:\n",
    "            print(\"Running reward for the \" + str(num_bandits) + \" bandits: \" + str(total_reward))\n",
    "            print(resp, ww)\n",
    "        i+=1\n",
    "print (\"The agent thinks bandit \" + str(np.argmax(ww)+1) + \" is the most promising....\")\n",
    "if np.argmax(ww) == np.argmax(-np.array(bandits)):\n",
    "    print(\"...and it was right!\")\n",
    "else:\n",
    "    print(\"...and it was wrong!\")"
   ]
  },
  {
   "cell_type": "code",
   "execution_count": null,
   "metadata": {},
   "outputs": [],
   "source": []
  }
 ],
 "metadata": {
  "kernelspec": {
   "display_name": "tensorflow",
   "language": "python",
   "name": "tensorflow"
  },
  "language_info": {
   "codemirror_mode": {
    "name": "ipython",
    "version": 3
   },
   "file_extension": ".py",
   "mimetype": "text/x-python",
   "name": "python",
   "nbconvert_exporter": "python",
   "pygments_lexer": "ipython3",
   "version": "3.5.5"
  }
 },
 "nbformat": 4,
 "nbformat_minor": 2
}
