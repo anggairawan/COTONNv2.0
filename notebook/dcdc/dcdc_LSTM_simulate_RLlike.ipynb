{
 "cells": [
  {
   "cell_type": "code",
   "execution_count": 1,
   "metadata": {
    "cellView": "both",
    "colab": {
     "autoexec": {
      "startup": false,
      "wait_interval": 0
     }
    },
    "colab_type": "code",
    "id": "JLpLa8Jt7Vu4"
   },
   "outputs": [],
   "source": [
    "# These are all the modules we'll be using later. Make sure you can import them\n",
    "# before proceeding further.\n",
    "from __future__ import print_function\n",
    "import numpy as np\n",
    "import tensorflow as tf\n",
    "from six.moves import cPickle as pickle\n",
    "from six.moves import range\n",
    "\n",
    "import random\n",
    "import matplotlib.pyplot as plt\n",
    "# plot param\n",
    "%matplotlib inline\n",
    "plt.rcParams['figure.figsize'] = (22.0, 12.0) # set default size of plots\n",
    "plt.rcParams['image.interpolation'] = 'nearest'\n",
    "plt.rcParams['image.cmap'] = 'gray'\n",
    "plt.style.use('ggplot')\n",
    "\n",
    "from livelossplot import PlotLosses\n",
    "from time import sleep"
   ]
  },
  {
   "cell_type": "code",
   "execution_count": 2,
   "metadata": {},
   "outputs": [],
   "source": [
    "det = True"
   ]
  },
  {
   "cell_type": "code",
   "execution_count": 3,
   "metadata": {},
   "outputs": [],
   "source": [
    "# parse the controller file\n",
    "# f = open('../COTONN/dcdc_small/controller.scs', \"r\")\n",
    "# f = open('../../COTONN-master/controllers/dcdc_small/controller.scs', \"r\")\n",
    "f = open('sequence_int.txt', \"r\")\n",
    "\n",
    "lines = []\n",
    "lines = f.readlines()\n",
    "\n",
    "# del lines[-1]"
   ]
  },
  {
   "cell_type": "code",
   "execution_count": 4,
   "metadata": {
    "scrolled": false
   },
   "outputs": [
    {
     "data": {
      "text/plain": [
       "100"
      ]
     },
     "execution_count": 4,
     "metadata": {},
     "output_type": "execute_result"
    }
   ],
   "source": [
    "len(lines)"
   ]
  },
  {
   "cell_type": "code",
   "execution_count": 5,
   "metadata": {},
   "outputs": [],
   "source": [
    "state_dim = 2\n",
    "input_dim = 1"
   ]
  },
  {
   "cell_type": "code",
   "execution_count": 56,
   "metadata": {},
   "outputs": [],
   "source": [
    "# take the state as the train dataset\n",
    "ltrain_dataset = []\n",
    "for x in lines:\n",
    "    ltrain_dataset.append(x.split(' ')[:state_dim])\n",
    "# del ltrain_dataset[-1] # delete the string #END at the end of the file \n",
    "\n",
    "# convert to the numpy array with float32 data type\n",
    "train_dataset = np.asarray(ltrain_dataset)\n",
    "train_dataset = train_dataset.astype(np.float32)\n",
    "\n",
    "upper_limit = train_dataset.shape[0]\n",
    "num_samples = upper_limit"
   ]
  },
  {
   "cell_type": "code",
   "execution_count": 57,
   "metadata": {
    "scrolled": true
   },
   "outputs": [
    {
     "data": {
      "text/plain": [
       "array([[40., 61.],\n",
       "       [71., 53.],\n",
       "       [64., 55.],\n",
       "       [56., 57.],\n",
       "       [49., 59.],\n",
       "       [42., 61.],\n",
       "       [73., 53.],\n",
       "       [65., 55.],\n",
       "       [58., 57.],\n",
       "       [50., 59.],\n",
       "       [43., 61.],\n",
       "       [74., 53.],\n",
       "       [67., 55.],\n",
       "       [59., 58.],\n",
       "       [52., 60.],\n",
       "       [45., 61.],\n",
       "       [75., 53.],\n",
       "       [68., 56.],\n",
       "       [61., 58.],\n",
       "       [53., 60.],\n",
       "       [46., 62.],\n",
       "       [77., 54.],\n",
       "       [69., 56.],\n",
       "       [62., 59.],\n",
       "       [54., 61.],\n",
       "       [47., 63.],\n",
       "       [78., 54.],\n",
       "       [70., 57.],\n",
       "       [63., 59.],\n",
       "       [55., 62.],\n",
       "       [48., 63.],\n",
       "       [79., 55.],\n",
       "       [71., 58.],\n",
       "       [64., 60.],\n",
       "       [56., 62.],\n",
       "       [49., 64.],\n",
       "       [41., 66.],\n",
       "       [72., 58.],\n",
       "       [65., 60.],\n",
       "       [57., 62.],\n",
       "       [50., 64.],\n",
       "       [42., 66.],\n",
       "       [73., 58.],\n",
       "       [66., 60.],\n",
       "       [58., 62.],\n",
       "       [51., 64.],\n",
       "       [43., 66.],\n",
       "       [74., 58.],\n",
       "       [67., 60.],\n",
       "       [59., 62.],\n",
       "       [51., 64.],\n",
       "       [44., 66.],\n",
       "       [75., 58.],\n",
       "       [67., 60.],\n",
       "       [60., 63.],\n",
       "       [52., 64.],\n",
       "       [45., 66.],\n",
       "       [76., 58.],\n",
       "       [68., 61.],\n",
       "       [60., 63.],\n",
       "       [53., 65.],\n",
       "       [45., 67.],\n",
       "       [76., 58.],\n",
       "       [69., 61.],\n",
       "       [61., 63.],\n",
       "       [54., 65.],\n",
       "       [46., 67.],\n",
       "       [77., 59.],\n",
       "       [69., 61.],\n",
       "       [62., 64.],\n",
       "       [54., 66.],\n",
       "       [46., 67.],\n",
       "       [77., 59.],\n",
       "       [70., 62.],\n",
       "       [62., 64.],\n",
       "       [55., 66.],\n",
       "       [47., 68.],\n",
       "       [78., 60.],\n",
       "       [70., 62.],\n",
       "       [63., 65.],\n",
       "       [55., 67.],\n",
       "       [47., 68.],\n",
       "       [78., 60.],\n",
       "       [71., 63.],\n",
       "       [63., 65.],\n",
       "       [55., 67.],\n",
       "       [48., 69.],\n",
       "       [78., 61.],\n",
       "       [71., 64.],\n",
       "       [63., 66.],\n",
       "       [55., 68.],\n",
       "       [48., 70.],\n",
       "       [40., 71.],\n",
       "       [71., 63.],\n",
       "       [63., 65.],\n",
       "       [56., 67.],\n",
       "       [48., 69.],\n",
       "       [79., 61.],\n",
       "       [71., 64.],\n",
       "       [63., 66.]], dtype=float32)"
      ]
     },
     "execution_count": 57,
     "metadata": {},
     "output_type": "execute_result"
    }
   ],
   "source": [
    "train_dataset"
   ]
  },
  {
   "cell_type": "code",
   "execution_count": 58,
   "metadata": {},
   "outputs": [],
   "source": [
    "# take action/label pair of the state \n",
    "# take the action(s) [column 1:-1] / the rest of the integer except the state\n",
    "ltrain_label = []\n",
    "for x in lines:\n",
    "    if det == False:\n",
    "        ltrain_label.append(x.strip().split()[state_dim:])\n",
    "    else:\n",
    "        ltrain_label.append(x.strip().split()[state_dim:state_dim+input_dim])\n",
    "# del ltrain_label[-1] # delete the string #END at the end of the file  \n",
    "\n",
    "# convert to numpy array, note that the result is still not in one hot encoding format\n",
    "train_label = np.asarray(ltrain_label).astype(np.float32)"
   ]
  },
  {
   "cell_type": "code",
   "execution_count": 59,
   "metadata": {},
   "outputs": [],
   "source": [
    "# define number of samples\n",
    "num_samples = train_dataset.shape[0]"
   ]
  },
  {
   "cell_type": "code",
   "execution_count": 60,
   "metadata": {},
   "outputs": [
    {
     "data": {
      "text/plain": [
       "array([[0.],\n",
       "       [1.],\n",
       "       [1.],\n",
       "       [1.],\n",
       "       [1.],\n",
       "       [0.],\n",
       "       [1.],\n",
       "       [1.],\n",
       "       [1.],\n",
       "       [1.],\n",
       "       [0.],\n",
       "       [1.],\n",
       "       [1.],\n",
       "       [1.],\n",
       "       [1.],\n",
       "       [0.],\n",
       "       [1.],\n",
       "       [1.],\n",
       "       [1.],\n",
       "       [1.],\n",
       "       [0.],\n",
       "       [1.],\n",
       "       [1.],\n",
       "       [1.],\n",
       "       [1.],\n",
       "       [0.],\n",
       "       [1.],\n",
       "       [1.],\n",
       "       [1.],\n",
       "       [1.],\n",
       "       [0.],\n",
       "       [1.],\n",
       "       [1.],\n",
       "       [1.],\n",
       "       [1.],\n",
       "       [1.],\n",
       "       [0.],\n",
       "       [1.],\n",
       "       [1.],\n",
       "       [1.],\n",
       "       [1.],\n",
       "       [0.],\n",
       "       [1.],\n",
       "       [1.],\n",
       "       [1.],\n",
       "       [1.],\n",
       "       [0.],\n",
       "       [1.],\n",
       "       [1.],\n",
       "       [1.],\n",
       "       [1.],\n",
       "       [0.],\n",
       "       [1.],\n",
       "       [1.],\n",
       "       [1.],\n",
       "       [1.],\n",
       "       [0.],\n",
       "       [1.],\n",
       "       [1.],\n",
       "       [1.],\n",
       "       [1.],\n",
       "       [0.],\n",
       "       [1.],\n",
       "       [1.],\n",
       "       [1.],\n",
       "       [1.],\n",
       "       [0.],\n",
       "       [1.],\n",
       "       [1.],\n",
       "       [1.],\n",
       "       [1.],\n",
       "       [0.],\n",
       "       [1.],\n",
       "       [1.],\n",
       "       [1.],\n",
       "       [1.],\n",
       "       [0.],\n",
       "       [1.],\n",
       "       [1.],\n",
       "       [1.],\n",
       "       [1.],\n",
       "       [0.],\n",
       "       [1.],\n",
       "       [1.],\n",
       "       [1.],\n",
       "       [1.],\n",
       "       [0.],\n",
       "       [1.],\n",
       "       [1.],\n",
       "       [1.],\n",
       "       [1.],\n",
       "       [1.],\n",
       "       [0.],\n",
       "       [1.],\n",
       "       [1.],\n",
       "       [1.],\n",
       "       [0.],\n",
       "       [1.],\n",
       "       [1.],\n",
       "       [1.]], dtype=float32)"
      ]
     },
     "execution_count": 60,
     "metadata": {},
     "output_type": "execute_result"
    }
   ],
   "source": [
    "train_label"
   ]
  },
  {
   "cell_type": "code",
   "execution_count": 61,
   "metadata": {},
   "outputs": [],
   "source": [
    "if det == False:\n",
    "    # select to use ND or D case here\n",
    "    # create now array to be filled by the encoded label\n",
    "    train_label_int = [[int(i) for i in l] for l in ltrain_label]\n",
    "    action_setlist = sorted(set(x for l in train_label_int for x in l))\n",
    "    num_label = len(action_setlist)\n",
    "    train_label_hot = np.zeros([num_samples, num_label], dtype=np.float32)\n",
    "    for i,actions in enumerate(train_label_int):\n",
    "        for action in actions:\n",
    "            train_label_hot[i, action_setlist.index(action)] = 1\n",
    "else:\n",
    "    train_label_hot = train_label[:, None].astype(np.uint8)"
   ]
  },
  {
   "cell_type": "code",
   "execution_count": 62,
   "metadata": {},
   "outputs": [
    {
     "data": {
      "text/plain": [
       "1"
      ]
     },
     "execution_count": 62,
     "metadata": {},
     "output_type": "execute_result"
    }
   ],
   "source": [
    "len(max(ltrain_label,key=len))"
   ]
  },
  {
   "cell_type": "code",
   "execution_count": 63,
   "metadata": {},
   "outputs": [
    {
     "data": {
      "text/plain": [
       "100"
      ]
     },
     "execution_count": 63,
     "metadata": {},
     "output_type": "execute_result"
    }
   ],
   "source": [
    "upper_limit = train_dataset.shape[0]\n",
    "upper_limit"
   ]
  },
  {
   "cell_type": "code",
   "execution_count": 64,
   "metadata": {},
   "outputs": [],
   "source": [
    "train_dataset = train_dataset[None,:,:]"
   ]
  },
  {
   "cell_type": "code",
   "execution_count": 65,
   "metadata": {},
   "outputs": [],
   "source": [
    "def accuracy_softmax(predictions, labels):\n",
    "    return (100.0 * np.sum(np.argmax(predictions, 1) == np.argmax(labels, 1))\n",
    "          / predictions.shape[0])\n",
    "\n",
    "def accuracy_multilabel(predictions, labels):\n",
    "    return (100.0 * np.mean(predictions == labels))\n",
    "\n",
    "def accuracy_multilabel_softmax(predictions, labels):\n",
    "    predictions_soft = np.zeros_like(predictions)\n",
    "    predictions_soft[np.arange(len(predictions)), predictions.argmax(1)] = 1\n",
    "    return (100.0*np.mean(labels[np.arange(len(labels)), predictions_soft.argmax(1)]))\n",
    "\n",
    "def accuracy_real_value(predictions, labels):\n",
    "    return(100.0*np.mean(predictions == labels))"
   ]
  },
  {
   "cell_type": "code",
   "execution_count": 132,
   "metadata": {},
   "outputs": [],
   "source": [
    "tf.reset_default_graph()\n",
    "batch_size = 1 # num_samples # (num_samples//20) # 113*6 # num_samples\n",
    "num_batches = np.ceil(num_samples/batch_size)\n",
    "\n",
    "# hidden state size\n",
    "state_size = 1024\n",
    "# input size (depends on input representation)\n",
    "input_size = state_dim\n",
    "# how many time step we want to look back\n",
    "backprop_length = 50"
   ]
  },
  {
   "cell_type": "code",
   "execution_count": 133,
   "metadata": {},
   "outputs": [],
   "source": [
    "num_label = train_label.shape[1]"
   ]
  },
  {
   "cell_type": "code",
   "execution_count": 134,
   "metadata": {},
   "outputs": [
    {
     "name": "stdout",
     "output_type": "stream",
     "text": [
      "1\n",
      "100.0\n",
      "50\n",
      "1\n",
      "2\n"
     ]
    }
   ],
   "source": [
    "print(batch_size)\n",
    "print(num_batches)\n",
    "print(backprop_length)\n",
    "print(num_label)\n",
    "print(input_size)"
   ]
  },
  {
   "cell_type": "code",
   "execution_count": 135,
   "metadata": {},
   "outputs": [],
   "source": [
    "# with tf.device('/device:GPU:0'):\n",
    "# tf_train_dataset = tf.placeholder(tf.float32, shape=(batch_size, input_size))\n",
    "# tf_train_labels = tf.placeholder(tf.float32, shape=(batch_size, num_label))\n",
    "tf_train_dataset = tf.placeholder(tf.float32, shape=(1, backprop_length, input_size))\n",
    "tf_train_labels = tf.placeholder(tf.float32, shape=(1, num_label))"
   ]
  },
  {
   "cell_type": "code",
   "execution_count": 136,
   "metadata": {},
   "outputs": [
    {
     "data": {
      "text/plain": [
       "<tf.Tensor 'Placeholder:0' shape=(1, 50, 2) dtype=float32>"
      ]
     },
     "execution_count": 136,
     "metadata": {},
     "output_type": "execute_result"
    }
   ],
   "source": [
    "tf_train_dataset"
   ]
  },
  {
   "cell_type": "code",
   "execution_count": 137,
   "metadata": {},
   "outputs": [
    {
     "data": {
      "text/plain": [
       "<tf.Tensor 'Placeholder_1:0' shape=(1, 1) dtype=float32>"
      ]
     },
     "execution_count": 137,
     "metadata": {},
     "output_type": "execute_result"
    }
   ],
   "source": [
    "tf_train_labels"
   ]
  },
  {
   "cell_type": "code",
   "execution_count": 138,
   "metadata": {},
   "outputs": [
    {
     "data": {
      "text/plain": [
       "[<tf.Tensor 'unstack:0' shape=(1, 2) dtype=float32>,\n",
       " <tf.Tensor 'unstack:1' shape=(1, 2) dtype=float32>,\n",
       " <tf.Tensor 'unstack:2' shape=(1, 2) dtype=float32>,\n",
       " <tf.Tensor 'unstack:3' shape=(1, 2) dtype=float32>,\n",
       " <tf.Tensor 'unstack:4' shape=(1, 2) dtype=float32>,\n",
       " <tf.Tensor 'unstack:5' shape=(1, 2) dtype=float32>,\n",
       " <tf.Tensor 'unstack:6' shape=(1, 2) dtype=float32>,\n",
       " <tf.Tensor 'unstack:7' shape=(1, 2) dtype=float32>,\n",
       " <tf.Tensor 'unstack:8' shape=(1, 2) dtype=float32>,\n",
       " <tf.Tensor 'unstack:9' shape=(1, 2) dtype=float32>,\n",
       " <tf.Tensor 'unstack:10' shape=(1, 2) dtype=float32>,\n",
       " <tf.Tensor 'unstack:11' shape=(1, 2) dtype=float32>,\n",
       " <tf.Tensor 'unstack:12' shape=(1, 2) dtype=float32>,\n",
       " <tf.Tensor 'unstack:13' shape=(1, 2) dtype=float32>,\n",
       " <tf.Tensor 'unstack:14' shape=(1, 2) dtype=float32>,\n",
       " <tf.Tensor 'unstack:15' shape=(1, 2) dtype=float32>,\n",
       " <tf.Tensor 'unstack:16' shape=(1, 2) dtype=float32>,\n",
       " <tf.Tensor 'unstack:17' shape=(1, 2) dtype=float32>,\n",
       " <tf.Tensor 'unstack:18' shape=(1, 2) dtype=float32>,\n",
       " <tf.Tensor 'unstack:19' shape=(1, 2) dtype=float32>,\n",
       " <tf.Tensor 'unstack:20' shape=(1, 2) dtype=float32>,\n",
       " <tf.Tensor 'unstack:21' shape=(1, 2) dtype=float32>,\n",
       " <tf.Tensor 'unstack:22' shape=(1, 2) dtype=float32>,\n",
       " <tf.Tensor 'unstack:23' shape=(1, 2) dtype=float32>,\n",
       " <tf.Tensor 'unstack:24' shape=(1, 2) dtype=float32>,\n",
       " <tf.Tensor 'unstack:25' shape=(1, 2) dtype=float32>,\n",
       " <tf.Tensor 'unstack:26' shape=(1, 2) dtype=float32>,\n",
       " <tf.Tensor 'unstack:27' shape=(1, 2) dtype=float32>,\n",
       " <tf.Tensor 'unstack:28' shape=(1, 2) dtype=float32>,\n",
       " <tf.Tensor 'unstack:29' shape=(1, 2) dtype=float32>,\n",
       " <tf.Tensor 'unstack:30' shape=(1, 2) dtype=float32>,\n",
       " <tf.Tensor 'unstack:31' shape=(1, 2) dtype=float32>,\n",
       " <tf.Tensor 'unstack:32' shape=(1, 2) dtype=float32>,\n",
       " <tf.Tensor 'unstack:33' shape=(1, 2) dtype=float32>,\n",
       " <tf.Tensor 'unstack:34' shape=(1, 2) dtype=float32>,\n",
       " <tf.Tensor 'unstack:35' shape=(1, 2) dtype=float32>,\n",
       " <tf.Tensor 'unstack:36' shape=(1, 2) dtype=float32>,\n",
       " <tf.Tensor 'unstack:37' shape=(1, 2) dtype=float32>,\n",
       " <tf.Tensor 'unstack:38' shape=(1, 2) dtype=float32>,\n",
       " <tf.Tensor 'unstack:39' shape=(1, 2) dtype=float32>,\n",
       " <tf.Tensor 'unstack:40' shape=(1, 2) dtype=float32>,\n",
       " <tf.Tensor 'unstack:41' shape=(1, 2) dtype=float32>,\n",
       " <tf.Tensor 'unstack:42' shape=(1, 2) dtype=float32>,\n",
       " <tf.Tensor 'unstack:43' shape=(1, 2) dtype=float32>,\n",
       " <tf.Tensor 'unstack:44' shape=(1, 2) dtype=float32>,\n",
       " <tf.Tensor 'unstack:45' shape=(1, 2) dtype=float32>,\n",
       " <tf.Tensor 'unstack:46' shape=(1, 2) dtype=float32>,\n",
       " <tf.Tensor 'unstack:47' shape=(1, 2) dtype=float32>,\n",
       " <tf.Tensor 'unstack:48' shape=(1, 2) dtype=float32>,\n",
       " <tf.Tensor 'unstack:49' shape=(1, 2) dtype=float32>]"
      ]
     },
     "execution_count": 138,
     "metadata": {},
     "output_type": "execute_result"
    }
   ],
   "source": [
    "inputs_series = tf.unstack(tf_train_dataset, axis = 1)\n",
    "inputs_series"
   ]
  },
  {
   "cell_type": "code",
   "execution_count": 139,
   "metadata": {},
   "outputs": [],
   "source": [
    "Wout = tf.Variable(np.random.rand(state_size, num_label),dtype=tf.float32)\n",
    "bout = tf.Variable(np.random.rand(1,num_label), dtype=tf.float32)"
   ]
  },
  {
   "cell_type": "code",
   "execution_count": 140,
   "metadata": {},
   "outputs": [],
   "source": [
    "from tensorflow.contrib import rnn "
   ]
  },
  {
   "cell_type": "code",
   "execution_count": 141,
   "metadata": {},
   "outputs": [],
   "source": [
    "cell_state = tf.placeholder(tf.float32, [1, state_size])\n",
    "hidden_state = tf.placeholder(tf.float32, [1, state_size])\n",
    "init_state = tf.nn.rnn_cell.LSTMStateTuple(cell_state, hidden_state)"
   ]
  },
  {
   "cell_type": "code",
   "execution_count": 142,
   "metadata": {},
   "outputs": [],
   "source": [
    "cell = rnn.BasicLSTMCell(state_size)\n",
    "states_series, current_state = rnn.static_rnn(cell, inputs_series, init_state)"
   ]
  },
  {
   "cell_type": "code",
   "execution_count": 143,
   "metadata": {},
   "outputs": [
    {
     "data": {
      "text/plain": [
       "[<tf.Tensor 'rnn/basic_lstm_cell/Mul_2:0' shape=(1, 1024) dtype=float32>,\n",
       " <tf.Tensor 'rnn/basic_lstm_cell/Mul_5:0' shape=(1, 1024) dtype=float32>,\n",
       " <tf.Tensor 'rnn/basic_lstm_cell/Mul_8:0' shape=(1, 1024) dtype=float32>,\n",
       " <tf.Tensor 'rnn/basic_lstm_cell/Mul_11:0' shape=(1, 1024) dtype=float32>,\n",
       " <tf.Tensor 'rnn/basic_lstm_cell/Mul_14:0' shape=(1, 1024) dtype=float32>,\n",
       " <tf.Tensor 'rnn/basic_lstm_cell/Mul_17:0' shape=(1, 1024) dtype=float32>,\n",
       " <tf.Tensor 'rnn/basic_lstm_cell/Mul_20:0' shape=(1, 1024) dtype=float32>,\n",
       " <tf.Tensor 'rnn/basic_lstm_cell/Mul_23:0' shape=(1, 1024) dtype=float32>,\n",
       " <tf.Tensor 'rnn/basic_lstm_cell/Mul_26:0' shape=(1, 1024) dtype=float32>,\n",
       " <tf.Tensor 'rnn/basic_lstm_cell/Mul_29:0' shape=(1, 1024) dtype=float32>,\n",
       " <tf.Tensor 'rnn/basic_lstm_cell/Mul_32:0' shape=(1, 1024) dtype=float32>,\n",
       " <tf.Tensor 'rnn/basic_lstm_cell/Mul_35:0' shape=(1, 1024) dtype=float32>,\n",
       " <tf.Tensor 'rnn/basic_lstm_cell/Mul_38:0' shape=(1, 1024) dtype=float32>,\n",
       " <tf.Tensor 'rnn/basic_lstm_cell/Mul_41:0' shape=(1, 1024) dtype=float32>,\n",
       " <tf.Tensor 'rnn/basic_lstm_cell/Mul_44:0' shape=(1, 1024) dtype=float32>,\n",
       " <tf.Tensor 'rnn/basic_lstm_cell/Mul_47:0' shape=(1, 1024) dtype=float32>,\n",
       " <tf.Tensor 'rnn/basic_lstm_cell/Mul_50:0' shape=(1, 1024) dtype=float32>,\n",
       " <tf.Tensor 'rnn/basic_lstm_cell/Mul_53:0' shape=(1, 1024) dtype=float32>,\n",
       " <tf.Tensor 'rnn/basic_lstm_cell/Mul_56:0' shape=(1, 1024) dtype=float32>,\n",
       " <tf.Tensor 'rnn/basic_lstm_cell/Mul_59:0' shape=(1, 1024) dtype=float32>,\n",
       " <tf.Tensor 'rnn/basic_lstm_cell/Mul_62:0' shape=(1, 1024) dtype=float32>,\n",
       " <tf.Tensor 'rnn/basic_lstm_cell/Mul_65:0' shape=(1, 1024) dtype=float32>,\n",
       " <tf.Tensor 'rnn/basic_lstm_cell/Mul_68:0' shape=(1, 1024) dtype=float32>,\n",
       " <tf.Tensor 'rnn/basic_lstm_cell/Mul_71:0' shape=(1, 1024) dtype=float32>,\n",
       " <tf.Tensor 'rnn/basic_lstm_cell/Mul_74:0' shape=(1, 1024) dtype=float32>,\n",
       " <tf.Tensor 'rnn/basic_lstm_cell/Mul_77:0' shape=(1, 1024) dtype=float32>,\n",
       " <tf.Tensor 'rnn/basic_lstm_cell/Mul_80:0' shape=(1, 1024) dtype=float32>,\n",
       " <tf.Tensor 'rnn/basic_lstm_cell/Mul_83:0' shape=(1, 1024) dtype=float32>,\n",
       " <tf.Tensor 'rnn/basic_lstm_cell/Mul_86:0' shape=(1, 1024) dtype=float32>,\n",
       " <tf.Tensor 'rnn/basic_lstm_cell/Mul_89:0' shape=(1, 1024) dtype=float32>,\n",
       " <tf.Tensor 'rnn/basic_lstm_cell/Mul_92:0' shape=(1, 1024) dtype=float32>,\n",
       " <tf.Tensor 'rnn/basic_lstm_cell/Mul_95:0' shape=(1, 1024) dtype=float32>,\n",
       " <tf.Tensor 'rnn/basic_lstm_cell/Mul_98:0' shape=(1, 1024) dtype=float32>,\n",
       " <tf.Tensor 'rnn/basic_lstm_cell/Mul_101:0' shape=(1, 1024) dtype=float32>,\n",
       " <tf.Tensor 'rnn/basic_lstm_cell/Mul_104:0' shape=(1, 1024) dtype=float32>,\n",
       " <tf.Tensor 'rnn/basic_lstm_cell/Mul_107:0' shape=(1, 1024) dtype=float32>,\n",
       " <tf.Tensor 'rnn/basic_lstm_cell/Mul_110:0' shape=(1, 1024) dtype=float32>,\n",
       " <tf.Tensor 'rnn/basic_lstm_cell/Mul_113:0' shape=(1, 1024) dtype=float32>,\n",
       " <tf.Tensor 'rnn/basic_lstm_cell/Mul_116:0' shape=(1, 1024) dtype=float32>,\n",
       " <tf.Tensor 'rnn/basic_lstm_cell/Mul_119:0' shape=(1, 1024) dtype=float32>,\n",
       " <tf.Tensor 'rnn/basic_lstm_cell/Mul_122:0' shape=(1, 1024) dtype=float32>,\n",
       " <tf.Tensor 'rnn/basic_lstm_cell/Mul_125:0' shape=(1, 1024) dtype=float32>,\n",
       " <tf.Tensor 'rnn/basic_lstm_cell/Mul_128:0' shape=(1, 1024) dtype=float32>,\n",
       " <tf.Tensor 'rnn/basic_lstm_cell/Mul_131:0' shape=(1, 1024) dtype=float32>,\n",
       " <tf.Tensor 'rnn/basic_lstm_cell/Mul_134:0' shape=(1, 1024) dtype=float32>,\n",
       " <tf.Tensor 'rnn/basic_lstm_cell/Mul_137:0' shape=(1, 1024) dtype=float32>,\n",
       " <tf.Tensor 'rnn/basic_lstm_cell/Mul_140:0' shape=(1, 1024) dtype=float32>,\n",
       " <tf.Tensor 'rnn/basic_lstm_cell/Mul_143:0' shape=(1, 1024) dtype=float32>,\n",
       " <tf.Tensor 'rnn/basic_lstm_cell/Mul_146:0' shape=(1, 1024) dtype=float32>,\n",
       " <tf.Tensor 'rnn/basic_lstm_cell/Mul_149:0' shape=(1, 1024) dtype=float32>]"
      ]
     },
     "execution_count": 143,
     "metadata": {},
     "output_type": "execute_result"
    }
   ],
   "source": [
    "states_series"
   ]
  },
  {
   "cell_type": "code",
   "execution_count": 144,
   "metadata": {},
   "outputs": [
    {
     "data": {
      "text/plain": [
       "LSTMStateTuple(c=<tf.Tensor 'rnn/basic_lstm_cell/Add_99:0' shape=(1, 1024) dtype=float32>, h=<tf.Tensor 'rnn/basic_lstm_cell/Mul_149:0' shape=(1, 1024) dtype=float32>)"
      ]
     },
     "execution_count": 144,
     "metadata": {},
     "output_type": "execute_result"
    }
   ],
   "source": [
    "current_state"
   ]
  },
  {
   "cell_type": "code",
   "execution_count": 145,
   "metadata": {},
   "outputs": [],
   "source": [
    "logits = tf.matmul(states_series[-1], Wout) + bout"
   ]
  },
  {
   "cell_type": "code",
   "execution_count": 146,
   "metadata": {},
   "outputs": [
    {
     "data": {
      "text/plain": [
       "<tf.Tensor 'add:0' shape=(1, 1) dtype=float32>"
      ]
     },
     "execution_count": 146,
     "metadata": {},
     "output_type": "execute_result"
    }
   ],
   "source": [
    "logits"
   ]
  },
  {
   "cell_type": "code",
   "execution_count": 147,
   "metadata": {},
   "outputs": [],
   "source": [
    "predictions = tf.round(logits)"
   ]
  },
  {
   "cell_type": "code",
   "execution_count": 148,
   "metadata": {},
   "outputs": [],
   "source": [
    "losses = tf.losses.mean_squared_error(labels = tf_train_labels, predictions=logits)\n",
    "total_loss = tf.reduce_mean(losses)\n",
    "# train_step = tf.train.AdagradOptimizer(0.3).minimize(total_loss)\n",
    "train_step = tf.train.AdamOptimizer(0.0015).minimize(total_loss)"
   ]
  },
  {
   "cell_type": "code",
   "execution_count": 149,
   "metadata": {},
   "outputs": [
    {
     "data": {
      "text/plain": [
       "(1, 100, 2)"
      ]
     },
     "execution_count": 149,
     "metadata": {},
     "output_type": "execute_result"
    }
   ],
   "source": [
    "train_dataset.shape"
   ]
  },
  {
   "cell_type": "code",
   "execution_count": 150,
   "metadata": {},
   "outputs": [
    {
     "data": {
      "text/plain": [
       "1024"
      ]
     },
     "execution_count": 150,
     "metadata": {},
     "output_type": "execute_result"
    }
   ],
   "source": [
    "state_size"
   ]
  },
  {
   "cell_type": "code",
   "execution_count": null,
   "metadata": {
    "scrolled": false
   },
   "outputs": [
    {
     "data": {
      "image/png": "[encoded data removed]",
      "text/plain": [
       "<Figure size 864x576 with 2 Axes>"
      ]
     },
     "metadata": {},
     "output_type": "display_data"
    },
    {
     "name": "stdout",
     "output_type": "stream",
     "text": [
      "Epoch:    24, Loss: 0.000131, Accuracy: 62.50%\n",
      "40\n"
     ]
    }
   ],
   "source": [
    "loss_history = []\n",
    "acc_history = []\n",
    "liveplot = PlotLosses()\n",
    "\n",
    "acc = 0\n",
    "acc_cum = 0\n",
    "acc_temp = 0\n",
    "epoch_idx = 0\n",
    "loss_disp_true = True\n",
    "loss_avg = 0.0\n",
    "old_loss_avg = 0.0\n",
    "loss_cum = 0.0\n",
    "need_one_more_iteration = True\n",
    "batch_limit = 0\n",
    "\n",
    "early_stop_loss_counter = 0\n",
    "not_early_stop = True\n",
    "\n",
    "with tf.Session() as session:\n",
    "    tf.global_variables_initializer().run()\n",
    "    print(\"Initialized\")\n",
    "    while (((acc < 100) or need_one_more_iteration) and not_early_stop):\n",
    "        \n",
    "        if (acc >= 100):\n",
    "            need_one_more_iteration = False\n",
    "        else:\n",
    "            need_one_more_iteration = True\n",
    "            \n",
    "        epoch_idx += 1\n",
    "        acc_cum = 0\n",
    "        \n",
    "        _current_cell_state = np.zeros((batch_size, state_size))\n",
    "        _current_hidden_state = np.zeros((batch_size, state_size))\n",
    "        \n",
    "        for step in range(int(num_batches-backprop_length)):\n",
    "            offset = step # (step * batch_size)\n",
    "            print(offset)\n",
    "            # loss_disp_true = True\n",
    "            # if (num_samples-1 > (offset + backprop_length)): # batch_size:\n",
    "            batch_limit = offset + backprop_length # batch_size\n",
    "                # print(\"false\")\n",
    "            # else:\n",
    "                # batch_limit = offset + backprop_length\n",
    "                # loss_disp_true = True\n",
    "                # print(\"true\")\n",
    "                # print(offset)\n",
    "            \n",
    "            # _current_state = np.zeros((num_layers, 2, batch_limit-offset, state_size))\n",
    "            \n",
    "            batch_data = train_dataset[:, offset:(batch_limit), :]\n",
    "            batch_labels = train_label[None, batch_limit-1]\n",
    "\n",
    "            l , _train_step, _current_state, _predictions, = session.run(\n",
    "                [total_loss, train_step, current_state, predictions],\n",
    "                feed_dict={\n",
    "                    tf_train_dataset: batch_data,\n",
    "                    tf_train_labels: batch_labels,\n",
    "                    # init_state : _current_state\n",
    "                    cell_state: _current_cell_state,\n",
    "                    hidden_state: _current_hidden_state\n",
    "                })\n",
    "            \n",
    "            _current_cell_state, _current_hidden_state = _current_state\n",
    "            \n",
    "            # writer.add_summary(added_summary)\n",
    "            # acc_temp =  accuracy_multilabel_softmax(_predictions, batch_labels)\n",
    "            acc_temp =  accuracy_real_value(_predictions, batch_labels)\n",
    "            acc_cum += acc_temp\n",
    "            acc = acc_cum/(step+1)\n",
    "            loss_cum += l\n",
    "            if loss_disp_true:\n",
    "                # loss_disp_true = False\n",
    "                loss_avg = loss_cum/num_batches\n",
    "                loss_cum = 0\n",
    "                loss_history.append(loss_avg)\n",
    "                acc_history.append(acc)\n",
    "                liveplot.update({\n",
    "                    'accuracy': acc,\n",
    "                    'loss': loss_avg,\n",
    "                })\n",
    "                liveplot.draw()\n",
    "                print(\"Epoch:{0:6d}, Loss: {1:8.6f}, Accuracy:{2:6.2f}%\".format(epoch_idx, loss_avg, acc))\n",
    "                \n",
    "                if loss_avg == old_loss_avg:\n",
    "                    print('stagnan')\n",
    "                    early_stop_loss_counter += 1\n",
    "                    if early_stop_loss_counter == 100:\n",
    "                        not_early_stop = False    \n",
    "                old_loss_avg = loss_avg\n",
    "       \n",
    "\"\"\"\n",
    "    # Do for the test batch\n",
    "    acc = 0\n",
    "    acc_cum = 0\n",
    "    for step in range(int(num_batches)):\n",
    "        # Pick an offset within the training data, which has been randomized.\n",
    "        # Note: we could use better randomization across epochs.\n",
    "        offset = (step * batch_size) #  % (train_label_hot.shape[0] - batch_size)\n",
    "        \n",
    "        if num_samples > offset + batch_size:\n",
    "            batch_limit = offset + batch_size\n",
    "        else:\n",
    "            batch_limit = num_samples\n",
    "            loss_disp_true = True\n",
    "\n",
    "        # _current_cell_state = (np.zeros((batch_limit-offset, state_size)))\n",
    "        # _current_hidden_state = (np.zeros((batch_limit-offset, state_size)))\n",
    "        _current_state = np.zeros((num_layers, 2, batch_limit-offset, state_size))\n",
    "        # offset = np.random.randint(num_samples - batch_size , size = 1)[0]\n",
    "        # Generate a minibatch.\n",
    "        batch_data = train_dataset_reform[offset:(batch_limit), :]\n",
    "        batch_labels = train_label_hot[offset:(batch_limit), :]\n",
    "\n",
    "        l, _current_state, _predictions, = session.run(\n",
    "            [total_loss, current_state, predictions],\n",
    "            feed_dict={\n",
    "                tf_train_dataset: batch_data,\n",
    "                tf_train_labels: batch_labels,\n",
    "                init_state : _current_state\n",
    "            })\n",
    "\n",
    "        # writer.add_summary(added_summary)\n",
    "        acc_temp =  accuracy_multilabel_softmax(_predictions, batch_labels)\n",
    "        acc_cum += acc_temp\n",
    "        acc = acc_cum/(step+1)\n",
    "        \n",
    "        print(\"batch_limit {0:6d} Training Acc: {1:8.2f} {2:8.2f} {3:8.2f}%\".format(batch_limit, acc_temp, acc_cum, acc))\n",
    "\n",
    "    print(acc)\n",
    "\"\"\""
   ]
  },
  {
   "cell_type": "code",
   "execution_count": 86,
   "metadata": {},
   "outputs": [
    {
     "data": {
      "text/plain": [
       "3"
      ]
     },
     "execution_count": 86,
     "metadata": {},
     "output_type": "execute_result"
    }
   ],
   "source": [
    "batch_limit"
   ]
  },
  {
   "cell_type": "code",
   "execution_count": 87,
   "metadata": {},
   "outputs": [
    {
     "data": {
      "text/plain": [
       "array([[[71., 53.],\n",
       "        [64., 55.]]], dtype=float32)"
      ]
     },
     "execution_count": 87,
     "metadata": {},
     "output_type": "execute_result"
    }
   ],
   "source": [
    "batch_data"
   ]
  },
  {
   "cell_type": "code",
   "execution_count": 88,
   "metadata": {},
   "outputs": [
    {
     "data": {
      "text/plain": [
       "[95.6043956043956,\n",
       " 95.65217391304348,\n",
       " 95.6989247311828,\n",
       " 95.74468085106383,\n",
       " 95.78947368421052,\n",
       " 95.83333333333333,\n",
       " 95.87628865979381,\n",
       " 95.91836734693878,\n",
       " 100.0,\n",
       " 100.0]"
      ]
     },
     "execution_count": 88,
     "metadata": {},
     "output_type": "execute_result"
    }
   ],
   "source": [
    "acc_history[-10:]"
   ]
  },
  {
   "cell_type": "code",
   "execution_count": 89,
   "metadata": {},
   "outputs": [
    {
     "data": {
      "text/plain": [
       "array([[1.]], dtype=float32)"
      ]
     },
     "execution_count": 89,
     "metadata": {},
     "output_type": "execute_result"
    }
   ],
   "source": [
    "batch_labels"
   ]
  },
  {
   "cell_type": "code",
   "execution_count": 91,
   "metadata": {},
   "outputs": [
    {
     "data": {
      "text/plain": [
       "array([[1.]], dtype=float32)"
      ]
     },
     "execution_count": 91,
     "metadata": {},
     "output_type": "execute_result"
    }
   ],
   "source": [
    "_predictions"
   ]
  },
  {
   "cell_type": "code",
   "execution_count": null,
   "metadata": {},
   "outputs": [],
   "source": [
    "hidden = 'LSTM'+str(state_size)"
   ]
  },
  {
   "cell_type": "code",
   "execution_count": null,
   "metadata": {
    "scrolled": true
   },
   "outputs": [],
   "source": [
    "plt.rcParams['figure.figsize'] = (18.0, 8.0)\n",
    "plt.style.use('ggplot')\n",
    "plt.plot(loss_history)\n",
    "fig = plt.gcf()\n",
    "plt.show()\n",
    "plt.draw()\n",
    "fig.savefig(f.name[:-4]+hidden+'_loss_nd.png', dpi = 200)"
   ]
  },
  {
   "cell_type": "code",
   "execution_count": null,
   "metadata": {},
   "outputs": [],
   "source": [
    "plt.rcParams['figure.figsize'] = (18.0, 8.0)\n",
    "plt.style.use('ggplot')\n",
    "plt.plot(acc_history)\n",
    "fig = plt.gcf()\n",
    "plt.show()\n",
    "plt.draw()\n",
    "fig.savefig(f.name[:-4]+hidden+'_acc_nd.png', dpi = 200)"
   ]
  },
  {
   "cell_type": "code",
   "execution_count": null,
   "metadata": {},
   "outputs": [],
   "source": [
    "lh_array = np.array(loss_history)[:, np.newaxis]"
   ]
  },
  {
   "cell_type": "code",
   "execution_count": null,
   "metadata": {},
   "outputs": [],
   "source": [
    "ah_array = np.array(acc_history)[:, np.newaxis]"
   ]
  },
  {
   "cell_type": "code",
   "execution_count": null,
   "metadata": {},
   "outputs": [],
   "source": [
    "ei_array = np.arange(epoch_idx, dtype=object)[:, np.newaxis]"
   ]
  },
  {
   "cell_type": "code",
   "execution_count": null,
   "metadata": {},
   "outputs": [],
   "source": [
    "training_history = np.concatenate((ei_array, lh_array, ah_array), axis = 1)"
   ]
  },
  {
   "cell_type": "code",
   "execution_count": null,
   "metadata": {},
   "outputs": [],
   "source": [
    "np.savetxt(f.name[:-4]+hidden+'_nd.csv', training_history, delimiter=\",\", fmt = \"%d,\"\"%2.6f,\"\"%2.2f\")"
   ]
  }
 ],
 "metadata": {
  "colab": {
   "default_view": {},
   "name": "2_fullyconnected.ipynb",
   "provenance": [],
   "version": "0.3.2",
   "views": {}
  },
  "kernelspec": {
   "display_name": "tensorflow",
   "language": "python",
   "name": "tensorflow"
  },
  "language_info": {
   "codemirror_mode": {
    "name": "ipython",
    "version": 3
   },
   "file_extension": ".py",
   "mimetype": "text/x-python",
   "name": "python",
   "nbconvert_exporter": "python",
   "pygments_lexer": "ipython3",
   "version": "3.5.5"
  }
 },
 "nbformat": 4,
 "nbformat_minor": 1
}
