{
 "cells": [
  {
   "cell_type": "code",
   "execution_count": 4,
   "metadata": {
    "cellView": "both",
    "colab": {
     "autoexec": {
      "startup": false,
      "wait_interval": 0
     }
    },
    "colab_type": "code",
    "id": "JLpLa8Jt7Vu4"
   },
   "outputs": [],
   "source": [
    "# These are all the modules we'll be using later. Make sure you can import them\n",
    "# before proceeding further.\n",
    "from __future__ import print_function\n",
    "import numpy as np\n",
    "import tensorflow as tf\n",
    "from six.moves import cPickle as pickle\n",
    "from six.moves import range\n",
    "\n",
    "import random\n",
    "\n",
    "import matplotlib.pyplot as plt\n",
    "# plot param\n",
    "%matplotlib inline\n",
    "plt.rcParams['figure.figsize'] = (22.0, 12.0) # set default size of plots\n",
    "plt.rcParams['image.interpolation'] = 'nearest'\n",
    "plt.rcParams['image.cmap'] = 'gray'\n",
    "plt.style.use('ggplot')\n",
    "\n",
    "from livelossplot import PlotLosses\n",
    "from time import sleep"
   ]
  },
  {
   "cell_type": "code",
   "execution_count": 5,
   "metadata": {},
   "outputs": [],
   "source": [
    "det = False"
   ]
  },
  {
   "cell_type": "code",
   "execution_count": 6,
   "metadata": {},
   "outputs": [],
   "source": [
    "# parse the controller file\n",
    "f = open('../COTONN/dcdc_small/controller.scs', \"r\")\n",
    "\n",
    "lines = []\n",
    "\n",
    "for line in f:\n",
    "    if '#MATRIX:DATA\\n' in line:                \n",
    "        for line in f: # now you are at the lines you want\n",
    "            # skip the #BEGIN \n",
    "            # read the state-actions\n",
    "            lines = f.readlines()\n",
    "            \n",
    "del lines[-1]\n",
    "\n",
    "# take the state as the train dataset\n",
    "ltrain_dataset = []\n",
    "for x in lines:\n",
    "    ltrain_dataset.append(x.split(' ')[0])\n",
    "# del ltrain_dataset[-1] # delete the string #END at the end of the file \n",
    "\n",
    "# convert to the numpy array with float32 data type\n",
    "train_dataset = np.asarray(ltrain_dataset)\n",
    "train_dataset = train_dataset.astype(np.float32)\n",
    "\n",
    "upper_limit = train_dataset.shape[0]\n",
    "num_samples = upper_limit\n",
    "\n",
    "# take action/label pair of the state \n",
    "# take the action(s) [column 1:-1] / the rest of the integer except the state\n",
    "ltrain_label = []\n",
    "for x in lines:\n",
    "    if det == False:\n",
    "        ltrain_label.append(x.strip().split()[1:])\n",
    "    else:\n",
    "        ltrain_label.append(x.strip().split()[1])\n",
    "# del ltrain_label[-1] # delete the string #END at the end of the file  \n",
    "\n",
    "# convert to numpy array, note that the result is still not in one hot encoding format\n",
    "train_label = np.asarray(ltrain_label)\n",
    "\n",
    "# define number of samples\n",
    "# num_samples = train_dataset.shape[0]\n",
    "\n",
    "if det == False:\n",
    "    # select to use ND or D case here\n",
    "    # create now array to be filled by the encoded label\n",
    "    train_label_int = [[int(i) for i in l] for l in ltrain_label]\n",
    "    action_setlist = sorted(set(x for l in train_label_int for x in l))\n",
    "    num_label = len(action_setlist)\n",
    "    train_label_hot = np.zeros([num_samples, num_label], dtype=np.float32)\n",
    "    for i,actions in enumerate(train_label_int):\n",
    "        for action in actions:\n",
    "            train_label_hot[i, action_setlist.index(action)] = 1\n",
    "else:\n",
    "    train_label_hot = train_label[:, None].astype(np.uint8)"
   ]
  },
  {
   "cell_type": "code",
   "execution_count": 7,
   "metadata": {},
   "outputs": [
    {
     "data": {
      "text/plain": [
       "2"
      ]
     },
     "execution_count": 7,
     "metadata": {},
     "output_type": "execute_result"
    }
   ],
   "source": [
    "len(max(ltrain_label,key=len))"
   ]
  },
  {
   "cell_type": "code",
   "execution_count": 8,
   "metadata": {},
   "outputs": [
    {
     "data": {
      "text/plain": [
       "(8677, 2)"
      ]
     },
     "execution_count": 8,
     "metadata": {},
     "output_type": "execute_result"
    }
   ],
   "source": [
    "train_label_hot.shape"
   ]
  },
  {
   "cell_type": "code",
   "execution_count": 9,
   "metadata": {},
   "outputs": [],
   "source": [
    "train_dataset_dim = train_dataset[:, None]\n",
    "# slice the samples\n",
    "train_sliced = train_dataset_dim[:upper_limit]\n",
    "# change it to init\n",
    "train_sliced_int = train_sliced.astype(np.uint32)\n",
    "# split to 4 bytes\n",
    "tsi8_unordered = train_sliced_int.view(np.uint8)\n",
    "# little endian format\n",
    "tsi8 = np.flip(tsi8_unordered,1)\n",
    "# unpack\n",
    "toy_vehicle_input_unreduced = np.unpackbits(tsi8).reshape(-1,32)\n",
    "\n",
    "# get index of MSB\n",
    "msb = len(bin(int(np.max(train_dataset_dim))))-2\n",
    "# get total bit\n",
    "total_bit = toy_vehicle_input_unreduced.shape[1]\n",
    "# reduce to the minimal binary representation\n",
    "toy_vehicle_input = toy_vehicle_input_unreduced[:, np.arange(total_bit-msb,total_bit)]\n",
    "\n",
    "num_label = train_label_hot.shape[1]\n",
    "\n",
    "input_size = toy_vehicle_input.shape[1]\n",
    "\n",
    "train_dataset_reform = toy_vehicle_input"
   ]
  },
  {
   "cell_type": "code",
   "execution_count": 10,
   "metadata": {},
   "outputs": [
    {
     "data": {
      "text/plain": [
       "(8677, 14)"
      ]
     },
     "execution_count": 10,
     "metadata": {},
     "output_type": "execute_result"
    }
   ],
   "source": [
    "train_dataset_reform.shape"
   ]
  },
  {
   "cell_type": "code",
   "execution_count": 11,
   "metadata": {},
   "outputs": [],
   "source": [
    "def accuracy_softmax(predictions, labels):\n",
    "  return (100.0 * np.sum(np.argmax(predictions, 1) == np.argmax(labels, 1))\n",
    "          / predictions.shape[0])\n",
    "\n",
    "def accuracy_multilabel(predictions, labels):\n",
    "  return (100.0 * np.mean(predictions == labels))\n",
    "\n",
    "def accuracy_multilabel_softmax(predictions, labels):\n",
    "    predictions_soft = np.zeros_like(predictions)\n",
    "    predictions_soft[np.arange(len(predictions)), predictions.argmax(1)] = 1\n",
    "    return (100.0*np.mean(labels[np.arange(len(labels)), predictions_soft.argmax(1)]))\n"
   ]
  },
  {
   "cell_type": "code",
   "execution_count": 12,
   "metadata": {},
   "outputs": [],
   "source": [
    "tf.reset_default_graph()\n",
    "batch_size = 1024 #  num_samples # (num_samples//20) # 113*6 # num_samples\n",
    "num_batches = np.ceil(num_samples/batch_size)"
   ]
  },
  {
   "cell_type": "code",
   "execution_count": 13,
   "metadata": {},
   "outputs": [
    {
     "name": "stdout",
     "output_type": "stream",
     "text": [
      "1024\n",
      "9.0\n"
     ]
    }
   ],
   "source": [
    "print(batch_size)\n",
    "print(num_batches)"
   ]
  },
  {
   "cell_type": "markdown",
   "metadata": {},
   "source": [
    "RNN example"
   ]
  },
  {
   "cell_type": "code",
   "execution_count": 14,
   "metadata": {},
   "outputs": [
    {
     "data": {
      "text/plain": [
       "14"
      ]
     },
     "execution_count": 14,
     "metadata": {},
     "output_type": "execute_result"
    }
   ],
   "source": [
    "input_size"
   ]
  },
  {
   "cell_type": "code",
   "execution_count": 78,
   "metadata": {},
   "outputs": [],
   "source": [
    "total_series_length = num_samples\n",
    "truncated_backprop_length = input_size\n",
    "state_size = 1\n",
    "input_rnn_size = 1"
   ]
  },
  {
   "cell_type": "code",
   "execution_count": 79,
   "metadata": {},
   "outputs": [],
   "source": [
    "# 5 x 15\n",
    "tf_train_dataset = tf.placeholder(tf.float32, [None, truncated_backprop_length])\n",
    "# 5 x 15\n",
    "tf_train_labels = tf.placeholder(tf.float32, [None, num_label])\n",
    "# initial state 5 x 4\n",
    "init_state = tf.placeholder(tf.float32, [None, state_size])\n",
    "init_state1 = tf.placeholder(tf.float32, [None, state_size])"
   ]
  },
  {
   "cell_type": "code",
   "execution_count": 80,
   "metadata": {},
   "outputs": [
    {
     "data": {
      "text/plain": [
       "<tf.Tensor 'Placeholder_17:0' shape=(?, 20) dtype=float32>"
      ]
     },
     "execution_count": 80,
     "metadata": {},
     "output_type": "execute_result"
    }
   ],
   "source": [
    "init_state"
   ]
  },
  {
   "cell_type": "code",
   "execution_count": 81,
   "metadata": {},
   "outputs": [
    {
     "data": {
      "text/plain": [
       "<tf.Tensor 'Placeholder_18:0' shape=(?, 20) dtype=float32>"
      ]
     },
     "execution_count": 81,
     "metadata": {},
     "output_type": "execute_result"
    }
   ],
   "source": [
    "init_state1"
   ]
  },
  {
   "cell_type": "code",
   "execution_count": 82,
   "metadata": {},
   "outputs": [],
   "source": [
    "init_state2 = tf.placeholder(tf.float32, [None, state_size])"
   ]
  },
  {
   "cell_type": "code",
   "execution_count": 83,
   "metadata": {},
   "outputs": [],
   "source": [
    "Wh1 = tf.Variable(np.random.rand(state_size+input_rnn_size, state_size), dtype=tf.float32)\n",
    "bh1 = tf.Variable(np.zeros((1,state_size)), dtype=tf.float32)\n",
    "\n",
    "Wh2 = tf.Variable(np.random.rand(state_size+state_size, state_size), dtype=tf.float32)\n",
    "bh2 = tf.Variable(np.zeros((1,state_size)), dtype=tf.float32)\n",
    "\n",
    "Wh3 = tf.Variable(np.random.rand(state_size+state_size, state_size), dtype=tf.float32)\n",
    "bh3 = tf.Variable(np.zeros((1,state_size)), dtype=tf.float32)\n",
    "\n",
    "num_stack = 3\n",
    "\n",
    "Wo = tf.Variable(np.random.rand(state_size*num_stack, num_label),dtype=tf.float32)\n",
    "bo = tf.Variable(np.zeros((1,num_label)), dtype=tf.float32)"
   ]
  },
  {
   "cell_type": "code",
   "execution_count": 84,
   "metadata": {},
   "outputs": [],
   "source": [
    "# unpack\n",
    "# Unpack columns/slice each column (5 x 15) -> (5x1) 15  \n",
    "inputs_series = tf.unstack(tf_train_dataset, axis=1)"
   ]
  },
  {
   "cell_type": "code",
   "execution_count": 85,
   "metadata": {},
   "outputs": [
    {
     "data": {
      "text/plain": [
       "[<tf.Tensor 'unstack_5:0' shape=(?,) dtype=float32>,\n",
       " <tf.Tensor 'unstack_5:1' shape=(?,) dtype=float32>,\n",
       " <tf.Tensor 'unstack_5:2' shape=(?,) dtype=float32>,\n",
       " <tf.Tensor 'unstack_5:3' shape=(?,) dtype=float32>,\n",
       " <tf.Tensor 'unstack_5:4' shape=(?,) dtype=float32>,\n",
       " <tf.Tensor 'unstack_5:5' shape=(?,) dtype=float32>,\n",
       " <tf.Tensor 'unstack_5:6' shape=(?,) dtype=float32>,\n",
       " <tf.Tensor 'unstack_5:7' shape=(?,) dtype=float32>,\n",
       " <tf.Tensor 'unstack_5:8' shape=(?,) dtype=float32>,\n",
       " <tf.Tensor 'unstack_5:9' shape=(?,) dtype=float32>,\n",
       " <tf.Tensor 'unstack_5:10' shape=(?,) dtype=float32>,\n",
       " <tf.Tensor 'unstack_5:11' shape=(?,) dtype=float32>,\n",
       " <tf.Tensor 'unstack_5:12' shape=(?,) dtype=float32>,\n",
       " <tf.Tensor 'unstack_5:13' shape=(?,) dtype=float32>]"
      ]
     },
     "execution_count": 85,
     "metadata": {},
     "output_type": "execute_result"
    }
   ],
   "source": [
    "inputs_series"
   ]
  },
  {
   "cell_type": "code",
   "execution_count": 86,
   "metadata": {},
   "outputs": [],
   "source": [
    "# Forward pass\n",
    "current_state = init_state \n",
    "current_state1 = init_state1 \n",
    "current_state2 = init_state2\n",
    "states_series = []\n",
    "states_series1 = []\n",
    "states_series2 = []\n",
    "for current_input in inputs_series:\n",
    "    # first layer\n",
    "    current_input = tf.reshape(current_input, [-1, 1]) \n",
    "    input_and_state_concatenated = tf.concat([current_input, current_state],1)  # Increasing number of columns\n",
    "    next_state = tf.nn.sigmoid(tf.matmul(input_and_state_concatenated, Wh1) + bh1)  # Broadcasted addition\n",
    "    states_series.append(next_state)\n",
    "    current_state = next_state\n",
    "    \n",
    "    # second layer\n",
    "    state_and_state1_concatenated = tf.concat([next_state, current_state1],1)\n",
    "    next_state1 = tf.nn.sigmoid(tf.matmul(state_and_state1_concatenated, Wh2) + bh2)  # Broadcasted addition\n",
    "    states_series1.append(next_state1)\n",
    "    current_state1 = next_state1\n",
    "    \n",
    "     # second layer\n",
    "    state1_and_state2_concatenated = tf.concat([next_state1, current_state2],1)\n",
    "    next_state2 = tf.nn.sigmoid(tf.matmul(state1_and_state2_concatenated, Wh3) + bh3)  # Broadcasted addition\n",
    "    states_series2.append(next_state2)\n",
    "    current_state2 = next_state2"
   ]
  },
  {
   "cell_type": "code",
   "execution_count": 87,
   "metadata": {},
   "outputs": [],
   "source": [
    "# 5x4 * 4x2 + 1x2 = 5x2\n",
    "states_series_concatenated = tf.concat([states_series[-1], states_series1[-1], states_series2[-1]],1)\n",
    "logits = tf.matmul(states_series_concatenated, Wo) + bo #Broadcasted addition\n",
    "train_predictions = tf.nn.softmax(logits)\n",
    "# compute the loss with cross entropy (it will be probabilistic 0-1 compare it with label)\n",
    "# losses = [tf.nn.sparse_softmax_cross_entropy_with_logits(logits = logits,labels = labels) for logits, labels in zip(logits_series,labels_series)]\n",
    "losses = tf.nn.sigmoid_cross_entropy_with_logits(logits = logits,labels = tf_train_labels)\n",
    "# make the loss scalar\n",
    "total_loss = tf.reduce_mean(losses)\n",
    "# gradient step\n",
    "train_step = tf.train.AdamOptimizer(0.001).minimize(total_loss)"
   ]
  },
  {
   "cell_type": "code",
   "execution_count": 88,
   "metadata": {},
   "outputs": [
    {
     "data": {
      "text/plain": [
       "(8677, 14)"
      ]
     },
     "execution_count": 88,
     "metadata": {},
     "output_type": "execute_result"
    }
   ],
   "source": [
    "train_dataset_reform.shape"
   ]
  },
  {
   "cell_type": "code",
   "execution_count": 89,
   "metadata": {
    "scrolled": true
   },
   "outputs": [
    {
     "data": {
      "text/plain": [
       "(8677, 2)"
      ]
     },
     "execution_count": 89,
     "metadata": {},
     "output_type": "execute_result"
    }
   ],
   "source": [
    "train_label_hot.shape"
   ]
  },
  {
   "cell_type": "code",
   "execution_count": 90,
   "metadata": {},
   "outputs": [],
   "source": [
    "def accuracy_softmax(predictions, labels):\n",
    "  return (100.0 * np.sum(np.argmax(predictions, 1) == np.argmax(labels, 1))\n",
    "          / predictions.shape[0])\n",
    "\n",
    "def accuracy_multilabel(predictions, labels):\n",
    "  return (100.0 * np.mean(predictions == labels))\n",
    "\n",
    "def accuracy_multilabel_softmax(predictions, labels):\n",
    "    predictions_soft = np.zeros_like(predictions)\n",
    "    predictions_soft[np.arange(len(predictions)), predictions.argmax(1)] = 1\n",
    "    return (100.0*np.mean(labels[np.arange(len(labels)), predictions_soft.argmax(1)]))"
   ]
  },
  {
   "cell_type": "code",
   "execution_count": 91,
   "metadata": {
    "scrolled": true
   },
   "outputs": [
    {
     "data": {
      "image/png": "[encoded data removed]",
      "text/plain": [
       "<Figure size 864x576 with 2 Axes>"
      ]
     },
     "metadata": {},
     "output_type": "display_data"
    },
    {
     "name": "stdout",
     "output_type": "stream",
     "text": [
      "Epoch:  1270, Loss: 0.317849, Accuracy: 95.85%\n",
      "stagnan\n"
     ]
    }
   ],
   "source": [
    "loss_history = []\n",
    "acc_history = []\n",
    "liveplot = PlotLosses()\n",
    "\n",
    "acc = 0\n",
    "acc_cum = 0\n",
    "acc_temp = 0\n",
    "epoch_idx = 0\n",
    "loss_disp_true = False\n",
    "loss_avg = 0.0\n",
    "old_loss_avg = 0.0\n",
    "loss_cum = 0.0\n",
    "need_one_more_iteration = True\n",
    "\n",
    "early_stop_loss_counter = 0\n",
    "not_early_stop = True\n",
    "\n",
    "with tf.Session() as sess:\n",
    "    sess.run(tf.global_variables_initializer())\n",
    "    \n",
    "    print(\"Initialized\")\n",
    "    while ((acc < 100) or need_one_more_iteration) and not_early_stop:\n",
    "        if (acc >= 100):\n",
    "            need_one_more_iteration = False\n",
    "            \n",
    "        epoch_idx += 1\n",
    "        acc_cum = 0\n",
    "        for step in range(int(num_batches)):\n",
    "            offset = (step * batch_size)\n",
    "            if num_samples > offset + batch_size:\n",
    "                batch_limit = offset + batch_size\n",
    "            else:\n",
    "                batch_limit = num_samples\n",
    "                loss_disp_true = True\n",
    "                \n",
    "            _current_state = np.zeros((batch_limit-offset, state_size))\n",
    "            _current_state1 = np.zeros((batch_limit-offset, state_size))\n",
    "            _current_state2 = np.zeros((batch_limit-offset, state_size))\n",
    "            batch_data = train_dataset_reform[offset:(batch_limit), :]\n",
    "            batch_labels = train_label_hot[offset:(batch_limit), :]\n",
    "            \n",
    "            # calculate loss, gradient step, \n",
    "            l, _train_step, _current_state, _current_state1, _current_state2, predictions = sess.run(\n",
    "                [total_loss, train_step, current_state, current_state1, current_state2, train_predictions],\n",
    "                feed_dict={\n",
    "                    tf_train_dataset:batch_data,\n",
    "                    tf_train_labels:batch_labels,\n",
    "                    # it was part of computational graph, where the init_state is the placeholder\n",
    "                    init_state:_current_state,\n",
    "                    init_state1:_current_state1,\n",
    "                    init_state2:_current_state2\n",
    "                })\n",
    "            \n",
    "            acc_temp =  accuracy_multilabel_softmax(predictions, batch_labels)\n",
    "            acc_cum += acc_temp\n",
    "            acc = acc_cum/(step+1)\n",
    "            loss_cum += l\n",
    "            if loss_disp_true:\n",
    "                loss_disp_true = False\n",
    "                loss_avg = loss_cum/num_batches\n",
    "                loss_cum = 0\n",
    "                loss_history.append(loss_avg)\n",
    "                acc_history.append(acc)\n",
    "                liveplot.update({\n",
    "                    'accuracy': acc,\n",
    "                    # 'val_accuracy': 1 - np.random.rand() / (i + 0.5),\n",
    "                    'loss': loss_avg,\n",
    "                    # 'val_mse': 1. / (i + 0.5)\n",
    "                })\n",
    "                liveplot.draw()\n",
    "                print(\"Epoch:{0:6d}, Loss: {1:8.6f}, Accuracy:{2:6.2f}%\".format(epoch_idx, loss_avg, acc))\n",
    "                \n",
    "                if loss_avg == old_loss_avg:\n",
    "                    print('stagnan')\n",
    "                    early_stop_loss_counter += 1\n",
    "                    if early_stop_loss_counter == 100:\n",
    "                        not_early_stop = False\n",
    "                    \n",
    "                old_loss_avg = loss_avg\n"
   ]
  },
  {
   "cell_type": "code",
   "execution_count": 49,
   "metadata": {},
   "outputs": [
    {
     "data": {
      "text/plain": [
       "100"
      ]
     },
     "execution_count": 49,
     "metadata": {},
     "output_type": "execute_result"
    }
   ],
   "source": [
    "early_stop_loss_counter"
   ]
  },
  {
   "cell_type": "code",
   "execution_count": 35,
   "metadata": {
    "scrolled": false
   },
   "outputs": [],
   "source": [
    "# predictions\n",
    "predictions_soft = np.zeros_like(predictions)\n",
    "predictions_soft[np.arange(len(predictions)), predictions.argmax(1)] = 1"
   ]
  },
  {
   "cell_type": "code",
   "execution_count": 39,
   "metadata": {},
   "outputs": [
    {
     "data": {
      "text/plain": [
       "0.93402064"
      ]
     },
     "execution_count": 39,
     "metadata": {},
     "output_type": "execute_result"
    }
   ],
   "source": [
    "np.mean(batch_labels[np.arange(len(batch_labels)), predictions_soft.argmax(1)])"
   ]
  },
  {
   "cell_type": "code",
   "execution_count": null,
   "metadata": {},
   "outputs": [],
   "source": [
    "\"\"\"\n",
    "    # accuracy\n",
    "    _current_state = np.zeros((batch_size, state_size))\n",
    "    acc = 0\n",
    "    total_acc = 0\n",
    "    for batch_idx in range(num_batches):\n",
    "        start_idx = batch_idx * truncated_backprop_length\n",
    "        end_idx = start_idx + truncated_backprop_length\n",
    "        \n",
    "        batchX = x[:,start_idx:end_idx]\n",
    "        batchY = y[:,start_idx:end_idx]\n",
    "\n",
    "        # calculate loss, gradient step, \n",
    "        _predictions_series, _labels_series = sess.run([predictions_series, labels_series],\n",
    "            feed_dict={\n",
    "                batchX_placeholder:batchX,\n",
    "                batchY_placeholder:batchY,\n",
    "                # it was part of computational graph, where the init_state is the placeholder\n",
    "                init_state:_current_state\n",
    "            })\n",
    "        acc = accuracy_independent( _predictions_series, _labels_series)\n",
    "        print(\"batch:\",batch_idx,\", accuracy:\",acc)\n",
    "        total_acc += acc\n",
    "    \n",
    "    print(total_acc/num_batches)\n",
    "# plt.ioff()\n",
    "# plt.show()\n",
    "\"\"\""
   ]
  }
 ],
 "metadata": {
  "colab": {
   "default_view": {},
   "name": "2_fullyconnected.ipynb",
   "provenance": [],
   "version": "0.3.2",
   "views": {}
  },
  "kernelspec": {
   "display_name": "tensorflow",
   "language": "python",
   "name": "tensorflow"
  },
  "language_info": {
   "codemirror_mode": {
    "name": "ipython",
    "version": 3
   },
   "file_extension": ".py",
   "mimetype": "text/x-python",
   "name": "python",
   "nbconvert_exporter": "python",
   "pygments_lexer": "ipython3",
   "version": "3.5.5"
  }
 },
 "nbformat": 4,
 "nbformat_minor": 1
}
